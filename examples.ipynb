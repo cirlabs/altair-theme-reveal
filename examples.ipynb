{
 "cells": [
  {
   "cell_type": "markdown",
   "id": "53b5106a-7621-4f40-814f-2cac55636898",
   "metadata": {},
   "source": [
    "# Altair theme for Reveal data graphics\n",
    "\n",
    "- You will need 'Tenon' installed as a system-wide font.\n",
    "- There will likely be more style modifications needed after exporting as SVG to Adobe Illustrator.\n",
    "- There's some bottom padding added to the bottom of each chart to add in Sources and Credits manually.\n",
    "- Check the examples below for customizing charts."
   ]
  },
  {
   "cell_type": "code",
   "execution_count": 1,
   "id": "79996a6d-c640-4d87-b6ed-1f080ff409aa",
   "metadata": {},
   "outputs": [],
   "source": [
    "import pandas as pd\n",
    "from vega_datasets import data"
   ]
  },
  {
   "cell_type": "markdown",
   "id": "85da0b12-9152-4d6d-9dff-0aa96b46246b",
   "metadata": {},
   "source": [
    "## Import Altair and register theme"
   ]
  },
  {
   "cell_type": "code",
   "execution_count": 2,
   "id": "526732ab-b309-449c-bb6e-7bfd632bc7b5",
   "metadata": {},
   "outputs": [
    {
     "data": {
      "text/plain": [
       "ThemeRegistry.enable('altair_reveal')"
      ]
     },
     "execution_count": 2,
     "metadata": {},
     "output_type": "execute_result"
    }
   ],
   "source": [
    "import altair as alt\n",
    "import altair_reveal as altair_reveal\n",
    "alt.themes.register('altair_reveal', altair_reveal.theme)\n",
    "alt.themes.enable('altair_reveal')"
   ]
  },
  {
   "cell_type": "markdown",
   "id": "40daa826-e26a-4428-a607-8723da799a4c",
   "metadata": {},
   "source": [
    "### Fallback to png for GitHub display"
   ]
  },
  {
   "cell_type": "code",
   "execution_count": 3,
   "id": "ffafa96e-e670-4e0e-9491-651b0423a79e",
   "metadata": {},
   "outputs": [
    {
     "data": {
      "text/plain": [
       "RendererRegistry.enable('mimetype')"
      ]
     },
     "execution_count": 3,
     "metadata": {},
     "output_type": "execute_result"
    }
   ],
   "source": [
    "alt.renderers.enable('mimetype')"
   ]
  },
  {
   "cell_type": "markdown",
   "id": "87a99d39-3e7a-4237-9e83-15f18ddada2b",
   "metadata": {},
   "source": [
    "### Save charts (you'll need chromedriver)"
   ]
  },
  {
   "cell_type": "code",
   "execution_count": 4,
   "id": "9f23204a-c29b-4e8a-b469-39839ab91e4b",
   "metadata": {},
   "outputs": [],
   "source": [
    "from altair_saver import save"
   ]
  },
  {
   "cell_type": "markdown",
   "id": "1e6a132b-17b8-4c30-ac9d-c1e8cf08fa6a",
   "metadata": {},
   "source": [
    "## Pre-defined colors"
   ]
  },
  {
   "cell_type": "code",
   "execution_count": 5,
   "id": "77acac39-1525-49f1-ad82-10c3d943a84d",
   "metadata": {},
   "outputs": [
    {
     "data": {
      "text/plain": [
       "{'black': '#222222',\n",
       " 'white': '#ffffff',\n",
       " 'background': '#f9f9f9',\n",
       " 'light_grey': '#dddddd',\n",
       " 'dark_grey': '#666666',\n",
       " 'orange': '#e54600',\n",
       " 'dark_blue': '#004488',\n",
       " 'blue': '#0077bb',\n",
       " 'magenta': '#c51b8a'}"
      ]
     },
     "execution_count": 5,
     "metadata": {},
     "output_type": "execute_result"
    }
   ],
   "source": [
    "altair_reveal.palette"
   ]
  },
  {
   "cell_type": "markdown",
   "id": "24502c1e-5022-4f9d-b72c-513b5ec7b85a",
   "metadata": {},
   "source": [
    "## Clean the data"
   ]
  },
  {
   "cell_type": "code",
   "execution_count": 6,
   "id": "d1f3ed0b-38c1-4253-8bba-cb5fbdbb3706",
   "metadata": {},
   "outputs": [],
   "source": [
    "cars = data.cars().copy()\n",
    "cars['Year'] = pd.to_datetime(cars['Year'])\n",
    "cars = cars[cars['Year'] <= '1980-12-31'].copy()"
   ]
  },
  {
   "cell_type": "markdown",
   "id": "1978378b-8dfb-45bc-be44-a50e9432415b",
   "metadata": {
    "tags": []
   },
   "source": [
    "## Horizontal bar chart"
   ]
  },
  {
   "cell_type": "code",
   "execution_count": 7,
   "id": "21f5d12b-0e2e-4fb4-9b2c-cf7f486f2135",
   "metadata": {},
   "outputs": [
    {
     "data": {
      "application/vnd.vegalite.v4+json": {
       "$schema": "https://vega.github.io/schema/vega-lite/v4.17.0.json",
       "config": {
        "arc": {
         "fill": "#0077bb"
        },
        "area": {
         "fill": "#0077bb"
        },
        "axis": {
         "gridColor": "#dddddd",
         "labelColor": "#666666",
         "labelFlush": false,
         "labelFont": "Tenon",
         "labelFontSize": 13,
         "labelFontWeight": 400,
         "labelPadding": 5,
         "tickSize": 6,
         "title": null,
         "titleColor": "#666666",
         "titleFontWeight": 300
        },
        "axisX": {
         "domainColor": "#666666",
         "tickColor": "#666666"
        },
        "axisY": {
         "domainColor": "#f9f9f9",
         "tickColor": "#f9f9f9"
        },
        "background": "#f9f9f9",
        "bar": {
         "fill": "#0077bb"
        },
        "legend": {
         "columnPadding": 20,
         "direction": "horizontal",
         "labelAlign": "left",
         "labelBaseline": "middle",
         "labelColor": "#222222",
         "labelFont": "Tenon",
         "labelFontSize": 16,
         "labelFontWeight": 300,
         "offset": 40,
         "orient": "top",
         "rowPadding": 10,
         "symbolType": "square",
         "title": null,
         "titleFont": "Tenon",
         "titleFontSize": 16,
         "titleFontWeight": 400
        },
        "line": {
         "stroke": "#0077bb",
         "strokeWidth": 3
        },
        "padding": {
         "bottom": 80,
         "left": 20,
         "right": 20,
         "top": 20
        },
        "path": {
         "stroke": "#0077bb"
        },
        "point": {
         "stroke": "#0077bb"
        },
        "rect": {
         "fill": "#0077bb"
        },
        "shape": {
         "stroke": "#0077bb"
        },
        "symbol": {
         "fill": "#0077bb",
         "size": 30
        },
        "title": {
         "align": "left",
         "anchor": "start",
         "color": "#222222",
         "font": "Tenon",
         "fontSize": 28,
         "fontWeight": 500,
         "subtitleColor": "#222222",
         "subtitleFont": "Tenon",
         "subtitleFontSize": 20,
         "subtitleFontWeight": 300,
         "subtitleLineHeight": 24,
         "subtitlePadding": 10
        },
        "view": {
         "height": 500,
         "strokeOpacity": 0,
         "width": 320
        }
       },
       "data": {
        "name": "data-338d66dfbbc2197ff7a526ac020915e8"
       },
       "datasets": {
        "data-338d66dfbbc2197ff7a526ac020915e8": [
         {
          "Acceleration": 12,
          "Cylinders": 8,
          "Displacement": 307,
          "Horsepower": 130,
          "Miles_per_Gallon": 18,
          "Name": "chevrolet chevelle malibu",
          "Origin": "USA",
          "Weight_in_lbs": 3504,
          "Year": "1970-01-01T00:00:00"
         },
         {
          "Acceleration": 11.5,
          "Cylinders": 8,
          "Displacement": 350,
          "Horsepower": 165,
          "Miles_per_Gallon": 15,
          "Name": "buick skylark 320",
          "Origin": "USA",
          "Weight_in_lbs": 3693,
          "Year": "1970-01-01T00:00:00"
         },
         {
          "Acceleration": 11,
          "Cylinders": 8,
          "Displacement": 318,
          "Horsepower": 150,
          "Miles_per_Gallon": 18,
          "Name": "plymouth satellite",
          "Origin": "USA",
          "Weight_in_lbs": 3436,
          "Year": "1970-01-01T00:00:00"
         },
         {
          "Acceleration": 12,
          "Cylinders": 8,
          "Displacement": 304,
          "Horsepower": 150,
          "Miles_per_Gallon": 16,
          "Name": "amc rebel sst",
          "Origin": "USA",
          "Weight_in_lbs": 3433,
          "Year": "1970-01-01T00:00:00"
         },
         {
          "Acceleration": 10.5,
          "Cylinders": 8,
          "Displacement": 302,
          "Horsepower": 140,
          "Miles_per_Gallon": 17,
          "Name": "ford torino",
          "Origin": "USA",
          "Weight_in_lbs": 3449,
          "Year": "1970-01-01T00:00:00"
         },
         {
          "Acceleration": 10,
          "Cylinders": 8,
          "Displacement": 429,
          "Horsepower": 198,
          "Miles_per_Gallon": 15,
          "Name": "ford galaxie 500",
          "Origin": "USA",
          "Weight_in_lbs": 4341,
          "Year": "1970-01-01T00:00:00"
         },
         {
          "Acceleration": 9,
          "Cylinders": 8,
          "Displacement": 454,
          "Horsepower": 220,
          "Miles_per_Gallon": 14,
          "Name": "chevrolet impala",
          "Origin": "USA",
          "Weight_in_lbs": 4354,
          "Year": "1970-01-01T00:00:00"
         },
         {
          "Acceleration": 8.5,
          "Cylinders": 8,
          "Displacement": 440,
          "Horsepower": 215,
          "Miles_per_Gallon": 14,
          "Name": "plymouth fury iii",
          "Origin": "USA",
          "Weight_in_lbs": 4312,
          "Year": "1970-01-01T00:00:00"
         },
         {
          "Acceleration": 10,
          "Cylinders": 8,
          "Displacement": 455,
          "Horsepower": 225,
          "Miles_per_Gallon": 14,
          "Name": "pontiac catalina",
          "Origin": "USA",
          "Weight_in_lbs": 4425,
          "Year": "1970-01-01T00:00:00"
         },
         {
          "Acceleration": 8.5,
          "Cylinders": 8,
          "Displacement": 390,
          "Horsepower": 190,
          "Miles_per_Gallon": 15,
          "Name": "amc ambassador dpl",
          "Origin": "USA",
          "Weight_in_lbs": 3850,
          "Year": "1970-01-01T00:00:00"
         },
         {
          "Acceleration": 17.5,
          "Cylinders": 4,
          "Displacement": 133,
          "Horsepower": 115,
          "Miles_per_Gallon": null,
          "Name": "citroen ds-21 pallas",
          "Origin": "Europe",
          "Weight_in_lbs": 3090,
          "Year": "1970-01-01T00:00:00"
         },
         {
          "Acceleration": 11.5,
          "Cylinders": 8,
          "Displacement": 350,
          "Horsepower": 165,
          "Miles_per_Gallon": null,
          "Name": "chevrolet chevelle concours (sw)",
          "Origin": "USA",
          "Weight_in_lbs": 4142,
          "Year": "1970-01-01T00:00:00"
         },
         {
          "Acceleration": 11,
          "Cylinders": 8,
          "Displacement": 351,
          "Horsepower": 153,
          "Miles_per_Gallon": null,
          "Name": "ford torino (sw)",
          "Origin": "USA",
          "Weight_in_lbs": 4034,
          "Year": "1970-01-01T00:00:00"
         },
         {
          "Acceleration": 10.5,
          "Cylinders": 8,
          "Displacement": 383,
          "Horsepower": 175,
          "Miles_per_Gallon": null,
          "Name": "plymouth satellite (sw)",
          "Origin": "USA",
          "Weight_in_lbs": 4166,
          "Year": "1970-01-01T00:00:00"
         },
         {
          "Acceleration": 11,
          "Cylinders": 8,
          "Displacement": 360,
          "Horsepower": 175,
          "Miles_per_Gallon": null,
          "Name": "amc rebel sst (sw)",
          "Origin": "USA",
          "Weight_in_lbs": 3850,
          "Year": "1970-01-01T00:00:00"
         },
         {
          "Acceleration": 10,
          "Cylinders": 8,
          "Displacement": 383,
          "Horsepower": 170,
          "Miles_per_Gallon": 15,
          "Name": "dodge challenger se",
          "Origin": "USA",
          "Weight_in_lbs": 3563,
          "Year": "1970-01-01T00:00:00"
         },
         {
          "Acceleration": 8,
          "Cylinders": 8,
          "Displacement": 340,
          "Horsepower": 160,
          "Miles_per_Gallon": 14,
          "Name": "plymouth 'cuda 340",
          "Origin": "USA",
          "Weight_in_lbs": 3609,
          "Year": "1970-01-01T00:00:00"
         },
         {
          "Acceleration": 8,
          "Cylinders": 8,
          "Displacement": 302,
          "Horsepower": 140,
          "Miles_per_Gallon": null,
          "Name": "ford mustang boss 302",
          "Origin": "USA",
          "Weight_in_lbs": 3353,
          "Year": "1970-01-01T00:00:00"
         },
         {
          "Acceleration": 9.5,
          "Cylinders": 8,
          "Displacement": 400,
          "Horsepower": 150,
          "Miles_per_Gallon": 15,
          "Name": "chevrolet monte carlo",
          "Origin": "USA",
          "Weight_in_lbs": 3761,
          "Year": "1970-01-01T00:00:00"
         },
         {
          "Acceleration": 10,
          "Cylinders": 8,
          "Displacement": 455,
          "Horsepower": 225,
          "Miles_per_Gallon": 14,
          "Name": "buick estate wagon (sw)",
          "Origin": "USA",
          "Weight_in_lbs": 3086,
          "Year": "1970-01-01T00:00:00"
         },
         {
          "Acceleration": 15,
          "Cylinders": 4,
          "Displacement": 113,
          "Horsepower": 95,
          "Miles_per_Gallon": 24,
          "Name": "toyota corona mark ii",
          "Origin": "Japan",
          "Weight_in_lbs": 2372,
          "Year": "1970-01-01T00:00:00"
         },
         {
          "Acceleration": 15.5,
          "Cylinders": 6,
          "Displacement": 198,
          "Horsepower": 95,
          "Miles_per_Gallon": 22,
          "Name": "plymouth duster",
          "Origin": "USA",
          "Weight_in_lbs": 2833,
          "Year": "1970-01-01T00:00:00"
         },
         {
          "Acceleration": 15.5,
          "Cylinders": 6,
          "Displacement": 199,
          "Horsepower": 97,
          "Miles_per_Gallon": 18,
          "Name": "amc hornet",
          "Origin": "USA",
          "Weight_in_lbs": 2774,
          "Year": "1970-01-01T00:00:00"
         },
         {
          "Acceleration": 16,
          "Cylinders": 6,
          "Displacement": 200,
          "Horsepower": 85,
          "Miles_per_Gallon": 21,
          "Name": "ford maverick",
          "Origin": "USA",
          "Weight_in_lbs": 2587,
          "Year": "1970-01-01T00:00:00"
         },
         {
          "Acceleration": 14.5,
          "Cylinders": 4,
          "Displacement": 97,
          "Horsepower": 88,
          "Miles_per_Gallon": 27,
          "Name": "datsun pl510",
          "Origin": "Japan",
          "Weight_in_lbs": 2130,
          "Year": "1970-01-01T00:00:00"
         },
         {
          "Acceleration": 20.5,
          "Cylinders": 4,
          "Displacement": 97,
          "Horsepower": 46,
          "Miles_per_Gallon": 26,
          "Name": "volkswagen 1131 deluxe sedan",
          "Origin": "Europe",
          "Weight_in_lbs": 1835,
          "Year": "1970-01-01T00:00:00"
         },
         {
          "Acceleration": 17.5,
          "Cylinders": 4,
          "Displacement": 110,
          "Horsepower": 87,
          "Miles_per_Gallon": 25,
          "Name": "peugeot 504",
          "Origin": "Europe",
          "Weight_in_lbs": 2672,
          "Year": "1970-01-01T00:00:00"
         },
         {
          "Acceleration": 14.5,
          "Cylinders": 4,
          "Displacement": 107,
          "Horsepower": 90,
          "Miles_per_Gallon": 24,
          "Name": "audi 100 ls",
          "Origin": "Europe",
          "Weight_in_lbs": 2430,
          "Year": "1970-01-01T00:00:00"
         },
         {
          "Acceleration": 17.5,
          "Cylinders": 4,
          "Displacement": 104,
          "Horsepower": 95,
          "Miles_per_Gallon": 25,
          "Name": "saab 99e",
          "Origin": "Europe",
          "Weight_in_lbs": 2375,
          "Year": "1970-01-01T00:00:00"
         },
         {
          "Acceleration": 12.5,
          "Cylinders": 4,
          "Displacement": 121,
          "Horsepower": 113,
          "Miles_per_Gallon": 26,
          "Name": "bmw 2002",
          "Origin": "Europe",
          "Weight_in_lbs": 2234,
          "Year": "1970-01-01T00:00:00"
         },
         {
          "Acceleration": 15,
          "Cylinders": 6,
          "Displacement": 199,
          "Horsepower": 90,
          "Miles_per_Gallon": 21,
          "Name": "amc gremlin",
          "Origin": "USA",
          "Weight_in_lbs": 2648,
          "Year": "1970-01-01T00:00:00"
         },
         {
          "Acceleration": 14,
          "Cylinders": 8,
          "Displacement": 360,
          "Horsepower": 215,
          "Miles_per_Gallon": 10,
          "Name": "ford f250",
          "Origin": "USA",
          "Weight_in_lbs": 4615,
          "Year": "1970-01-01T00:00:00"
         },
         {
          "Acceleration": 15,
          "Cylinders": 8,
          "Displacement": 307,
          "Horsepower": 200,
          "Miles_per_Gallon": 10,
          "Name": "chevy c20",
          "Origin": "USA",
          "Weight_in_lbs": 4376,
          "Year": "1970-01-01T00:00:00"
         },
         {
          "Acceleration": 13.5,
          "Cylinders": 8,
          "Displacement": 318,
          "Horsepower": 210,
          "Miles_per_Gallon": 11,
          "Name": "dodge d200",
          "Origin": "USA",
          "Weight_in_lbs": 4382,
          "Year": "1970-01-01T00:00:00"
         },
         {
          "Acceleration": 18.5,
          "Cylinders": 8,
          "Displacement": 304,
          "Horsepower": 193,
          "Miles_per_Gallon": 9,
          "Name": "hi 1200d",
          "Origin": "USA",
          "Weight_in_lbs": 4732,
          "Year": "1970-01-01T00:00:00"
         },
         {
          "Acceleration": 14.5,
          "Cylinders": 4,
          "Displacement": 97,
          "Horsepower": 88,
          "Miles_per_Gallon": 27,
          "Name": "datsun pl510",
          "Origin": "Japan",
          "Weight_in_lbs": 2130,
          "Year": "1971-01-01T00:00:00"
         },
         {
          "Acceleration": 15.5,
          "Cylinders": 4,
          "Displacement": 140,
          "Horsepower": 90,
          "Miles_per_Gallon": 28,
          "Name": "chevrolet vega 2300",
          "Origin": "USA",
          "Weight_in_lbs": 2264,
          "Year": "1971-01-01T00:00:00"
         },
         {
          "Acceleration": 14,
          "Cylinders": 4,
          "Displacement": 113,
          "Horsepower": 95,
          "Miles_per_Gallon": 25,
          "Name": "toyota corona",
          "Origin": "Japan",
          "Weight_in_lbs": 2228,
          "Year": "1971-01-01T00:00:00"
         },
         {
          "Acceleration": 19,
          "Cylinders": 4,
          "Displacement": 98,
          "Horsepower": null,
          "Miles_per_Gallon": 25,
          "Name": "ford pinto",
          "Origin": "USA",
          "Weight_in_lbs": 2046,
          "Year": "1971-01-01T00:00:00"
         },
         {
          "Acceleration": 20,
          "Cylinders": 4,
          "Displacement": 97,
          "Horsepower": 48,
          "Miles_per_Gallon": null,
          "Name": "volkswagen super beetle 117",
          "Origin": "Europe",
          "Weight_in_lbs": 1978,
          "Year": "1971-01-01T00:00:00"
         },
         {
          "Acceleration": 13,
          "Cylinders": 6,
          "Displacement": 232,
          "Horsepower": 100,
          "Miles_per_Gallon": 19,
          "Name": "amc gremlin",
          "Origin": "USA",
          "Weight_in_lbs": 2634,
          "Year": "1971-01-01T00:00:00"
         },
         {
          "Acceleration": 15.5,
          "Cylinders": 6,
          "Displacement": 225,
          "Horsepower": 105,
          "Miles_per_Gallon": 16,
          "Name": "plymouth satellite custom",
          "Origin": "USA",
          "Weight_in_lbs": 3439,
          "Year": "1971-01-01T00:00:00"
         },
         {
          "Acceleration": 15.5,
          "Cylinders": 6,
          "Displacement": 250,
          "Horsepower": 100,
          "Miles_per_Gallon": 17,
          "Name": "chevrolet chevelle malibu",
          "Origin": "USA",
          "Weight_in_lbs": 3329,
          "Year": "1971-01-01T00:00:00"
         },
         {
          "Acceleration": 15.5,
          "Cylinders": 6,
          "Displacement": 250,
          "Horsepower": 88,
          "Miles_per_Gallon": 19,
          "Name": "ford torino 500",
          "Origin": "USA",
          "Weight_in_lbs": 3302,
          "Year": "1971-01-01T00:00:00"
         },
         {
          "Acceleration": 15.5,
          "Cylinders": 6,
          "Displacement": 232,
          "Horsepower": 100,
          "Miles_per_Gallon": 18,
          "Name": "amc matador",
          "Origin": "USA",
          "Weight_in_lbs": 3288,
          "Year": "1971-01-01T00:00:00"
         },
         {
          "Acceleration": 12,
          "Cylinders": 8,
          "Displacement": 350,
          "Horsepower": 165,
          "Miles_per_Gallon": 14,
          "Name": "chevrolet impala",
          "Origin": "USA",
          "Weight_in_lbs": 4209,
          "Year": "1971-01-01T00:00:00"
         },
         {
          "Acceleration": 11.5,
          "Cylinders": 8,
          "Displacement": 400,
          "Horsepower": 175,
          "Miles_per_Gallon": 14,
          "Name": "pontiac catalina brougham",
          "Origin": "USA",
          "Weight_in_lbs": 4464,
          "Year": "1971-01-01T00:00:00"
         },
         {
          "Acceleration": 13.5,
          "Cylinders": 8,
          "Displacement": 351,
          "Horsepower": 153,
          "Miles_per_Gallon": 14,
          "Name": "ford galaxie 500",
          "Origin": "USA",
          "Weight_in_lbs": 4154,
          "Year": "1971-01-01T00:00:00"
         },
         {
          "Acceleration": 13,
          "Cylinders": 8,
          "Displacement": 318,
          "Horsepower": 150,
          "Miles_per_Gallon": 14,
          "Name": "plymouth fury iii",
          "Origin": "USA",
          "Weight_in_lbs": 4096,
          "Year": "1971-01-01T00:00:00"
         },
         {
          "Acceleration": 11.5,
          "Cylinders": 8,
          "Displacement": 383,
          "Horsepower": 180,
          "Miles_per_Gallon": 12,
          "Name": "dodge monaco (sw)",
          "Origin": "USA",
          "Weight_in_lbs": 4955,
          "Year": "1971-01-01T00:00:00"
         },
         {
          "Acceleration": 12,
          "Cylinders": 8,
          "Displacement": 400,
          "Horsepower": 170,
          "Miles_per_Gallon": 13,
          "Name": "ford country squire (sw)",
          "Origin": "USA",
          "Weight_in_lbs": 4746,
          "Year": "1971-01-01T00:00:00"
         },
         {
          "Acceleration": 12,
          "Cylinders": 8,
          "Displacement": 400,
          "Horsepower": 175,
          "Miles_per_Gallon": 13,
          "Name": "pontiac safari (sw)",
          "Origin": "USA",
          "Weight_in_lbs": 5140,
          "Year": "1971-01-01T00:00:00"
         },
         {
          "Acceleration": 13.5,
          "Cylinders": 6,
          "Displacement": 258,
          "Horsepower": 110,
          "Miles_per_Gallon": 18,
          "Name": "amc hornet sportabout (sw)",
          "Origin": "USA",
          "Weight_in_lbs": 2962,
          "Year": "1971-01-01T00:00:00"
         },
         {
          "Acceleration": 19,
          "Cylinders": 4,
          "Displacement": 140,
          "Horsepower": 72,
          "Miles_per_Gallon": 22,
          "Name": "chevrolet vega (sw)",
          "Origin": "USA",
          "Weight_in_lbs": 2408,
          "Year": "1971-01-01T00:00:00"
         },
         {
          "Acceleration": 15,
          "Cylinders": 6,
          "Displacement": 250,
          "Horsepower": 100,
          "Miles_per_Gallon": 19,
          "Name": "pontiac firebird",
          "Origin": "USA",
          "Weight_in_lbs": 3282,
          "Year": "1971-01-01T00:00:00"
         },
         {
          "Acceleration": 14.5,
          "Cylinders": 6,
          "Displacement": 250,
          "Horsepower": 88,
          "Miles_per_Gallon": 18,
          "Name": "ford mustang",
          "Origin": "USA",
          "Weight_in_lbs": 3139,
          "Year": "1971-01-01T00:00:00"
         },
         {
          "Acceleration": 14,
          "Cylinders": 4,
          "Displacement": 122,
          "Horsepower": 86,
          "Miles_per_Gallon": 23,
          "Name": "mercury capri 2000",
          "Origin": "USA",
          "Weight_in_lbs": 2220,
          "Year": "1971-01-01T00:00:00"
         },
         {
          "Acceleration": 14,
          "Cylinders": 4,
          "Displacement": 116,
          "Horsepower": 90,
          "Miles_per_Gallon": 28,
          "Name": "opel 1900",
          "Origin": "Europe",
          "Weight_in_lbs": 2123,
          "Year": "1971-01-01T00:00:00"
         },
         {
          "Acceleration": 19.5,
          "Cylinders": 4,
          "Displacement": 79,
          "Horsepower": 70,
          "Miles_per_Gallon": 30,
          "Name": "peugeot 304",
          "Origin": "Europe",
          "Weight_in_lbs": 2074,
          "Year": "1971-01-01T00:00:00"
         },
         {
          "Acceleration": 14.5,
          "Cylinders": 4,
          "Displacement": 88,
          "Horsepower": 76,
          "Miles_per_Gallon": 30,
          "Name": "fiat 124b",
          "Origin": "Europe",
          "Weight_in_lbs": 2065,
          "Year": "1971-01-01T00:00:00"
         },
         {
          "Acceleration": 19,
          "Cylinders": 4,
          "Displacement": 71,
          "Horsepower": 65,
          "Miles_per_Gallon": 31,
          "Name": "toyota corolla 1200",
          "Origin": "Japan",
          "Weight_in_lbs": 1773,
          "Year": "1971-01-01T00:00:00"
         },
         {
          "Acceleration": 18,
          "Cylinders": 4,
          "Displacement": 72,
          "Horsepower": 69,
          "Miles_per_Gallon": 35,
          "Name": "datsun 1200",
          "Origin": "Japan",
          "Weight_in_lbs": 1613,
          "Year": "1971-01-01T00:00:00"
         },
         {
          "Acceleration": 19,
          "Cylinders": 4,
          "Displacement": 97,
          "Horsepower": 60,
          "Miles_per_Gallon": 27,
          "Name": "volkswagen model 111",
          "Origin": "Europe",
          "Weight_in_lbs": 1834,
          "Year": "1971-01-01T00:00:00"
         },
         {
          "Acceleration": 20.5,
          "Cylinders": 4,
          "Displacement": 91,
          "Horsepower": 70,
          "Miles_per_Gallon": 26,
          "Name": "plymouth cricket",
          "Origin": "USA",
          "Weight_in_lbs": 1955,
          "Year": "1971-01-01T00:00:00"
         },
         {
          "Acceleration": 15.5,
          "Cylinders": 4,
          "Displacement": 113,
          "Horsepower": 95,
          "Miles_per_Gallon": 24,
          "Name": "toyota corona hardtop",
          "Origin": "Japan",
          "Weight_in_lbs": 2278,
          "Year": "1972-01-01T00:00:00"
         },
         {
          "Acceleration": 17,
          "Cylinders": 4,
          "Displacement": 97.5,
          "Horsepower": 80,
          "Miles_per_Gallon": 25,
          "Name": "dodge colt hardtop",
          "Origin": "USA",
          "Weight_in_lbs": 2126,
          "Year": "1972-01-01T00:00:00"
         },
         {
          "Acceleration": 23.5,
          "Cylinders": 4,
          "Displacement": 97,
          "Horsepower": 54,
          "Miles_per_Gallon": 23,
          "Name": "volkswagen type 3",
          "Origin": "Europe",
          "Weight_in_lbs": 2254,
          "Year": "1972-01-01T00:00:00"
         },
         {
          "Acceleration": 19.5,
          "Cylinders": 4,
          "Displacement": 140,
          "Horsepower": 90,
          "Miles_per_Gallon": 20,
          "Name": "chevrolet vega",
          "Origin": "USA",
          "Weight_in_lbs": 2408,
          "Year": "1972-01-01T00:00:00"
         },
         {
          "Acceleration": 16.5,
          "Cylinders": 4,
          "Displacement": 122,
          "Horsepower": 86,
          "Miles_per_Gallon": 21,
          "Name": "ford pinto runabout",
          "Origin": "USA",
          "Weight_in_lbs": 2226,
          "Year": "1972-01-01T00:00:00"
         },
         {
          "Acceleration": 12,
          "Cylinders": 8,
          "Displacement": 350,
          "Horsepower": 165,
          "Miles_per_Gallon": 13,
          "Name": "chevrolet impala",
          "Origin": "USA",
          "Weight_in_lbs": 4274,
          "Year": "1972-01-01T00:00:00"
         },
         {
          "Acceleration": 12,
          "Cylinders": 8,
          "Displacement": 400,
          "Horsepower": 175,
          "Miles_per_Gallon": 14,
          "Name": "pontiac catalina",
          "Origin": "USA",
          "Weight_in_lbs": 4385,
          "Year": "1972-01-01T00:00:00"
         },
         {
          "Acceleration": 13.5,
          "Cylinders": 8,
          "Displacement": 318,
          "Horsepower": 150,
          "Miles_per_Gallon": 15,
          "Name": "plymouth fury iii",
          "Origin": "USA",
          "Weight_in_lbs": 4135,
          "Year": "1972-01-01T00:00:00"
         },
         {
          "Acceleration": 13,
          "Cylinders": 8,
          "Displacement": 351,
          "Horsepower": 153,
          "Miles_per_Gallon": 14,
          "Name": "ford galaxie 500",
          "Origin": "USA",
          "Weight_in_lbs": 4129,
          "Year": "1972-01-01T00:00:00"
         },
         {
          "Acceleration": 11.5,
          "Cylinders": 8,
          "Displacement": 304,
          "Horsepower": 150,
          "Miles_per_Gallon": 17,
          "Name": "amc ambassador sst",
          "Origin": "USA",
          "Weight_in_lbs": 3672,
          "Year": "1972-01-01T00:00:00"
         },
         {
          "Acceleration": 11,
          "Cylinders": 8,
          "Displacement": 429,
          "Horsepower": 208,
          "Miles_per_Gallon": 11,
          "Name": "mercury marquis",
          "Origin": "USA",
          "Weight_in_lbs": 4633,
          "Year": "1972-01-01T00:00:00"
         },
         {
          "Acceleration": 13.5,
          "Cylinders": 8,
          "Displacement": 350,
          "Horsepower": 155,
          "Miles_per_Gallon": 13,
          "Name": "buick lesabre custom",
          "Origin": "USA",
          "Weight_in_lbs": 4502,
          "Year": "1972-01-01T00:00:00"
         },
         {
          "Acceleration": 13.5,
          "Cylinders": 8,
          "Displacement": 350,
          "Horsepower": 160,
          "Miles_per_Gallon": 12,
          "Name": "oldsmobile delta 88 royale",
          "Origin": "USA",
          "Weight_in_lbs": 4456,
          "Year": "1972-01-01T00:00:00"
         },
         {
          "Acceleration": 12.5,
          "Cylinders": 8,
          "Displacement": 400,
          "Horsepower": 190,
          "Miles_per_Gallon": 13,
          "Name": "chrysler newport royal",
          "Origin": "USA",
          "Weight_in_lbs": 4422,
          "Year": "1972-01-01T00:00:00"
         },
         {
          "Acceleration": 13.5,
          "Cylinders": 3,
          "Displacement": 70,
          "Horsepower": 97,
          "Miles_per_Gallon": 19,
          "Name": "mazda rx2 coupe",
          "Origin": "Japan",
          "Weight_in_lbs": 2330,
          "Year": "1972-01-01T00:00:00"
         },
         {
          "Acceleration": 12.5,
          "Cylinders": 8,
          "Displacement": 304,
          "Horsepower": 150,
          "Miles_per_Gallon": 15,
          "Name": "amc matador (sw)",
          "Origin": "USA",
          "Weight_in_lbs": 3892,
          "Year": "1972-01-01T00:00:00"
         },
         {
          "Acceleration": 14,
          "Cylinders": 8,
          "Displacement": 307,
          "Horsepower": 130,
          "Miles_per_Gallon": 13,
          "Name": "chevrolet chevelle concours (sw)",
          "Origin": "USA",
          "Weight_in_lbs": 4098,
          "Year": "1972-01-01T00:00:00"
         },
         {
          "Acceleration": 16,
          "Cylinders": 8,
          "Displacement": 302,
          "Horsepower": 140,
          "Miles_per_Gallon": 13,
          "Name": "ford gran torino (sw)",
          "Origin": "USA",
          "Weight_in_lbs": 4294,
          "Year": "1972-01-01T00:00:00"
         },
         {
          "Acceleration": 14,
          "Cylinders": 8,
          "Displacement": 318,
          "Horsepower": 150,
          "Miles_per_Gallon": 14,
          "Name": "plymouth satellite custom (sw)",
          "Origin": "USA",
          "Weight_in_lbs": 4077,
          "Year": "1972-01-01T00:00:00"
         },
         {
          "Acceleration": 14.5,
          "Cylinders": 4,
          "Displacement": 121,
          "Horsepower": 112,
          "Miles_per_Gallon": 18,
          "Name": "volvo 145e (sw)",
          "Origin": "Europe",
          "Weight_in_lbs": 2933,
          "Year": "1972-01-01T00:00:00"
         },
         {
          "Acceleration": 18,
          "Cylinders": 4,
          "Displacement": 121,
          "Horsepower": 76,
          "Miles_per_Gallon": 22,
          "Name": "volkswagen 411 (sw)",
          "Origin": "Europe",
          "Weight_in_lbs": 2511,
          "Year": "1972-01-01T00:00:00"
         },
         {
          "Acceleration": 19.5,
          "Cylinders": 4,
          "Displacement": 120,
          "Horsepower": 87,
          "Miles_per_Gallon": 21,
          "Name": "peugeot 504 (sw)",
          "Origin": "Europe",
          "Weight_in_lbs": 2979,
          "Year": "1972-01-01T00:00:00"
         },
         {
          "Acceleration": 18,
          "Cylinders": 4,
          "Displacement": 96,
          "Horsepower": 69,
          "Miles_per_Gallon": 26,
          "Name": "renault 12 (sw)",
          "Origin": "Europe",
          "Weight_in_lbs": 2189,
          "Year": "1972-01-01T00:00:00"
         },
         {
          "Acceleration": 16,
          "Cylinders": 4,
          "Displacement": 122,
          "Horsepower": 86,
          "Miles_per_Gallon": 22,
          "Name": "ford pinto (sw)",
          "Origin": "USA",
          "Weight_in_lbs": 2395,
          "Year": "1972-01-01T00:00:00"
         },
         {
          "Acceleration": 17,
          "Cylinders": 4,
          "Displacement": 97,
          "Horsepower": 92,
          "Miles_per_Gallon": 28,
          "Name": "datsun 510 (sw)",
          "Origin": "Japan",
          "Weight_in_lbs": 2288,
          "Year": "1972-01-01T00:00:00"
         },
         {
          "Acceleration": 14.5,
          "Cylinders": 4,
          "Displacement": 120,
          "Horsepower": 97,
          "Miles_per_Gallon": 23,
          "Name": "toyouta corona mark ii (sw)",
          "Origin": "Japan",
          "Weight_in_lbs": 2506,
          "Year": "1972-01-01T00:00:00"
         },
         {
          "Acceleration": 15,
          "Cylinders": 4,
          "Displacement": 98,
          "Horsepower": 80,
          "Miles_per_Gallon": 28,
          "Name": "dodge colt (sw)",
          "Origin": "USA",
          "Weight_in_lbs": 2164,
          "Year": "1972-01-01T00:00:00"
         },
         {
          "Acceleration": 16.5,
          "Cylinders": 4,
          "Displacement": 97,
          "Horsepower": 88,
          "Miles_per_Gallon": 27,
          "Name": "toyota corolla 1600 (sw)",
          "Origin": "Japan",
          "Weight_in_lbs": 2100,
          "Year": "1972-01-01T00:00:00"
         },
         {
          "Acceleration": 13,
          "Cylinders": 8,
          "Displacement": 350,
          "Horsepower": 175,
          "Miles_per_Gallon": 13,
          "Name": "buick century 350",
          "Origin": "USA",
          "Weight_in_lbs": 4100,
          "Year": "1973-01-01T00:00:00"
         },
         {
          "Acceleration": 11.5,
          "Cylinders": 8,
          "Displacement": 304,
          "Horsepower": 150,
          "Miles_per_Gallon": 14,
          "Name": "amc matador",
          "Origin": "USA",
          "Weight_in_lbs": 3672,
          "Year": "1973-01-01T00:00:00"
         },
         {
          "Acceleration": 13,
          "Cylinders": 8,
          "Displacement": 350,
          "Horsepower": 145,
          "Miles_per_Gallon": 13,
          "Name": "chevrolet malibu",
          "Origin": "USA",
          "Weight_in_lbs": 3988,
          "Year": "1973-01-01T00:00:00"
         },
         {
          "Acceleration": 14.5,
          "Cylinders": 8,
          "Displacement": 302,
          "Horsepower": 137,
          "Miles_per_Gallon": 14,
          "Name": "ford gran torino",
          "Origin": "USA",
          "Weight_in_lbs": 4042,
          "Year": "1973-01-01T00:00:00"
         },
         {
          "Acceleration": 12.5,
          "Cylinders": 8,
          "Displacement": 318,
          "Horsepower": 150,
          "Miles_per_Gallon": 15,
          "Name": "dodge coronet custom",
          "Origin": "USA",
          "Weight_in_lbs": 3777,
          "Year": "1973-01-01T00:00:00"
         },
         {
          "Acceleration": 11.5,
          "Cylinders": 8,
          "Displacement": 429,
          "Horsepower": 198,
          "Miles_per_Gallon": 12,
          "Name": "mercury marquis brougham",
          "Origin": "USA",
          "Weight_in_lbs": 4952,
          "Year": "1973-01-01T00:00:00"
         },
         {
          "Acceleration": 12,
          "Cylinders": 8,
          "Displacement": 400,
          "Horsepower": 150,
          "Miles_per_Gallon": 13,
          "Name": "chevrolet caprice classic",
          "Origin": "USA",
          "Weight_in_lbs": 4464,
          "Year": "1973-01-01T00:00:00"
         },
         {
          "Acceleration": 13,
          "Cylinders": 8,
          "Displacement": 351,
          "Horsepower": 158,
          "Miles_per_Gallon": 13,
          "Name": "ford ltd",
          "Origin": "USA",
          "Weight_in_lbs": 4363,
          "Year": "1973-01-01T00:00:00"
         },
         {
          "Acceleration": 14.5,
          "Cylinders": 8,
          "Displacement": 318,
          "Horsepower": 150,
          "Miles_per_Gallon": 14,
          "Name": "plymouth fury gran sedan",
          "Origin": "USA",
          "Weight_in_lbs": 4237,
          "Year": "1973-01-01T00:00:00"
         },
         {
          "Acceleration": 11,
          "Cylinders": 8,
          "Displacement": 440,
          "Horsepower": 215,
          "Miles_per_Gallon": 13,
          "Name": "chrysler new yorker brougham",
          "Origin": "USA",
          "Weight_in_lbs": 4735,
          "Year": "1973-01-01T00:00:00"
         },
         {
          "Acceleration": 11,
          "Cylinders": 8,
          "Displacement": 455,
          "Horsepower": 225,
          "Miles_per_Gallon": 12,
          "Name": "buick electra 225 custom",
          "Origin": "USA",
          "Weight_in_lbs": 4951,
          "Year": "1973-01-01T00:00:00"
         },
         {
          "Acceleration": 11,
          "Cylinders": 8,
          "Displacement": 360,
          "Horsepower": 175,
          "Miles_per_Gallon": 13,
          "Name": "amc ambassador brougham",
          "Origin": "USA",
          "Weight_in_lbs": 3821,
          "Year": "1973-01-01T00:00:00"
         },
         {
          "Acceleration": 16.5,
          "Cylinders": 6,
          "Displacement": 225,
          "Horsepower": 105,
          "Miles_per_Gallon": 18,
          "Name": "plymouth valiant",
          "Origin": "USA",
          "Weight_in_lbs": 3121,
          "Year": "1973-01-01T00:00:00"
         },
         {
          "Acceleration": 18,
          "Cylinders": 6,
          "Displacement": 250,
          "Horsepower": 100,
          "Miles_per_Gallon": 16,
          "Name": "chevrolet nova custom",
          "Origin": "USA",
          "Weight_in_lbs": 3278,
          "Year": "1973-01-01T00:00:00"
         },
         {
          "Acceleration": 16,
          "Cylinders": 6,
          "Displacement": 232,
          "Horsepower": 100,
          "Miles_per_Gallon": 18,
          "Name": "amc hornet",
          "Origin": "USA",
          "Weight_in_lbs": 2945,
          "Year": "1973-01-01T00:00:00"
         },
         {
          "Acceleration": 16.5,
          "Cylinders": 6,
          "Displacement": 250,
          "Horsepower": 88,
          "Miles_per_Gallon": 18,
          "Name": "ford maverick",
          "Origin": "USA",
          "Weight_in_lbs": 3021,
          "Year": "1973-01-01T00:00:00"
         },
         {
          "Acceleration": 16,
          "Cylinders": 6,
          "Displacement": 198,
          "Horsepower": 95,
          "Miles_per_Gallon": 23,
          "Name": "plymouth duster",
          "Origin": "USA",
          "Weight_in_lbs": 2904,
          "Year": "1973-01-01T00:00:00"
         },
         {
          "Acceleration": 21,
          "Cylinders": 4,
          "Displacement": 97,
          "Horsepower": 46,
          "Miles_per_Gallon": 26,
          "Name": "volkswagen super beetle",
          "Origin": "Europe",
          "Weight_in_lbs": 1950,
          "Year": "1973-01-01T00:00:00"
         },
         {
          "Acceleration": 14,
          "Cylinders": 8,
          "Displacement": 400,
          "Horsepower": 150,
          "Miles_per_Gallon": 11,
          "Name": "chevrolet impala",
          "Origin": "USA",
          "Weight_in_lbs": 4997,
          "Year": "1973-01-01T00:00:00"
         },
         {
          "Acceleration": 12.5,
          "Cylinders": 8,
          "Displacement": 400,
          "Horsepower": 167,
          "Miles_per_Gallon": 12,
          "Name": "ford country",
          "Origin": "USA",
          "Weight_in_lbs": 4906,
          "Year": "1973-01-01T00:00:00"
         },
         {
          "Acceleration": 13,
          "Cylinders": 8,
          "Displacement": 360,
          "Horsepower": 170,
          "Miles_per_Gallon": 13,
          "Name": "plymouth custom suburb",
          "Origin": "USA",
          "Weight_in_lbs": 4654,
          "Year": "1973-01-01T00:00:00"
         },
         {
          "Acceleration": 12.5,
          "Cylinders": 8,
          "Displacement": 350,
          "Horsepower": 180,
          "Miles_per_Gallon": 12,
          "Name": "oldsmobile vista cruiser",
          "Origin": "USA",
          "Weight_in_lbs": 4499,
          "Year": "1973-01-01T00:00:00"
         },
         {
          "Acceleration": 15,
          "Cylinders": 6,
          "Displacement": 232,
          "Horsepower": 100,
          "Miles_per_Gallon": 18,
          "Name": "amc gremlin",
          "Origin": "USA",
          "Weight_in_lbs": 2789,
          "Year": "1973-01-01T00:00:00"
         },
         {
          "Acceleration": 19,
          "Cylinders": 4,
          "Displacement": 97,
          "Horsepower": 88,
          "Miles_per_Gallon": 20,
          "Name": "toyota carina",
          "Origin": "Japan",
          "Weight_in_lbs": 2279,
          "Year": "1973-01-01T00:00:00"
         },
         {
          "Acceleration": 19.5,
          "Cylinders": 4,
          "Displacement": 140,
          "Horsepower": 72,
          "Miles_per_Gallon": 21,
          "Name": "chevrolet vega",
          "Origin": "USA",
          "Weight_in_lbs": 2401,
          "Year": "1973-01-01T00:00:00"
         },
         {
          "Acceleration": 16.5,
          "Cylinders": 4,
          "Displacement": 108,
          "Horsepower": 94,
          "Miles_per_Gallon": 22,
          "Name": "datsun 610",
          "Origin": "Japan",
          "Weight_in_lbs": 2379,
          "Year": "1973-01-01T00:00:00"
         },
         {
          "Acceleration": 13.5,
          "Cylinders": 3,
          "Displacement": 70,
          "Horsepower": 90,
          "Miles_per_Gallon": 18,
          "Name": "maxda rx3",
          "Origin": "Japan",
          "Weight_in_lbs": 2124,
          "Year": "1973-01-01T00:00:00"
         },
         {
          "Acceleration": 18.5,
          "Cylinders": 4,
          "Displacement": 122,
          "Horsepower": 85,
          "Miles_per_Gallon": 19,
          "Name": "ford pinto",
          "Origin": "USA",
          "Weight_in_lbs": 2310,
          "Year": "1973-01-01T00:00:00"
         },
         {
          "Acceleration": 14,
          "Cylinders": 6,
          "Displacement": 155,
          "Horsepower": 107,
          "Miles_per_Gallon": 21,
          "Name": "mercury capri v6",
          "Origin": "USA",
          "Weight_in_lbs": 2472,
          "Year": "1973-01-01T00:00:00"
         },
         {
          "Acceleration": 15.5,
          "Cylinders": 4,
          "Displacement": 98,
          "Horsepower": 90,
          "Miles_per_Gallon": 26,
          "Name": "fiat 124 sport coupe",
          "Origin": "Europe",
          "Weight_in_lbs": 2265,
          "Year": "1973-01-01T00:00:00"
         },
         {
          "Acceleration": 13,
          "Cylinders": 8,
          "Displacement": 350,
          "Horsepower": 145,
          "Miles_per_Gallon": 15,
          "Name": "chevrolet monte carlo s",
          "Origin": "USA",
          "Weight_in_lbs": 4082,
          "Year": "1973-01-01T00:00:00"
         },
         {
          "Acceleration": 9.5,
          "Cylinders": 8,
          "Displacement": 400,
          "Horsepower": 230,
          "Miles_per_Gallon": 16,
          "Name": "pontiac grand prix",
          "Origin": "USA",
          "Weight_in_lbs": 4278,
          "Year": "1973-01-01T00:00:00"
         },
         {
          "Acceleration": 19.5,
          "Cylinders": 4,
          "Displacement": 68,
          "Horsepower": 49,
          "Miles_per_Gallon": 29,
          "Name": "fiat 128",
          "Origin": "Europe",
          "Weight_in_lbs": 1867,
          "Year": "1973-01-01T00:00:00"
         },
         {
          "Acceleration": 15.5,
          "Cylinders": 4,
          "Displacement": 116,
          "Horsepower": 75,
          "Miles_per_Gallon": 24,
          "Name": "opel manta",
          "Origin": "Europe",
          "Weight_in_lbs": 2158,
          "Year": "1973-01-01T00:00:00"
         },
         {
          "Acceleration": 14,
          "Cylinders": 4,
          "Displacement": 114,
          "Horsepower": 91,
          "Miles_per_Gallon": 20,
          "Name": "audi 100ls",
          "Origin": "Europe",
          "Weight_in_lbs": 2582,
          "Year": "1973-01-01T00:00:00"
         },
         {
          "Acceleration": 15.5,
          "Cylinders": 4,
          "Displacement": 121,
          "Horsepower": 112,
          "Miles_per_Gallon": 19,
          "Name": "volvo 144ea",
          "Origin": "Europe",
          "Weight_in_lbs": 2868,
          "Year": "1973-01-01T00:00:00"
         },
         {
          "Acceleration": 11,
          "Cylinders": 8,
          "Displacement": 318,
          "Horsepower": 150,
          "Miles_per_Gallon": 15,
          "Name": "dodge dart custom",
          "Origin": "USA",
          "Weight_in_lbs": 3399,
          "Year": "1973-01-01T00:00:00"
         },
         {
          "Acceleration": 14,
          "Cylinders": 4,
          "Displacement": 121,
          "Horsepower": 110,
          "Miles_per_Gallon": 24,
          "Name": "saab 99le",
          "Origin": "Europe",
          "Weight_in_lbs": 2660,
          "Year": "1973-01-01T00:00:00"
         },
         {
          "Acceleration": 13.5,
          "Cylinders": 6,
          "Displacement": 156,
          "Horsepower": 122,
          "Miles_per_Gallon": 20,
          "Name": "toyota mark ii",
          "Origin": "Japan",
          "Weight_in_lbs": 2807,
          "Year": "1973-01-01T00:00:00"
         },
         {
          "Acceleration": 11,
          "Cylinders": 8,
          "Displacement": 350,
          "Horsepower": 180,
          "Miles_per_Gallon": 11,
          "Name": "oldsmobile omega",
          "Origin": "USA",
          "Weight_in_lbs": 3664,
          "Year": "1973-01-01T00:00:00"
         },
         {
          "Acceleration": 16.5,
          "Cylinders": 6,
          "Displacement": 198,
          "Horsepower": 95,
          "Miles_per_Gallon": 20,
          "Name": "plymouth duster",
          "Origin": "USA",
          "Weight_in_lbs": 3102,
          "Year": "1974-01-01T00:00:00"
         },
         {
          "Acceleration": 17,
          "Cylinders": 6,
          "Displacement": 200,
          "Horsepower": null,
          "Miles_per_Gallon": 21,
          "Name": "ford maverick",
          "Origin": "USA",
          "Weight_in_lbs": 2875,
          "Year": "1974-01-01T00:00:00"
         },
         {
          "Acceleration": 16,
          "Cylinders": 6,
          "Displacement": 232,
          "Horsepower": 100,
          "Miles_per_Gallon": 19,
          "Name": "amc hornet",
          "Origin": "USA",
          "Weight_in_lbs": 2901,
          "Year": "1974-01-01T00:00:00"
         },
         {
          "Acceleration": 17,
          "Cylinders": 6,
          "Displacement": 250,
          "Horsepower": 100,
          "Miles_per_Gallon": 15,
          "Name": "chevrolet nova",
          "Origin": "USA",
          "Weight_in_lbs": 3336,
          "Year": "1974-01-01T00:00:00"
         },
         {
          "Acceleration": 19,
          "Cylinders": 4,
          "Displacement": 79,
          "Horsepower": 67,
          "Miles_per_Gallon": 31,
          "Name": "datsun b210",
          "Origin": "Japan",
          "Weight_in_lbs": 1950,
          "Year": "1974-01-01T00:00:00"
         },
         {
          "Acceleration": 16.5,
          "Cylinders": 4,
          "Displacement": 122,
          "Horsepower": 80,
          "Miles_per_Gallon": 26,
          "Name": "ford pinto",
          "Origin": "USA",
          "Weight_in_lbs": 2451,
          "Year": "1974-01-01T00:00:00"
         },
         {
          "Acceleration": 21,
          "Cylinders": 4,
          "Displacement": 71,
          "Horsepower": 65,
          "Miles_per_Gallon": 32,
          "Name": "toyota corolla 1200",
          "Origin": "Japan",
          "Weight_in_lbs": 1836,
          "Year": "1974-01-01T00:00:00"
         },
         {
          "Acceleration": 17,
          "Cylinders": 4,
          "Displacement": 140,
          "Horsepower": 75,
          "Miles_per_Gallon": 25,
          "Name": "chevrolet vega",
          "Origin": "USA",
          "Weight_in_lbs": 2542,
          "Year": "1974-01-01T00:00:00"
         },
         {
          "Acceleration": 17,
          "Cylinders": 6,
          "Displacement": 250,
          "Horsepower": 100,
          "Miles_per_Gallon": 16,
          "Name": "chevrolet chevelle malibu classic",
          "Origin": "USA",
          "Weight_in_lbs": 3781,
          "Year": "1974-01-01T00:00:00"
         },
         {
          "Acceleration": 18,
          "Cylinders": 6,
          "Displacement": 258,
          "Horsepower": 110,
          "Miles_per_Gallon": 16,
          "Name": "amc matador",
          "Origin": "USA",
          "Weight_in_lbs": 3632,
          "Year": "1974-01-01T00:00:00"
         },
         {
          "Acceleration": 16.5,
          "Cylinders": 6,
          "Displacement": 225,
          "Horsepower": 105,
          "Miles_per_Gallon": 18,
          "Name": "plymouth satellite sebring",
          "Origin": "USA",
          "Weight_in_lbs": 3613,
          "Year": "1974-01-01T00:00:00"
         },
         {
          "Acceleration": 14,
          "Cylinders": 8,
          "Displacement": 302,
          "Horsepower": 140,
          "Miles_per_Gallon": 16,
          "Name": "ford gran torino",
          "Origin": "USA",
          "Weight_in_lbs": 4141,
          "Year": "1974-01-01T00:00:00"
         },
         {
          "Acceleration": 14.5,
          "Cylinders": 8,
          "Displacement": 350,
          "Horsepower": 150,
          "Miles_per_Gallon": 13,
          "Name": "buick century luxus (sw)",
          "Origin": "USA",
          "Weight_in_lbs": 4699,
          "Year": "1974-01-01T00:00:00"
         },
         {
          "Acceleration": 13.5,
          "Cylinders": 8,
          "Displacement": 318,
          "Horsepower": 150,
          "Miles_per_Gallon": 14,
          "Name": "dodge coronet custom (sw)",
          "Origin": "USA",
          "Weight_in_lbs": 4457,
          "Year": "1974-01-01T00:00:00"
         },
         {
          "Acceleration": 16,
          "Cylinders": 8,
          "Displacement": 302,
          "Horsepower": 140,
          "Miles_per_Gallon": 14,
          "Name": "ford gran torino (sw)",
          "Origin": "USA",
          "Weight_in_lbs": 4638,
          "Year": "1974-01-01T00:00:00"
         },
         {
          "Acceleration": 15.5,
          "Cylinders": 8,
          "Displacement": 304,
          "Horsepower": 150,
          "Miles_per_Gallon": 14,
          "Name": "amc matador (sw)",
          "Origin": "USA",
          "Weight_in_lbs": 4257,
          "Year": "1974-01-01T00:00:00"
         },
         {
          "Acceleration": 16.5,
          "Cylinders": 4,
          "Displacement": 98,
          "Horsepower": 83,
          "Miles_per_Gallon": 29,
          "Name": "audi fox",
          "Origin": "Europe",
          "Weight_in_lbs": 2219,
          "Year": "1974-01-01T00:00:00"
         },
         {
          "Acceleration": 15.5,
          "Cylinders": 4,
          "Displacement": 79,
          "Horsepower": 67,
          "Miles_per_Gallon": 26,
          "Name": "volkswagen dasher",
          "Origin": "Europe",
          "Weight_in_lbs": 1963,
          "Year": "1974-01-01T00:00:00"
         },
         {
          "Acceleration": 14.5,
          "Cylinders": 4,
          "Displacement": 97,
          "Horsepower": 78,
          "Miles_per_Gallon": 26,
          "Name": "opel manta",
          "Origin": "Europe",
          "Weight_in_lbs": 2300,
          "Year": "1974-01-01T00:00:00"
         },
         {
          "Acceleration": 16.5,
          "Cylinders": 4,
          "Displacement": 76,
          "Horsepower": 52,
          "Miles_per_Gallon": 31,
          "Name": "toyota corona",
          "Origin": "Japan",
          "Weight_in_lbs": 1649,
          "Year": "1974-01-01T00:00:00"
         },
         {
          "Acceleration": 19,
          "Cylinders": 4,
          "Displacement": 83,
          "Horsepower": 61,
          "Miles_per_Gallon": 32,
          "Name": "datsun 710",
          "Origin": "Japan",
          "Weight_in_lbs": 2003,
          "Year": "1974-01-01T00:00:00"
         },
         {
          "Acceleration": 14.5,
          "Cylinders": 4,
          "Displacement": 90,
          "Horsepower": 75,
          "Miles_per_Gallon": 28,
          "Name": "dodge colt",
          "Origin": "USA",
          "Weight_in_lbs": 2125,
          "Year": "1974-01-01T00:00:00"
         },
         {
          "Acceleration": 15.5,
          "Cylinders": 4,
          "Displacement": 90,
          "Horsepower": 75,
          "Miles_per_Gallon": 24,
          "Name": "fiat 128",
          "Origin": "Europe",
          "Weight_in_lbs": 2108,
          "Year": "1974-01-01T00:00:00"
         },
         {
          "Acceleration": 14,
          "Cylinders": 4,
          "Displacement": 116,
          "Horsepower": 75,
          "Miles_per_Gallon": 26,
          "Name": "fiat 124 tc",
          "Origin": "Europe",
          "Weight_in_lbs": 2246,
          "Year": "1974-01-01T00:00:00"
         },
         {
          "Acceleration": 15,
          "Cylinders": 4,
          "Displacement": 120,
          "Horsepower": 97,
          "Miles_per_Gallon": 24,
          "Name": "honda civic",
          "Origin": "Japan",
          "Weight_in_lbs": 2489,
          "Year": "1974-01-01T00:00:00"
         },
         {
          "Acceleration": 15.5,
          "Cylinders": 4,
          "Displacement": 108,
          "Horsepower": 93,
          "Miles_per_Gallon": 26,
          "Name": "subaru",
          "Origin": "Japan",
          "Weight_in_lbs": 2391,
          "Year": "1974-01-01T00:00:00"
         },
         {
          "Acceleration": 16,
          "Cylinders": 4,
          "Displacement": 79,
          "Horsepower": 67,
          "Miles_per_Gallon": 31,
          "Name": "fiat x1.9",
          "Origin": "Europe",
          "Weight_in_lbs": 2000,
          "Year": "1974-01-01T00:00:00"
         },
         {
          "Acceleration": 16,
          "Cylinders": 6,
          "Displacement": 225,
          "Horsepower": 95,
          "Miles_per_Gallon": 19,
          "Name": "plymouth valiant custom",
          "Origin": "USA",
          "Weight_in_lbs": 3264,
          "Year": "1975-01-01T00:00:00"
         },
         {
          "Acceleration": 16,
          "Cylinders": 6,
          "Displacement": 250,
          "Horsepower": 105,
          "Miles_per_Gallon": 18,
          "Name": "chevrolet nova",
          "Origin": "USA",
          "Weight_in_lbs": 3459,
          "Year": "1975-01-01T00:00:00"
         },
         {
          "Acceleration": 21,
          "Cylinders": 6,
          "Displacement": 250,
          "Horsepower": 72,
          "Miles_per_Gallon": 15,
          "Name": "mercury monarch",
          "Origin": "USA",
          "Weight_in_lbs": 3432,
          "Year": "1975-01-01T00:00:00"
         },
         {
          "Acceleration": 19.5,
          "Cylinders": 6,
          "Displacement": 250,
          "Horsepower": 72,
          "Miles_per_Gallon": 15,
          "Name": "ford maverick",
          "Origin": "USA",
          "Weight_in_lbs": 3158,
          "Year": "1975-01-01T00:00:00"
         },
         {
          "Acceleration": 11.5,
          "Cylinders": 8,
          "Displacement": 400,
          "Horsepower": 170,
          "Miles_per_Gallon": 16,
          "Name": "pontiac catalina",
          "Origin": "USA",
          "Weight_in_lbs": 4668,
          "Year": "1975-01-01T00:00:00"
         },
         {
          "Acceleration": 14,
          "Cylinders": 8,
          "Displacement": 350,
          "Horsepower": 145,
          "Miles_per_Gallon": 15,
          "Name": "chevrolet bel air",
          "Origin": "USA",
          "Weight_in_lbs": 4440,
          "Year": "1975-01-01T00:00:00"
         },
         {
          "Acceleration": 14.5,
          "Cylinders": 8,
          "Displacement": 318,
          "Horsepower": 150,
          "Miles_per_Gallon": 16,
          "Name": "plymouth grand fury",
          "Origin": "USA",
          "Weight_in_lbs": 4498,
          "Year": "1975-01-01T00:00:00"
         },
         {
          "Acceleration": 13.5,
          "Cylinders": 8,
          "Displacement": 351,
          "Horsepower": 148,
          "Miles_per_Gallon": 14,
          "Name": "ford ltd",
          "Origin": "USA",
          "Weight_in_lbs": 4657,
          "Year": "1975-01-01T00:00:00"
         },
         {
          "Acceleration": 21,
          "Cylinders": 6,
          "Displacement": 231,
          "Horsepower": 110,
          "Miles_per_Gallon": 17,
          "Name": "buick century",
          "Origin": "USA",
          "Weight_in_lbs": 3907,
          "Year": "1975-01-01T00:00:00"
         },
         {
          "Acceleration": 18.5,
          "Cylinders": 6,
          "Displacement": 250,
          "Horsepower": 105,
          "Miles_per_Gallon": 16,
          "Name": "chevroelt chevelle malibu",
          "Origin": "USA",
          "Weight_in_lbs": 3897,
          "Year": "1975-01-01T00:00:00"
         },
         {
          "Acceleration": 19,
          "Cylinders": 6,
          "Displacement": 258,
          "Horsepower": 110,
          "Miles_per_Gallon": 15,
          "Name": "amc matador",
          "Origin": "USA",
          "Weight_in_lbs": 3730,
          "Year": "1975-01-01T00:00:00"
         },
         {
          "Acceleration": 19,
          "Cylinders": 6,
          "Displacement": 225,
          "Horsepower": 95,
          "Miles_per_Gallon": 18,
          "Name": "plymouth fury",
          "Origin": "USA",
          "Weight_in_lbs": 3785,
          "Year": "1975-01-01T00:00:00"
         },
         {
          "Acceleration": 15,
          "Cylinders": 6,
          "Displacement": 231,
          "Horsepower": 110,
          "Miles_per_Gallon": 21,
          "Name": "buick skyhawk",
          "Origin": "USA",
          "Weight_in_lbs": 3039,
          "Year": "1975-01-01T00:00:00"
         },
         {
          "Acceleration": 13.5,
          "Cylinders": 8,
          "Displacement": 262,
          "Horsepower": 110,
          "Miles_per_Gallon": 20,
          "Name": "chevrolet monza 2+2",
          "Origin": "USA",
          "Weight_in_lbs": 3221,
          "Year": "1975-01-01T00:00:00"
         },
         {
          "Acceleration": 12,
          "Cylinders": 8,
          "Displacement": 302,
          "Horsepower": 129,
          "Miles_per_Gallon": 13,
          "Name": "ford mustang ii",
          "Origin": "USA",
          "Weight_in_lbs": 3169,
          "Year": "1975-01-01T00:00:00"
         },
         {
          "Acceleration": 16,
          "Cylinders": 4,
          "Displacement": 97,
          "Horsepower": 75,
          "Miles_per_Gallon": 29,
          "Name": "toyota corolla",
          "Origin": "Japan",
          "Weight_in_lbs": 2171,
          "Year": "1975-01-01T00:00:00"
         },
         {
          "Acceleration": 17,
          "Cylinders": 4,
          "Displacement": 140,
          "Horsepower": 83,
          "Miles_per_Gallon": 23,
          "Name": "ford pinto",
          "Origin": "USA",
          "Weight_in_lbs": 2639,
          "Year": "1975-01-01T00:00:00"
         },
         {
          "Acceleration": 16,
          "Cylinders": 6,
          "Displacement": 232,
          "Horsepower": 100,
          "Miles_per_Gallon": 20,
          "Name": "amc gremlin",
          "Origin": "USA",
          "Weight_in_lbs": 2914,
          "Year": "1975-01-01T00:00:00"
         },
         {
          "Acceleration": 18.5,
          "Cylinders": 4,
          "Displacement": 140,
          "Horsepower": 78,
          "Miles_per_Gallon": 23,
          "Name": "pontiac astro",
          "Origin": "USA",
          "Weight_in_lbs": 2592,
          "Year": "1975-01-01T00:00:00"
         },
         {
          "Acceleration": 13.5,
          "Cylinders": 4,
          "Displacement": 134,
          "Horsepower": 96,
          "Miles_per_Gallon": 24,
          "Name": "toyota corona",
          "Origin": "Japan",
          "Weight_in_lbs": 2702,
          "Year": "1975-01-01T00:00:00"
         },
         {
          "Acceleration": 16.5,
          "Cylinders": 4,
          "Displacement": 90,
          "Horsepower": 71,
          "Miles_per_Gallon": 25,
          "Name": "volkswagen dasher",
          "Origin": "Europe",
          "Weight_in_lbs": 2223,
          "Year": "1975-01-01T00:00:00"
         },
         {
          "Acceleration": 17,
          "Cylinders": 4,
          "Displacement": 119,
          "Horsepower": 97,
          "Miles_per_Gallon": 24,
          "Name": "datsun 710",
          "Origin": "Japan",
          "Weight_in_lbs": 2545,
          "Year": "1975-01-01T00:00:00"
         },
         {
          "Acceleration": 14.5,
          "Cylinders": 6,
          "Displacement": 171,
          "Horsepower": 97,
          "Miles_per_Gallon": 18,
          "Name": "ford pinto",
          "Origin": "USA",
          "Weight_in_lbs": 2984,
          "Year": "1975-01-01T00:00:00"
         },
         {
          "Acceleration": 14,
          "Cylinders": 4,
          "Displacement": 90,
          "Horsepower": 70,
          "Miles_per_Gallon": 29,
          "Name": "volkswagen rabbit",
          "Origin": "Europe",
          "Weight_in_lbs": 1937,
          "Year": "1975-01-01T00:00:00"
         },
         {
          "Acceleration": 17,
          "Cylinders": 6,
          "Displacement": 232,
          "Horsepower": 90,
          "Miles_per_Gallon": 19,
          "Name": "amc pacer",
          "Origin": "USA",
          "Weight_in_lbs": 3211,
          "Year": "1975-01-01T00:00:00"
         },
         {
          "Acceleration": 15,
          "Cylinders": 4,
          "Displacement": 115,
          "Horsepower": 95,
          "Miles_per_Gallon": 23,
          "Name": "audi 100ls",
          "Origin": "Europe",
          "Weight_in_lbs": 2694,
          "Year": "1975-01-01T00:00:00"
         },
         {
          "Acceleration": 17,
          "Cylinders": 4,
          "Displacement": 120,
          "Horsepower": 88,
          "Miles_per_Gallon": 23,
          "Name": "peugeot 504",
          "Origin": "Europe",
          "Weight_in_lbs": 2957,
          "Year": "1975-01-01T00:00:00"
         },
         {
          "Acceleration": 14.5,
          "Cylinders": 4,
          "Displacement": 121,
          "Horsepower": 98,
          "Miles_per_Gallon": 22,
          "Name": "volvo 244dl",
          "Origin": "Europe",
          "Weight_in_lbs": 2945,
          "Year": "1975-01-01T00:00:00"
         },
         {
          "Acceleration": 13.5,
          "Cylinders": 4,
          "Displacement": 121,
          "Horsepower": 115,
          "Miles_per_Gallon": 25,
          "Name": "saab 99le",
          "Origin": "Europe",
          "Weight_in_lbs": 2671,
          "Year": "1975-01-01T00:00:00"
         },
         {
          "Acceleration": 17.5,
          "Cylinders": 4,
          "Displacement": 91,
          "Horsepower": 53,
          "Miles_per_Gallon": 33,
          "Name": "honda civic cvcc",
          "Origin": "Japan",
          "Weight_in_lbs": 1795,
          "Year": "1975-01-01T00:00:00"
         },
         {
          "Acceleration": 15.5,
          "Cylinders": 4,
          "Displacement": 107,
          "Horsepower": 86,
          "Miles_per_Gallon": 28,
          "Name": "fiat 131",
          "Origin": "Europe",
          "Weight_in_lbs": 2464,
          "Year": "1976-01-01T00:00:00"
         },
         {
          "Acceleration": 16.9,
          "Cylinders": 4,
          "Displacement": 116,
          "Horsepower": 81,
          "Miles_per_Gallon": 25,
          "Name": "opel 1900",
          "Origin": "Europe",
          "Weight_in_lbs": 2220,
          "Year": "1976-01-01T00:00:00"
         },
         {
          "Acceleration": 14.9,
          "Cylinders": 4,
          "Displacement": 140,
          "Horsepower": 92,
          "Miles_per_Gallon": 25,
          "Name": "capri ii",
          "Origin": "USA",
          "Weight_in_lbs": 2572,
          "Year": "1976-01-01T00:00:00"
         },
         {
          "Acceleration": 17.7,
          "Cylinders": 4,
          "Displacement": 98,
          "Horsepower": 79,
          "Miles_per_Gallon": 26,
          "Name": "dodge colt",
          "Origin": "USA",
          "Weight_in_lbs": 2255,
          "Year": "1976-01-01T00:00:00"
         },
         {
          "Acceleration": 15.3,
          "Cylinders": 4,
          "Displacement": 101,
          "Horsepower": 83,
          "Miles_per_Gallon": 27,
          "Name": "renault 12tl",
          "Origin": "Europe",
          "Weight_in_lbs": 2202,
          "Year": "1976-01-01T00:00:00"
         },
         {
          "Acceleration": 13,
          "Cylinders": 8,
          "Displacement": 305,
          "Horsepower": 140,
          "Miles_per_Gallon": 17.5,
          "Name": "chevrolet chevelle malibu classic",
          "Origin": "USA",
          "Weight_in_lbs": 4215,
          "Year": "1976-01-01T00:00:00"
         },
         {
          "Acceleration": 13,
          "Cylinders": 8,
          "Displacement": 318,
          "Horsepower": 150,
          "Miles_per_Gallon": 16,
          "Name": "dodge coronet brougham",
          "Origin": "USA",
          "Weight_in_lbs": 4190,
          "Year": "1976-01-01T00:00:00"
         },
         {
          "Acceleration": 13.9,
          "Cylinders": 8,
          "Displacement": 304,
          "Horsepower": 120,
          "Miles_per_Gallon": 15.5,
          "Name": "amc matador",
          "Origin": "USA",
          "Weight_in_lbs": 3962,
          "Year": "1976-01-01T00:00:00"
         },
         {
          "Acceleration": 12.8,
          "Cylinders": 8,
          "Displacement": 351,
          "Horsepower": 152,
          "Miles_per_Gallon": 14.5,
          "Name": "ford gran torino",
          "Origin": "USA",
          "Weight_in_lbs": 4215,
          "Year": "1976-01-01T00:00:00"
         },
         {
          "Acceleration": 15.4,
          "Cylinders": 6,
          "Displacement": 225,
          "Horsepower": 100,
          "Miles_per_Gallon": 22,
          "Name": "plymouth valiant",
          "Origin": "USA",
          "Weight_in_lbs": 3233,
          "Year": "1976-01-01T00:00:00"
         },
         {
          "Acceleration": 14.5,
          "Cylinders": 6,
          "Displacement": 250,
          "Horsepower": 105,
          "Miles_per_Gallon": 22,
          "Name": "chevrolet nova",
          "Origin": "USA",
          "Weight_in_lbs": 3353,
          "Year": "1976-01-01T00:00:00"
         },
         {
          "Acceleration": 17.6,
          "Cylinders": 6,
          "Displacement": 200,
          "Horsepower": 81,
          "Miles_per_Gallon": 24,
          "Name": "ford maverick",
          "Origin": "USA",
          "Weight_in_lbs": 3012,
          "Year": "1976-01-01T00:00:00"
         },
         {
          "Acceleration": 17.6,
          "Cylinders": 6,
          "Displacement": 232,
          "Horsepower": 90,
          "Miles_per_Gallon": 22.5,
          "Name": "amc hornet",
          "Origin": "USA",
          "Weight_in_lbs": 3085,
          "Year": "1976-01-01T00:00:00"
         },
         {
          "Acceleration": 22.2,
          "Cylinders": 4,
          "Displacement": 85,
          "Horsepower": 52,
          "Miles_per_Gallon": 29,
          "Name": "chevrolet chevette",
          "Origin": "USA",
          "Weight_in_lbs": 2035,
          "Year": "1976-01-01T00:00:00"
         },
         {
          "Acceleration": 22.1,
          "Cylinders": 4,
          "Displacement": 98,
          "Horsepower": 60,
          "Miles_per_Gallon": 24.5,
          "Name": "chevrolet woody",
          "Origin": "USA",
          "Weight_in_lbs": 2164,
          "Year": "1976-01-01T00:00:00"
         },
         {
          "Acceleration": 14.2,
          "Cylinders": 4,
          "Displacement": 90,
          "Horsepower": 70,
          "Miles_per_Gallon": 29,
          "Name": "vw rabbit",
          "Origin": "Europe",
          "Weight_in_lbs": 1937,
          "Year": "1976-01-01T00:00:00"
         },
         {
          "Acceleration": 17.4,
          "Cylinders": 4,
          "Displacement": 91,
          "Horsepower": 53,
          "Miles_per_Gallon": 33,
          "Name": "honda civic",
          "Origin": "Japan",
          "Weight_in_lbs": 1795,
          "Year": "1976-01-01T00:00:00"
         },
         {
          "Acceleration": 17.7,
          "Cylinders": 6,
          "Displacement": 225,
          "Horsepower": 100,
          "Miles_per_Gallon": 20,
          "Name": "dodge aspen se",
          "Origin": "USA",
          "Weight_in_lbs": 3651,
          "Year": "1976-01-01T00:00:00"
         },
         {
          "Acceleration": 21,
          "Cylinders": 6,
          "Displacement": 250,
          "Horsepower": 78,
          "Miles_per_Gallon": 18,
          "Name": "ford granada ghia",
          "Origin": "USA",
          "Weight_in_lbs": 3574,
          "Year": "1976-01-01T00:00:00"
         },
         {
          "Acceleration": 16.2,
          "Cylinders": 6,
          "Displacement": 250,
          "Horsepower": 110,
          "Miles_per_Gallon": 18.5,
          "Name": "pontiac ventura sj",
          "Origin": "USA",
          "Weight_in_lbs": 3645,
          "Year": "1976-01-01T00:00:00"
         },
         {
          "Acceleration": 17.8,
          "Cylinders": 6,
          "Displacement": 258,
          "Horsepower": 95,
          "Miles_per_Gallon": 17.5,
          "Name": "amc pacer d/l",
          "Origin": "USA",
          "Weight_in_lbs": 3193,
          "Year": "1976-01-01T00:00:00"
         },
         {
          "Acceleration": 12.2,
          "Cylinders": 4,
          "Displacement": 97,
          "Horsepower": 71,
          "Miles_per_Gallon": 29.5,
          "Name": "volkswagen rabbit",
          "Origin": "Europe",
          "Weight_in_lbs": 1825,
          "Year": "1976-01-01T00:00:00"
         },
         {
          "Acceleration": 17,
          "Cylinders": 4,
          "Displacement": 85,
          "Horsepower": 70,
          "Miles_per_Gallon": 32,
          "Name": "datsun b-210",
          "Origin": "Japan",
          "Weight_in_lbs": 1990,
          "Year": "1976-01-01T00:00:00"
         },
         {
          "Acceleration": 16.4,
          "Cylinders": 4,
          "Displacement": 97,
          "Horsepower": 75,
          "Miles_per_Gallon": 28,
          "Name": "toyota corolla",
          "Origin": "Japan",
          "Weight_in_lbs": 2155,
          "Year": "1976-01-01T00:00:00"
         },
         {
          "Acceleration": 13.6,
          "Cylinders": 4,
          "Displacement": 140,
          "Horsepower": 72,
          "Miles_per_Gallon": 26.5,
          "Name": "ford pinto",
          "Origin": "USA",
          "Weight_in_lbs": 2565,
          "Year": "1976-01-01T00:00:00"
         },
         {
          "Acceleration": 15.7,
          "Cylinders": 4,
          "Displacement": 130,
          "Horsepower": 102,
          "Miles_per_Gallon": 20,
          "Name": "volvo 245",
          "Origin": "Europe",
          "Weight_in_lbs": 3150,
          "Year": "1976-01-01T00:00:00"
         },
         {
          "Acceleration": 13.2,
          "Cylinders": 8,
          "Displacement": 318,
          "Horsepower": 150,
          "Miles_per_Gallon": 13,
          "Name": "plymouth volare premier v8",
          "Origin": "USA",
          "Weight_in_lbs": 3940,
          "Year": "1976-01-01T00:00:00"
         },
         {
          "Acceleration": 21.9,
          "Cylinders": 4,
          "Displacement": 120,
          "Horsepower": 88,
          "Miles_per_Gallon": 19,
          "Name": "peugeot 504",
          "Origin": "Europe",
          "Weight_in_lbs": 3270,
          "Year": "1976-01-01T00:00:00"
         },
         {
          "Acceleration": 15.5,
          "Cylinders": 6,
          "Displacement": 156,
          "Horsepower": 108,
          "Miles_per_Gallon": 19,
          "Name": "toyota mark ii",
          "Origin": "Japan",
          "Weight_in_lbs": 2930,
          "Year": "1976-01-01T00:00:00"
         },
         {
          "Acceleration": 16.7,
          "Cylinders": 6,
          "Displacement": 168,
          "Horsepower": 120,
          "Miles_per_Gallon": 16.5,
          "Name": "mercedes-benz 280s",
          "Origin": "Europe",
          "Weight_in_lbs": 3820,
          "Year": "1976-01-01T00:00:00"
         },
         {
          "Acceleration": 12.1,
          "Cylinders": 8,
          "Displacement": 350,
          "Horsepower": 180,
          "Miles_per_Gallon": 16.5,
          "Name": "cadillac seville",
          "Origin": "USA",
          "Weight_in_lbs": 4380,
          "Year": "1976-01-01T00:00:00"
         },
         {
          "Acceleration": 12,
          "Cylinders": 8,
          "Displacement": 350,
          "Horsepower": 145,
          "Miles_per_Gallon": 13,
          "Name": "chevy c10",
          "Origin": "USA",
          "Weight_in_lbs": 4055,
          "Year": "1976-01-01T00:00:00"
         },
         {
          "Acceleration": 15,
          "Cylinders": 8,
          "Displacement": 302,
          "Horsepower": 130,
          "Miles_per_Gallon": 13,
          "Name": "ford f108",
          "Origin": "USA",
          "Weight_in_lbs": 3870,
          "Year": "1976-01-01T00:00:00"
         },
         {
          "Acceleration": 14,
          "Cylinders": 8,
          "Displacement": 318,
          "Horsepower": 150,
          "Miles_per_Gallon": 13,
          "Name": "dodge d100",
          "Origin": "USA",
          "Weight_in_lbs": 3755,
          "Year": "1976-01-01T00:00:00"
         },
         {
          "Acceleration": 18.5,
          "Cylinders": 4,
          "Displacement": 98,
          "Horsepower": 68,
          "Miles_per_Gallon": 31.5,
          "Name": "honda Accelerationord cvcc",
          "Origin": "Japan",
          "Weight_in_lbs": 2045,
          "Year": "1977-01-01T00:00:00"
         },
         {
          "Acceleration": 14.8,
          "Cylinders": 4,
          "Displacement": 111,
          "Horsepower": 80,
          "Miles_per_Gallon": 30,
          "Name": "buick opel isuzu deluxe",
          "Origin": "USA",
          "Weight_in_lbs": 2155,
          "Year": "1977-01-01T00:00:00"
         },
         {
          "Acceleration": 18.6,
          "Cylinders": 4,
          "Displacement": 79,
          "Horsepower": 58,
          "Miles_per_Gallon": 36,
          "Name": "renault 5 gtl",
          "Origin": "Europe",
          "Weight_in_lbs": 1825,
          "Year": "1977-01-01T00:00:00"
         },
         {
          "Acceleration": 15.5,
          "Cylinders": 4,
          "Displacement": 122,
          "Horsepower": 96,
          "Miles_per_Gallon": 25.5,
          "Name": "plymouth arrow gs",
          "Origin": "USA",
          "Weight_in_lbs": 2300,
          "Year": "1977-01-01T00:00:00"
         },
         {
          "Acceleration": 16.8,
          "Cylinders": 4,
          "Displacement": 85,
          "Horsepower": 70,
          "Miles_per_Gallon": 33.5,
          "Name": "datsun f-10 hatchback",
          "Origin": "Japan",
          "Weight_in_lbs": 1945,
          "Year": "1977-01-01T00:00:00"
         },
         {
          "Acceleration": 12.5,
          "Cylinders": 8,
          "Displacement": 305,
          "Horsepower": 145,
          "Miles_per_Gallon": 17.5,
          "Name": "chevrolet caprice classic",
          "Origin": "USA",
          "Weight_in_lbs": 3880,
          "Year": "1977-01-01T00:00:00"
         },
         {
          "Acceleration": 19,
          "Cylinders": 8,
          "Displacement": 260,
          "Horsepower": 110,
          "Miles_per_Gallon": 17,
          "Name": "oldsmobile cutlass supreme",
          "Origin": "USA",
          "Weight_in_lbs": 4060,
          "Year": "1977-01-01T00:00:00"
         },
         {
          "Acceleration": 13.7,
          "Cylinders": 8,
          "Displacement": 318,
          "Horsepower": 145,
          "Miles_per_Gallon": 15.5,
          "Name": "dodge monaco brougham",
          "Origin": "USA",
          "Weight_in_lbs": 4140,
          "Year": "1977-01-01T00:00:00"
         },
         {
          "Acceleration": 14.9,
          "Cylinders": 8,
          "Displacement": 302,
          "Horsepower": 130,
          "Miles_per_Gallon": 15,
          "Name": "mercury cougar brougham",
          "Origin": "USA",
          "Weight_in_lbs": 4295,
          "Year": "1977-01-01T00:00:00"
         },
         {
          "Acceleration": 16.4,
          "Cylinders": 6,
          "Displacement": 250,
          "Horsepower": 110,
          "Miles_per_Gallon": 17.5,
          "Name": "chevrolet concours",
          "Origin": "USA",
          "Weight_in_lbs": 3520,
          "Year": "1977-01-01T00:00:00"
         },
         {
          "Acceleration": 16.9,
          "Cylinders": 6,
          "Displacement": 231,
          "Horsepower": 105,
          "Miles_per_Gallon": 20.5,
          "Name": "buick skylark",
          "Origin": "USA",
          "Weight_in_lbs": 3425,
          "Year": "1977-01-01T00:00:00"
         },
         {
          "Acceleration": 17.7,
          "Cylinders": 6,
          "Displacement": 225,
          "Horsepower": 100,
          "Miles_per_Gallon": 19,
          "Name": "plymouth volare custom",
          "Origin": "USA",
          "Weight_in_lbs": 3630,
          "Year": "1977-01-01T00:00:00"
         },
         {
          "Acceleration": 19,
          "Cylinders": 6,
          "Displacement": 250,
          "Horsepower": 98,
          "Miles_per_Gallon": 18.5,
          "Name": "ford granada",
          "Origin": "USA",
          "Weight_in_lbs": 3525,
          "Year": "1977-01-01T00:00:00"
         },
         {
          "Acceleration": 11.1,
          "Cylinders": 8,
          "Displacement": 400,
          "Horsepower": 180,
          "Miles_per_Gallon": 16,
          "Name": "pontiac grand prix lj",
          "Origin": "USA",
          "Weight_in_lbs": 4220,
          "Year": "1977-01-01T00:00:00"
         },
         {
          "Acceleration": 11.4,
          "Cylinders": 8,
          "Displacement": 350,
          "Horsepower": 170,
          "Miles_per_Gallon": 15.5,
          "Name": "chevrolet monte carlo landau",
          "Origin": "USA",
          "Weight_in_lbs": 4165,
          "Year": "1977-01-01T00:00:00"
         },
         {
          "Acceleration": 12.2,
          "Cylinders": 8,
          "Displacement": 400,
          "Horsepower": 190,
          "Miles_per_Gallon": 15.5,
          "Name": "chrysler cordoba",
          "Origin": "USA",
          "Weight_in_lbs": 4325,
          "Year": "1977-01-01T00:00:00"
         },
         {
          "Acceleration": 14.5,
          "Cylinders": 8,
          "Displacement": 351,
          "Horsepower": 149,
          "Miles_per_Gallon": 16,
          "Name": "ford thunderbird",
          "Origin": "USA",
          "Weight_in_lbs": 4335,
          "Year": "1977-01-01T00:00:00"
         },
         {
          "Acceleration": 14.5,
          "Cylinders": 4,
          "Displacement": 97,
          "Horsepower": 78,
          "Miles_per_Gallon": 29,
          "Name": "volkswagen rabbit custom",
          "Origin": "Europe",
          "Weight_in_lbs": 1940,
          "Year": "1977-01-01T00:00:00"
         },
         {
          "Acceleration": 16,
          "Cylinders": 4,
          "Displacement": 151,
          "Horsepower": 88,
          "Miles_per_Gallon": 24.5,
          "Name": "pontiac sunbird coupe",
          "Origin": "USA",
          "Weight_in_lbs": 2740,
          "Year": "1977-01-01T00:00:00"
         },
         {
          "Acceleration": 18.2,
          "Cylinders": 4,
          "Displacement": 97,
          "Horsepower": 75,
          "Miles_per_Gallon": 26,
          "Name": "toyota corolla liftback",
          "Origin": "Japan",
          "Weight_in_lbs": 2265,
          "Year": "1977-01-01T00:00:00"
         },
         {
          "Acceleration": 15.8,
          "Cylinders": 4,
          "Displacement": 140,
          "Horsepower": 89,
          "Miles_per_Gallon": 25.5,
          "Name": "ford mustang ii 2+2",
          "Origin": "USA",
          "Weight_in_lbs": 2755,
          "Year": "1977-01-01T00:00:00"
         },
         {
          "Acceleration": 17,
          "Cylinders": 4,
          "Displacement": 98,
          "Horsepower": 63,
          "Miles_per_Gallon": 30.5,
          "Name": "chevrolet chevette",
          "Origin": "USA",
          "Weight_in_lbs": 2051,
          "Year": "1977-01-01T00:00:00"
         },
         {
          "Acceleration": 15.9,
          "Cylinders": 4,
          "Displacement": 98,
          "Horsepower": 83,
          "Miles_per_Gallon": 33.5,
          "Name": "dodge colt m/m",
          "Origin": "USA",
          "Weight_in_lbs": 2075,
          "Year": "1977-01-01T00:00:00"
         },
         {
          "Acceleration": 16.4,
          "Cylinders": 4,
          "Displacement": 97,
          "Horsepower": 67,
          "Miles_per_Gallon": 30,
          "Name": "subaru dl",
          "Origin": "Japan",
          "Weight_in_lbs": 1985,
          "Year": "1977-01-01T00:00:00"
         },
         {
          "Acceleration": 14.1,
          "Cylinders": 4,
          "Displacement": 97,
          "Horsepower": 78,
          "Miles_per_Gallon": 30.5,
          "Name": "volkswagen dasher",
          "Origin": "Europe",
          "Weight_in_lbs": 2190,
          "Year": "1977-01-01T00:00:00"
         },
         {
          "Acceleration": 14.5,
          "Cylinders": 6,
          "Displacement": 146,
          "Horsepower": 97,
          "Miles_per_Gallon": 22,
          "Name": "datsun 810",
          "Origin": "Japan",
          "Weight_in_lbs": 2815,
          "Year": "1977-01-01T00:00:00"
         },
         {
          "Acceleration": 12.8,
          "Cylinders": 4,
          "Displacement": 121,
          "Horsepower": 110,
          "Miles_per_Gallon": 21.5,
          "Name": "bmw 320i",
          "Origin": "Europe",
          "Weight_in_lbs": 2600,
          "Year": "1977-01-01T00:00:00"
         },
         {
          "Acceleration": 13.5,
          "Cylinders": 3,
          "Displacement": 80,
          "Horsepower": 110,
          "Miles_per_Gallon": 21.5,
          "Name": "mazda rx-4",
          "Origin": "Japan",
          "Weight_in_lbs": 2720,
          "Year": "1977-01-01T00:00:00"
         },
         {
          "Acceleration": 21.5,
          "Cylinders": 4,
          "Displacement": 90,
          "Horsepower": 48,
          "Miles_per_Gallon": 43.1,
          "Name": "volkswagen rabbit custom diesel",
          "Origin": "Europe",
          "Weight_in_lbs": 1985,
          "Year": "1978-01-01T00:00:00"
         },
         {
          "Acceleration": 14.4,
          "Cylinders": 4,
          "Displacement": 98,
          "Horsepower": 66,
          "Miles_per_Gallon": 36.1,
          "Name": "ford fiesta",
          "Origin": "USA",
          "Weight_in_lbs": 1800,
          "Year": "1978-01-01T00:00:00"
         },
         {
          "Acceleration": 19.4,
          "Cylinders": 4,
          "Displacement": 78,
          "Horsepower": 52,
          "Miles_per_Gallon": 32.8,
          "Name": "mazda glc deluxe",
          "Origin": "Japan",
          "Weight_in_lbs": 1985,
          "Year": "1978-01-01T00:00:00"
         },
         {
          "Acceleration": 18.6,
          "Cylinders": 4,
          "Displacement": 85,
          "Horsepower": 70,
          "Miles_per_Gallon": 39.4,
          "Name": "datsun b210 gx",
          "Origin": "Japan",
          "Weight_in_lbs": 2070,
          "Year": "1978-01-01T00:00:00"
         },
         {
          "Acceleration": 16.4,
          "Cylinders": 4,
          "Displacement": 91,
          "Horsepower": 60,
          "Miles_per_Gallon": 36.1,
          "Name": "honda civic cvcc",
          "Origin": "Japan",
          "Weight_in_lbs": 1800,
          "Year": "1978-01-01T00:00:00"
         },
         {
          "Acceleration": 15.5,
          "Cylinders": 8,
          "Displacement": 260,
          "Horsepower": 110,
          "Miles_per_Gallon": 19.9,
          "Name": "oldsmobile cutlass salon brougham",
          "Origin": "USA",
          "Weight_in_lbs": 3365,
          "Year": "1978-01-01T00:00:00"
         },
         {
          "Acceleration": 13.2,
          "Cylinders": 8,
          "Displacement": 318,
          "Horsepower": 140,
          "Miles_per_Gallon": 19.4,
          "Name": "dodge diplomat",
          "Origin": "USA",
          "Weight_in_lbs": 3735,
          "Year": "1978-01-01T00:00:00"
         },
         {
          "Acceleration": 12.8,
          "Cylinders": 8,
          "Displacement": 302,
          "Horsepower": 139,
          "Miles_per_Gallon": 20.2,
          "Name": "mercury monarch ghia",
          "Origin": "USA",
          "Weight_in_lbs": 3570,
          "Year": "1978-01-01T00:00:00"
         },
         {
          "Acceleration": 19.2,
          "Cylinders": 6,
          "Displacement": 231,
          "Horsepower": 105,
          "Miles_per_Gallon": 19.2,
          "Name": "pontiac phoenix lj",
          "Origin": "USA",
          "Weight_in_lbs": 3535,
          "Year": "1978-01-01T00:00:00"
         },
         {
          "Acceleration": 18.2,
          "Cylinders": 6,
          "Displacement": 200,
          "Horsepower": 95,
          "Miles_per_Gallon": 20.5,
          "Name": "chevrolet malibu",
          "Origin": "USA",
          "Weight_in_lbs": 3155,
          "Year": "1978-01-01T00:00:00"
         },
         {
          "Acceleration": 15.8,
          "Cylinders": 6,
          "Displacement": 200,
          "Horsepower": 85,
          "Miles_per_Gallon": 20.2,
          "Name": "ford fairmont (auto)",
          "Origin": "USA",
          "Weight_in_lbs": 2965,
          "Year": "1978-01-01T00:00:00"
         },
         {
          "Acceleration": 15.4,
          "Cylinders": 4,
          "Displacement": 140,
          "Horsepower": 88,
          "Miles_per_Gallon": 25.1,
          "Name": "ford fairmont (man)",
          "Origin": "USA",
          "Weight_in_lbs": 2720,
          "Year": "1978-01-01T00:00:00"
         },
         {
          "Acceleration": 17.2,
          "Cylinders": 6,
          "Displacement": 225,
          "Horsepower": 100,
          "Miles_per_Gallon": 20.5,
          "Name": "plymouth volare",
          "Origin": "USA",
          "Weight_in_lbs": 3430,
          "Year": "1978-01-01T00:00:00"
         },
         {
          "Acceleration": 17.2,
          "Cylinders": 6,
          "Displacement": 232,
          "Horsepower": 90,
          "Miles_per_Gallon": 19.4,
          "Name": "amc concord",
          "Origin": "USA",
          "Weight_in_lbs": 3210,
          "Year": "1978-01-01T00:00:00"
         },
         {
          "Acceleration": 15.8,
          "Cylinders": 6,
          "Displacement": 231,
          "Horsepower": 105,
          "Miles_per_Gallon": 20.6,
          "Name": "buick century special",
          "Origin": "USA",
          "Weight_in_lbs": 3380,
          "Year": "1978-01-01T00:00:00"
         },
         {
          "Acceleration": 16.7,
          "Cylinders": 6,
          "Displacement": 200,
          "Horsepower": 85,
          "Miles_per_Gallon": 20.8,
          "Name": "mercury zephyr",
          "Origin": "USA",
          "Weight_in_lbs": 3070,
          "Year": "1978-01-01T00:00:00"
         },
         {
          "Acceleration": 18.7,
          "Cylinders": 6,
          "Displacement": 225,
          "Horsepower": 110,
          "Miles_per_Gallon": 18.6,
          "Name": "dodge aspen",
          "Origin": "USA",
          "Weight_in_lbs": 3620,
          "Year": "1978-01-01T00:00:00"
         },
         {
          "Acceleration": 15.1,
          "Cylinders": 6,
          "Displacement": 258,
          "Horsepower": 120,
          "Miles_per_Gallon": 18.1,
          "Name": "amc concord d/l",
          "Origin": "USA",
          "Weight_in_lbs": 3410,
          "Year": "1978-01-01T00:00:00"
         },
         {
          "Acceleration": 13.2,
          "Cylinders": 8,
          "Displacement": 305,
          "Horsepower": 145,
          "Miles_per_Gallon": 19.2,
          "Name": "chevrolet monte carlo landau",
          "Origin": "USA",
          "Weight_in_lbs": 3425,
          "Year": "1978-01-01T00:00:00"
         },
         {
          "Acceleration": 13.4,
          "Cylinders": 6,
          "Displacement": 231,
          "Horsepower": 165,
          "Miles_per_Gallon": 17.7,
          "Name": "buick regal sport coupe (turbo)",
          "Origin": "USA",
          "Weight_in_lbs": 3445,
          "Year": "1978-01-01T00:00:00"
         },
         {
          "Acceleration": 11.2,
          "Cylinders": 8,
          "Displacement": 302,
          "Horsepower": 139,
          "Miles_per_Gallon": 18.1,
          "Name": "ford futura",
          "Origin": "USA",
          "Weight_in_lbs": 3205,
          "Year": "1978-01-01T00:00:00"
         },
         {
          "Acceleration": 13.7,
          "Cylinders": 8,
          "Displacement": 318,
          "Horsepower": 140,
          "Miles_per_Gallon": 17.5,
          "Name": "dodge magnum xe",
          "Origin": "USA",
          "Weight_in_lbs": 4080,
          "Year": "1978-01-01T00:00:00"
         },
         {
          "Acceleration": 16.5,
          "Cylinders": 4,
          "Displacement": 98,
          "Horsepower": 68,
          "Miles_per_Gallon": 30,
          "Name": "chevrolet chevette",
          "Origin": "USA",
          "Weight_in_lbs": 2155,
          "Year": "1978-01-01T00:00:00"
         },
         {
          "Acceleration": 14.2,
          "Cylinders": 4,
          "Displacement": 134,
          "Horsepower": 95,
          "Miles_per_Gallon": 27.5,
          "Name": "toyota corona",
          "Origin": "Japan",
          "Weight_in_lbs": 2560,
          "Year": "1978-01-01T00:00:00"
         },
         {
          "Acceleration": 14.7,
          "Cylinders": 4,
          "Displacement": 119,
          "Horsepower": 97,
          "Miles_per_Gallon": 27.2,
          "Name": "datsun 510",
          "Origin": "Japan",
          "Weight_in_lbs": 2300,
          "Year": "1978-01-01T00:00:00"
         },
         {
          "Acceleration": 14.5,
          "Cylinders": 4,
          "Displacement": 105,
          "Horsepower": 75,
          "Miles_per_Gallon": 30.9,
          "Name": "dodge omni",
          "Origin": "USA",
          "Weight_in_lbs": 2230,
          "Year": "1978-01-01T00:00:00"
         },
         {
          "Acceleration": 14.8,
          "Cylinders": 4,
          "Displacement": 134,
          "Horsepower": 95,
          "Miles_per_Gallon": 21.1,
          "Name": "toyota celica gt liftback",
          "Origin": "Japan",
          "Weight_in_lbs": 2515,
          "Year": "1978-01-01T00:00:00"
         },
         {
          "Acceleration": 16.7,
          "Cylinders": 4,
          "Displacement": 156,
          "Horsepower": 105,
          "Miles_per_Gallon": 23.2,
          "Name": "plymouth sapporo",
          "Origin": "USA",
          "Weight_in_lbs": 2745,
          "Year": "1978-01-01T00:00:00"
         },
         {
          "Acceleration": 17.6,
          "Cylinders": 4,
          "Displacement": 151,
          "Horsepower": 85,
          "Miles_per_Gallon": 23.8,
          "Name": "oldsmobile starfire sx",
          "Origin": "USA",
          "Weight_in_lbs": 2855,
          "Year": "1978-01-01T00:00:00"
         },
         {
          "Acceleration": 14.9,
          "Cylinders": 4,
          "Displacement": 119,
          "Horsepower": 97,
          "Miles_per_Gallon": 23.9,
          "Name": "datsun 200-sx",
          "Origin": "Japan",
          "Weight_in_lbs": 2405,
          "Year": "1978-01-01T00:00:00"
         },
         {
          "Acceleration": 15.9,
          "Cylinders": 5,
          "Displacement": 131,
          "Horsepower": 103,
          "Miles_per_Gallon": 20.3,
          "Name": "audi 5000",
          "Origin": "Europe",
          "Weight_in_lbs": 2830,
          "Year": "1978-01-01T00:00:00"
         },
         {
          "Acceleration": 13.6,
          "Cylinders": 6,
          "Displacement": 163,
          "Horsepower": 125,
          "Miles_per_Gallon": 17,
          "Name": "volvo 264gl",
          "Origin": "Europe",
          "Weight_in_lbs": 3140,
          "Year": "1978-01-01T00:00:00"
         },
         {
          "Acceleration": 15.7,
          "Cylinders": 4,
          "Displacement": 121,
          "Horsepower": 115,
          "Miles_per_Gallon": 21.6,
          "Name": "saab 99gle",
          "Origin": "Europe",
          "Weight_in_lbs": 2795,
          "Year": "1978-01-01T00:00:00"
         },
         {
          "Acceleration": 15.8,
          "Cylinders": 6,
          "Displacement": 163,
          "Horsepower": 133,
          "Miles_per_Gallon": 16.2,
          "Name": "peugeot 604sl",
          "Origin": "Europe",
          "Weight_in_lbs": 3410,
          "Year": "1978-01-01T00:00:00"
         },
         {
          "Acceleration": 14.9,
          "Cylinders": 4,
          "Displacement": 89,
          "Horsepower": 71,
          "Miles_per_Gallon": 31.5,
          "Name": "volkswagen scirocco",
          "Origin": "Europe",
          "Weight_in_lbs": 1990,
          "Year": "1978-01-01T00:00:00"
         },
         {
          "Acceleration": 16.6,
          "Cylinders": 4,
          "Displacement": 98,
          "Horsepower": 68,
          "Miles_per_Gallon": 29.5,
          "Name": "honda Accelerationord lx",
          "Origin": "Japan",
          "Weight_in_lbs": 2135,
          "Year": "1978-01-01T00:00:00"
         },
         {
          "Acceleration": 15.4,
          "Cylinders": 6,
          "Displacement": 231,
          "Horsepower": 115,
          "Miles_per_Gallon": 21.5,
          "Name": "pontiac lemans v6",
          "Origin": "USA",
          "Weight_in_lbs": 3245,
          "Year": "1979-01-01T00:00:00"
         },
         {
          "Acceleration": 18.2,
          "Cylinders": 6,
          "Displacement": 200,
          "Horsepower": 85,
          "Miles_per_Gallon": 19.8,
          "Name": "mercury zephyr 6",
          "Origin": "USA",
          "Weight_in_lbs": 2990,
          "Year": "1979-01-01T00:00:00"
         },
         {
          "Acceleration": 17.3,
          "Cylinders": 4,
          "Displacement": 140,
          "Horsepower": 88,
          "Miles_per_Gallon": 22.3,
          "Name": "ford fairmont 4",
          "Origin": "USA",
          "Weight_in_lbs": 2890,
          "Year": "1979-01-01T00:00:00"
         },
         {
          "Acceleration": 18.2,
          "Cylinders": 6,
          "Displacement": 232,
          "Horsepower": 90,
          "Miles_per_Gallon": 20.2,
          "Name": "amc concord dl 6",
          "Origin": "USA",
          "Weight_in_lbs": 3265,
          "Year": "1979-01-01T00:00:00"
         },
         {
          "Acceleration": 16.6,
          "Cylinders": 6,
          "Displacement": 225,
          "Horsepower": 110,
          "Miles_per_Gallon": 20.6,
          "Name": "dodge aspen 6",
          "Origin": "USA",
          "Weight_in_lbs": 3360,
          "Year": "1979-01-01T00:00:00"
         },
         {
          "Acceleration": 15.4,
          "Cylinders": 8,
          "Displacement": 305,
          "Horsepower": 130,
          "Miles_per_Gallon": 17,
          "Name": "chevrolet caprice classic",
          "Origin": "USA",
          "Weight_in_lbs": 3840,
          "Year": "1979-01-01T00:00:00"
         },
         {
          "Acceleration": 13.4,
          "Cylinders": 8,
          "Displacement": 302,
          "Horsepower": 129,
          "Miles_per_Gallon": 17.6,
          "Name": "ford ltd landau",
          "Origin": "USA",
          "Weight_in_lbs": 3725,
          "Year": "1979-01-01T00:00:00"
         },
         {
          "Acceleration": 13.2,
          "Cylinders": 8,
          "Displacement": 351,
          "Horsepower": 138,
          "Miles_per_Gallon": 16.5,
          "Name": "mercury grand marquis",
          "Origin": "USA",
          "Weight_in_lbs": 3955,
          "Year": "1979-01-01T00:00:00"
         },
         {
          "Acceleration": 15.2,
          "Cylinders": 8,
          "Displacement": 318,
          "Horsepower": 135,
          "Miles_per_Gallon": 18.2,
          "Name": "dodge st. regis",
          "Origin": "USA",
          "Weight_in_lbs": 3830,
          "Year": "1979-01-01T00:00:00"
         },
         {
          "Acceleration": 14.9,
          "Cylinders": 8,
          "Displacement": 350,
          "Horsepower": 155,
          "Miles_per_Gallon": 16.9,
          "Name": "buick estate wagon (sw)",
          "Origin": "USA",
          "Weight_in_lbs": 4360,
          "Year": "1979-01-01T00:00:00"
         },
         {
          "Acceleration": 14.3,
          "Cylinders": 8,
          "Displacement": 351,
          "Horsepower": 142,
          "Miles_per_Gallon": 15.5,
          "Name": "ford country squire (sw)",
          "Origin": "USA",
          "Weight_in_lbs": 4054,
          "Year": "1979-01-01T00:00:00"
         },
         {
          "Acceleration": 15,
          "Cylinders": 8,
          "Displacement": 267,
          "Horsepower": 125,
          "Miles_per_Gallon": 19.2,
          "Name": "chevrolet malibu classic (sw)",
          "Origin": "USA",
          "Weight_in_lbs": 3605,
          "Year": "1979-01-01T00:00:00"
         },
         {
          "Acceleration": 13,
          "Cylinders": 8,
          "Displacement": 360,
          "Horsepower": 150,
          "Miles_per_Gallon": 18.5,
          "Name": "chrysler lebaron town @ country (sw)",
          "Origin": "USA",
          "Weight_in_lbs": 3940,
          "Year": "1979-01-01T00:00:00"
         },
         {
          "Acceleration": 14,
          "Cylinders": 4,
          "Displacement": 89,
          "Horsepower": 71,
          "Miles_per_Gallon": 31.9,
          "Name": "vw rabbit custom",
          "Origin": "Europe",
          "Weight_in_lbs": 1925,
          "Year": "1979-01-01T00:00:00"
         },
         {
          "Acceleration": 15.2,
          "Cylinders": 4,
          "Displacement": 86,
          "Horsepower": 65,
          "Miles_per_Gallon": 34.1,
          "Name": "maxda glc deluxe",
          "Origin": "Japan",
          "Weight_in_lbs": 1975,
          "Year": "1979-01-01T00:00:00"
         },
         {
          "Acceleration": 14.4,
          "Cylinders": 4,
          "Displacement": 98,
          "Horsepower": 80,
          "Miles_per_Gallon": 35.7,
          "Name": "dodge colt hatchback custom",
          "Origin": "USA",
          "Weight_in_lbs": 1915,
          "Year": "1979-01-01T00:00:00"
         },
         {
          "Acceleration": 15,
          "Cylinders": 4,
          "Displacement": 121,
          "Horsepower": 80,
          "Miles_per_Gallon": 27.4,
          "Name": "amc spirit dl",
          "Origin": "USA",
          "Weight_in_lbs": 2670,
          "Year": "1979-01-01T00:00:00"
         },
         {
          "Acceleration": 20.1,
          "Cylinders": 5,
          "Displacement": 183,
          "Horsepower": 77,
          "Miles_per_Gallon": 25.4,
          "Name": "mercedes benz 300d",
          "Origin": "Europe",
          "Weight_in_lbs": 3530,
          "Year": "1979-01-01T00:00:00"
         },
         {
          "Acceleration": 17.4,
          "Cylinders": 8,
          "Displacement": 350,
          "Horsepower": 125,
          "Miles_per_Gallon": 23,
          "Name": "cadillac eldorado",
          "Origin": "USA",
          "Weight_in_lbs": 3900,
          "Year": "1979-01-01T00:00:00"
         },
         {
          "Acceleration": 24.8,
          "Cylinders": 4,
          "Displacement": 141,
          "Horsepower": 71,
          "Miles_per_Gallon": 27.2,
          "Name": "peugeot 504",
          "Origin": "Europe",
          "Weight_in_lbs": 3190,
          "Year": "1979-01-01T00:00:00"
         },
         {
          "Acceleration": 22.2,
          "Cylinders": 8,
          "Displacement": 260,
          "Horsepower": 90,
          "Miles_per_Gallon": 23.9,
          "Name": "oldsmobile cutlass salon brougham",
          "Origin": "USA",
          "Weight_in_lbs": 3420,
          "Year": "1979-01-01T00:00:00"
         },
         {
          "Acceleration": 13.2,
          "Cylinders": 4,
          "Displacement": 105,
          "Horsepower": 70,
          "Miles_per_Gallon": 34.2,
          "Name": "plymouth horizon",
          "Origin": "USA",
          "Weight_in_lbs": 2200,
          "Year": "1979-01-01T00:00:00"
         },
         {
          "Acceleration": 14.9,
          "Cylinders": 4,
          "Displacement": 105,
          "Horsepower": 70,
          "Miles_per_Gallon": 34.5,
          "Name": "plymouth horizon tc3",
          "Origin": "USA",
          "Weight_in_lbs": 2150,
          "Year": "1979-01-01T00:00:00"
         },
         {
          "Acceleration": 19.2,
          "Cylinders": 4,
          "Displacement": 85,
          "Horsepower": 65,
          "Miles_per_Gallon": 31.8,
          "Name": "datsun 210",
          "Origin": "Japan",
          "Weight_in_lbs": 2020,
          "Year": "1979-01-01T00:00:00"
         },
         {
          "Acceleration": 14.7,
          "Cylinders": 4,
          "Displacement": 91,
          "Horsepower": 69,
          "Miles_per_Gallon": 37.3,
          "Name": "fiat strada custom",
          "Origin": "Europe",
          "Weight_in_lbs": 2130,
          "Year": "1979-01-01T00:00:00"
         },
         {
          "Acceleration": 16,
          "Cylinders": 4,
          "Displacement": 151,
          "Horsepower": 90,
          "Miles_per_Gallon": 28.4,
          "Name": "buick skylark limited",
          "Origin": "USA",
          "Weight_in_lbs": 2670,
          "Year": "1979-01-01T00:00:00"
         },
         {
          "Acceleration": 11.3,
          "Cylinders": 6,
          "Displacement": 173,
          "Horsepower": 115,
          "Miles_per_Gallon": 28.8,
          "Name": "chevrolet citation",
          "Origin": "USA",
          "Weight_in_lbs": 2595,
          "Year": "1979-01-01T00:00:00"
         },
         {
          "Acceleration": 12.9,
          "Cylinders": 6,
          "Displacement": 173,
          "Horsepower": 115,
          "Miles_per_Gallon": 26.8,
          "Name": "oldsmobile omega brougham",
          "Origin": "USA",
          "Weight_in_lbs": 2700,
          "Year": "1979-01-01T00:00:00"
         },
         {
          "Acceleration": 13.2,
          "Cylinders": 4,
          "Displacement": 151,
          "Horsepower": 90,
          "Miles_per_Gallon": 33.5,
          "Name": "pontiac phoenix",
          "Origin": "USA",
          "Weight_in_lbs": 2556,
          "Year": "1979-01-01T00:00:00"
         },
         {
          "Acceleration": 14.7,
          "Cylinders": 4,
          "Displacement": 98,
          "Horsepower": 76,
          "Miles_per_Gallon": 41.5,
          "Name": "vw rabbit",
          "Origin": "Europe",
          "Weight_in_lbs": 2144,
          "Year": "1980-01-01T00:00:00"
         },
         {
          "Acceleration": 18.8,
          "Cylinders": 4,
          "Displacement": 89,
          "Horsepower": 60,
          "Miles_per_Gallon": 38.1,
          "Name": "toyota corolla tercel",
          "Origin": "Japan",
          "Weight_in_lbs": 1968,
          "Year": "1980-01-01T00:00:00"
         },
         {
          "Acceleration": 15.5,
          "Cylinders": 4,
          "Displacement": 98,
          "Horsepower": 70,
          "Miles_per_Gallon": 32.1,
          "Name": "chevrolet chevette",
          "Origin": "USA",
          "Weight_in_lbs": 2120,
          "Year": "1980-01-01T00:00:00"
         },
         {
          "Acceleration": 16.4,
          "Cylinders": 4,
          "Displacement": 86,
          "Horsepower": 65,
          "Miles_per_Gallon": 37.2,
          "Name": "datsun 310",
          "Origin": "Japan",
          "Weight_in_lbs": 2019,
          "Year": "1980-01-01T00:00:00"
         },
         {
          "Acceleration": 16.5,
          "Cylinders": 4,
          "Displacement": 151,
          "Horsepower": 90,
          "Miles_per_Gallon": 28,
          "Name": "chevrolet citation",
          "Origin": "USA",
          "Weight_in_lbs": 2678,
          "Year": "1980-01-01T00:00:00"
         },
         {
          "Acceleration": 18.1,
          "Cylinders": 4,
          "Displacement": 140,
          "Horsepower": 88,
          "Miles_per_Gallon": 26.4,
          "Name": "ford fairmont",
          "Origin": "USA",
          "Weight_in_lbs": 2870,
          "Year": "1980-01-01T00:00:00"
         },
         {
          "Acceleration": 20.1,
          "Cylinders": 4,
          "Displacement": 151,
          "Horsepower": 90,
          "Miles_per_Gallon": 24.3,
          "Name": "amc concord",
          "Origin": "USA",
          "Weight_in_lbs": 3003,
          "Year": "1980-01-01T00:00:00"
         },
         {
          "Acceleration": 18.7,
          "Cylinders": 6,
          "Displacement": 225,
          "Horsepower": 90,
          "Miles_per_Gallon": 19.1,
          "Name": "dodge aspen",
          "Origin": "USA",
          "Weight_in_lbs": 3381,
          "Year": "1980-01-01T00:00:00"
         },
         {
          "Acceleration": 15.8,
          "Cylinders": 4,
          "Displacement": 97,
          "Horsepower": 78,
          "Miles_per_Gallon": 34.3,
          "Name": "audi 4000",
          "Origin": "Europe",
          "Weight_in_lbs": 2188,
          "Year": "1980-01-01T00:00:00"
         },
         {
          "Acceleration": 15.5,
          "Cylinders": 4,
          "Displacement": 134,
          "Horsepower": 90,
          "Miles_per_Gallon": 29.8,
          "Name": "toyota corona liftback",
          "Origin": "Japan",
          "Weight_in_lbs": 2711,
          "Year": "1980-01-01T00:00:00"
         },
         {
          "Acceleration": 17.5,
          "Cylinders": 4,
          "Displacement": 120,
          "Horsepower": 75,
          "Miles_per_Gallon": 31.3,
          "Name": "mazda 626",
          "Origin": "Japan",
          "Weight_in_lbs": 2542,
          "Year": "1980-01-01T00:00:00"
         },
         {
          "Acceleration": 15,
          "Cylinders": 4,
          "Displacement": 119,
          "Horsepower": 92,
          "Miles_per_Gallon": 37,
          "Name": "datsun 510 hatchback",
          "Origin": "Japan",
          "Weight_in_lbs": 2434,
          "Year": "1980-01-01T00:00:00"
         },
         {
          "Acceleration": 15.2,
          "Cylinders": 4,
          "Displacement": 108,
          "Horsepower": 75,
          "Miles_per_Gallon": 32.2,
          "Name": "toyota corolla",
          "Origin": "Japan",
          "Weight_in_lbs": 2265,
          "Year": "1980-01-01T00:00:00"
         },
         {
          "Acceleration": 17.9,
          "Cylinders": 4,
          "Displacement": 86,
          "Horsepower": 65,
          "Miles_per_Gallon": 46.6,
          "Name": "mazda glc",
          "Origin": "Japan",
          "Weight_in_lbs": 2110,
          "Year": "1980-01-01T00:00:00"
         },
         {
          "Acceleration": 14.4,
          "Cylinders": 4,
          "Displacement": 156,
          "Horsepower": 105,
          "Miles_per_Gallon": 27.9,
          "Name": "dodge colt",
          "Origin": "USA",
          "Weight_in_lbs": 2800,
          "Year": "1980-01-01T00:00:00"
         },
         {
          "Acceleration": 19.2,
          "Cylinders": 4,
          "Displacement": 85,
          "Horsepower": 65,
          "Miles_per_Gallon": 40.8,
          "Name": "datsun 210",
          "Origin": "Japan",
          "Weight_in_lbs": 2110,
          "Year": "1980-01-01T00:00:00"
         },
         {
          "Acceleration": 21.7,
          "Cylinders": 4,
          "Displacement": 90,
          "Horsepower": 48,
          "Miles_per_Gallon": 44.3,
          "Name": "vw rabbit c (diesel)",
          "Origin": "Europe",
          "Weight_in_lbs": 2085,
          "Year": "1980-01-01T00:00:00"
         },
         {
          "Acceleration": 23.7,
          "Cylinders": 4,
          "Displacement": 90,
          "Horsepower": 48,
          "Miles_per_Gallon": 43.4,
          "Name": "vw dasher (diesel)",
          "Origin": "Europe",
          "Weight_in_lbs": 2335,
          "Year": "1980-01-01T00:00:00"
         },
         {
          "Acceleration": 19.9,
          "Cylinders": 5,
          "Displacement": 121,
          "Horsepower": 67,
          "Miles_per_Gallon": 36.4,
          "Name": "audi 5000s (diesel)",
          "Origin": "Europe",
          "Weight_in_lbs": 2950,
          "Year": "1980-01-01T00:00:00"
         },
         {
          "Acceleration": 21.8,
          "Cylinders": 4,
          "Displacement": 146,
          "Horsepower": 67,
          "Miles_per_Gallon": 30,
          "Name": "mercedes-benz 240d",
          "Origin": "Europe",
          "Weight_in_lbs": 3250,
          "Year": "1980-01-01T00:00:00"
         },
         {
          "Acceleration": 13.8,
          "Cylinders": 4,
          "Displacement": 91,
          "Horsepower": 67,
          "Miles_per_Gallon": 44.6,
          "Name": "honda civic 1500 gl",
          "Origin": "Japan",
          "Weight_in_lbs": 1850,
          "Year": "1980-01-01T00:00:00"
         },
         {
          "Acceleration": 17.3,
          "Cylinders": 4,
          "Displacement": 85,
          "Horsepower": null,
          "Miles_per_Gallon": 40.9,
          "Name": "renault lecar deluxe",
          "Origin": "Europe",
          "Weight_in_lbs": 1835,
          "Year": "1980-01-01T00:00:00"
         },
         {
          "Acceleration": 18,
          "Cylinders": 4,
          "Displacement": 97,
          "Horsepower": 67,
          "Miles_per_Gallon": 33.8,
          "Name": "subaru dl",
          "Origin": "Japan",
          "Weight_in_lbs": 2145,
          "Year": "1980-01-01T00:00:00"
         },
         {
          "Acceleration": 15.3,
          "Cylinders": 4,
          "Displacement": 89,
          "Horsepower": 62,
          "Miles_per_Gallon": 29.8,
          "Name": "vokswagen rabbit",
          "Origin": "Europe",
          "Weight_in_lbs": 1845,
          "Year": "1980-01-01T00:00:00"
         },
         {
          "Acceleration": 11.4,
          "Cylinders": 6,
          "Displacement": 168,
          "Horsepower": 132,
          "Miles_per_Gallon": 32.7,
          "Name": "datsun 280-zx",
          "Origin": "Japan",
          "Weight_in_lbs": 2910,
          "Year": "1980-01-01T00:00:00"
         },
         {
          "Acceleration": 12.5,
          "Cylinders": 3,
          "Displacement": 70,
          "Horsepower": 100,
          "Miles_per_Gallon": 23.7,
          "Name": "mazda rx-7 gs",
          "Origin": "Japan",
          "Weight_in_lbs": 2420,
          "Year": "1980-01-01T00:00:00"
         },
         {
          "Acceleration": 15.1,
          "Cylinders": 4,
          "Displacement": 122,
          "Horsepower": 88,
          "Miles_per_Gallon": 35,
          "Name": "triumph tr7 coupe",
          "Origin": "Europe",
          "Weight_in_lbs": 2500,
          "Year": "1980-01-01T00:00:00"
         },
         {
          "Acceleration": 14.3,
          "Cylinders": 4,
          "Displacement": 140,
          "Horsepower": null,
          "Miles_per_Gallon": 23.6,
          "Name": "ford mustang cobra",
          "Origin": "USA",
          "Weight_in_lbs": 2905,
          "Year": "1980-01-01T00:00:00"
         },
         {
          "Acceleration": 17,
          "Cylinders": 4,
          "Displacement": 107,
          "Horsepower": 72,
          "Miles_per_Gallon": 32.4,
          "Name": "honda Accelerationord",
          "Origin": "Japan",
          "Weight_in_lbs": 2290,
          "Year": "1980-01-01T00:00:00"
         }
        ]
       },
       "encoding": {
        "x": {
         "field": "Year",
         "timeUnit": "year",
         "type": "ordinal"
        },
        "y": {
         "aggregate": "mean",
         "axis": {
          "tickCount": 10
         },
         "field": "Miles_per_Gallon",
         "type": "quantitative"
        }
       },
       "mark": "bar",
       "title": {
        "subtitle": [
         "Average fuel efficiency by miles per",
         "gallon of different makes and models",
         "of cars since 1970.",
         " "
        ],
        "text": "Cars Lorem Ipsum"
       }
      },
      "image/png": "[encoded data removed]",
      "text/plain": [
       "<VegaLite 4 object>\n",
       "\n",
       "If you see this message, it means the renderer has not been properly enabled\n",
       "for the frontend that you are using. For more information, see\n",
       "https://altair-viz.github.io/user_guide/troubleshooting.html\n"
      ]
     },
     "execution_count": 7,
     "metadata": {},
     "output_type": "execute_result"
    }
   ],
   "source": [
    "hbar = alt.Chart(cars).mark_bar().encode(\n",
    "    x=alt.X('year(Year):O'), # wrap `Year` column with Altair's year() fn, then type as :O[rdinal] for proper display\n",
    "    y=alt.Y('mean(Miles_per_Gallon)', axis=alt.Axis(tickCount=10)),\n",
    ").properties(\n",
    "    title={\n",
    "        'text': 'Cars Lorem Ipsum',\n",
    "        'subtitle' : ['Average fuel efficiency by miles per', 'gallon of different makes and models', 'of cars since 1970.', ' ']\n",
    "\n",
    "        # You could split up the subtitle into separate strings to fit \n",
    "        # each line, as shown above. However, it's better for Reveal's \n",
    "        # workflow to make the subtitle longer than what will fit in \n",
    "        # the chart because you can edit it in Illustrator, like so:\n",
    "        \n",
    "        # 'subtitle' : ['Average fuel efficiency by miles per gallon of different makes and models of cars since 1970.', ' ']\n",
    "    }\n",
    ")\n",
    "hbar"
   ]
  },
  {
   "cell_type": "code",
   "execution_count": 8,
   "id": "41ef3273-cbe8-4022-853d-53cf736e3371",
   "metadata": {},
   "outputs": [],
   "source": [
    "# uncomment to save image as svg\n",
    "# save(hbar, 'hbar.svg')"
   ]
  },
  {
   "cell_type": "markdown",
   "id": "722aabfa-489b-445c-9965-3d7a3517a0c0",
   "metadata": {
    "tags": []
   },
   "source": [
    "## Vertical bar chart"
   ]
  },
  {
   "cell_type": "code",
   "execution_count": 9,
   "id": "411b1ddc-db97-4666-b2fa-0633512f962c",
   "metadata": {},
   "outputs": [
    {
     "data": {
      "application/vnd.vegalite.v4+json": {
       "$schema": "https://vega.github.io/schema/vega-lite/v4.17.0.json",
       "config": {
        "arc": {
         "fill": "#0077bb"
        },
        "area": {
         "fill": "#0077bb"
        },
        "axis": {
         "gridColor": "#dddddd",
         "labelColor": "#666666",
         "labelFlush": false,
         "labelFont": "Tenon",
         "labelFontSize": 13,
         "labelFontWeight": 400,
         "labelPadding": 5,
         "tickSize": 6,
         "title": null,
         "titleColor": "#666666",
         "titleFontWeight": 300
        },
        "axisX": {
         "domainColor": "#666666",
         "tickColor": "#666666"
        },
        "axisY": {
         "domainColor": "#f9f9f9",
         "tickColor": "#f9f9f9"
        },
        "background": "#f9f9f9",
        "bar": {
         "fill": "#0077bb"
        },
        "legend": {
         "columnPadding": 20,
         "direction": "horizontal",
         "labelAlign": "left",
         "labelBaseline": "middle",
         "labelColor": "#222222",
         "labelFont": "Tenon",
         "labelFontSize": 16,
         "labelFontWeight": 300,
         "offset": 40,
         "orient": "top",
         "rowPadding": 10,
         "symbolType": "square",
         "title": null,
         "titleFont": "Tenon",
         "titleFontSize": 16,
         "titleFontWeight": 400
        },
        "line": {
         "stroke": "#0077bb",
         "strokeWidth": 3
        },
        "padding": {
         "bottom": 80,
         "left": 20,
         "right": 20,
         "top": 20
        },
        "path": {
         "stroke": "#0077bb"
        },
        "point": {
         "stroke": "#0077bb"
        },
        "rect": {
         "fill": "#0077bb"
        },
        "shape": {
         "stroke": "#0077bb"
        },
        "symbol": {
         "fill": "#0077bb",
         "size": 30
        },
        "title": {
         "align": "left",
         "anchor": "start",
         "color": "#222222",
         "font": "Tenon",
         "fontSize": 28,
         "fontWeight": 500,
         "subtitleColor": "#222222",
         "subtitleFont": "Tenon",
         "subtitleFontSize": 20,
         "subtitleFontWeight": 300,
         "subtitleLineHeight": 24,
         "subtitlePadding": 10
        },
        "view": {
         "height": 500,
         "strokeOpacity": 0,
         "width": 320
        }
       },
       "data": {
        "name": "data-093ece8c35bb2d41094cfb6138ec810b"
       },
       "datasets": {
        "data-093ece8c35bb2d41094cfb6138ec810b": [
         {
          "site": "University Farm",
          "variety": "Manchuria",
          "year": 1931,
          "yield": 27
         },
         {
          "site": "Waseca",
          "variety": "Manchuria",
          "year": 1931,
          "yield": 48.86667
         },
         {
          "site": "Morris",
          "variety": "Manchuria",
          "year": 1931,
          "yield": 27.43334
         },
         {
          "site": "Crookston",
          "variety": "Manchuria",
          "year": 1931,
          "yield": 39.93333
         },
         {
          "site": "Grand Rapids",
          "variety": "Manchuria",
          "year": 1931,
          "yield": 32.96667
         },
         {
          "site": "Duluth",
          "variety": "Manchuria",
          "year": 1931,
          "yield": 28.96667
         },
         {
          "site": "University Farm",
          "variety": "Glabron",
          "year": 1931,
          "yield": 43.06666
         },
         {
          "site": "Waseca",
          "variety": "Glabron",
          "year": 1931,
          "yield": 55.2
         },
         {
          "site": "Morris",
          "variety": "Glabron",
          "year": 1931,
          "yield": 28.76667
         },
         {
          "site": "Crookston",
          "variety": "Glabron",
          "year": 1931,
          "yield": 38.13333
         },
         {
          "site": "Grand Rapids",
          "variety": "Glabron",
          "year": 1931,
          "yield": 29.13333
         },
         {
          "site": "Duluth",
          "variety": "Glabron",
          "year": 1931,
          "yield": 29.66667
         },
         {
          "site": "University Farm",
          "variety": "Svansota",
          "year": 1931,
          "yield": 35.13333
         },
         {
          "site": "Waseca",
          "variety": "Svansota",
          "year": 1931,
          "yield": 47.33333
         },
         {
          "site": "Morris",
          "variety": "Svansota",
          "year": 1931,
          "yield": 25.76667
         },
         {
          "site": "Crookston",
          "variety": "Svansota",
          "year": 1931,
          "yield": 40.46667
         },
         {
          "site": "Grand Rapids",
          "variety": "Svansota",
          "year": 1931,
          "yield": 29.66667
         },
         {
          "site": "Duluth",
          "variety": "Svansota",
          "year": 1931,
          "yield": 25.7
         },
         {
          "site": "University Farm",
          "variety": "Velvet",
          "year": 1931,
          "yield": 39.9
         },
         {
          "site": "Waseca",
          "variety": "Velvet",
          "year": 1931,
          "yield": 50.23333
         },
         {
          "site": "Morris",
          "variety": "Velvet",
          "year": 1931,
          "yield": 26.13333
         },
         {
          "site": "Crookston",
          "variety": "Velvet",
          "year": 1931,
          "yield": 41.33333
         },
         {
          "site": "Grand Rapids",
          "variety": "Velvet",
          "year": 1931,
          "yield": 23.03333
         },
         {
          "site": "Duluth",
          "variety": "Velvet",
          "year": 1931,
          "yield": 26.3
         },
         {
          "site": "University Farm",
          "variety": "Trebi",
          "year": 1931,
          "yield": 36.56666
         },
         {
          "site": "Waseca",
          "variety": "Trebi",
          "year": 1931,
          "yield": 63.8333
         },
         {
          "site": "Morris",
          "variety": "Trebi",
          "year": 1931,
          "yield": 43.76667
         },
         {
          "site": "Crookston",
          "variety": "Trebi",
          "year": 1931,
          "yield": 46.93333
         },
         {
          "site": "Grand Rapids",
          "variety": "Trebi",
          "year": 1931,
          "yield": 29.76667
         },
         {
          "site": "Duluth",
          "variety": "Trebi",
          "year": 1931,
          "yield": 33.93333
         },
         {
          "site": "University Farm",
          "variety": "No. 457",
          "year": 1931,
          "yield": 43.26667
         },
         {
          "site": "Waseca",
          "variety": "No. 457",
          "year": 1931,
          "yield": 58.1
         },
         {
          "site": "Morris",
          "variety": "No. 457",
          "year": 1931,
          "yield": 28.7
         },
         {
          "site": "Crookston",
          "variety": "No. 457",
          "year": 1931,
          "yield": 45.66667
         },
         {
          "site": "Grand Rapids",
          "variety": "No. 457",
          "year": 1931,
          "yield": 32.16667
         },
         {
          "site": "Duluth",
          "variety": "No. 457",
          "year": 1931,
          "yield": 33.6
         },
         {
          "site": "University Farm",
          "variety": "No. 462",
          "year": 1931,
          "yield": 36.6
         },
         {
          "site": "Waseca",
          "variety": "No. 462",
          "year": 1931,
          "yield": 65.7667
         },
         {
          "site": "Morris",
          "variety": "No. 462",
          "year": 1931,
          "yield": 30.36667
         },
         {
          "site": "Crookston",
          "variety": "No. 462",
          "year": 1931,
          "yield": 48.56666
         },
         {
          "site": "Grand Rapids",
          "variety": "No. 462",
          "year": 1931,
          "yield": 24.93334
         },
         {
          "site": "Duluth",
          "variety": "No. 462",
          "year": 1931,
          "yield": 28.1
         },
         {
          "site": "University Farm",
          "variety": "Peatland",
          "year": 1931,
          "yield": 32.76667
         },
         {
          "site": "Waseca",
          "variety": "Peatland",
          "year": 1931,
          "yield": 48.56666
         },
         {
          "site": "Morris",
          "variety": "Peatland",
          "year": 1931,
          "yield": 29.86667
         },
         {
          "site": "Crookston",
          "variety": "Peatland",
          "year": 1931,
          "yield": 41.6
         },
         {
          "site": "Grand Rapids",
          "variety": "Peatland",
          "year": 1931,
          "yield": 34.7
         },
         {
          "site": "Duluth",
          "variety": "Peatland",
          "year": 1931,
          "yield": 32
         },
         {
          "site": "University Farm",
          "variety": "No. 475",
          "year": 1931,
          "yield": 24.66667
         },
         {
          "site": "Waseca",
          "variety": "No. 475",
          "year": 1931,
          "yield": 46.76667
         },
         {
          "site": "Morris",
          "variety": "No. 475",
          "year": 1931,
          "yield": 22.6
         },
         {
          "site": "Crookston",
          "variety": "No. 475",
          "year": 1931,
          "yield": 44.1
         },
         {
          "site": "Grand Rapids",
          "variety": "No. 475",
          "year": 1931,
          "yield": 19.7
         },
         {
          "site": "Duluth",
          "variety": "No. 475",
          "year": 1931,
          "yield": 33.06666
         },
         {
          "site": "University Farm",
          "variety": "Wisconsin No. 38",
          "year": 1931,
          "yield": 39.3
         },
         {
          "site": "Waseca",
          "variety": "Wisconsin No. 38",
          "year": 1931,
          "yield": 58.8
         },
         {
          "site": "Morris",
          "variety": "Wisconsin No. 38",
          "year": 1931,
          "yield": 29.46667
         },
         {
          "site": "Crookston",
          "variety": "Wisconsin No. 38",
          "year": 1931,
          "yield": 49.86667
         },
         {
          "site": "Grand Rapids",
          "variety": "Wisconsin No. 38",
          "year": 1931,
          "yield": 34.46667
         },
         {
          "site": "Duluth",
          "variety": "Wisconsin No. 38",
          "year": 1931,
          "yield": 31.6
         },
         {
          "site": "University Farm",
          "variety": "Manchuria",
          "year": 1932,
          "yield": 26.9
         },
         {
          "site": "Waseca",
          "variety": "Manchuria",
          "year": 1932,
          "yield": 33.46667
         },
         {
          "site": "Morris",
          "variety": "Manchuria",
          "year": 1932,
          "yield": 34.36666
         },
         {
          "site": "Crookston",
          "variety": "Manchuria",
          "year": 1932,
          "yield": 32.96667
         },
         {
          "site": "Grand Rapids",
          "variety": "Manchuria",
          "year": 1932,
          "yield": 22.13333
         },
         {
          "site": "Duluth",
          "variety": "Manchuria",
          "year": 1932,
          "yield": 22.56667
         },
         {
          "site": "University Farm",
          "variety": "Glabron",
          "year": 1932,
          "yield": 36.8
         },
         {
          "site": "Waseca",
          "variety": "Glabron",
          "year": 1932,
          "yield": 37.73333
         },
         {
          "site": "Morris",
          "variety": "Glabron",
          "year": 1932,
          "yield": 35.13333
         },
         {
          "site": "Crookston",
          "variety": "Glabron",
          "year": 1932,
          "yield": 26.16667
         },
         {
          "site": "Grand Rapids",
          "variety": "Glabron",
          "year": 1932,
          "yield": 14.43333
         },
         {
          "site": "Duluth",
          "variety": "Glabron",
          "year": 1932,
          "yield": 25.86667
         },
         {
          "site": "University Farm",
          "variety": "Svansota",
          "year": 1932,
          "yield": 27.43334
         },
         {
          "site": "Waseca",
          "variety": "Svansota",
          "year": 1932,
          "yield": 38.5
         },
         {
          "site": "Morris",
          "variety": "Svansota",
          "year": 1932,
          "yield": 35.03333
         },
         {
          "site": "Crookston",
          "variety": "Svansota",
          "year": 1932,
          "yield": 20.63333
         },
         {
          "site": "Grand Rapids",
          "variety": "Svansota",
          "year": 1932,
          "yield": 16.63333
         },
         {
          "site": "Duluth",
          "variety": "Svansota",
          "year": 1932,
          "yield": 22.23333
         },
         {
          "site": "University Farm",
          "variety": "Velvet",
          "year": 1932,
          "yield": 26.8
         },
         {
          "site": "Waseca",
          "variety": "Velvet",
          "year": 1932,
          "yield": 37.4
         },
         {
          "site": "Morris",
          "variety": "Velvet",
          "year": 1932,
          "yield": 38.83333
         },
         {
          "site": "Crookston",
          "variety": "Velvet",
          "year": 1932,
          "yield": 32.06666
         },
         {
          "site": "Grand Rapids",
          "variety": "Velvet",
          "year": 1932,
          "yield": 32.23333
         },
         {
          "site": "Duluth",
          "variety": "Velvet",
          "year": 1932,
          "yield": 22.46667
         },
         {
          "site": "University Farm",
          "variety": "Trebi",
          "year": 1932,
          "yield": 29.06667
         },
         {
          "site": "Waseca",
          "variety": "Trebi",
          "year": 1932,
          "yield": 49.2333
         },
         {
          "site": "Morris",
          "variety": "Trebi",
          "year": 1932,
          "yield": 46.63333
         },
         {
          "site": "Crookston",
          "variety": "Trebi",
          "year": 1932,
          "yield": 41.83333
         },
         {
          "site": "Grand Rapids",
          "variety": "Trebi",
          "year": 1932,
          "yield": 20.63333
         },
         {
          "site": "Duluth",
          "variety": "Trebi",
          "year": 1932,
          "yield": 30.6
         },
         {
          "site": "University Farm",
          "variety": "No. 457",
          "year": 1932,
          "yield": 26.43334
         },
         {
          "site": "Waseca",
          "variety": "No. 457",
          "year": 1932,
          "yield": 42.2
         },
         {
          "site": "Morris",
          "variety": "No. 457",
          "year": 1932,
          "yield": 43.53334
         },
         {
          "site": "Crookston",
          "variety": "No. 457",
          "year": 1932,
          "yield": 34.33333
         },
         {
          "site": "Grand Rapids",
          "variety": "No. 457",
          "year": 1932,
          "yield": 19.46667
         },
         {
          "site": "Duluth",
          "variety": "No. 457",
          "year": 1932,
          "yield": 22.7
         },
         {
          "site": "University Farm",
          "variety": "No. 462",
          "year": 1932,
          "yield": 25.56667
         },
         {
          "site": "Waseca",
          "variety": "No. 462",
          "year": 1932,
          "yield": 44.7
         },
         {
          "site": "Morris",
          "variety": "No. 462",
          "year": 1932,
          "yield": 47
         },
         {
          "site": "Crookston",
          "variety": "No. 462",
          "year": 1932,
          "yield": 30.53333
         },
         {
          "site": "Grand Rapids",
          "variety": "No. 462",
          "year": 1932,
          "yield": 19.9
         },
         {
          "site": "Duluth",
          "variety": "No. 462",
          "year": 1932,
          "yield": 22.5
         },
         {
          "site": "University Farm",
          "variety": "Peatland",
          "year": 1932,
          "yield": 28.06667
         },
         {
          "site": "Waseca",
          "variety": "Peatland",
          "year": 1932,
          "yield": 36.03333
         },
         {
          "site": "Morris",
          "variety": "Peatland",
          "year": 1932,
          "yield": 43.2
         },
         {
          "site": "Crookston",
          "variety": "Peatland",
          "year": 1932,
          "yield": 25.23333
         },
         {
          "site": "Grand Rapids",
          "variety": "Peatland",
          "year": 1932,
          "yield": 26.76667
         },
         {
          "site": "Duluth",
          "variety": "Peatland",
          "year": 1932,
          "yield": 31.36667
         },
         {
          "site": "University Farm",
          "variety": "No. 475",
          "year": 1932,
          "yield": 30
         },
         {
          "site": "Waseca",
          "variety": "No. 475",
          "year": 1932,
          "yield": 41.26667
         },
         {
          "site": "Morris",
          "variety": "No. 475",
          "year": 1932,
          "yield": 44.23333
         },
         {
          "site": "Crookston",
          "variety": "No. 475",
          "year": 1932,
          "yield": 32.13333
         },
         {
          "site": "Grand Rapids",
          "variety": "No. 475",
          "year": 1932,
          "yield": 15.23333
         },
         {
          "site": "Duluth",
          "variety": "No. 475",
          "year": 1932,
          "yield": 27.36667
         },
         {
          "site": "University Farm",
          "variety": "Wisconsin No. 38",
          "year": 1932,
          "yield": 38
         },
         {
          "site": "Waseca",
          "variety": "Wisconsin No. 38",
          "year": 1932,
          "yield": 58.16667
         },
         {
          "site": "Morris",
          "variety": "Wisconsin No. 38",
          "year": 1932,
          "yield": 47.16667
         },
         {
          "site": "Crookston",
          "variety": "Wisconsin No. 38",
          "year": 1932,
          "yield": 35.9
         },
         {
          "site": "Grand Rapids",
          "variety": "Wisconsin No. 38",
          "year": 1932,
          "yield": 20.66667
         },
         {
          "site": "Duluth",
          "variety": "Wisconsin No. 38",
          "year": 1932,
          "yield": 29.33333
         }
        ]
       },
       "encoding": {
        "x": {
         "aggregate": "sum",
         "axis": {
          "tickCount": 10
         },
         "field": "yield",
         "type": "quantitative"
        },
        "y": {
         "field": "site",
         "sort": "-x",
         "type": "nominal"
        }
       },
       "mark": "bar",
       "title": {
        "subtitle": [
         "Yields over different regions",
         "and different years in the 1930s",
         " "
        ],
        "text": "Barley crops"
       }
      },
      "image/png": "[encoded data removed]",
      "text/plain": [
       "<VegaLite 4 object>\n",
       "\n",
       "If you see this message, it means the renderer has not been properly enabled\n",
       "for the frontend that you are using. For more information, see\n",
       "https://altair-viz.github.io/user_guide/troubleshooting.html\n"
      ]
     },
     "execution_count": 9,
     "metadata": {},
     "output_type": "execute_result"
    }
   ],
   "source": [
    "alt.Chart(data.barley()).mark_bar().encode(\n",
    "    x=alt.X(\n",
    "        'sum(yield):Q',\n",
    "        axis=alt.Axis(tickCount=10)\n",
    "    ),\n",
    "    y=alt.Y('site:N', sort='-x')\n",
    ").properties(\n",
    "    title={\n",
    "        'text': 'Barley crops',\n",
    "        'subtitle' : ['Yields over different regions', 'and different years in the 1930s', ' ']\n",
    "    }\n",
    ") "
   ]
  },
  {
   "cell_type": "markdown",
   "id": "3e66bb39-39c1-4d2d-b0a7-744bd42a3b5c",
   "metadata": {
    "tags": []
   },
   "source": [
    "## Line chart"
   ]
  },
  {
   "cell_type": "code",
   "execution_count": 10,
   "id": "7b6ba240-ac83-4323-a122-1440bae764ca",
   "metadata": {},
   "outputs": [
    {
     "data": {
      "application/vnd.vegalite.v4+json": {
       "$schema": "https://vega.github.io/schema/vega-lite/v4.17.0.json",
       "config": {
        "arc": {
         "fill": "#0077bb"
        },
        "area": {
         "fill": "#0077bb"
        },
        "axis": {
         "gridColor": "#dddddd",
         "labelColor": "#666666",
         "labelFlush": false,
         "labelFont": "Tenon",
         "labelFontSize": 13,
         "labelFontWeight": 400,
         "labelPadding": 5,
         "tickSize": 6,
         "title": null,
         "titleColor": "#666666",
         "titleFontWeight": 300
        },
        "axisX": {
         "domainColor": "#666666",
         "tickColor": "#666666"
        },
        "axisY": {
         "domainColor": "#f9f9f9",
         "tickColor": "#f9f9f9"
        },
        "background": "#f9f9f9",
        "bar": {
         "fill": "#0077bb"
        },
        "legend": {
         "columnPadding": 20,
         "direction": "horizontal",
         "labelAlign": "left",
         "labelBaseline": "middle",
         "labelColor": "#222222",
         "labelFont": "Tenon",
         "labelFontSize": 16,
         "labelFontWeight": 300,
         "offset": 40,
         "orient": "top",
         "rowPadding": 10,
         "symbolType": "square",
         "title": null,
         "titleFont": "Tenon",
         "titleFontSize": 16,
         "titleFontWeight": 400
        },
        "line": {
         "stroke": "#0077bb",
         "strokeWidth": 3
        },
        "padding": {
         "bottom": 80,
         "left": 20,
         "right": 20,
         "top": 20
        },
        "path": {
         "stroke": "#0077bb"
        },
        "point": {
         "stroke": "#0077bb"
        },
        "rect": {
         "fill": "#0077bb"
        },
        "shape": {
         "stroke": "#0077bb"
        },
        "symbol": {
         "fill": "#0077bb",
         "size": 30
        },
        "title": {
         "align": "left",
         "anchor": "start",
         "color": "#222222",
         "font": "Tenon",
         "fontSize": 28,
         "fontWeight": 500,
         "subtitleColor": "#222222",
         "subtitleFont": "Tenon",
         "subtitleFontSize": 20,
         "subtitleFontWeight": 300,
         "subtitleLineHeight": 24,
         "subtitlePadding": 10
        },
        "view": {
         "height": 500,
         "strokeOpacity": 0,
         "width": 320
        }
       },
       "data": {
        "name": "data-338d66dfbbc2197ff7a526ac020915e8"
       },
       "datasets": {
        "data-338d66dfbbc2197ff7a526ac020915e8": [
         {
          "Acceleration": 12,
          "Cylinders": 8,
          "Displacement": 307,
          "Horsepower": 130,
          "Miles_per_Gallon": 18,
          "Name": "chevrolet chevelle malibu",
          "Origin": "USA",
          "Weight_in_lbs": 3504,
          "Year": "1970-01-01T00:00:00"
         },
         {
          "Acceleration": 11.5,
          "Cylinders": 8,
          "Displacement": 350,
          "Horsepower": 165,
          "Miles_per_Gallon": 15,
          "Name": "buick skylark 320",
          "Origin": "USA",
          "Weight_in_lbs": 3693,
          "Year": "1970-01-01T00:00:00"
         },
         {
          "Acceleration": 11,
          "Cylinders": 8,
          "Displacement": 318,
          "Horsepower": 150,
          "Miles_per_Gallon": 18,
          "Name": "plymouth satellite",
          "Origin": "USA",
          "Weight_in_lbs": 3436,
          "Year": "1970-01-01T00:00:00"
         },
         {
          "Acceleration": 12,
          "Cylinders": 8,
          "Displacement": 304,
          "Horsepower": 150,
          "Miles_per_Gallon": 16,
          "Name": "amc rebel sst",
          "Origin": "USA",
          "Weight_in_lbs": 3433,
          "Year": "1970-01-01T00:00:00"
         },
         {
          "Acceleration": 10.5,
          "Cylinders": 8,
          "Displacement": 302,
          "Horsepower": 140,
          "Miles_per_Gallon": 17,
          "Name": "ford torino",
          "Origin": "USA",
          "Weight_in_lbs": 3449,
          "Year": "1970-01-01T00:00:00"
         },
         {
          "Acceleration": 10,
          "Cylinders": 8,
          "Displacement": 429,
          "Horsepower": 198,
          "Miles_per_Gallon": 15,
          "Name": "ford galaxie 500",
          "Origin": "USA",
          "Weight_in_lbs": 4341,
          "Year": "1970-01-01T00:00:00"
         },
         {
          "Acceleration": 9,
          "Cylinders": 8,
          "Displacement": 454,
          "Horsepower": 220,
          "Miles_per_Gallon": 14,
          "Name": "chevrolet impala",
          "Origin": "USA",
          "Weight_in_lbs": 4354,
          "Year": "1970-01-01T00:00:00"
         },
         {
          "Acceleration": 8.5,
          "Cylinders": 8,
          "Displacement": 440,
          "Horsepower": 215,
          "Miles_per_Gallon": 14,
          "Name": "plymouth fury iii",
          "Origin": "USA",
          "Weight_in_lbs": 4312,
          "Year": "1970-01-01T00:00:00"
         },
         {
          "Acceleration": 10,
          "Cylinders": 8,
          "Displacement": 455,
          "Horsepower": 225,
          "Miles_per_Gallon": 14,
          "Name": "pontiac catalina",
          "Origin": "USA",
          "Weight_in_lbs": 4425,
          "Year": "1970-01-01T00:00:00"
         },
         {
          "Acceleration": 8.5,
          "Cylinders": 8,
          "Displacement": 390,
          "Horsepower": 190,
          "Miles_per_Gallon": 15,
          "Name": "amc ambassador dpl",
          "Origin": "USA",
          "Weight_in_lbs": 3850,
          "Year": "1970-01-01T00:00:00"
         },
         {
          "Acceleration": 17.5,
          "Cylinders": 4,
          "Displacement": 133,
          "Horsepower": 115,
          "Miles_per_Gallon": null,
          "Name": "citroen ds-21 pallas",
          "Origin": "Europe",
          "Weight_in_lbs": 3090,
          "Year": "1970-01-01T00:00:00"
         },
         {
          "Acceleration": 11.5,
          "Cylinders": 8,
          "Displacement": 350,
          "Horsepower": 165,
          "Miles_per_Gallon": null,
          "Name": "chevrolet chevelle concours (sw)",
          "Origin": "USA",
          "Weight_in_lbs": 4142,
          "Year": "1970-01-01T00:00:00"
         },
         {
          "Acceleration": 11,
          "Cylinders": 8,
          "Displacement": 351,
          "Horsepower": 153,
          "Miles_per_Gallon": null,
          "Name": "ford torino (sw)",
          "Origin": "USA",
          "Weight_in_lbs": 4034,
          "Year": "1970-01-01T00:00:00"
         },
         {
          "Acceleration": 10.5,
          "Cylinders": 8,
          "Displacement": 383,
          "Horsepower": 175,
          "Miles_per_Gallon": null,
          "Name": "plymouth satellite (sw)",
          "Origin": "USA",
          "Weight_in_lbs": 4166,
          "Year": "1970-01-01T00:00:00"
         },
         {
          "Acceleration": 11,
          "Cylinders": 8,
          "Displacement": 360,
          "Horsepower": 175,
          "Miles_per_Gallon": null,
          "Name": "amc rebel sst (sw)",
          "Origin": "USA",
          "Weight_in_lbs": 3850,
          "Year": "1970-01-01T00:00:00"
         },
         {
          "Acceleration": 10,
          "Cylinders": 8,
          "Displacement": 383,
          "Horsepower": 170,
          "Miles_per_Gallon": 15,
          "Name": "dodge challenger se",
          "Origin": "USA",
          "Weight_in_lbs": 3563,
          "Year": "1970-01-01T00:00:00"
         },
         {
          "Acceleration": 8,
          "Cylinders": 8,
          "Displacement": 340,
          "Horsepower": 160,
          "Miles_per_Gallon": 14,
          "Name": "plymouth 'cuda 340",
          "Origin": "USA",
          "Weight_in_lbs": 3609,
          "Year": "1970-01-01T00:00:00"
         },
         {
          "Acceleration": 8,
          "Cylinders": 8,
          "Displacement": 302,
          "Horsepower": 140,
          "Miles_per_Gallon": null,
          "Name": "ford mustang boss 302",
          "Origin": "USA",
          "Weight_in_lbs": 3353,
          "Year": "1970-01-01T00:00:00"
         },
         {
          "Acceleration": 9.5,
          "Cylinders": 8,
          "Displacement": 400,
          "Horsepower": 150,
          "Miles_per_Gallon": 15,
          "Name": "chevrolet monte carlo",
          "Origin": "USA",
          "Weight_in_lbs": 3761,
          "Year": "1970-01-01T00:00:00"
         },
         {
          "Acceleration": 10,
          "Cylinders": 8,
          "Displacement": 455,
          "Horsepower": 225,
          "Miles_per_Gallon": 14,
          "Name": "buick estate wagon (sw)",
          "Origin": "USA",
          "Weight_in_lbs": 3086,
          "Year": "1970-01-01T00:00:00"
         },
         {
          "Acceleration": 15,
          "Cylinders": 4,
          "Displacement": 113,
          "Horsepower": 95,
          "Miles_per_Gallon": 24,
          "Name": "toyota corona mark ii",
          "Origin": "Japan",
          "Weight_in_lbs": 2372,
          "Year": "1970-01-01T00:00:00"
         },
         {
          "Acceleration": 15.5,
          "Cylinders": 6,
          "Displacement": 198,
          "Horsepower": 95,
          "Miles_per_Gallon": 22,
          "Name": "plymouth duster",
          "Origin": "USA",
          "Weight_in_lbs": 2833,
          "Year": "1970-01-01T00:00:00"
         },
         {
          "Acceleration": 15.5,
          "Cylinders": 6,
          "Displacement": 199,
          "Horsepower": 97,
          "Miles_per_Gallon": 18,
          "Name": "amc hornet",
          "Origin": "USA",
          "Weight_in_lbs": 2774,
          "Year": "1970-01-01T00:00:00"
         },
         {
          "Acceleration": 16,
          "Cylinders": 6,
          "Displacement": 200,
          "Horsepower": 85,
          "Miles_per_Gallon": 21,
          "Name": "ford maverick",
          "Origin": "USA",
          "Weight_in_lbs": 2587,
          "Year": "1970-01-01T00:00:00"
         },
         {
          "Acceleration": 14.5,
          "Cylinders": 4,
          "Displacement": 97,
          "Horsepower": 88,
          "Miles_per_Gallon": 27,
          "Name": "datsun pl510",
          "Origin": "Japan",
          "Weight_in_lbs": 2130,
          "Year": "1970-01-01T00:00:00"
         },
         {
          "Acceleration": 20.5,
          "Cylinders": 4,
          "Displacement": 97,
          "Horsepower": 46,
          "Miles_per_Gallon": 26,
          "Name": "volkswagen 1131 deluxe sedan",
          "Origin": "Europe",
          "Weight_in_lbs": 1835,
          "Year": "1970-01-01T00:00:00"
         },
         {
          "Acceleration": 17.5,
          "Cylinders": 4,
          "Displacement": 110,
          "Horsepower": 87,
          "Miles_per_Gallon": 25,
          "Name": "peugeot 504",
          "Origin": "Europe",
          "Weight_in_lbs": 2672,
          "Year": "1970-01-01T00:00:00"
         },
         {
          "Acceleration": 14.5,
          "Cylinders": 4,
          "Displacement": 107,
          "Horsepower": 90,
          "Miles_per_Gallon": 24,
          "Name": "audi 100 ls",
          "Origin": "Europe",
          "Weight_in_lbs": 2430,
          "Year": "1970-01-01T00:00:00"
         },
         {
          "Acceleration": 17.5,
          "Cylinders": 4,
          "Displacement": 104,
          "Horsepower": 95,
          "Miles_per_Gallon": 25,
          "Name": "saab 99e",
          "Origin": "Europe",
          "Weight_in_lbs": 2375,
          "Year": "1970-01-01T00:00:00"
         },
         {
          "Acceleration": 12.5,
          "Cylinders": 4,
          "Displacement": 121,
          "Horsepower": 113,
          "Miles_per_Gallon": 26,
          "Name": "bmw 2002",
          "Origin": "Europe",
          "Weight_in_lbs": 2234,
          "Year": "1970-01-01T00:00:00"
         },
         {
          "Acceleration": 15,
          "Cylinders": 6,
          "Displacement": 199,
          "Horsepower": 90,
          "Miles_per_Gallon": 21,
          "Name": "amc gremlin",
          "Origin": "USA",
          "Weight_in_lbs": 2648,
          "Year": "1970-01-01T00:00:00"
         },
         {
          "Acceleration": 14,
          "Cylinders": 8,
          "Displacement": 360,
          "Horsepower": 215,
          "Miles_per_Gallon": 10,
          "Name": "ford f250",
          "Origin": "USA",
          "Weight_in_lbs": 4615,
          "Year": "1970-01-01T00:00:00"
         },
         {
          "Acceleration": 15,
          "Cylinders": 8,
          "Displacement": 307,
          "Horsepower": 200,
          "Miles_per_Gallon": 10,
          "Name": "chevy c20",
          "Origin": "USA",
          "Weight_in_lbs": 4376,
          "Year": "1970-01-01T00:00:00"
         },
         {
          "Acceleration": 13.5,
          "Cylinders": 8,
          "Displacement": 318,
          "Horsepower": 210,
          "Miles_per_Gallon": 11,
          "Name": "dodge d200",
          "Origin": "USA",
          "Weight_in_lbs": 4382,
          "Year": "1970-01-01T00:00:00"
         },
         {
          "Acceleration": 18.5,
          "Cylinders": 8,
          "Displacement": 304,
          "Horsepower": 193,
          "Miles_per_Gallon": 9,
          "Name": "hi 1200d",
          "Origin": "USA",
          "Weight_in_lbs": 4732,
          "Year": "1970-01-01T00:00:00"
         },
         {
          "Acceleration": 14.5,
          "Cylinders": 4,
          "Displacement": 97,
          "Horsepower": 88,
          "Miles_per_Gallon": 27,
          "Name": "datsun pl510",
          "Origin": "Japan",
          "Weight_in_lbs": 2130,
          "Year": "1971-01-01T00:00:00"
         },
         {
          "Acceleration": 15.5,
          "Cylinders": 4,
          "Displacement": 140,
          "Horsepower": 90,
          "Miles_per_Gallon": 28,
          "Name": "chevrolet vega 2300",
          "Origin": "USA",
          "Weight_in_lbs": 2264,
          "Year": "1971-01-01T00:00:00"
         },
         {
          "Acceleration": 14,
          "Cylinders": 4,
          "Displacement": 113,
          "Horsepower": 95,
          "Miles_per_Gallon": 25,
          "Name": "toyota corona",
          "Origin": "Japan",
          "Weight_in_lbs": 2228,
          "Year": "1971-01-01T00:00:00"
         },
         {
          "Acceleration": 19,
          "Cylinders": 4,
          "Displacement": 98,
          "Horsepower": null,
          "Miles_per_Gallon": 25,
          "Name": "ford pinto",
          "Origin": "USA",
          "Weight_in_lbs": 2046,
          "Year": "1971-01-01T00:00:00"
         },
         {
          "Acceleration": 20,
          "Cylinders": 4,
          "Displacement": 97,
          "Horsepower": 48,
          "Miles_per_Gallon": null,
          "Name": "volkswagen super beetle 117",
          "Origin": "Europe",
          "Weight_in_lbs": 1978,
          "Year": "1971-01-01T00:00:00"
         },
         {
          "Acceleration": 13,
          "Cylinders": 6,
          "Displacement": 232,
          "Horsepower": 100,
          "Miles_per_Gallon": 19,
          "Name": "amc gremlin",
          "Origin": "USA",
          "Weight_in_lbs": 2634,
          "Year": "1971-01-01T00:00:00"
         },
         {
          "Acceleration": 15.5,
          "Cylinders": 6,
          "Displacement": 225,
          "Horsepower": 105,
          "Miles_per_Gallon": 16,
          "Name": "plymouth satellite custom",
          "Origin": "USA",
          "Weight_in_lbs": 3439,
          "Year": "1971-01-01T00:00:00"
         },
         {
          "Acceleration": 15.5,
          "Cylinders": 6,
          "Displacement": 250,
          "Horsepower": 100,
          "Miles_per_Gallon": 17,
          "Name": "chevrolet chevelle malibu",
          "Origin": "USA",
          "Weight_in_lbs": 3329,
          "Year": "1971-01-01T00:00:00"
         },
         {
          "Acceleration": 15.5,
          "Cylinders": 6,
          "Displacement": 250,
          "Horsepower": 88,
          "Miles_per_Gallon": 19,
          "Name": "ford torino 500",
          "Origin": "USA",
          "Weight_in_lbs": 3302,
          "Year": "1971-01-01T00:00:00"
         },
         {
          "Acceleration": 15.5,
          "Cylinders": 6,
          "Displacement": 232,
          "Horsepower": 100,
          "Miles_per_Gallon": 18,
          "Name": "amc matador",
          "Origin": "USA",
          "Weight_in_lbs": 3288,
          "Year": "1971-01-01T00:00:00"
         },
         {
          "Acceleration": 12,
          "Cylinders": 8,
          "Displacement": 350,
          "Horsepower": 165,
          "Miles_per_Gallon": 14,
          "Name": "chevrolet impala",
          "Origin": "USA",
          "Weight_in_lbs": 4209,
          "Year": "1971-01-01T00:00:00"
         },
         {
          "Acceleration": 11.5,
          "Cylinders": 8,
          "Displacement": 400,
          "Horsepower": 175,
          "Miles_per_Gallon": 14,
          "Name": "pontiac catalina brougham",
          "Origin": "USA",
          "Weight_in_lbs": 4464,
          "Year": "1971-01-01T00:00:00"
         },
         {
          "Acceleration": 13.5,
          "Cylinders": 8,
          "Displacement": 351,
          "Horsepower": 153,
          "Miles_per_Gallon": 14,
          "Name": "ford galaxie 500",
          "Origin": "USA",
          "Weight_in_lbs": 4154,
          "Year": "1971-01-01T00:00:00"
         },
         {
          "Acceleration": 13,
          "Cylinders": 8,
          "Displacement": 318,
          "Horsepower": 150,
          "Miles_per_Gallon": 14,
          "Name": "plymouth fury iii",
          "Origin": "USA",
          "Weight_in_lbs": 4096,
          "Year": "1971-01-01T00:00:00"
         },
         {
          "Acceleration": 11.5,
          "Cylinders": 8,
          "Displacement": 383,
          "Horsepower": 180,
          "Miles_per_Gallon": 12,
          "Name": "dodge monaco (sw)",
          "Origin": "USA",
          "Weight_in_lbs": 4955,
          "Year": "1971-01-01T00:00:00"
         },
         {
          "Acceleration": 12,
          "Cylinders": 8,
          "Displacement": 400,
          "Horsepower": 170,
          "Miles_per_Gallon": 13,
          "Name": "ford country squire (sw)",
          "Origin": "USA",
          "Weight_in_lbs": 4746,
          "Year": "1971-01-01T00:00:00"
         },
         {
          "Acceleration": 12,
          "Cylinders": 8,
          "Displacement": 400,
          "Horsepower": 175,
          "Miles_per_Gallon": 13,
          "Name": "pontiac safari (sw)",
          "Origin": "USA",
          "Weight_in_lbs": 5140,
          "Year": "1971-01-01T00:00:00"
         },
         {
          "Acceleration": 13.5,
          "Cylinders": 6,
          "Displacement": 258,
          "Horsepower": 110,
          "Miles_per_Gallon": 18,
          "Name": "amc hornet sportabout (sw)",
          "Origin": "USA",
          "Weight_in_lbs": 2962,
          "Year": "1971-01-01T00:00:00"
         },
         {
          "Acceleration": 19,
          "Cylinders": 4,
          "Displacement": 140,
          "Horsepower": 72,
          "Miles_per_Gallon": 22,
          "Name": "chevrolet vega (sw)",
          "Origin": "USA",
          "Weight_in_lbs": 2408,
          "Year": "1971-01-01T00:00:00"
         },
         {
          "Acceleration": 15,
          "Cylinders": 6,
          "Displacement": 250,
          "Horsepower": 100,
          "Miles_per_Gallon": 19,
          "Name": "pontiac firebird",
          "Origin": "USA",
          "Weight_in_lbs": 3282,
          "Year": "1971-01-01T00:00:00"
         },
         {
          "Acceleration": 14.5,
          "Cylinders": 6,
          "Displacement": 250,
          "Horsepower": 88,
          "Miles_per_Gallon": 18,
          "Name": "ford mustang",
          "Origin": "USA",
          "Weight_in_lbs": 3139,
          "Year": "1971-01-01T00:00:00"
         },
         {
          "Acceleration": 14,
          "Cylinders": 4,
          "Displacement": 122,
          "Horsepower": 86,
          "Miles_per_Gallon": 23,
          "Name": "mercury capri 2000",
          "Origin": "USA",
          "Weight_in_lbs": 2220,
          "Year": "1971-01-01T00:00:00"
         },
         {
          "Acceleration": 14,
          "Cylinders": 4,
          "Displacement": 116,
          "Horsepower": 90,
          "Miles_per_Gallon": 28,
          "Name": "opel 1900",
          "Origin": "Europe",
          "Weight_in_lbs": 2123,
          "Year": "1971-01-01T00:00:00"
         },
         {
          "Acceleration": 19.5,
          "Cylinders": 4,
          "Displacement": 79,
          "Horsepower": 70,
          "Miles_per_Gallon": 30,
          "Name": "peugeot 304",
          "Origin": "Europe",
          "Weight_in_lbs": 2074,
          "Year": "1971-01-01T00:00:00"
         },
         {
          "Acceleration": 14.5,
          "Cylinders": 4,
          "Displacement": 88,
          "Horsepower": 76,
          "Miles_per_Gallon": 30,
          "Name": "fiat 124b",
          "Origin": "Europe",
          "Weight_in_lbs": 2065,
          "Year": "1971-01-01T00:00:00"
         },
         {
          "Acceleration": 19,
          "Cylinders": 4,
          "Displacement": 71,
          "Horsepower": 65,
          "Miles_per_Gallon": 31,
          "Name": "toyota corolla 1200",
          "Origin": "Japan",
          "Weight_in_lbs": 1773,
          "Year": "1971-01-01T00:00:00"
         },
         {
          "Acceleration": 18,
          "Cylinders": 4,
          "Displacement": 72,
          "Horsepower": 69,
          "Miles_per_Gallon": 35,
          "Name": "datsun 1200",
          "Origin": "Japan",
          "Weight_in_lbs": 1613,
          "Year": "1971-01-01T00:00:00"
         },
         {
          "Acceleration": 19,
          "Cylinders": 4,
          "Displacement": 97,
          "Horsepower": 60,
          "Miles_per_Gallon": 27,
          "Name": "volkswagen model 111",
          "Origin": "Europe",
          "Weight_in_lbs": 1834,
          "Year": "1971-01-01T00:00:00"
         },
         {
          "Acceleration": 20.5,
          "Cylinders": 4,
          "Displacement": 91,
          "Horsepower": 70,
          "Miles_per_Gallon": 26,
          "Name": "plymouth cricket",
          "Origin": "USA",
          "Weight_in_lbs": 1955,
          "Year": "1971-01-01T00:00:00"
         },
         {
          "Acceleration": 15.5,
          "Cylinders": 4,
          "Displacement": 113,
          "Horsepower": 95,
          "Miles_per_Gallon": 24,
          "Name": "toyota corona hardtop",
          "Origin": "Japan",
          "Weight_in_lbs": 2278,
          "Year": "1972-01-01T00:00:00"
         },
         {
          "Acceleration": 17,
          "Cylinders": 4,
          "Displacement": 97.5,
          "Horsepower": 80,
          "Miles_per_Gallon": 25,
          "Name": "dodge colt hardtop",
          "Origin": "USA",
          "Weight_in_lbs": 2126,
          "Year": "1972-01-01T00:00:00"
         },
         {
          "Acceleration": 23.5,
          "Cylinders": 4,
          "Displacement": 97,
          "Horsepower": 54,
          "Miles_per_Gallon": 23,
          "Name": "volkswagen type 3",
          "Origin": "Europe",
          "Weight_in_lbs": 2254,
          "Year": "1972-01-01T00:00:00"
         },
         {
          "Acceleration": 19.5,
          "Cylinders": 4,
          "Displacement": 140,
          "Horsepower": 90,
          "Miles_per_Gallon": 20,
          "Name": "chevrolet vega",
          "Origin": "USA",
          "Weight_in_lbs": 2408,
          "Year": "1972-01-01T00:00:00"
         },
         {
          "Acceleration": 16.5,
          "Cylinders": 4,
          "Displacement": 122,
          "Horsepower": 86,
          "Miles_per_Gallon": 21,
          "Name": "ford pinto runabout",
          "Origin": "USA",
          "Weight_in_lbs": 2226,
          "Year": "1972-01-01T00:00:00"
         },
         {
          "Acceleration": 12,
          "Cylinders": 8,
          "Displacement": 350,
          "Horsepower": 165,
          "Miles_per_Gallon": 13,
          "Name": "chevrolet impala",
          "Origin": "USA",
          "Weight_in_lbs": 4274,
          "Year": "1972-01-01T00:00:00"
         },
         {
          "Acceleration": 12,
          "Cylinders": 8,
          "Displacement": 400,
          "Horsepower": 175,
          "Miles_per_Gallon": 14,
          "Name": "pontiac catalina",
          "Origin": "USA",
          "Weight_in_lbs": 4385,
          "Year": "1972-01-01T00:00:00"
         },
         {
          "Acceleration": 13.5,
          "Cylinders": 8,
          "Displacement": 318,
          "Horsepower": 150,
          "Miles_per_Gallon": 15,
          "Name": "plymouth fury iii",
          "Origin": "USA",
          "Weight_in_lbs": 4135,
          "Year": "1972-01-01T00:00:00"
         },
         {
          "Acceleration": 13,
          "Cylinders": 8,
          "Displacement": 351,
          "Horsepower": 153,
          "Miles_per_Gallon": 14,
          "Name": "ford galaxie 500",
          "Origin": "USA",
          "Weight_in_lbs": 4129,
          "Year": "1972-01-01T00:00:00"
         },
         {
          "Acceleration": 11.5,
          "Cylinders": 8,
          "Displacement": 304,
          "Horsepower": 150,
          "Miles_per_Gallon": 17,
          "Name": "amc ambassador sst",
          "Origin": "USA",
          "Weight_in_lbs": 3672,
          "Year": "1972-01-01T00:00:00"
         },
         {
          "Acceleration": 11,
          "Cylinders": 8,
          "Displacement": 429,
          "Horsepower": 208,
          "Miles_per_Gallon": 11,
          "Name": "mercury marquis",
          "Origin": "USA",
          "Weight_in_lbs": 4633,
          "Year": "1972-01-01T00:00:00"
         },
         {
          "Acceleration": 13.5,
          "Cylinders": 8,
          "Displacement": 350,
          "Horsepower": 155,
          "Miles_per_Gallon": 13,
          "Name": "buick lesabre custom",
          "Origin": "USA",
          "Weight_in_lbs": 4502,
          "Year": "1972-01-01T00:00:00"
         },
         {
          "Acceleration": 13.5,
          "Cylinders": 8,
          "Displacement": 350,
          "Horsepower": 160,
          "Miles_per_Gallon": 12,
          "Name": "oldsmobile delta 88 royale",
          "Origin": "USA",
          "Weight_in_lbs": 4456,
          "Year": "1972-01-01T00:00:00"
         },
         {
          "Acceleration": 12.5,
          "Cylinders": 8,
          "Displacement": 400,
          "Horsepower": 190,
          "Miles_per_Gallon": 13,
          "Name": "chrysler newport royal",
          "Origin": "USA",
          "Weight_in_lbs": 4422,
          "Year": "1972-01-01T00:00:00"
         },
         {
          "Acceleration": 13.5,
          "Cylinders": 3,
          "Displacement": 70,
          "Horsepower": 97,
          "Miles_per_Gallon": 19,
          "Name": "mazda rx2 coupe",
          "Origin": "Japan",
          "Weight_in_lbs": 2330,
          "Year": "1972-01-01T00:00:00"
         },
         {
          "Acceleration": 12.5,
          "Cylinders": 8,
          "Displacement": 304,
          "Horsepower": 150,
          "Miles_per_Gallon": 15,
          "Name": "amc matador (sw)",
          "Origin": "USA",
          "Weight_in_lbs": 3892,
          "Year": "1972-01-01T00:00:00"
         },
         {
          "Acceleration": 14,
          "Cylinders": 8,
          "Displacement": 307,
          "Horsepower": 130,
          "Miles_per_Gallon": 13,
          "Name": "chevrolet chevelle concours (sw)",
          "Origin": "USA",
          "Weight_in_lbs": 4098,
          "Year": "1972-01-01T00:00:00"
         },
         {
          "Acceleration": 16,
          "Cylinders": 8,
          "Displacement": 302,
          "Horsepower": 140,
          "Miles_per_Gallon": 13,
          "Name": "ford gran torino (sw)",
          "Origin": "USA",
          "Weight_in_lbs": 4294,
          "Year": "1972-01-01T00:00:00"
         },
         {
          "Acceleration": 14,
          "Cylinders": 8,
          "Displacement": 318,
          "Horsepower": 150,
          "Miles_per_Gallon": 14,
          "Name": "plymouth satellite custom (sw)",
          "Origin": "USA",
          "Weight_in_lbs": 4077,
          "Year": "1972-01-01T00:00:00"
         },
         {
          "Acceleration": 14.5,
          "Cylinders": 4,
          "Displacement": 121,
          "Horsepower": 112,
          "Miles_per_Gallon": 18,
          "Name": "volvo 145e (sw)",
          "Origin": "Europe",
          "Weight_in_lbs": 2933,
          "Year": "1972-01-01T00:00:00"
         },
         {
          "Acceleration": 18,
          "Cylinders": 4,
          "Displacement": 121,
          "Horsepower": 76,
          "Miles_per_Gallon": 22,
          "Name": "volkswagen 411 (sw)",
          "Origin": "Europe",
          "Weight_in_lbs": 2511,
          "Year": "1972-01-01T00:00:00"
         },
         {
          "Acceleration": 19.5,
          "Cylinders": 4,
          "Displacement": 120,
          "Horsepower": 87,
          "Miles_per_Gallon": 21,
          "Name": "peugeot 504 (sw)",
          "Origin": "Europe",
          "Weight_in_lbs": 2979,
          "Year": "1972-01-01T00:00:00"
         },
         {
          "Acceleration": 18,
          "Cylinders": 4,
          "Displacement": 96,
          "Horsepower": 69,
          "Miles_per_Gallon": 26,
          "Name": "renault 12 (sw)",
          "Origin": "Europe",
          "Weight_in_lbs": 2189,
          "Year": "1972-01-01T00:00:00"
         },
         {
          "Acceleration": 16,
          "Cylinders": 4,
          "Displacement": 122,
          "Horsepower": 86,
          "Miles_per_Gallon": 22,
          "Name": "ford pinto (sw)",
          "Origin": "USA",
          "Weight_in_lbs": 2395,
          "Year": "1972-01-01T00:00:00"
         },
         {
          "Acceleration": 17,
          "Cylinders": 4,
          "Displacement": 97,
          "Horsepower": 92,
          "Miles_per_Gallon": 28,
          "Name": "datsun 510 (sw)",
          "Origin": "Japan",
          "Weight_in_lbs": 2288,
          "Year": "1972-01-01T00:00:00"
         },
         {
          "Acceleration": 14.5,
          "Cylinders": 4,
          "Displacement": 120,
          "Horsepower": 97,
          "Miles_per_Gallon": 23,
          "Name": "toyouta corona mark ii (sw)",
          "Origin": "Japan",
          "Weight_in_lbs": 2506,
          "Year": "1972-01-01T00:00:00"
         },
         {
          "Acceleration": 15,
          "Cylinders": 4,
          "Displacement": 98,
          "Horsepower": 80,
          "Miles_per_Gallon": 28,
          "Name": "dodge colt (sw)",
          "Origin": "USA",
          "Weight_in_lbs": 2164,
          "Year": "1972-01-01T00:00:00"
         },
         {
          "Acceleration": 16.5,
          "Cylinders": 4,
          "Displacement": 97,
          "Horsepower": 88,
          "Miles_per_Gallon": 27,
          "Name": "toyota corolla 1600 (sw)",
          "Origin": "Japan",
          "Weight_in_lbs": 2100,
          "Year": "1972-01-01T00:00:00"
         },
         {
          "Acceleration": 13,
          "Cylinders": 8,
          "Displacement": 350,
          "Horsepower": 175,
          "Miles_per_Gallon": 13,
          "Name": "buick century 350",
          "Origin": "USA",
          "Weight_in_lbs": 4100,
          "Year": "1973-01-01T00:00:00"
         },
         {
          "Acceleration": 11.5,
          "Cylinders": 8,
          "Displacement": 304,
          "Horsepower": 150,
          "Miles_per_Gallon": 14,
          "Name": "amc matador",
          "Origin": "USA",
          "Weight_in_lbs": 3672,
          "Year": "1973-01-01T00:00:00"
         },
         {
          "Acceleration": 13,
          "Cylinders": 8,
          "Displacement": 350,
          "Horsepower": 145,
          "Miles_per_Gallon": 13,
          "Name": "chevrolet malibu",
          "Origin": "USA",
          "Weight_in_lbs": 3988,
          "Year": "1973-01-01T00:00:00"
         },
         {
          "Acceleration": 14.5,
          "Cylinders": 8,
          "Displacement": 302,
          "Horsepower": 137,
          "Miles_per_Gallon": 14,
          "Name": "ford gran torino",
          "Origin": "USA",
          "Weight_in_lbs": 4042,
          "Year": "1973-01-01T00:00:00"
         },
         {
          "Acceleration": 12.5,
          "Cylinders": 8,
          "Displacement": 318,
          "Horsepower": 150,
          "Miles_per_Gallon": 15,
          "Name": "dodge coronet custom",
          "Origin": "USA",
          "Weight_in_lbs": 3777,
          "Year": "1973-01-01T00:00:00"
         },
         {
          "Acceleration": 11.5,
          "Cylinders": 8,
          "Displacement": 429,
          "Horsepower": 198,
          "Miles_per_Gallon": 12,
          "Name": "mercury marquis brougham",
          "Origin": "USA",
          "Weight_in_lbs": 4952,
          "Year": "1973-01-01T00:00:00"
         },
         {
          "Acceleration": 12,
          "Cylinders": 8,
          "Displacement": 400,
          "Horsepower": 150,
          "Miles_per_Gallon": 13,
          "Name": "chevrolet caprice classic",
          "Origin": "USA",
          "Weight_in_lbs": 4464,
          "Year": "1973-01-01T00:00:00"
         },
         {
          "Acceleration": 13,
          "Cylinders": 8,
          "Displacement": 351,
          "Horsepower": 158,
          "Miles_per_Gallon": 13,
          "Name": "ford ltd",
          "Origin": "USA",
          "Weight_in_lbs": 4363,
          "Year": "1973-01-01T00:00:00"
         },
         {
          "Acceleration": 14.5,
          "Cylinders": 8,
          "Displacement": 318,
          "Horsepower": 150,
          "Miles_per_Gallon": 14,
          "Name": "plymouth fury gran sedan",
          "Origin": "USA",
          "Weight_in_lbs": 4237,
          "Year": "1973-01-01T00:00:00"
         },
         {
          "Acceleration": 11,
          "Cylinders": 8,
          "Displacement": 440,
          "Horsepower": 215,
          "Miles_per_Gallon": 13,
          "Name": "chrysler new yorker brougham",
          "Origin": "USA",
          "Weight_in_lbs": 4735,
          "Year": "1973-01-01T00:00:00"
         },
         {
          "Acceleration": 11,
          "Cylinders": 8,
          "Displacement": 455,
          "Horsepower": 225,
          "Miles_per_Gallon": 12,
          "Name": "buick electra 225 custom",
          "Origin": "USA",
          "Weight_in_lbs": 4951,
          "Year": "1973-01-01T00:00:00"
         },
         {
          "Acceleration": 11,
          "Cylinders": 8,
          "Displacement": 360,
          "Horsepower": 175,
          "Miles_per_Gallon": 13,
          "Name": "amc ambassador brougham",
          "Origin": "USA",
          "Weight_in_lbs": 3821,
          "Year": "1973-01-01T00:00:00"
         },
         {
          "Acceleration": 16.5,
          "Cylinders": 6,
          "Displacement": 225,
          "Horsepower": 105,
          "Miles_per_Gallon": 18,
          "Name": "plymouth valiant",
          "Origin": "USA",
          "Weight_in_lbs": 3121,
          "Year": "1973-01-01T00:00:00"
         },
         {
          "Acceleration": 18,
          "Cylinders": 6,
          "Displacement": 250,
          "Horsepower": 100,
          "Miles_per_Gallon": 16,
          "Name": "chevrolet nova custom",
          "Origin": "USA",
          "Weight_in_lbs": 3278,
          "Year": "1973-01-01T00:00:00"
         },
         {
          "Acceleration": 16,
          "Cylinders": 6,
          "Displacement": 232,
          "Horsepower": 100,
          "Miles_per_Gallon": 18,
          "Name": "amc hornet",
          "Origin": "USA",
          "Weight_in_lbs": 2945,
          "Year": "1973-01-01T00:00:00"
         },
         {
          "Acceleration": 16.5,
          "Cylinders": 6,
          "Displacement": 250,
          "Horsepower": 88,
          "Miles_per_Gallon": 18,
          "Name": "ford maverick",
          "Origin": "USA",
          "Weight_in_lbs": 3021,
          "Year": "1973-01-01T00:00:00"
         },
         {
          "Acceleration": 16,
          "Cylinders": 6,
          "Displacement": 198,
          "Horsepower": 95,
          "Miles_per_Gallon": 23,
          "Name": "plymouth duster",
          "Origin": "USA",
          "Weight_in_lbs": 2904,
          "Year": "1973-01-01T00:00:00"
         },
         {
          "Acceleration": 21,
          "Cylinders": 4,
          "Displacement": 97,
          "Horsepower": 46,
          "Miles_per_Gallon": 26,
          "Name": "volkswagen super beetle",
          "Origin": "Europe",
          "Weight_in_lbs": 1950,
          "Year": "1973-01-01T00:00:00"
         },
         {
          "Acceleration": 14,
          "Cylinders": 8,
          "Displacement": 400,
          "Horsepower": 150,
          "Miles_per_Gallon": 11,
          "Name": "chevrolet impala",
          "Origin": "USA",
          "Weight_in_lbs": 4997,
          "Year": "1973-01-01T00:00:00"
         },
         {
          "Acceleration": 12.5,
          "Cylinders": 8,
          "Displacement": 400,
          "Horsepower": 167,
          "Miles_per_Gallon": 12,
          "Name": "ford country",
          "Origin": "USA",
          "Weight_in_lbs": 4906,
          "Year": "1973-01-01T00:00:00"
         },
         {
          "Acceleration": 13,
          "Cylinders": 8,
          "Displacement": 360,
          "Horsepower": 170,
          "Miles_per_Gallon": 13,
          "Name": "plymouth custom suburb",
          "Origin": "USA",
          "Weight_in_lbs": 4654,
          "Year": "1973-01-01T00:00:00"
         },
         {
          "Acceleration": 12.5,
          "Cylinders": 8,
          "Displacement": 350,
          "Horsepower": 180,
          "Miles_per_Gallon": 12,
          "Name": "oldsmobile vista cruiser",
          "Origin": "USA",
          "Weight_in_lbs": 4499,
          "Year": "1973-01-01T00:00:00"
         },
         {
          "Acceleration": 15,
          "Cylinders": 6,
          "Displacement": 232,
          "Horsepower": 100,
          "Miles_per_Gallon": 18,
          "Name": "amc gremlin",
          "Origin": "USA",
          "Weight_in_lbs": 2789,
          "Year": "1973-01-01T00:00:00"
         },
         {
          "Acceleration": 19,
          "Cylinders": 4,
          "Displacement": 97,
          "Horsepower": 88,
          "Miles_per_Gallon": 20,
          "Name": "toyota carina",
          "Origin": "Japan",
          "Weight_in_lbs": 2279,
          "Year": "1973-01-01T00:00:00"
         },
         {
          "Acceleration": 19.5,
          "Cylinders": 4,
          "Displacement": 140,
          "Horsepower": 72,
          "Miles_per_Gallon": 21,
          "Name": "chevrolet vega",
          "Origin": "USA",
          "Weight_in_lbs": 2401,
          "Year": "1973-01-01T00:00:00"
         },
         {
          "Acceleration": 16.5,
          "Cylinders": 4,
          "Displacement": 108,
          "Horsepower": 94,
          "Miles_per_Gallon": 22,
          "Name": "datsun 610",
          "Origin": "Japan",
          "Weight_in_lbs": 2379,
          "Year": "1973-01-01T00:00:00"
         },
         {
          "Acceleration": 13.5,
          "Cylinders": 3,
          "Displacement": 70,
          "Horsepower": 90,
          "Miles_per_Gallon": 18,
          "Name": "maxda rx3",
          "Origin": "Japan",
          "Weight_in_lbs": 2124,
          "Year": "1973-01-01T00:00:00"
         },
         {
          "Acceleration": 18.5,
          "Cylinders": 4,
          "Displacement": 122,
          "Horsepower": 85,
          "Miles_per_Gallon": 19,
          "Name": "ford pinto",
          "Origin": "USA",
          "Weight_in_lbs": 2310,
          "Year": "1973-01-01T00:00:00"
         },
         {
          "Acceleration": 14,
          "Cylinders": 6,
          "Displacement": 155,
          "Horsepower": 107,
          "Miles_per_Gallon": 21,
          "Name": "mercury capri v6",
          "Origin": "USA",
          "Weight_in_lbs": 2472,
          "Year": "1973-01-01T00:00:00"
         },
         {
          "Acceleration": 15.5,
          "Cylinders": 4,
          "Displacement": 98,
          "Horsepower": 90,
          "Miles_per_Gallon": 26,
          "Name": "fiat 124 sport coupe",
          "Origin": "Europe",
          "Weight_in_lbs": 2265,
          "Year": "1973-01-01T00:00:00"
         },
         {
          "Acceleration": 13,
          "Cylinders": 8,
          "Displacement": 350,
          "Horsepower": 145,
          "Miles_per_Gallon": 15,
          "Name": "chevrolet monte carlo s",
          "Origin": "USA",
          "Weight_in_lbs": 4082,
          "Year": "1973-01-01T00:00:00"
         },
         {
          "Acceleration": 9.5,
          "Cylinders": 8,
          "Displacement": 400,
          "Horsepower": 230,
          "Miles_per_Gallon": 16,
          "Name": "pontiac grand prix",
          "Origin": "USA",
          "Weight_in_lbs": 4278,
          "Year": "1973-01-01T00:00:00"
         },
         {
          "Acceleration": 19.5,
          "Cylinders": 4,
          "Displacement": 68,
          "Horsepower": 49,
          "Miles_per_Gallon": 29,
          "Name": "fiat 128",
          "Origin": "Europe",
          "Weight_in_lbs": 1867,
          "Year": "1973-01-01T00:00:00"
         },
         {
          "Acceleration": 15.5,
          "Cylinders": 4,
          "Displacement": 116,
          "Horsepower": 75,
          "Miles_per_Gallon": 24,
          "Name": "opel manta",
          "Origin": "Europe",
          "Weight_in_lbs": 2158,
          "Year": "1973-01-01T00:00:00"
         },
         {
          "Acceleration": 14,
          "Cylinders": 4,
          "Displacement": 114,
          "Horsepower": 91,
          "Miles_per_Gallon": 20,
          "Name": "audi 100ls",
          "Origin": "Europe",
          "Weight_in_lbs": 2582,
          "Year": "1973-01-01T00:00:00"
         },
         {
          "Acceleration": 15.5,
          "Cylinders": 4,
          "Displacement": 121,
          "Horsepower": 112,
          "Miles_per_Gallon": 19,
          "Name": "volvo 144ea",
          "Origin": "Europe",
          "Weight_in_lbs": 2868,
          "Year": "1973-01-01T00:00:00"
         },
         {
          "Acceleration": 11,
          "Cylinders": 8,
          "Displacement": 318,
          "Horsepower": 150,
          "Miles_per_Gallon": 15,
          "Name": "dodge dart custom",
          "Origin": "USA",
          "Weight_in_lbs": 3399,
          "Year": "1973-01-01T00:00:00"
         },
         {
          "Acceleration": 14,
          "Cylinders": 4,
          "Displacement": 121,
          "Horsepower": 110,
          "Miles_per_Gallon": 24,
          "Name": "saab 99le",
          "Origin": "Europe",
          "Weight_in_lbs": 2660,
          "Year": "1973-01-01T00:00:00"
         },
         {
          "Acceleration": 13.5,
          "Cylinders": 6,
          "Displacement": 156,
          "Horsepower": 122,
          "Miles_per_Gallon": 20,
          "Name": "toyota mark ii",
          "Origin": "Japan",
          "Weight_in_lbs": 2807,
          "Year": "1973-01-01T00:00:00"
         },
         {
          "Acceleration": 11,
          "Cylinders": 8,
          "Displacement": 350,
          "Horsepower": 180,
          "Miles_per_Gallon": 11,
          "Name": "oldsmobile omega",
          "Origin": "USA",
          "Weight_in_lbs": 3664,
          "Year": "1973-01-01T00:00:00"
         },
         {
          "Acceleration": 16.5,
          "Cylinders": 6,
          "Displacement": 198,
          "Horsepower": 95,
          "Miles_per_Gallon": 20,
          "Name": "plymouth duster",
          "Origin": "USA",
          "Weight_in_lbs": 3102,
          "Year": "1974-01-01T00:00:00"
         },
         {
          "Acceleration": 17,
          "Cylinders": 6,
          "Displacement": 200,
          "Horsepower": null,
          "Miles_per_Gallon": 21,
          "Name": "ford maverick",
          "Origin": "USA",
          "Weight_in_lbs": 2875,
          "Year": "1974-01-01T00:00:00"
         },
         {
          "Acceleration": 16,
          "Cylinders": 6,
          "Displacement": 232,
          "Horsepower": 100,
          "Miles_per_Gallon": 19,
          "Name": "amc hornet",
          "Origin": "USA",
          "Weight_in_lbs": 2901,
          "Year": "1974-01-01T00:00:00"
         },
         {
          "Acceleration": 17,
          "Cylinders": 6,
          "Displacement": 250,
          "Horsepower": 100,
          "Miles_per_Gallon": 15,
          "Name": "chevrolet nova",
          "Origin": "USA",
          "Weight_in_lbs": 3336,
          "Year": "1974-01-01T00:00:00"
         },
         {
          "Acceleration": 19,
          "Cylinders": 4,
          "Displacement": 79,
          "Horsepower": 67,
          "Miles_per_Gallon": 31,
          "Name": "datsun b210",
          "Origin": "Japan",
          "Weight_in_lbs": 1950,
          "Year": "1974-01-01T00:00:00"
         },
         {
          "Acceleration": 16.5,
          "Cylinders": 4,
          "Displacement": 122,
          "Horsepower": 80,
          "Miles_per_Gallon": 26,
          "Name": "ford pinto",
          "Origin": "USA",
          "Weight_in_lbs": 2451,
          "Year": "1974-01-01T00:00:00"
         },
         {
          "Acceleration": 21,
          "Cylinders": 4,
          "Displacement": 71,
          "Horsepower": 65,
          "Miles_per_Gallon": 32,
          "Name": "toyota corolla 1200",
          "Origin": "Japan",
          "Weight_in_lbs": 1836,
          "Year": "1974-01-01T00:00:00"
         },
         {
          "Acceleration": 17,
          "Cylinders": 4,
          "Displacement": 140,
          "Horsepower": 75,
          "Miles_per_Gallon": 25,
          "Name": "chevrolet vega",
          "Origin": "USA",
          "Weight_in_lbs": 2542,
          "Year": "1974-01-01T00:00:00"
         },
         {
          "Acceleration": 17,
          "Cylinders": 6,
          "Displacement": 250,
          "Horsepower": 100,
          "Miles_per_Gallon": 16,
          "Name": "chevrolet chevelle malibu classic",
          "Origin": "USA",
          "Weight_in_lbs": 3781,
          "Year": "1974-01-01T00:00:00"
         },
         {
          "Acceleration": 18,
          "Cylinders": 6,
          "Displacement": 258,
          "Horsepower": 110,
          "Miles_per_Gallon": 16,
          "Name": "amc matador",
          "Origin": "USA",
          "Weight_in_lbs": 3632,
          "Year": "1974-01-01T00:00:00"
         },
         {
          "Acceleration": 16.5,
          "Cylinders": 6,
          "Displacement": 225,
          "Horsepower": 105,
          "Miles_per_Gallon": 18,
          "Name": "plymouth satellite sebring",
          "Origin": "USA",
          "Weight_in_lbs": 3613,
          "Year": "1974-01-01T00:00:00"
         },
         {
          "Acceleration": 14,
          "Cylinders": 8,
          "Displacement": 302,
          "Horsepower": 140,
          "Miles_per_Gallon": 16,
          "Name": "ford gran torino",
          "Origin": "USA",
          "Weight_in_lbs": 4141,
          "Year": "1974-01-01T00:00:00"
         },
         {
          "Acceleration": 14.5,
          "Cylinders": 8,
          "Displacement": 350,
          "Horsepower": 150,
          "Miles_per_Gallon": 13,
          "Name": "buick century luxus (sw)",
          "Origin": "USA",
          "Weight_in_lbs": 4699,
          "Year": "1974-01-01T00:00:00"
         },
         {
          "Acceleration": 13.5,
          "Cylinders": 8,
          "Displacement": 318,
          "Horsepower": 150,
          "Miles_per_Gallon": 14,
          "Name": "dodge coronet custom (sw)",
          "Origin": "USA",
          "Weight_in_lbs": 4457,
          "Year": "1974-01-01T00:00:00"
         },
         {
          "Acceleration": 16,
          "Cylinders": 8,
          "Displacement": 302,
          "Horsepower": 140,
          "Miles_per_Gallon": 14,
          "Name": "ford gran torino (sw)",
          "Origin": "USA",
          "Weight_in_lbs": 4638,
          "Year": "1974-01-01T00:00:00"
         },
         {
          "Acceleration": 15.5,
          "Cylinders": 8,
          "Displacement": 304,
          "Horsepower": 150,
          "Miles_per_Gallon": 14,
          "Name": "amc matador (sw)",
          "Origin": "USA",
          "Weight_in_lbs": 4257,
          "Year": "1974-01-01T00:00:00"
         },
         {
          "Acceleration": 16.5,
          "Cylinders": 4,
          "Displacement": 98,
          "Horsepower": 83,
          "Miles_per_Gallon": 29,
          "Name": "audi fox",
          "Origin": "Europe",
          "Weight_in_lbs": 2219,
          "Year": "1974-01-01T00:00:00"
         },
         {
          "Acceleration": 15.5,
          "Cylinders": 4,
          "Displacement": 79,
          "Horsepower": 67,
          "Miles_per_Gallon": 26,
          "Name": "volkswagen dasher",
          "Origin": "Europe",
          "Weight_in_lbs": 1963,
          "Year": "1974-01-01T00:00:00"
         },
         {
          "Acceleration": 14.5,
          "Cylinders": 4,
          "Displacement": 97,
          "Horsepower": 78,
          "Miles_per_Gallon": 26,
          "Name": "opel manta",
          "Origin": "Europe",
          "Weight_in_lbs": 2300,
          "Year": "1974-01-01T00:00:00"
         },
         {
          "Acceleration": 16.5,
          "Cylinders": 4,
          "Displacement": 76,
          "Horsepower": 52,
          "Miles_per_Gallon": 31,
          "Name": "toyota corona",
          "Origin": "Japan",
          "Weight_in_lbs": 1649,
          "Year": "1974-01-01T00:00:00"
         },
         {
          "Acceleration": 19,
          "Cylinders": 4,
          "Displacement": 83,
          "Horsepower": 61,
          "Miles_per_Gallon": 32,
          "Name": "datsun 710",
          "Origin": "Japan",
          "Weight_in_lbs": 2003,
          "Year": "1974-01-01T00:00:00"
         },
         {
          "Acceleration": 14.5,
          "Cylinders": 4,
          "Displacement": 90,
          "Horsepower": 75,
          "Miles_per_Gallon": 28,
          "Name": "dodge colt",
          "Origin": "USA",
          "Weight_in_lbs": 2125,
          "Year": "1974-01-01T00:00:00"
         },
         {
          "Acceleration": 15.5,
          "Cylinders": 4,
          "Displacement": 90,
          "Horsepower": 75,
          "Miles_per_Gallon": 24,
          "Name": "fiat 128",
          "Origin": "Europe",
          "Weight_in_lbs": 2108,
          "Year": "1974-01-01T00:00:00"
         },
         {
          "Acceleration": 14,
          "Cylinders": 4,
          "Displacement": 116,
          "Horsepower": 75,
          "Miles_per_Gallon": 26,
          "Name": "fiat 124 tc",
          "Origin": "Europe",
          "Weight_in_lbs": 2246,
          "Year": "1974-01-01T00:00:00"
         },
         {
          "Acceleration": 15,
          "Cylinders": 4,
          "Displacement": 120,
          "Horsepower": 97,
          "Miles_per_Gallon": 24,
          "Name": "honda civic",
          "Origin": "Japan",
          "Weight_in_lbs": 2489,
          "Year": "1974-01-01T00:00:00"
         },
         {
          "Acceleration": 15.5,
          "Cylinders": 4,
          "Displacement": 108,
          "Horsepower": 93,
          "Miles_per_Gallon": 26,
          "Name": "subaru",
          "Origin": "Japan",
          "Weight_in_lbs": 2391,
          "Year": "1974-01-01T00:00:00"
         },
         {
          "Acceleration": 16,
          "Cylinders": 4,
          "Displacement": 79,
          "Horsepower": 67,
          "Miles_per_Gallon": 31,
          "Name": "fiat x1.9",
          "Origin": "Europe",
          "Weight_in_lbs": 2000,
          "Year": "1974-01-01T00:00:00"
         },
         {
          "Acceleration": 16,
          "Cylinders": 6,
          "Displacement": 225,
          "Horsepower": 95,
          "Miles_per_Gallon": 19,
          "Name": "plymouth valiant custom",
          "Origin": "USA",
          "Weight_in_lbs": 3264,
          "Year": "1975-01-01T00:00:00"
         },
         {
          "Acceleration": 16,
          "Cylinders": 6,
          "Displacement": 250,
          "Horsepower": 105,
          "Miles_per_Gallon": 18,
          "Name": "chevrolet nova",
          "Origin": "USA",
          "Weight_in_lbs": 3459,
          "Year": "1975-01-01T00:00:00"
         },
         {
          "Acceleration": 21,
          "Cylinders": 6,
          "Displacement": 250,
          "Horsepower": 72,
          "Miles_per_Gallon": 15,
          "Name": "mercury monarch",
          "Origin": "USA",
          "Weight_in_lbs": 3432,
          "Year": "1975-01-01T00:00:00"
         },
         {
          "Acceleration": 19.5,
          "Cylinders": 6,
          "Displacement": 250,
          "Horsepower": 72,
          "Miles_per_Gallon": 15,
          "Name": "ford maverick",
          "Origin": "USA",
          "Weight_in_lbs": 3158,
          "Year": "1975-01-01T00:00:00"
         },
         {
          "Acceleration": 11.5,
          "Cylinders": 8,
          "Displacement": 400,
          "Horsepower": 170,
          "Miles_per_Gallon": 16,
          "Name": "pontiac catalina",
          "Origin": "USA",
          "Weight_in_lbs": 4668,
          "Year": "1975-01-01T00:00:00"
         },
         {
          "Acceleration": 14,
          "Cylinders": 8,
          "Displacement": 350,
          "Horsepower": 145,
          "Miles_per_Gallon": 15,
          "Name": "chevrolet bel air",
          "Origin": "USA",
          "Weight_in_lbs": 4440,
          "Year": "1975-01-01T00:00:00"
         },
         {
          "Acceleration": 14.5,
          "Cylinders": 8,
          "Displacement": 318,
          "Horsepower": 150,
          "Miles_per_Gallon": 16,
          "Name": "plymouth grand fury",
          "Origin": "USA",
          "Weight_in_lbs": 4498,
          "Year": "1975-01-01T00:00:00"
         },
         {
          "Acceleration": 13.5,
          "Cylinders": 8,
          "Displacement": 351,
          "Horsepower": 148,
          "Miles_per_Gallon": 14,
          "Name": "ford ltd",
          "Origin": "USA",
          "Weight_in_lbs": 4657,
          "Year": "1975-01-01T00:00:00"
         },
         {
          "Acceleration": 21,
          "Cylinders": 6,
          "Displacement": 231,
          "Horsepower": 110,
          "Miles_per_Gallon": 17,
          "Name": "buick century",
          "Origin": "USA",
          "Weight_in_lbs": 3907,
          "Year": "1975-01-01T00:00:00"
         },
         {
          "Acceleration": 18.5,
          "Cylinders": 6,
          "Displacement": 250,
          "Horsepower": 105,
          "Miles_per_Gallon": 16,
          "Name": "chevroelt chevelle malibu",
          "Origin": "USA",
          "Weight_in_lbs": 3897,
          "Year": "1975-01-01T00:00:00"
         },
         {
          "Acceleration": 19,
          "Cylinders": 6,
          "Displacement": 258,
          "Horsepower": 110,
          "Miles_per_Gallon": 15,
          "Name": "amc matador",
          "Origin": "USA",
          "Weight_in_lbs": 3730,
          "Year": "1975-01-01T00:00:00"
         },
         {
          "Acceleration": 19,
          "Cylinders": 6,
          "Displacement": 225,
          "Horsepower": 95,
          "Miles_per_Gallon": 18,
          "Name": "plymouth fury",
          "Origin": "USA",
          "Weight_in_lbs": 3785,
          "Year": "1975-01-01T00:00:00"
         },
         {
          "Acceleration": 15,
          "Cylinders": 6,
          "Displacement": 231,
          "Horsepower": 110,
          "Miles_per_Gallon": 21,
          "Name": "buick skyhawk",
          "Origin": "USA",
          "Weight_in_lbs": 3039,
          "Year": "1975-01-01T00:00:00"
         },
         {
          "Acceleration": 13.5,
          "Cylinders": 8,
          "Displacement": 262,
          "Horsepower": 110,
          "Miles_per_Gallon": 20,
          "Name": "chevrolet monza 2+2",
          "Origin": "USA",
          "Weight_in_lbs": 3221,
          "Year": "1975-01-01T00:00:00"
         },
         {
          "Acceleration": 12,
          "Cylinders": 8,
          "Displacement": 302,
          "Horsepower": 129,
          "Miles_per_Gallon": 13,
          "Name": "ford mustang ii",
          "Origin": "USA",
          "Weight_in_lbs": 3169,
          "Year": "1975-01-01T00:00:00"
         },
         {
          "Acceleration": 16,
          "Cylinders": 4,
          "Displacement": 97,
          "Horsepower": 75,
          "Miles_per_Gallon": 29,
          "Name": "toyota corolla",
          "Origin": "Japan",
          "Weight_in_lbs": 2171,
          "Year": "1975-01-01T00:00:00"
         },
         {
          "Acceleration": 17,
          "Cylinders": 4,
          "Displacement": 140,
          "Horsepower": 83,
          "Miles_per_Gallon": 23,
          "Name": "ford pinto",
          "Origin": "USA",
          "Weight_in_lbs": 2639,
          "Year": "1975-01-01T00:00:00"
         },
         {
          "Acceleration": 16,
          "Cylinders": 6,
          "Displacement": 232,
          "Horsepower": 100,
          "Miles_per_Gallon": 20,
          "Name": "amc gremlin",
          "Origin": "USA",
          "Weight_in_lbs": 2914,
          "Year": "1975-01-01T00:00:00"
         },
         {
          "Acceleration": 18.5,
          "Cylinders": 4,
          "Displacement": 140,
          "Horsepower": 78,
          "Miles_per_Gallon": 23,
          "Name": "pontiac astro",
          "Origin": "USA",
          "Weight_in_lbs": 2592,
          "Year": "1975-01-01T00:00:00"
         },
         {
          "Acceleration": 13.5,
          "Cylinders": 4,
          "Displacement": 134,
          "Horsepower": 96,
          "Miles_per_Gallon": 24,
          "Name": "toyota corona",
          "Origin": "Japan",
          "Weight_in_lbs": 2702,
          "Year": "1975-01-01T00:00:00"
         },
         {
          "Acceleration": 16.5,
          "Cylinders": 4,
          "Displacement": 90,
          "Horsepower": 71,
          "Miles_per_Gallon": 25,
          "Name": "volkswagen dasher",
          "Origin": "Europe",
          "Weight_in_lbs": 2223,
          "Year": "1975-01-01T00:00:00"
         },
         {
          "Acceleration": 17,
          "Cylinders": 4,
          "Displacement": 119,
          "Horsepower": 97,
          "Miles_per_Gallon": 24,
          "Name": "datsun 710",
          "Origin": "Japan",
          "Weight_in_lbs": 2545,
          "Year": "1975-01-01T00:00:00"
         },
         {
          "Acceleration": 14.5,
          "Cylinders": 6,
          "Displacement": 171,
          "Horsepower": 97,
          "Miles_per_Gallon": 18,
          "Name": "ford pinto",
          "Origin": "USA",
          "Weight_in_lbs": 2984,
          "Year": "1975-01-01T00:00:00"
         },
         {
          "Acceleration": 14,
          "Cylinders": 4,
          "Displacement": 90,
          "Horsepower": 70,
          "Miles_per_Gallon": 29,
          "Name": "volkswagen rabbit",
          "Origin": "Europe",
          "Weight_in_lbs": 1937,
          "Year": "1975-01-01T00:00:00"
         },
         {
          "Acceleration": 17,
          "Cylinders": 6,
          "Displacement": 232,
          "Horsepower": 90,
          "Miles_per_Gallon": 19,
          "Name": "amc pacer",
          "Origin": "USA",
          "Weight_in_lbs": 3211,
          "Year": "1975-01-01T00:00:00"
         },
         {
          "Acceleration": 15,
          "Cylinders": 4,
          "Displacement": 115,
          "Horsepower": 95,
          "Miles_per_Gallon": 23,
          "Name": "audi 100ls",
          "Origin": "Europe",
          "Weight_in_lbs": 2694,
          "Year": "1975-01-01T00:00:00"
         },
         {
          "Acceleration": 17,
          "Cylinders": 4,
          "Displacement": 120,
          "Horsepower": 88,
          "Miles_per_Gallon": 23,
          "Name": "peugeot 504",
          "Origin": "Europe",
          "Weight_in_lbs": 2957,
          "Year": "1975-01-01T00:00:00"
         },
         {
          "Acceleration": 14.5,
          "Cylinders": 4,
          "Displacement": 121,
          "Horsepower": 98,
          "Miles_per_Gallon": 22,
          "Name": "volvo 244dl",
          "Origin": "Europe",
          "Weight_in_lbs": 2945,
          "Year": "1975-01-01T00:00:00"
         },
         {
          "Acceleration": 13.5,
          "Cylinders": 4,
          "Displacement": 121,
          "Horsepower": 115,
          "Miles_per_Gallon": 25,
          "Name": "saab 99le",
          "Origin": "Europe",
          "Weight_in_lbs": 2671,
          "Year": "1975-01-01T00:00:00"
         },
         {
          "Acceleration": 17.5,
          "Cylinders": 4,
          "Displacement": 91,
          "Horsepower": 53,
          "Miles_per_Gallon": 33,
          "Name": "honda civic cvcc",
          "Origin": "Japan",
          "Weight_in_lbs": 1795,
          "Year": "1975-01-01T00:00:00"
         },
         {
          "Acceleration": 15.5,
          "Cylinders": 4,
          "Displacement": 107,
          "Horsepower": 86,
          "Miles_per_Gallon": 28,
          "Name": "fiat 131",
          "Origin": "Europe",
          "Weight_in_lbs": 2464,
          "Year": "1976-01-01T00:00:00"
         },
         {
          "Acceleration": 16.9,
          "Cylinders": 4,
          "Displacement": 116,
          "Horsepower": 81,
          "Miles_per_Gallon": 25,
          "Name": "opel 1900",
          "Origin": "Europe",
          "Weight_in_lbs": 2220,
          "Year": "1976-01-01T00:00:00"
         },
         {
          "Acceleration": 14.9,
          "Cylinders": 4,
          "Displacement": 140,
          "Horsepower": 92,
          "Miles_per_Gallon": 25,
          "Name": "capri ii",
          "Origin": "USA",
          "Weight_in_lbs": 2572,
          "Year": "1976-01-01T00:00:00"
         },
         {
          "Acceleration": 17.7,
          "Cylinders": 4,
          "Displacement": 98,
          "Horsepower": 79,
          "Miles_per_Gallon": 26,
          "Name": "dodge colt",
          "Origin": "USA",
          "Weight_in_lbs": 2255,
          "Year": "1976-01-01T00:00:00"
         },
         {
          "Acceleration": 15.3,
          "Cylinders": 4,
          "Displacement": 101,
          "Horsepower": 83,
          "Miles_per_Gallon": 27,
          "Name": "renault 12tl",
          "Origin": "Europe",
          "Weight_in_lbs": 2202,
          "Year": "1976-01-01T00:00:00"
         },
         {
          "Acceleration": 13,
          "Cylinders": 8,
          "Displacement": 305,
          "Horsepower": 140,
          "Miles_per_Gallon": 17.5,
          "Name": "chevrolet chevelle malibu classic",
          "Origin": "USA",
          "Weight_in_lbs": 4215,
          "Year": "1976-01-01T00:00:00"
         },
         {
          "Acceleration": 13,
          "Cylinders": 8,
          "Displacement": 318,
          "Horsepower": 150,
          "Miles_per_Gallon": 16,
          "Name": "dodge coronet brougham",
          "Origin": "USA",
          "Weight_in_lbs": 4190,
          "Year": "1976-01-01T00:00:00"
         },
         {
          "Acceleration": 13.9,
          "Cylinders": 8,
          "Displacement": 304,
          "Horsepower": 120,
          "Miles_per_Gallon": 15.5,
          "Name": "amc matador",
          "Origin": "USA",
          "Weight_in_lbs": 3962,
          "Year": "1976-01-01T00:00:00"
         },
         {
          "Acceleration": 12.8,
          "Cylinders": 8,
          "Displacement": 351,
          "Horsepower": 152,
          "Miles_per_Gallon": 14.5,
          "Name": "ford gran torino",
          "Origin": "USA",
          "Weight_in_lbs": 4215,
          "Year": "1976-01-01T00:00:00"
         },
         {
          "Acceleration": 15.4,
          "Cylinders": 6,
          "Displacement": 225,
          "Horsepower": 100,
          "Miles_per_Gallon": 22,
          "Name": "plymouth valiant",
          "Origin": "USA",
          "Weight_in_lbs": 3233,
          "Year": "1976-01-01T00:00:00"
         },
         {
          "Acceleration": 14.5,
          "Cylinders": 6,
          "Displacement": 250,
          "Horsepower": 105,
          "Miles_per_Gallon": 22,
          "Name": "chevrolet nova",
          "Origin": "USA",
          "Weight_in_lbs": 3353,
          "Year": "1976-01-01T00:00:00"
         },
         {
          "Acceleration": 17.6,
          "Cylinders": 6,
          "Displacement": 200,
          "Horsepower": 81,
          "Miles_per_Gallon": 24,
          "Name": "ford maverick",
          "Origin": "USA",
          "Weight_in_lbs": 3012,
          "Year": "1976-01-01T00:00:00"
         },
         {
          "Acceleration": 17.6,
          "Cylinders": 6,
          "Displacement": 232,
          "Horsepower": 90,
          "Miles_per_Gallon": 22.5,
          "Name": "amc hornet",
          "Origin": "USA",
          "Weight_in_lbs": 3085,
          "Year": "1976-01-01T00:00:00"
         },
         {
          "Acceleration": 22.2,
          "Cylinders": 4,
          "Displacement": 85,
          "Horsepower": 52,
          "Miles_per_Gallon": 29,
          "Name": "chevrolet chevette",
          "Origin": "USA",
          "Weight_in_lbs": 2035,
          "Year": "1976-01-01T00:00:00"
         },
         {
          "Acceleration": 22.1,
          "Cylinders": 4,
          "Displacement": 98,
          "Horsepower": 60,
          "Miles_per_Gallon": 24.5,
          "Name": "chevrolet woody",
          "Origin": "USA",
          "Weight_in_lbs": 2164,
          "Year": "1976-01-01T00:00:00"
         },
         {
          "Acceleration": 14.2,
          "Cylinders": 4,
          "Displacement": 90,
          "Horsepower": 70,
          "Miles_per_Gallon": 29,
          "Name": "vw rabbit",
          "Origin": "Europe",
          "Weight_in_lbs": 1937,
          "Year": "1976-01-01T00:00:00"
         },
         {
          "Acceleration": 17.4,
          "Cylinders": 4,
          "Displacement": 91,
          "Horsepower": 53,
          "Miles_per_Gallon": 33,
          "Name": "honda civic",
          "Origin": "Japan",
          "Weight_in_lbs": 1795,
          "Year": "1976-01-01T00:00:00"
         },
         {
          "Acceleration": 17.7,
          "Cylinders": 6,
          "Displacement": 225,
          "Horsepower": 100,
          "Miles_per_Gallon": 20,
          "Name": "dodge aspen se",
          "Origin": "USA",
          "Weight_in_lbs": 3651,
          "Year": "1976-01-01T00:00:00"
         },
         {
          "Acceleration": 21,
          "Cylinders": 6,
          "Displacement": 250,
          "Horsepower": 78,
          "Miles_per_Gallon": 18,
          "Name": "ford granada ghia",
          "Origin": "USA",
          "Weight_in_lbs": 3574,
          "Year": "1976-01-01T00:00:00"
         },
         {
          "Acceleration": 16.2,
          "Cylinders": 6,
          "Displacement": 250,
          "Horsepower": 110,
          "Miles_per_Gallon": 18.5,
          "Name": "pontiac ventura sj",
          "Origin": "USA",
          "Weight_in_lbs": 3645,
          "Year": "1976-01-01T00:00:00"
         },
         {
          "Acceleration": 17.8,
          "Cylinders": 6,
          "Displacement": 258,
          "Horsepower": 95,
          "Miles_per_Gallon": 17.5,
          "Name": "amc pacer d/l",
          "Origin": "USA",
          "Weight_in_lbs": 3193,
          "Year": "1976-01-01T00:00:00"
         },
         {
          "Acceleration": 12.2,
          "Cylinders": 4,
          "Displacement": 97,
          "Horsepower": 71,
          "Miles_per_Gallon": 29.5,
          "Name": "volkswagen rabbit",
          "Origin": "Europe",
          "Weight_in_lbs": 1825,
          "Year": "1976-01-01T00:00:00"
         },
         {
          "Acceleration": 17,
          "Cylinders": 4,
          "Displacement": 85,
          "Horsepower": 70,
          "Miles_per_Gallon": 32,
          "Name": "datsun b-210",
          "Origin": "Japan",
          "Weight_in_lbs": 1990,
          "Year": "1976-01-01T00:00:00"
         },
         {
          "Acceleration": 16.4,
          "Cylinders": 4,
          "Displacement": 97,
          "Horsepower": 75,
          "Miles_per_Gallon": 28,
          "Name": "toyota corolla",
          "Origin": "Japan",
          "Weight_in_lbs": 2155,
          "Year": "1976-01-01T00:00:00"
         },
         {
          "Acceleration": 13.6,
          "Cylinders": 4,
          "Displacement": 140,
          "Horsepower": 72,
          "Miles_per_Gallon": 26.5,
          "Name": "ford pinto",
          "Origin": "USA",
          "Weight_in_lbs": 2565,
          "Year": "1976-01-01T00:00:00"
         },
         {
          "Acceleration": 15.7,
          "Cylinders": 4,
          "Displacement": 130,
          "Horsepower": 102,
          "Miles_per_Gallon": 20,
          "Name": "volvo 245",
          "Origin": "Europe",
          "Weight_in_lbs": 3150,
          "Year": "1976-01-01T00:00:00"
         },
         {
          "Acceleration": 13.2,
          "Cylinders": 8,
          "Displacement": 318,
          "Horsepower": 150,
          "Miles_per_Gallon": 13,
          "Name": "plymouth volare premier v8",
          "Origin": "USA",
          "Weight_in_lbs": 3940,
          "Year": "1976-01-01T00:00:00"
         },
         {
          "Acceleration": 21.9,
          "Cylinders": 4,
          "Displacement": 120,
          "Horsepower": 88,
          "Miles_per_Gallon": 19,
          "Name": "peugeot 504",
          "Origin": "Europe",
          "Weight_in_lbs": 3270,
          "Year": "1976-01-01T00:00:00"
         },
         {
          "Acceleration": 15.5,
          "Cylinders": 6,
          "Displacement": 156,
          "Horsepower": 108,
          "Miles_per_Gallon": 19,
          "Name": "toyota mark ii",
          "Origin": "Japan",
          "Weight_in_lbs": 2930,
          "Year": "1976-01-01T00:00:00"
         },
         {
          "Acceleration": 16.7,
          "Cylinders": 6,
          "Displacement": 168,
          "Horsepower": 120,
          "Miles_per_Gallon": 16.5,
          "Name": "mercedes-benz 280s",
          "Origin": "Europe",
          "Weight_in_lbs": 3820,
          "Year": "1976-01-01T00:00:00"
         },
         {
          "Acceleration": 12.1,
          "Cylinders": 8,
          "Displacement": 350,
          "Horsepower": 180,
          "Miles_per_Gallon": 16.5,
          "Name": "cadillac seville",
          "Origin": "USA",
          "Weight_in_lbs": 4380,
          "Year": "1976-01-01T00:00:00"
         },
         {
          "Acceleration": 12,
          "Cylinders": 8,
          "Displacement": 350,
          "Horsepower": 145,
          "Miles_per_Gallon": 13,
          "Name": "chevy c10",
          "Origin": "USA",
          "Weight_in_lbs": 4055,
          "Year": "1976-01-01T00:00:00"
         },
         {
          "Acceleration": 15,
          "Cylinders": 8,
          "Displacement": 302,
          "Horsepower": 130,
          "Miles_per_Gallon": 13,
          "Name": "ford f108",
          "Origin": "USA",
          "Weight_in_lbs": 3870,
          "Year": "1976-01-01T00:00:00"
         },
         {
          "Acceleration": 14,
          "Cylinders": 8,
          "Displacement": 318,
          "Horsepower": 150,
          "Miles_per_Gallon": 13,
          "Name": "dodge d100",
          "Origin": "USA",
          "Weight_in_lbs": 3755,
          "Year": "1976-01-01T00:00:00"
         },
         {
          "Acceleration": 18.5,
          "Cylinders": 4,
          "Displacement": 98,
          "Horsepower": 68,
          "Miles_per_Gallon": 31.5,
          "Name": "honda Accelerationord cvcc",
          "Origin": "Japan",
          "Weight_in_lbs": 2045,
          "Year": "1977-01-01T00:00:00"
         },
         {
          "Acceleration": 14.8,
          "Cylinders": 4,
          "Displacement": 111,
          "Horsepower": 80,
          "Miles_per_Gallon": 30,
          "Name": "buick opel isuzu deluxe",
          "Origin": "USA",
          "Weight_in_lbs": 2155,
          "Year": "1977-01-01T00:00:00"
         },
         {
          "Acceleration": 18.6,
          "Cylinders": 4,
          "Displacement": 79,
          "Horsepower": 58,
          "Miles_per_Gallon": 36,
          "Name": "renault 5 gtl",
          "Origin": "Europe",
          "Weight_in_lbs": 1825,
          "Year": "1977-01-01T00:00:00"
         },
         {
          "Acceleration": 15.5,
          "Cylinders": 4,
          "Displacement": 122,
          "Horsepower": 96,
          "Miles_per_Gallon": 25.5,
          "Name": "plymouth arrow gs",
          "Origin": "USA",
          "Weight_in_lbs": 2300,
          "Year": "1977-01-01T00:00:00"
         },
         {
          "Acceleration": 16.8,
          "Cylinders": 4,
          "Displacement": 85,
          "Horsepower": 70,
          "Miles_per_Gallon": 33.5,
          "Name": "datsun f-10 hatchback",
          "Origin": "Japan",
          "Weight_in_lbs": 1945,
          "Year": "1977-01-01T00:00:00"
         },
         {
          "Acceleration": 12.5,
          "Cylinders": 8,
          "Displacement": 305,
          "Horsepower": 145,
          "Miles_per_Gallon": 17.5,
          "Name": "chevrolet caprice classic",
          "Origin": "USA",
          "Weight_in_lbs": 3880,
          "Year": "1977-01-01T00:00:00"
         },
         {
          "Acceleration": 19,
          "Cylinders": 8,
          "Displacement": 260,
          "Horsepower": 110,
          "Miles_per_Gallon": 17,
          "Name": "oldsmobile cutlass supreme",
          "Origin": "USA",
          "Weight_in_lbs": 4060,
          "Year": "1977-01-01T00:00:00"
         },
         {
          "Acceleration": 13.7,
          "Cylinders": 8,
          "Displacement": 318,
          "Horsepower": 145,
          "Miles_per_Gallon": 15.5,
          "Name": "dodge monaco brougham",
          "Origin": "USA",
          "Weight_in_lbs": 4140,
          "Year": "1977-01-01T00:00:00"
         },
         {
          "Acceleration": 14.9,
          "Cylinders": 8,
          "Displacement": 302,
          "Horsepower": 130,
          "Miles_per_Gallon": 15,
          "Name": "mercury cougar brougham",
          "Origin": "USA",
          "Weight_in_lbs": 4295,
          "Year": "1977-01-01T00:00:00"
         },
         {
          "Acceleration": 16.4,
          "Cylinders": 6,
          "Displacement": 250,
          "Horsepower": 110,
          "Miles_per_Gallon": 17.5,
          "Name": "chevrolet concours",
          "Origin": "USA",
          "Weight_in_lbs": 3520,
          "Year": "1977-01-01T00:00:00"
         },
         {
          "Acceleration": 16.9,
          "Cylinders": 6,
          "Displacement": 231,
          "Horsepower": 105,
          "Miles_per_Gallon": 20.5,
          "Name": "buick skylark",
          "Origin": "USA",
          "Weight_in_lbs": 3425,
          "Year": "1977-01-01T00:00:00"
         },
         {
          "Acceleration": 17.7,
          "Cylinders": 6,
          "Displacement": 225,
          "Horsepower": 100,
          "Miles_per_Gallon": 19,
          "Name": "plymouth volare custom",
          "Origin": "USA",
          "Weight_in_lbs": 3630,
          "Year": "1977-01-01T00:00:00"
         },
         {
          "Acceleration": 19,
          "Cylinders": 6,
          "Displacement": 250,
          "Horsepower": 98,
          "Miles_per_Gallon": 18.5,
          "Name": "ford granada",
          "Origin": "USA",
          "Weight_in_lbs": 3525,
          "Year": "1977-01-01T00:00:00"
         },
         {
          "Acceleration": 11.1,
          "Cylinders": 8,
          "Displacement": 400,
          "Horsepower": 180,
          "Miles_per_Gallon": 16,
          "Name": "pontiac grand prix lj",
          "Origin": "USA",
          "Weight_in_lbs": 4220,
          "Year": "1977-01-01T00:00:00"
         },
         {
          "Acceleration": 11.4,
          "Cylinders": 8,
          "Displacement": 350,
          "Horsepower": 170,
          "Miles_per_Gallon": 15.5,
          "Name": "chevrolet monte carlo landau",
          "Origin": "USA",
          "Weight_in_lbs": 4165,
          "Year": "1977-01-01T00:00:00"
         },
         {
          "Acceleration": 12.2,
          "Cylinders": 8,
          "Displacement": 400,
          "Horsepower": 190,
          "Miles_per_Gallon": 15.5,
          "Name": "chrysler cordoba",
          "Origin": "USA",
          "Weight_in_lbs": 4325,
          "Year": "1977-01-01T00:00:00"
         },
         {
          "Acceleration": 14.5,
          "Cylinders": 8,
          "Displacement": 351,
          "Horsepower": 149,
          "Miles_per_Gallon": 16,
          "Name": "ford thunderbird",
          "Origin": "USA",
          "Weight_in_lbs": 4335,
          "Year": "1977-01-01T00:00:00"
         },
         {
          "Acceleration": 14.5,
          "Cylinders": 4,
          "Displacement": 97,
          "Horsepower": 78,
          "Miles_per_Gallon": 29,
          "Name": "volkswagen rabbit custom",
          "Origin": "Europe",
          "Weight_in_lbs": 1940,
          "Year": "1977-01-01T00:00:00"
         },
         {
          "Acceleration": 16,
          "Cylinders": 4,
          "Displacement": 151,
          "Horsepower": 88,
          "Miles_per_Gallon": 24.5,
          "Name": "pontiac sunbird coupe",
          "Origin": "USA",
          "Weight_in_lbs": 2740,
          "Year": "1977-01-01T00:00:00"
         },
         {
          "Acceleration": 18.2,
          "Cylinders": 4,
          "Displacement": 97,
          "Horsepower": 75,
          "Miles_per_Gallon": 26,
          "Name": "toyota corolla liftback",
          "Origin": "Japan",
          "Weight_in_lbs": 2265,
          "Year": "1977-01-01T00:00:00"
         },
         {
          "Acceleration": 15.8,
          "Cylinders": 4,
          "Displacement": 140,
          "Horsepower": 89,
          "Miles_per_Gallon": 25.5,
          "Name": "ford mustang ii 2+2",
          "Origin": "USA",
          "Weight_in_lbs": 2755,
          "Year": "1977-01-01T00:00:00"
         },
         {
          "Acceleration": 17,
          "Cylinders": 4,
          "Displacement": 98,
          "Horsepower": 63,
          "Miles_per_Gallon": 30.5,
          "Name": "chevrolet chevette",
          "Origin": "USA",
          "Weight_in_lbs": 2051,
          "Year": "1977-01-01T00:00:00"
         },
         {
          "Acceleration": 15.9,
          "Cylinders": 4,
          "Displacement": 98,
          "Horsepower": 83,
          "Miles_per_Gallon": 33.5,
          "Name": "dodge colt m/m",
          "Origin": "USA",
          "Weight_in_lbs": 2075,
          "Year": "1977-01-01T00:00:00"
         },
         {
          "Acceleration": 16.4,
          "Cylinders": 4,
          "Displacement": 97,
          "Horsepower": 67,
          "Miles_per_Gallon": 30,
          "Name": "subaru dl",
          "Origin": "Japan",
          "Weight_in_lbs": 1985,
          "Year": "1977-01-01T00:00:00"
         },
         {
          "Acceleration": 14.1,
          "Cylinders": 4,
          "Displacement": 97,
          "Horsepower": 78,
          "Miles_per_Gallon": 30.5,
          "Name": "volkswagen dasher",
          "Origin": "Europe",
          "Weight_in_lbs": 2190,
          "Year": "1977-01-01T00:00:00"
         },
         {
          "Acceleration": 14.5,
          "Cylinders": 6,
          "Displacement": 146,
          "Horsepower": 97,
          "Miles_per_Gallon": 22,
          "Name": "datsun 810",
          "Origin": "Japan",
          "Weight_in_lbs": 2815,
          "Year": "1977-01-01T00:00:00"
         },
         {
          "Acceleration": 12.8,
          "Cylinders": 4,
          "Displacement": 121,
          "Horsepower": 110,
          "Miles_per_Gallon": 21.5,
          "Name": "bmw 320i",
          "Origin": "Europe",
          "Weight_in_lbs": 2600,
          "Year": "1977-01-01T00:00:00"
         },
         {
          "Acceleration": 13.5,
          "Cylinders": 3,
          "Displacement": 80,
          "Horsepower": 110,
          "Miles_per_Gallon": 21.5,
          "Name": "mazda rx-4",
          "Origin": "Japan",
          "Weight_in_lbs": 2720,
          "Year": "1977-01-01T00:00:00"
         },
         {
          "Acceleration": 21.5,
          "Cylinders": 4,
          "Displacement": 90,
          "Horsepower": 48,
          "Miles_per_Gallon": 43.1,
          "Name": "volkswagen rabbit custom diesel",
          "Origin": "Europe",
          "Weight_in_lbs": 1985,
          "Year": "1978-01-01T00:00:00"
         },
         {
          "Acceleration": 14.4,
          "Cylinders": 4,
          "Displacement": 98,
          "Horsepower": 66,
          "Miles_per_Gallon": 36.1,
          "Name": "ford fiesta",
          "Origin": "USA",
          "Weight_in_lbs": 1800,
          "Year": "1978-01-01T00:00:00"
         },
         {
          "Acceleration": 19.4,
          "Cylinders": 4,
          "Displacement": 78,
          "Horsepower": 52,
          "Miles_per_Gallon": 32.8,
          "Name": "mazda glc deluxe",
          "Origin": "Japan",
          "Weight_in_lbs": 1985,
          "Year": "1978-01-01T00:00:00"
         },
         {
          "Acceleration": 18.6,
          "Cylinders": 4,
          "Displacement": 85,
          "Horsepower": 70,
          "Miles_per_Gallon": 39.4,
          "Name": "datsun b210 gx",
          "Origin": "Japan",
          "Weight_in_lbs": 2070,
          "Year": "1978-01-01T00:00:00"
         },
         {
          "Acceleration": 16.4,
          "Cylinders": 4,
          "Displacement": 91,
          "Horsepower": 60,
          "Miles_per_Gallon": 36.1,
          "Name": "honda civic cvcc",
          "Origin": "Japan",
          "Weight_in_lbs": 1800,
          "Year": "1978-01-01T00:00:00"
         },
         {
          "Acceleration": 15.5,
          "Cylinders": 8,
          "Displacement": 260,
          "Horsepower": 110,
          "Miles_per_Gallon": 19.9,
          "Name": "oldsmobile cutlass salon brougham",
          "Origin": "USA",
          "Weight_in_lbs": 3365,
          "Year": "1978-01-01T00:00:00"
         },
         {
          "Acceleration": 13.2,
          "Cylinders": 8,
          "Displacement": 318,
          "Horsepower": 140,
          "Miles_per_Gallon": 19.4,
          "Name": "dodge diplomat",
          "Origin": "USA",
          "Weight_in_lbs": 3735,
          "Year": "1978-01-01T00:00:00"
         },
         {
          "Acceleration": 12.8,
          "Cylinders": 8,
          "Displacement": 302,
          "Horsepower": 139,
          "Miles_per_Gallon": 20.2,
          "Name": "mercury monarch ghia",
          "Origin": "USA",
          "Weight_in_lbs": 3570,
          "Year": "1978-01-01T00:00:00"
         },
         {
          "Acceleration": 19.2,
          "Cylinders": 6,
          "Displacement": 231,
          "Horsepower": 105,
          "Miles_per_Gallon": 19.2,
          "Name": "pontiac phoenix lj",
          "Origin": "USA",
          "Weight_in_lbs": 3535,
          "Year": "1978-01-01T00:00:00"
         },
         {
          "Acceleration": 18.2,
          "Cylinders": 6,
          "Displacement": 200,
          "Horsepower": 95,
          "Miles_per_Gallon": 20.5,
          "Name": "chevrolet malibu",
          "Origin": "USA",
          "Weight_in_lbs": 3155,
          "Year": "1978-01-01T00:00:00"
         },
         {
          "Acceleration": 15.8,
          "Cylinders": 6,
          "Displacement": 200,
          "Horsepower": 85,
          "Miles_per_Gallon": 20.2,
          "Name": "ford fairmont (auto)",
          "Origin": "USA",
          "Weight_in_lbs": 2965,
          "Year": "1978-01-01T00:00:00"
         },
         {
          "Acceleration": 15.4,
          "Cylinders": 4,
          "Displacement": 140,
          "Horsepower": 88,
          "Miles_per_Gallon": 25.1,
          "Name": "ford fairmont (man)",
          "Origin": "USA",
          "Weight_in_lbs": 2720,
          "Year": "1978-01-01T00:00:00"
         },
         {
          "Acceleration": 17.2,
          "Cylinders": 6,
          "Displacement": 225,
          "Horsepower": 100,
          "Miles_per_Gallon": 20.5,
          "Name": "plymouth volare",
          "Origin": "USA",
          "Weight_in_lbs": 3430,
          "Year": "1978-01-01T00:00:00"
         },
         {
          "Acceleration": 17.2,
          "Cylinders": 6,
          "Displacement": 232,
          "Horsepower": 90,
          "Miles_per_Gallon": 19.4,
          "Name": "amc concord",
          "Origin": "USA",
          "Weight_in_lbs": 3210,
          "Year": "1978-01-01T00:00:00"
         },
         {
          "Acceleration": 15.8,
          "Cylinders": 6,
          "Displacement": 231,
          "Horsepower": 105,
          "Miles_per_Gallon": 20.6,
          "Name": "buick century special",
          "Origin": "USA",
          "Weight_in_lbs": 3380,
          "Year": "1978-01-01T00:00:00"
         },
         {
          "Acceleration": 16.7,
          "Cylinders": 6,
          "Displacement": 200,
          "Horsepower": 85,
          "Miles_per_Gallon": 20.8,
          "Name": "mercury zephyr",
          "Origin": "USA",
          "Weight_in_lbs": 3070,
          "Year": "1978-01-01T00:00:00"
         },
         {
          "Acceleration": 18.7,
          "Cylinders": 6,
          "Displacement": 225,
          "Horsepower": 110,
          "Miles_per_Gallon": 18.6,
          "Name": "dodge aspen",
          "Origin": "USA",
          "Weight_in_lbs": 3620,
          "Year": "1978-01-01T00:00:00"
         },
         {
          "Acceleration": 15.1,
          "Cylinders": 6,
          "Displacement": 258,
          "Horsepower": 120,
          "Miles_per_Gallon": 18.1,
          "Name": "amc concord d/l",
          "Origin": "USA",
          "Weight_in_lbs": 3410,
          "Year": "1978-01-01T00:00:00"
         },
         {
          "Acceleration": 13.2,
          "Cylinders": 8,
          "Displacement": 305,
          "Horsepower": 145,
          "Miles_per_Gallon": 19.2,
          "Name": "chevrolet monte carlo landau",
          "Origin": "USA",
          "Weight_in_lbs": 3425,
          "Year": "1978-01-01T00:00:00"
         },
         {
          "Acceleration": 13.4,
          "Cylinders": 6,
          "Displacement": 231,
          "Horsepower": 165,
          "Miles_per_Gallon": 17.7,
          "Name": "buick regal sport coupe (turbo)",
          "Origin": "USA",
          "Weight_in_lbs": 3445,
          "Year": "1978-01-01T00:00:00"
         },
         {
          "Acceleration": 11.2,
          "Cylinders": 8,
          "Displacement": 302,
          "Horsepower": 139,
          "Miles_per_Gallon": 18.1,
          "Name": "ford futura",
          "Origin": "USA",
          "Weight_in_lbs": 3205,
          "Year": "1978-01-01T00:00:00"
         },
         {
          "Acceleration": 13.7,
          "Cylinders": 8,
          "Displacement": 318,
          "Horsepower": 140,
          "Miles_per_Gallon": 17.5,
          "Name": "dodge magnum xe",
          "Origin": "USA",
          "Weight_in_lbs": 4080,
          "Year": "1978-01-01T00:00:00"
         },
         {
          "Acceleration": 16.5,
          "Cylinders": 4,
          "Displacement": 98,
          "Horsepower": 68,
          "Miles_per_Gallon": 30,
          "Name": "chevrolet chevette",
          "Origin": "USA",
          "Weight_in_lbs": 2155,
          "Year": "1978-01-01T00:00:00"
         },
         {
          "Acceleration": 14.2,
          "Cylinders": 4,
          "Displacement": 134,
          "Horsepower": 95,
          "Miles_per_Gallon": 27.5,
          "Name": "toyota corona",
          "Origin": "Japan",
          "Weight_in_lbs": 2560,
          "Year": "1978-01-01T00:00:00"
         },
         {
          "Acceleration": 14.7,
          "Cylinders": 4,
          "Displacement": 119,
          "Horsepower": 97,
          "Miles_per_Gallon": 27.2,
          "Name": "datsun 510",
          "Origin": "Japan",
          "Weight_in_lbs": 2300,
          "Year": "1978-01-01T00:00:00"
         },
         {
          "Acceleration": 14.5,
          "Cylinders": 4,
          "Displacement": 105,
          "Horsepower": 75,
          "Miles_per_Gallon": 30.9,
          "Name": "dodge omni",
          "Origin": "USA",
          "Weight_in_lbs": 2230,
          "Year": "1978-01-01T00:00:00"
         },
         {
          "Acceleration": 14.8,
          "Cylinders": 4,
          "Displacement": 134,
          "Horsepower": 95,
          "Miles_per_Gallon": 21.1,
          "Name": "toyota celica gt liftback",
          "Origin": "Japan",
          "Weight_in_lbs": 2515,
          "Year": "1978-01-01T00:00:00"
         },
         {
          "Acceleration": 16.7,
          "Cylinders": 4,
          "Displacement": 156,
          "Horsepower": 105,
          "Miles_per_Gallon": 23.2,
          "Name": "plymouth sapporo",
          "Origin": "USA",
          "Weight_in_lbs": 2745,
          "Year": "1978-01-01T00:00:00"
         },
         {
          "Acceleration": 17.6,
          "Cylinders": 4,
          "Displacement": 151,
          "Horsepower": 85,
          "Miles_per_Gallon": 23.8,
          "Name": "oldsmobile starfire sx",
          "Origin": "USA",
          "Weight_in_lbs": 2855,
          "Year": "1978-01-01T00:00:00"
         },
         {
          "Acceleration": 14.9,
          "Cylinders": 4,
          "Displacement": 119,
          "Horsepower": 97,
          "Miles_per_Gallon": 23.9,
          "Name": "datsun 200-sx",
          "Origin": "Japan",
          "Weight_in_lbs": 2405,
          "Year": "1978-01-01T00:00:00"
         },
         {
          "Acceleration": 15.9,
          "Cylinders": 5,
          "Displacement": 131,
          "Horsepower": 103,
          "Miles_per_Gallon": 20.3,
          "Name": "audi 5000",
          "Origin": "Europe",
          "Weight_in_lbs": 2830,
          "Year": "1978-01-01T00:00:00"
         },
         {
          "Acceleration": 13.6,
          "Cylinders": 6,
          "Displacement": 163,
          "Horsepower": 125,
          "Miles_per_Gallon": 17,
          "Name": "volvo 264gl",
          "Origin": "Europe",
          "Weight_in_lbs": 3140,
          "Year": "1978-01-01T00:00:00"
         },
         {
          "Acceleration": 15.7,
          "Cylinders": 4,
          "Displacement": 121,
          "Horsepower": 115,
          "Miles_per_Gallon": 21.6,
          "Name": "saab 99gle",
          "Origin": "Europe",
          "Weight_in_lbs": 2795,
          "Year": "1978-01-01T00:00:00"
         },
         {
          "Acceleration": 15.8,
          "Cylinders": 6,
          "Displacement": 163,
          "Horsepower": 133,
          "Miles_per_Gallon": 16.2,
          "Name": "peugeot 604sl",
          "Origin": "Europe",
          "Weight_in_lbs": 3410,
          "Year": "1978-01-01T00:00:00"
         },
         {
          "Acceleration": 14.9,
          "Cylinders": 4,
          "Displacement": 89,
          "Horsepower": 71,
          "Miles_per_Gallon": 31.5,
          "Name": "volkswagen scirocco",
          "Origin": "Europe",
          "Weight_in_lbs": 1990,
          "Year": "1978-01-01T00:00:00"
         },
         {
          "Acceleration": 16.6,
          "Cylinders": 4,
          "Displacement": 98,
          "Horsepower": 68,
          "Miles_per_Gallon": 29.5,
          "Name": "honda Accelerationord lx",
          "Origin": "Japan",
          "Weight_in_lbs": 2135,
          "Year": "1978-01-01T00:00:00"
         },
         {
          "Acceleration": 15.4,
          "Cylinders": 6,
          "Displacement": 231,
          "Horsepower": 115,
          "Miles_per_Gallon": 21.5,
          "Name": "pontiac lemans v6",
          "Origin": "USA",
          "Weight_in_lbs": 3245,
          "Year": "1979-01-01T00:00:00"
         },
         {
          "Acceleration": 18.2,
          "Cylinders": 6,
          "Displacement": 200,
          "Horsepower": 85,
          "Miles_per_Gallon": 19.8,
          "Name": "mercury zephyr 6",
          "Origin": "USA",
          "Weight_in_lbs": 2990,
          "Year": "1979-01-01T00:00:00"
         },
         {
          "Acceleration": 17.3,
          "Cylinders": 4,
          "Displacement": 140,
          "Horsepower": 88,
          "Miles_per_Gallon": 22.3,
          "Name": "ford fairmont 4",
          "Origin": "USA",
          "Weight_in_lbs": 2890,
          "Year": "1979-01-01T00:00:00"
         },
         {
          "Acceleration": 18.2,
          "Cylinders": 6,
          "Displacement": 232,
          "Horsepower": 90,
          "Miles_per_Gallon": 20.2,
          "Name": "amc concord dl 6",
          "Origin": "USA",
          "Weight_in_lbs": 3265,
          "Year": "1979-01-01T00:00:00"
         },
         {
          "Acceleration": 16.6,
          "Cylinders": 6,
          "Displacement": 225,
          "Horsepower": 110,
          "Miles_per_Gallon": 20.6,
          "Name": "dodge aspen 6",
          "Origin": "USA",
          "Weight_in_lbs": 3360,
          "Year": "1979-01-01T00:00:00"
         },
         {
          "Acceleration": 15.4,
          "Cylinders": 8,
          "Displacement": 305,
          "Horsepower": 130,
          "Miles_per_Gallon": 17,
          "Name": "chevrolet caprice classic",
          "Origin": "USA",
          "Weight_in_lbs": 3840,
          "Year": "1979-01-01T00:00:00"
         },
         {
          "Acceleration": 13.4,
          "Cylinders": 8,
          "Displacement": 302,
          "Horsepower": 129,
          "Miles_per_Gallon": 17.6,
          "Name": "ford ltd landau",
          "Origin": "USA",
          "Weight_in_lbs": 3725,
          "Year": "1979-01-01T00:00:00"
         },
         {
          "Acceleration": 13.2,
          "Cylinders": 8,
          "Displacement": 351,
          "Horsepower": 138,
          "Miles_per_Gallon": 16.5,
          "Name": "mercury grand marquis",
          "Origin": "USA",
          "Weight_in_lbs": 3955,
          "Year": "1979-01-01T00:00:00"
         },
         {
          "Acceleration": 15.2,
          "Cylinders": 8,
          "Displacement": 318,
          "Horsepower": 135,
          "Miles_per_Gallon": 18.2,
          "Name": "dodge st. regis",
          "Origin": "USA",
          "Weight_in_lbs": 3830,
          "Year": "1979-01-01T00:00:00"
         },
         {
          "Acceleration": 14.9,
          "Cylinders": 8,
          "Displacement": 350,
          "Horsepower": 155,
          "Miles_per_Gallon": 16.9,
          "Name": "buick estate wagon (sw)",
          "Origin": "USA",
          "Weight_in_lbs": 4360,
          "Year": "1979-01-01T00:00:00"
         },
         {
          "Acceleration": 14.3,
          "Cylinders": 8,
          "Displacement": 351,
          "Horsepower": 142,
          "Miles_per_Gallon": 15.5,
          "Name": "ford country squire (sw)",
          "Origin": "USA",
          "Weight_in_lbs": 4054,
          "Year": "1979-01-01T00:00:00"
         },
         {
          "Acceleration": 15,
          "Cylinders": 8,
          "Displacement": 267,
          "Horsepower": 125,
          "Miles_per_Gallon": 19.2,
          "Name": "chevrolet malibu classic (sw)",
          "Origin": "USA",
          "Weight_in_lbs": 3605,
          "Year": "1979-01-01T00:00:00"
         },
         {
          "Acceleration": 13,
          "Cylinders": 8,
          "Displacement": 360,
          "Horsepower": 150,
          "Miles_per_Gallon": 18.5,
          "Name": "chrysler lebaron town @ country (sw)",
          "Origin": "USA",
          "Weight_in_lbs": 3940,
          "Year": "1979-01-01T00:00:00"
         },
         {
          "Acceleration": 14,
          "Cylinders": 4,
          "Displacement": 89,
          "Horsepower": 71,
          "Miles_per_Gallon": 31.9,
          "Name": "vw rabbit custom",
          "Origin": "Europe",
          "Weight_in_lbs": 1925,
          "Year": "1979-01-01T00:00:00"
         },
         {
          "Acceleration": 15.2,
          "Cylinders": 4,
          "Displacement": 86,
          "Horsepower": 65,
          "Miles_per_Gallon": 34.1,
          "Name": "maxda glc deluxe",
          "Origin": "Japan",
          "Weight_in_lbs": 1975,
          "Year": "1979-01-01T00:00:00"
         },
         {
          "Acceleration": 14.4,
          "Cylinders": 4,
          "Displacement": 98,
          "Horsepower": 80,
          "Miles_per_Gallon": 35.7,
          "Name": "dodge colt hatchback custom",
          "Origin": "USA",
          "Weight_in_lbs": 1915,
          "Year": "1979-01-01T00:00:00"
         },
         {
          "Acceleration": 15,
          "Cylinders": 4,
          "Displacement": 121,
          "Horsepower": 80,
          "Miles_per_Gallon": 27.4,
          "Name": "amc spirit dl",
          "Origin": "USA",
          "Weight_in_lbs": 2670,
          "Year": "1979-01-01T00:00:00"
         },
         {
          "Acceleration": 20.1,
          "Cylinders": 5,
          "Displacement": 183,
          "Horsepower": 77,
          "Miles_per_Gallon": 25.4,
          "Name": "mercedes benz 300d",
          "Origin": "Europe",
          "Weight_in_lbs": 3530,
          "Year": "1979-01-01T00:00:00"
         },
         {
          "Acceleration": 17.4,
          "Cylinders": 8,
          "Displacement": 350,
          "Horsepower": 125,
          "Miles_per_Gallon": 23,
          "Name": "cadillac eldorado",
          "Origin": "USA",
          "Weight_in_lbs": 3900,
          "Year": "1979-01-01T00:00:00"
         },
         {
          "Acceleration": 24.8,
          "Cylinders": 4,
          "Displacement": 141,
          "Horsepower": 71,
          "Miles_per_Gallon": 27.2,
          "Name": "peugeot 504",
          "Origin": "Europe",
          "Weight_in_lbs": 3190,
          "Year": "1979-01-01T00:00:00"
         },
         {
          "Acceleration": 22.2,
          "Cylinders": 8,
          "Displacement": 260,
          "Horsepower": 90,
          "Miles_per_Gallon": 23.9,
          "Name": "oldsmobile cutlass salon brougham",
          "Origin": "USA",
          "Weight_in_lbs": 3420,
          "Year": "1979-01-01T00:00:00"
         },
         {
          "Acceleration": 13.2,
          "Cylinders": 4,
          "Displacement": 105,
          "Horsepower": 70,
          "Miles_per_Gallon": 34.2,
          "Name": "plymouth horizon",
          "Origin": "USA",
          "Weight_in_lbs": 2200,
          "Year": "1979-01-01T00:00:00"
         },
         {
          "Acceleration": 14.9,
          "Cylinders": 4,
          "Displacement": 105,
          "Horsepower": 70,
          "Miles_per_Gallon": 34.5,
          "Name": "plymouth horizon tc3",
          "Origin": "USA",
          "Weight_in_lbs": 2150,
          "Year": "1979-01-01T00:00:00"
         },
         {
          "Acceleration": 19.2,
          "Cylinders": 4,
          "Displacement": 85,
          "Horsepower": 65,
          "Miles_per_Gallon": 31.8,
          "Name": "datsun 210",
          "Origin": "Japan",
          "Weight_in_lbs": 2020,
          "Year": "1979-01-01T00:00:00"
         },
         {
          "Acceleration": 14.7,
          "Cylinders": 4,
          "Displacement": 91,
          "Horsepower": 69,
          "Miles_per_Gallon": 37.3,
          "Name": "fiat strada custom",
          "Origin": "Europe",
          "Weight_in_lbs": 2130,
          "Year": "1979-01-01T00:00:00"
         },
         {
          "Acceleration": 16,
          "Cylinders": 4,
          "Displacement": 151,
          "Horsepower": 90,
          "Miles_per_Gallon": 28.4,
          "Name": "buick skylark limited",
          "Origin": "USA",
          "Weight_in_lbs": 2670,
          "Year": "1979-01-01T00:00:00"
         },
         {
          "Acceleration": 11.3,
          "Cylinders": 6,
          "Displacement": 173,
          "Horsepower": 115,
          "Miles_per_Gallon": 28.8,
          "Name": "chevrolet citation",
          "Origin": "USA",
          "Weight_in_lbs": 2595,
          "Year": "1979-01-01T00:00:00"
         },
         {
          "Acceleration": 12.9,
          "Cylinders": 6,
          "Displacement": 173,
          "Horsepower": 115,
          "Miles_per_Gallon": 26.8,
          "Name": "oldsmobile omega brougham",
          "Origin": "USA",
          "Weight_in_lbs": 2700,
          "Year": "1979-01-01T00:00:00"
         },
         {
          "Acceleration": 13.2,
          "Cylinders": 4,
          "Displacement": 151,
          "Horsepower": 90,
          "Miles_per_Gallon": 33.5,
          "Name": "pontiac phoenix",
          "Origin": "USA",
          "Weight_in_lbs": 2556,
          "Year": "1979-01-01T00:00:00"
         },
         {
          "Acceleration": 14.7,
          "Cylinders": 4,
          "Displacement": 98,
          "Horsepower": 76,
          "Miles_per_Gallon": 41.5,
          "Name": "vw rabbit",
          "Origin": "Europe",
          "Weight_in_lbs": 2144,
          "Year": "1980-01-01T00:00:00"
         },
         {
          "Acceleration": 18.8,
          "Cylinders": 4,
          "Displacement": 89,
          "Horsepower": 60,
          "Miles_per_Gallon": 38.1,
          "Name": "toyota corolla tercel",
          "Origin": "Japan",
          "Weight_in_lbs": 1968,
          "Year": "1980-01-01T00:00:00"
         },
         {
          "Acceleration": 15.5,
          "Cylinders": 4,
          "Displacement": 98,
          "Horsepower": 70,
          "Miles_per_Gallon": 32.1,
          "Name": "chevrolet chevette",
          "Origin": "USA",
          "Weight_in_lbs": 2120,
          "Year": "1980-01-01T00:00:00"
         },
         {
          "Acceleration": 16.4,
          "Cylinders": 4,
          "Displacement": 86,
          "Horsepower": 65,
          "Miles_per_Gallon": 37.2,
          "Name": "datsun 310",
          "Origin": "Japan",
          "Weight_in_lbs": 2019,
          "Year": "1980-01-01T00:00:00"
         },
         {
          "Acceleration": 16.5,
          "Cylinders": 4,
          "Displacement": 151,
          "Horsepower": 90,
          "Miles_per_Gallon": 28,
          "Name": "chevrolet citation",
          "Origin": "USA",
          "Weight_in_lbs": 2678,
          "Year": "1980-01-01T00:00:00"
         },
         {
          "Acceleration": 18.1,
          "Cylinders": 4,
          "Displacement": 140,
          "Horsepower": 88,
          "Miles_per_Gallon": 26.4,
          "Name": "ford fairmont",
          "Origin": "USA",
          "Weight_in_lbs": 2870,
          "Year": "1980-01-01T00:00:00"
         },
         {
          "Acceleration": 20.1,
          "Cylinders": 4,
          "Displacement": 151,
          "Horsepower": 90,
          "Miles_per_Gallon": 24.3,
          "Name": "amc concord",
          "Origin": "USA",
          "Weight_in_lbs": 3003,
          "Year": "1980-01-01T00:00:00"
         },
         {
          "Acceleration": 18.7,
          "Cylinders": 6,
          "Displacement": 225,
          "Horsepower": 90,
          "Miles_per_Gallon": 19.1,
          "Name": "dodge aspen",
          "Origin": "USA",
          "Weight_in_lbs": 3381,
          "Year": "1980-01-01T00:00:00"
         },
         {
          "Acceleration": 15.8,
          "Cylinders": 4,
          "Displacement": 97,
          "Horsepower": 78,
          "Miles_per_Gallon": 34.3,
          "Name": "audi 4000",
          "Origin": "Europe",
          "Weight_in_lbs": 2188,
          "Year": "1980-01-01T00:00:00"
         },
         {
          "Acceleration": 15.5,
          "Cylinders": 4,
          "Displacement": 134,
          "Horsepower": 90,
          "Miles_per_Gallon": 29.8,
          "Name": "toyota corona liftback",
          "Origin": "Japan",
          "Weight_in_lbs": 2711,
          "Year": "1980-01-01T00:00:00"
         },
         {
          "Acceleration": 17.5,
          "Cylinders": 4,
          "Displacement": 120,
          "Horsepower": 75,
          "Miles_per_Gallon": 31.3,
          "Name": "mazda 626",
          "Origin": "Japan",
          "Weight_in_lbs": 2542,
          "Year": "1980-01-01T00:00:00"
         },
         {
          "Acceleration": 15,
          "Cylinders": 4,
          "Displacement": 119,
          "Horsepower": 92,
          "Miles_per_Gallon": 37,
          "Name": "datsun 510 hatchback",
          "Origin": "Japan",
          "Weight_in_lbs": 2434,
          "Year": "1980-01-01T00:00:00"
         },
         {
          "Acceleration": 15.2,
          "Cylinders": 4,
          "Displacement": 108,
          "Horsepower": 75,
          "Miles_per_Gallon": 32.2,
          "Name": "toyota corolla",
          "Origin": "Japan",
          "Weight_in_lbs": 2265,
          "Year": "1980-01-01T00:00:00"
         },
         {
          "Acceleration": 17.9,
          "Cylinders": 4,
          "Displacement": 86,
          "Horsepower": 65,
          "Miles_per_Gallon": 46.6,
          "Name": "mazda glc",
          "Origin": "Japan",
          "Weight_in_lbs": 2110,
          "Year": "1980-01-01T00:00:00"
         },
         {
          "Acceleration": 14.4,
          "Cylinders": 4,
          "Displacement": 156,
          "Horsepower": 105,
          "Miles_per_Gallon": 27.9,
          "Name": "dodge colt",
          "Origin": "USA",
          "Weight_in_lbs": 2800,
          "Year": "1980-01-01T00:00:00"
         },
         {
          "Acceleration": 19.2,
          "Cylinders": 4,
          "Displacement": 85,
          "Horsepower": 65,
          "Miles_per_Gallon": 40.8,
          "Name": "datsun 210",
          "Origin": "Japan",
          "Weight_in_lbs": 2110,
          "Year": "1980-01-01T00:00:00"
         },
         {
          "Acceleration": 21.7,
          "Cylinders": 4,
          "Displacement": 90,
          "Horsepower": 48,
          "Miles_per_Gallon": 44.3,
          "Name": "vw rabbit c (diesel)",
          "Origin": "Europe",
          "Weight_in_lbs": 2085,
          "Year": "1980-01-01T00:00:00"
         },
         {
          "Acceleration": 23.7,
          "Cylinders": 4,
          "Displacement": 90,
          "Horsepower": 48,
          "Miles_per_Gallon": 43.4,
          "Name": "vw dasher (diesel)",
          "Origin": "Europe",
          "Weight_in_lbs": 2335,
          "Year": "1980-01-01T00:00:00"
         },
         {
          "Acceleration": 19.9,
          "Cylinders": 5,
          "Displacement": 121,
          "Horsepower": 67,
          "Miles_per_Gallon": 36.4,
          "Name": "audi 5000s (diesel)",
          "Origin": "Europe",
          "Weight_in_lbs": 2950,
          "Year": "1980-01-01T00:00:00"
         },
         {
          "Acceleration": 21.8,
          "Cylinders": 4,
          "Displacement": 146,
          "Horsepower": 67,
          "Miles_per_Gallon": 30,
          "Name": "mercedes-benz 240d",
          "Origin": "Europe",
          "Weight_in_lbs": 3250,
          "Year": "1980-01-01T00:00:00"
         },
         {
          "Acceleration": 13.8,
          "Cylinders": 4,
          "Displacement": 91,
          "Horsepower": 67,
          "Miles_per_Gallon": 44.6,
          "Name": "honda civic 1500 gl",
          "Origin": "Japan",
          "Weight_in_lbs": 1850,
          "Year": "1980-01-01T00:00:00"
         },
         {
          "Acceleration": 17.3,
          "Cylinders": 4,
          "Displacement": 85,
          "Horsepower": null,
          "Miles_per_Gallon": 40.9,
          "Name": "renault lecar deluxe",
          "Origin": "Europe",
          "Weight_in_lbs": 1835,
          "Year": "1980-01-01T00:00:00"
         },
         {
          "Acceleration": 18,
          "Cylinders": 4,
          "Displacement": 97,
          "Horsepower": 67,
          "Miles_per_Gallon": 33.8,
          "Name": "subaru dl",
          "Origin": "Japan",
          "Weight_in_lbs": 2145,
          "Year": "1980-01-01T00:00:00"
         },
         {
          "Acceleration": 15.3,
          "Cylinders": 4,
          "Displacement": 89,
          "Horsepower": 62,
          "Miles_per_Gallon": 29.8,
          "Name": "vokswagen rabbit",
          "Origin": "Europe",
          "Weight_in_lbs": 1845,
          "Year": "1980-01-01T00:00:00"
         },
         {
          "Acceleration": 11.4,
          "Cylinders": 6,
          "Displacement": 168,
          "Horsepower": 132,
          "Miles_per_Gallon": 32.7,
          "Name": "datsun 280-zx",
          "Origin": "Japan",
          "Weight_in_lbs": 2910,
          "Year": "1980-01-01T00:00:00"
         },
         {
          "Acceleration": 12.5,
          "Cylinders": 3,
          "Displacement": 70,
          "Horsepower": 100,
          "Miles_per_Gallon": 23.7,
          "Name": "mazda rx-7 gs",
          "Origin": "Japan",
          "Weight_in_lbs": 2420,
          "Year": "1980-01-01T00:00:00"
         },
         {
          "Acceleration": 15.1,
          "Cylinders": 4,
          "Displacement": 122,
          "Horsepower": 88,
          "Miles_per_Gallon": 35,
          "Name": "triumph tr7 coupe",
          "Origin": "Europe",
          "Weight_in_lbs": 2500,
          "Year": "1980-01-01T00:00:00"
         },
         {
          "Acceleration": 14.3,
          "Cylinders": 4,
          "Displacement": 140,
          "Horsepower": null,
          "Miles_per_Gallon": 23.6,
          "Name": "ford mustang cobra",
          "Origin": "USA",
          "Weight_in_lbs": 2905,
          "Year": "1980-01-01T00:00:00"
         },
         {
          "Acceleration": 17,
          "Cylinders": 4,
          "Displacement": 107,
          "Horsepower": 72,
          "Miles_per_Gallon": 32.4,
          "Name": "honda Accelerationord",
          "Origin": "Japan",
          "Weight_in_lbs": 2290,
          "Year": "1980-01-01T00:00:00"
         }
        ]
       },
       "encoding": {
        "x": {
         "field": "Year",
         "timeUnit": "year",
         "type": "ordinal"
        },
        "y": {
         "aggregate": "mean",
         "field": "Miles_per_Gallon",
         "type": "quantitative"
        }
       },
       "mark": "line",
       "title": {
        "subtitle": [
         "Average fuel efficiency by miles per",
         "gallon of different makes and models",
         "of cars since 1970.",
         " "
        ],
        "text": "Cars"
       }
      },
      "image/png": "[encoded data removed]",
      "text/plain": [
       "<VegaLite 4 object>\n",
       "\n",
       "If you see this message, it means the renderer has not been properly enabled\n",
       "for the frontend that you are using. For more information, see\n",
       "https://altair-viz.github.io/user_guide/troubleshooting.html\n"
      ]
     },
     "execution_count": 10,
     "metadata": {},
     "output_type": "execute_result"
    }
   ],
   "source": [
    "alt.Chart(cars).mark_line().encode(\n",
    "    x=alt.X('year(Year):O'), # wrap `Year` column with Altair's year() fn, then type as :O[rdinal] for proper display\n",
    "    y=alt.Y('mean(Miles_per_Gallon)'),\n",
    ").properties(\n",
    "    title={\n",
    "        'text': 'Cars',\n",
    "        'subtitle' : ['Average fuel efficiency by miles per', 'gallon of different makes and models', 'of cars since 1970.', ' ']\n",
    "    }\n",
    ")"
   ]
  },
  {
   "cell_type": "markdown",
   "id": "0effa591-ad4b-4ea5-83f3-be4a2af55510",
   "metadata": {
    "tags": []
   },
   "source": [
    "## Scatterplot"
   ]
  },
  {
   "cell_type": "code",
   "execution_count": 11,
   "id": "5c5023cc-2b4a-434d-8082-09933a73d0e4",
   "metadata": {},
   "outputs": [
    {
     "data": {
      "application/vnd.vegalite.v4+json": {
       "$schema": "https://vega.github.io/schema/vega-lite/v4.17.0.json",
       "config": {
        "arc": {
         "fill": "#0077bb"
        },
        "area": {
         "fill": "#0077bb"
        },
        "axis": {
         "gridColor": "#dddddd",
         "labelColor": "#666666",
         "labelFlush": false,
         "labelFont": "Tenon",
         "labelFontSize": 13,
         "labelFontWeight": 400,
         "labelPadding": 5,
         "tickSize": 6,
         "title": null,
         "titleColor": "#666666",
         "titleFontWeight": 300
        },
        "axisX": {
         "domainColor": "#666666",
         "tickColor": "#666666"
        },
        "axisY": {
         "domainColor": "#666666",
         "tickColor": "#666666"
        },
        "background": "#f9f9f9",
        "bar": {
         "fill": "#0077bb"
        },
        "legend": {
         "columnPadding": 20,
         "direction": "horizontal",
         "labelAlign": "left",
         "labelBaseline": "middle",
         "labelColor": "#222222",
         "labelFont": "Tenon",
         "labelFontSize": 16,
         "labelFontWeight": 300,
         "offset": 40,
         "orient": "top",
         "rowPadding": 10,
         "symbolType": "square",
         "title": null,
         "titleFont": "Tenon",
         "titleFontSize": 16,
         "titleFontWeight": 400
        },
        "line": {
         "stroke": "#0077bb",
         "strokeWidth": 3
        },
        "padding": {
         "bottom": 80,
         "left": 20,
         "right": 20,
         "top": 20
        },
        "path": {
         "stroke": "#0077bb"
        },
        "point": {
         "stroke": "#0077bb"
        },
        "rect": {
         "fill": "#0077bb"
        },
        "shape": {
         "stroke": "#0077bb"
        },
        "symbol": {
         "fill": "#0077bb",
         "size": 30
        },
        "title": {
         "align": "left",
         "anchor": "start",
         "color": "#222222",
         "font": "Tenon",
         "fontSize": 28,
         "fontWeight": 500,
         "subtitleColor": "#222222",
         "subtitleFont": "Tenon",
         "subtitleFontSize": 20,
         "subtitleFontWeight": 300,
         "subtitleLineHeight": 24,
         "subtitlePadding": 10
        },
        "view": {
         "height": 500,
         "strokeOpacity": 0,
         "width": 320
        }
       },
       "data": {
        "name": "data-a264acbd6e539a8b3afc0cb5f240fb57"
       },
       "datasets": {
        "data-a264acbd6e539a8b3afc0cb5f240fb57": [
         {
          "petalLength": 1.4,
          "petalWidth": 0.2,
          "sepalLength": 5.1,
          "sepalWidth": 3.5,
          "species": "setosa"
         },
         {
          "petalLength": 1.4,
          "petalWidth": 0.2,
          "sepalLength": 4.9,
          "sepalWidth": 3,
          "species": "setosa"
         },
         {
          "petalLength": 1.3,
          "petalWidth": 0.2,
          "sepalLength": 4.7,
          "sepalWidth": 3.2,
          "species": "setosa"
         },
         {
          "petalLength": 1.5,
          "petalWidth": 0.2,
          "sepalLength": 4.6,
          "sepalWidth": 3.1,
          "species": "setosa"
         },
         {
          "petalLength": 1.4,
          "petalWidth": 0.2,
          "sepalLength": 5,
          "sepalWidth": 3.6,
          "species": "setosa"
         },
         {
          "petalLength": 1.7000000000000002,
          "petalWidth": 0.4,
          "sepalLength": 5.4,
          "sepalWidth": 3.9,
          "species": "setosa"
         },
         {
          "petalLength": 1.4,
          "petalWidth": 0.30000000000000004,
          "sepalLength": 4.6,
          "sepalWidth": 3.4,
          "species": "setosa"
         },
         {
          "petalLength": 1.5,
          "petalWidth": 0.2,
          "sepalLength": 5,
          "sepalWidth": 3.4,
          "species": "setosa"
         },
         {
          "petalLength": 1.4,
          "petalWidth": 0.2,
          "sepalLength": 4.4,
          "sepalWidth": 2.9,
          "species": "setosa"
         },
         {
          "petalLength": 1.5,
          "petalWidth": 0.1,
          "sepalLength": 4.9,
          "sepalWidth": 3.1,
          "species": "setosa"
         },
         {
          "petalLength": 1.5,
          "petalWidth": 0.2,
          "sepalLength": 5.4,
          "sepalWidth": 3.7,
          "species": "setosa"
         },
         {
          "petalLength": 1.6,
          "petalWidth": 0.2,
          "sepalLength": 4.8,
          "sepalWidth": 3.4,
          "species": "setosa"
         },
         {
          "petalLength": 1.4,
          "petalWidth": 0.1,
          "sepalLength": 4.8,
          "sepalWidth": 3,
          "species": "setosa"
         },
         {
          "petalLength": 1.1,
          "petalWidth": 0.1,
          "sepalLength": 4.3,
          "sepalWidth": 3,
          "species": "setosa"
         },
         {
          "petalLength": 1.2,
          "petalWidth": 0.2,
          "sepalLength": 5.8,
          "sepalWidth": 4,
          "species": "setosa"
         },
         {
          "petalLength": 1.5,
          "petalWidth": 0.4,
          "sepalLength": 5.7,
          "sepalWidth": 4.4,
          "species": "setosa"
         },
         {
          "petalLength": 1.3,
          "petalWidth": 0.4,
          "sepalLength": 5.4,
          "sepalWidth": 3.9,
          "species": "setosa"
         },
         {
          "petalLength": 1.4,
          "petalWidth": 0.30000000000000004,
          "sepalLength": 5.1,
          "sepalWidth": 3.5,
          "species": "setosa"
         },
         {
          "petalLength": 1.7000000000000002,
          "petalWidth": 0.30000000000000004,
          "sepalLength": 5.7,
          "sepalWidth": 3.8,
          "species": "setosa"
         },
         {
          "petalLength": 1.5,
          "petalWidth": 0.30000000000000004,
          "sepalLength": 5.1,
          "sepalWidth": 3.8,
          "species": "setosa"
         },
         {
          "petalLength": 1.7000000000000002,
          "petalWidth": 0.2,
          "sepalLength": 5.4,
          "sepalWidth": 3.4,
          "species": "setosa"
         },
         {
          "petalLength": 1.5,
          "petalWidth": 0.4,
          "sepalLength": 5.1,
          "sepalWidth": 3.7,
          "species": "setosa"
         },
         {
          "petalLength": 1,
          "petalWidth": 0.2,
          "sepalLength": 4.6,
          "sepalWidth": 3.6,
          "species": "setosa"
         },
         {
          "petalLength": 1.7000000000000002,
          "petalWidth": 0.5,
          "sepalLength": 5.1,
          "sepalWidth": 3.3,
          "species": "setosa"
         },
         {
          "petalLength": 1.9,
          "petalWidth": 0.2,
          "sepalLength": 4.8,
          "sepalWidth": 3.4,
          "species": "setosa"
         },
         {
          "petalLength": 1.6,
          "petalWidth": 0.2,
          "sepalLength": 5,
          "sepalWidth": 3,
          "species": "setosa"
         },
         {
          "petalLength": 1.6,
          "petalWidth": 0.4,
          "sepalLength": 5,
          "sepalWidth": 3.4,
          "species": "setosa"
         },
         {
          "petalLength": 1.5,
          "petalWidth": 0.2,
          "sepalLength": 5.2,
          "sepalWidth": 3.5,
          "species": "setosa"
         },
         {
          "petalLength": 1.4,
          "petalWidth": 0.2,
          "sepalLength": 5.2,
          "sepalWidth": 3.4,
          "species": "setosa"
         },
         {
          "petalLength": 1.6,
          "petalWidth": 0.2,
          "sepalLength": 4.7,
          "sepalWidth": 3.2,
          "species": "setosa"
         },
         {
          "petalLength": 1.6,
          "petalWidth": 0.2,
          "sepalLength": 4.8,
          "sepalWidth": 3.1,
          "species": "setosa"
         },
         {
          "petalLength": 1.5,
          "petalWidth": 0.4,
          "sepalLength": 5.4,
          "sepalWidth": 3.4,
          "species": "setosa"
         },
         {
          "petalLength": 1.5,
          "petalWidth": 0.1,
          "sepalLength": 5.2,
          "sepalWidth": 4.1,
          "species": "setosa"
         },
         {
          "petalLength": 1.4,
          "petalWidth": 0.2,
          "sepalLength": 5.5,
          "sepalWidth": 4.2,
          "species": "setosa"
         },
         {
          "petalLength": 1.5,
          "petalWidth": 0.2,
          "sepalLength": 4.9,
          "sepalWidth": 3.1,
          "species": "setosa"
         },
         {
          "petalLength": 1.2,
          "petalWidth": 0.2,
          "sepalLength": 5,
          "sepalWidth": 3.2,
          "species": "setosa"
         },
         {
          "petalLength": 1.3,
          "petalWidth": 0.2,
          "sepalLength": 5.5,
          "sepalWidth": 3.5,
          "species": "setosa"
         },
         {
          "petalLength": 1.4,
          "petalWidth": 0.1,
          "sepalLength": 4.9,
          "sepalWidth": 3.6,
          "species": "setosa"
         },
         {
          "petalLength": 1.3,
          "petalWidth": 0.2,
          "sepalLength": 4.4,
          "sepalWidth": 3,
          "species": "setosa"
         },
         {
          "petalLength": 1.5,
          "petalWidth": 0.2,
          "sepalLength": 5.1,
          "sepalWidth": 3.4,
          "species": "setosa"
         },
         {
          "petalLength": 1.3,
          "petalWidth": 0.30000000000000004,
          "sepalLength": 5,
          "sepalWidth": 3.5,
          "species": "setosa"
         },
         {
          "petalLength": 1.3,
          "petalWidth": 0.30000000000000004,
          "sepalLength": 4.5,
          "sepalWidth": 2.3,
          "species": "setosa"
         },
         {
          "petalLength": 1.3,
          "petalWidth": 0.2,
          "sepalLength": 4.4,
          "sepalWidth": 3.2,
          "species": "setosa"
         },
         {
          "petalLength": 1.6,
          "petalWidth": 0.6000000000000001,
          "sepalLength": 5,
          "sepalWidth": 3.5,
          "species": "setosa"
         },
         {
          "petalLength": 1.9,
          "petalWidth": 0.4,
          "sepalLength": 5.1,
          "sepalWidth": 3.8,
          "species": "setosa"
         },
         {
          "petalLength": 1.4,
          "petalWidth": 0.30000000000000004,
          "sepalLength": 4.8,
          "sepalWidth": 3,
          "species": "setosa"
         },
         {
          "petalLength": 1.6,
          "petalWidth": 0.2,
          "sepalLength": 5.1,
          "sepalWidth": 3.8,
          "species": "setosa"
         },
         {
          "petalLength": 1.4,
          "petalWidth": 0.2,
          "sepalLength": 4.6,
          "sepalWidth": 3.2,
          "species": "setosa"
         },
         {
          "petalLength": 1.5,
          "petalWidth": 0.2,
          "sepalLength": 5.3,
          "sepalWidth": 3.7,
          "species": "setosa"
         },
         {
          "petalLength": 1.4,
          "petalWidth": 0.2,
          "sepalLength": 5,
          "sepalWidth": 3.3,
          "species": "setosa"
         },
         {
          "petalLength": 4.7,
          "petalWidth": 1.4,
          "sepalLength": 7,
          "sepalWidth": 3.2,
          "species": "versicolor"
         },
         {
          "petalLength": 4.5,
          "petalWidth": 1.5,
          "sepalLength": 6.4,
          "sepalWidth": 3.2,
          "species": "versicolor"
         },
         {
          "petalLength": 4.9,
          "petalWidth": 1.5,
          "sepalLength": 6.9,
          "sepalWidth": 3.1,
          "species": "versicolor"
         },
         {
          "petalLength": 4,
          "petalWidth": 1.3,
          "sepalLength": 5.5,
          "sepalWidth": 2.3,
          "species": "versicolor"
         },
         {
          "petalLength": 4.6,
          "petalWidth": 1.5,
          "sepalLength": 6.5,
          "sepalWidth": 2.8,
          "species": "versicolor"
         },
         {
          "petalLength": 4.5,
          "petalWidth": 1.3,
          "sepalLength": 5.7,
          "sepalWidth": 2.8,
          "species": "versicolor"
         },
         {
          "petalLength": 4.7,
          "petalWidth": 1.6,
          "sepalLength": 6.3,
          "sepalWidth": 3.3,
          "species": "versicolor"
         },
         {
          "petalLength": 3.3,
          "petalWidth": 1,
          "sepalLength": 4.9,
          "sepalWidth": 2.4,
          "species": "versicolor"
         },
         {
          "petalLength": 4.6,
          "petalWidth": 1.3,
          "sepalLength": 6.6,
          "sepalWidth": 2.9,
          "species": "versicolor"
         },
         {
          "petalLength": 3.9,
          "petalWidth": 1.4,
          "sepalLength": 5.2,
          "sepalWidth": 2.7,
          "species": "versicolor"
         },
         {
          "petalLength": 3.5,
          "petalWidth": 1,
          "sepalLength": 5,
          "sepalWidth": 2,
          "species": "versicolor"
         },
         {
          "petalLength": 4.2,
          "petalWidth": 1.5,
          "sepalLength": 5.9,
          "sepalWidth": 3,
          "species": "versicolor"
         },
         {
          "petalLength": 4,
          "petalWidth": 1,
          "sepalLength": 6,
          "sepalWidth": 2.2,
          "species": "versicolor"
         },
         {
          "petalLength": 4.7,
          "petalWidth": 1.4,
          "sepalLength": 6.1,
          "sepalWidth": 2.9,
          "species": "versicolor"
         },
         {
          "petalLength": 3.6,
          "petalWidth": 1.3,
          "sepalLength": 5.6,
          "sepalWidth": 2.9,
          "species": "versicolor"
         },
         {
          "petalLength": 4.4,
          "petalWidth": 1.4,
          "sepalLength": 6.7,
          "sepalWidth": 3.1,
          "species": "versicolor"
         },
         {
          "petalLength": 4.5,
          "petalWidth": 1.5,
          "sepalLength": 5.6,
          "sepalWidth": 3,
          "species": "versicolor"
         },
         {
          "petalLength": 4.1,
          "petalWidth": 1,
          "sepalLength": 5.8,
          "sepalWidth": 2.7,
          "species": "versicolor"
         },
         {
          "petalLength": 4.5,
          "petalWidth": 1.5,
          "sepalLength": 6.2,
          "sepalWidth": 2.2,
          "species": "versicolor"
         },
         {
          "petalLength": 3.9,
          "petalWidth": 1.1,
          "sepalLength": 5.6,
          "sepalWidth": 2.5,
          "species": "versicolor"
         },
         {
          "petalLength": 4.8,
          "petalWidth": 1.8,
          "sepalLength": 5.9,
          "sepalWidth": 3.2,
          "species": "versicolor"
         },
         {
          "petalLength": 4,
          "petalWidth": 1.3,
          "sepalLength": 6.1,
          "sepalWidth": 2.8,
          "species": "versicolor"
         },
         {
          "petalLength": 4.9,
          "petalWidth": 1.5,
          "sepalLength": 6.3,
          "sepalWidth": 2.5,
          "species": "versicolor"
         },
         {
          "petalLength": 4.7,
          "petalWidth": 1.2,
          "sepalLength": 6.1,
          "sepalWidth": 2.8,
          "species": "versicolor"
         },
         {
          "petalLength": 4.3,
          "petalWidth": 1.3,
          "sepalLength": 6.4,
          "sepalWidth": 2.9,
          "species": "versicolor"
         },
         {
          "petalLength": 4.4,
          "petalWidth": 1.4,
          "sepalLength": 6.6,
          "sepalWidth": 3,
          "species": "versicolor"
         },
         {
          "petalLength": 4.8,
          "petalWidth": 1.4,
          "sepalLength": 6.8,
          "sepalWidth": 2.8,
          "species": "versicolor"
         },
         {
          "petalLength": 5,
          "petalWidth": 1.7000000000000002,
          "sepalLength": 6.7,
          "sepalWidth": 3,
          "species": "versicolor"
         },
         {
          "petalLength": 4.5,
          "petalWidth": 1.5,
          "sepalLength": 6,
          "sepalWidth": 2.9,
          "species": "versicolor"
         },
         {
          "petalLength": 3.5,
          "petalWidth": 1,
          "sepalLength": 5.7,
          "sepalWidth": 2.6,
          "species": "versicolor"
         },
         {
          "petalLength": 3.8,
          "petalWidth": 1.1,
          "sepalLength": 5.5,
          "sepalWidth": 2.4,
          "species": "versicolor"
         },
         {
          "petalLength": 3.7,
          "petalWidth": 1,
          "sepalLength": 5.5,
          "sepalWidth": 2.4,
          "species": "versicolor"
         },
         {
          "petalLength": 3.9,
          "petalWidth": 1.2,
          "sepalLength": 5.8,
          "sepalWidth": 2.7,
          "species": "versicolor"
         },
         {
          "petalLength": 5.1,
          "petalWidth": 1.6,
          "sepalLength": 6,
          "sepalWidth": 2.7,
          "species": "versicolor"
         },
         {
          "petalLength": 4.5,
          "petalWidth": 1.5,
          "sepalLength": 5.4,
          "sepalWidth": 3,
          "species": "versicolor"
         },
         {
          "petalLength": 4.5,
          "petalWidth": 1.6,
          "sepalLength": 6,
          "sepalWidth": 3.4,
          "species": "versicolor"
         },
         {
          "petalLength": 4.7,
          "petalWidth": 1.5,
          "sepalLength": 6.7,
          "sepalWidth": 3.1,
          "species": "versicolor"
         },
         {
          "petalLength": 4.4,
          "petalWidth": 1.3,
          "sepalLength": 6.3,
          "sepalWidth": 2.3,
          "species": "versicolor"
         },
         {
          "petalLength": 4.1,
          "petalWidth": 1.3,
          "sepalLength": 5.6,
          "sepalWidth": 3,
          "species": "versicolor"
         },
         {
          "petalLength": 4,
          "petalWidth": 1.3,
          "sepalLength": 5.5,
          "sepalWidth": 2.5,
          "species": "versicolor"
         },
         {
          "petalLength": 4.4,
          "petalWidth": 1.2,
          "sepalLength": 5.5,
          "sepalWidth": 2.6,
          "species": "versicolor"
         },
         {
          "petalLength": 4.6,
          "petalWidth": 1.4,
          "sepalLength": 6.1,
          "sepalWidth": 3,
          "species": "versicolor"
         },
         {
          "petalLength": 4,
          "petalWidth": 1.2,
          "sepalLength": 5.8,
          "sepalWidth": 2.6,
          "species": "versicolor"
         },
         {
          "petalLength": 3.3,
          "petalWidth": 1,
          "sepalLength": 5,
          "sepalWidth": 2.3,
          "species": "versicolor"
         },
         {
          "petalLength": 4.2,
          "petalWidth": 1.3,
          "sepalLength": 5.6,
          "sepalWidth": 2.7,
          "species": "versicolor"
         },
         {
          "petalLength": 4.2,
          "petalWidth": 1.2,
          "sepalLength": 5.7,
          "sepalWidth": 3,
          "species": "versicolor"
         },
         {
          "petalLength": 4.2,
          "petalWidth": 1.3,
          "sepalLength": 5.7,
          "sepalWidth": 2.9,
          "species": "versicolor"
         },
         {
          "petalLength": 4.3,
          "petalWidth": 1.3,
          "sepalLength": 6.2,
          "sepalWidth": 2.9,
          "species": "versicolor"
         },
         {
          "petalLength": 3,
          "petalWidth": 1.1,
          "sepalLength": 5.1,
          "sepalWidth": 2.5,
          "species": "versicolor"
         },
         {
          "petalLength": 4.1,
          "petalWidth": 1.3,
          "sepalLength": 5.7,
          "sepalWidth": 2.8,
          "species": "versicolor"
         },
         {
          "petalLength": 6,
          "petalWidth": 2.5,
          "sepalLength": 6.3,
          "sepalWidth": 3.3,
          "species": "virginica"
         },
         {
          "petalLength": 5.1,
          "petalWidth": 1.9,
          "sepalLength": 5.8,
          "sepalWidth": 2.7,
          "species": "virginica"
         },
         {
          "petalLength": 5.9,
          "petalWidth": 2.1,
          "sepalLength": 7.1,
          "sepalWidth": 3,
          "species": "virginica"
         },
         {
          "petalLength": 5.6,
          "petalWidth": 1.8,
          "sepalLength": 6.3,
          "sepalWidth": 2.9,
          "species": "virginica"
         },
         {
          "petalLength": 5.8,
          "petalWidth": 2.2,
          "sepalLength": 6.5,
          "sepalWidth": 3,
          "species": "virginica"
         },
         {
          "petalLength": 6.6,
          "petalWidth": 2.1,
          "sepalLength": 7.6,
          "sepalWidth": 3,
          "species": "virginica"
         },
         {
          "petalLength": 4.5,
          "petalWidth": 1.7000000000000002,
          "sepalLength": 4.9,
          "sepalWidth": 2.5,
          "species": "virginica"
         },
         {
          "petalLength": 6.3,
          "petalWidth": 1.8,
          "sepalLength": 7.3,
          "sepalWidth": 2.9,
          "species": "virginica"
         },
         {
          "petalLength": 5.8,
          "petalWidth": 1.8,
          "sepalLength": 6.7,
          "sepalWidth": 2.5,
          "species": "virginica"
         },
         {
          "petalLength": 6.1,
          "petalWidth": 2.5,
          "sepalLength": 7.2,
          "sepalWidth": 3.6,
          "species": "virginica"
         },
         {
          "petalLength": 5.1,
          "petalWidth": 2,
          "sepalLength": 6.5,
          "sepalWidth": 3.2,
          "species": "virginica"
         },
         {
          "petalLength": 5.3,
          "petalWidth": 1.9,
          "sepalLength": 6.4,
          "sepalWidth": 2.7,
          "species": "virginica"
         },
         {
          "petalLength": 5.5,
          "petalWidth": 2.1,
          "sepalLength": 6.8,
          "sepalWidth": 3,
          "species": "virginica"
         },
         {
          "petalLength": 5,
          "petalWidth": 2,
          "sepalLength": 5.7,
          "sepalWidth": 2.5,
          "species": "virginica"
         },
         {
          "petalLength": 5.1,
          "petalWidth": 2.4,
          "sepalLength": 5.8,
          "sepalWidth": 2.8,
          "species": "virginica"
         },
         {
          "petalLength": 5.3,
          "petalWidth": 2.3,
          "sepalLength": 6.4,
          "sepalWidth": 3.2,
          "species": "virginica"
         },
         {
          "petalLength": 5.5,
          "petalWidth": 1.8,
          "sepalLength": 6.5,
          "sepalWidth": 3,
          "species": "virginica"
         },
         {
          "petalLength": 6.7,
          "petalWidth": 2.2,
          "sepalLength": 7.7,
          "sepalWidth": 3.8,
          "species": "virginica"
         },
         {
          "petalLength": 6.9,
          "petalWidth": 2.3,
          "sepalLength": 7.7,
          "sepalWidth": 2.6,
          "species": "virginica"
         },
         {
          "petalLength": 5,
          "petalWidth": 1.5,
          "sepalLength": 6,
          "sepalWidth": 2.2,
          "species": "virginica"
         },
         {
          "petalLength": 5.7,
          "petalWidth": 2.3,
          "sepalLength": 6.9,
          "sepalWidth": 3.2,
          "species": "virginica"
         },
         {
          "petalLength": 4.9,
          "petalWidth": 2,
          "sepalLength": 5.6,
          "sepalWidth": 2.8,
          "species": "virginica"
         },
         {
          "petalLength": 6.7,
          "petalWidth": 2,
          "sepalLength": 7.7,
          "sepalWidth": 2.8,
          "species": "virginica"
         },
         {
          "petalLength": 4.9,
          "petalWidth": 1.8,
          "sepalLength": 6.3,
          "sepalWidth": 2.7,
          "species": "virginica"
         },
         {
          "petalLength": 5.7,
          "petalWidth": 2.1,
          "sepalLength": 6.7,
          "sepalWidth": 3.3,
          "species": "virginica"
         },
         {
          "petalLength": 6,
          "petalWidth": 1.8,
          "sepalLength": 7.2,
          "sepalWidth": 3.2,
          "species": "virginica"
         },
         {
          "petalLength": 4.8,
          "petalWidth": 1.8,
          "sepalLength": 6.2,
          "sepalWidth": 2.8,
          "species": "virginica"
         },
         {
          "petalLength": 4.9,
          "petalWidth": 1.8,
          "sepalLength": 6.1,
          "sepalWidth": 3,
          "species": "virginica"
         },
         {
          "petalLength": 5.6,
          "petalWidth": 2.1,
          "sepalLength": 6.4,
          "sepalWidth": 2.8,
          "species": "virginica"
         },
         {
          "petalLength": 5.8,
          "petalWidth": 1.6,
          "sepalLength": 7.2,
          "sepalWidth": 3,
          "species": "virginica"
         },
         {
          "petalLength": 6.1,
          "petalWidth": 1.9,
          "sepalLength": 7.4,
          "sepalWidth": 2.8,
          "species": "virginica"
         },
         {
          "petalLength": 6.4,
          "petalWidth": 2,
          "sepalLength": 7.9,
          "sepalWidth": 3.8,
          "species": "virginica"
         },
         {
          "petalLength": 5.6,
          "petalWidth": 2.2,
          "sepalLength": 6.4,
          "sepalWidth": 2.8,
          "species": "virginica"
         },
         {
          "petalLength": 5.1,
          "petalWidth": 1.5,
          "sepalLength": 6.3,
          "sepalWidth": 2.8,
          "species": "virginica"
         },
         {
          "petalLength": 5.6,
          "petalWidth": 1.4,
          "sepalLength": 6.1,
          "sepalWidth": 2.6,
          "species": "virginica"
         },
         {
          "petalLength": 6.1,
          "petalWidth": 2.3,
          "sepalLength": 7.7,
          "sepalWidth": 3,
          "species": "virginica"
         },
         {
          "petalLength": 5.6,
          "petalWidth": 2.4,
          "sepalLength": 6.3,
          "sepalWidth": 3.4,
          "species": "virginica"
         },
         {
          "petalLength": 5.5,
          "petalWidth": 1.8,
          "sepalLength": 6.4,
          "sepalWidth": 3.1,
          "species": "virginica"
         },
         {
          "petalLength": 4.8,
          "petalWidth": 1.8,
          "sepalLength": 6,
          "sepalWidth": 3,
          "species": "virginica"
         },
         {
          "petalLength": 5.4,
          "petalWidth": 2.1,
          "sepalLength": 6.9,
          "sepalWidth": 3.1,
          "species": "virginica"
         },
         {
          "petalLength": 5.6,
          "petalWidth": 2.4,
          "sepalLength": 6.7,
          "sepalWidth": 3.1,
          "species": "virginica"
         },
         {
          "petalLength": 5.1,
          "petalWidth": 2.3,
          "sepalLength": 6.9,
          "sepalWidth": 3.1,
          "species": "virginica"
         },
         {
          "petalLength": 5.1,
          "petalWidth": 1.9,
          "sepalLength": 5.8,
          "sepalWidth": 2.7,
          "species": "virginica"
         },
         {
          "petalLength": 5.9,
          "petalWidth": 2.3,
          "sepalLength": 6.8,
          "sepalWidth": 3.2,
          "species": "virginica"
         },
         {
          "petalLength": 5.7,
          "petalWidth": 2.5,
          "sepalLength": 6.7,
          "sepalWidth": 3.3,
          "species": "virginica"
         },
         {
          "petalLength": 5.2,
          "petalWidth": 2.3,
          "sepalLength": 6.7,
          "sepalWidth": 3,
          "species": "virginica"
         },
         {
          "petalLength": 5,
          "petalWidth": 1.9,
          "sepalLength": 6.3,
          "sepalWidth": 2.5,
          "species": "virginica"
         },
         {
          "petalLength": 5.2,
          "petalWidth": 2,
          "sepalLength": 6.5,
          "sepalWidth": 3,
          "species": "virginica"
         },
         {
          "petalLength": 5.4,
          "petalWidth": 2.3,
          "sepalLength": 6.2,
          "sepalWidth": 3.4,
          "species": "virginica"
         },
         {
          "petalLength": 5.1,
          "petalWidth": 1.8,
          "sepalLength": 5.9,
          "sepalWidth": 3,
          "species": "virginica"
         }
        ]
       },
       "encoding": {
        "color": {
         "field": "species",
         "scale": {
          "scheme": "dark2"
         },
         "type": "nominal"
        },
        "x": {
         "field": "petalWidth",
         "type": "quantitative"
        },
        "y": {
         "field": "petalLength",
         "type": "quantitative"
        }
       },
       "mark": "point",
       "title": {
        "subtitle": [
         "Lengths and widths of petals and",
         "sepals for 150 iris flowers.",
         " "
        ],
        "text": "Irises"
       }
      },
      "image/png": "[encoded data removed]",
      "text/plain": [
       "<VegaLite 4 object>\n",
       "\n",
       "If you see this message, it means the renderer has not been properly enabled\n",
       "for the frontend that you are using. For more information, see\n",
       "https://altair-viz.github.io/user_guide/troubleshooting.html\n"
      ]
     },
     "execution_count": 11,
     "metadata": {},
     "output_type": "execute_result"
    }
   ],
   "source": [
    "alt.Chart(data.iris()).mark_point().encode(\n",
    "    x='petalWidth',\n",
    "    y='petalLength',\n",
    "    color=alt.Color('species', scale=alt.Scale(scheme='dark2'))\n",
    "    \n",
    "    # add a title to the legend if needed\n",
    "    # color=alt.Color('species', scale=alt.Scale(scheme='dark2'), title='Species')\n",
    "    # Key squares are oddly outlined in Altair but should be filled in Illustrator\n",
    ").configure_axisY( # adding some colors back to the scatterplot\n",
    "    domainColor='#666666',\n",
    "    tickColor='#666666',\n",
    ").properties(\n",
    "    title={\n",
    "        'text': 'Irises',\n",
    "        'subtitle' : ['Lengths and widths of petals and','sepals for 150 iris flowers.',' ']\n",
    "    }\n",
    ")"
   ]
  },
  {
   "cell_type": "markdown",
   "id": "1d49038e-5e1c-4bfc-a910-63f5707065e0",
   "metadata": {},
   "source": [
    "## Step chart\n",
    "\n",
    "The chart below might need some modifications with the tick marks in production."
   ]
  },
  {
   "cell_type": "code",
   "execution_count": 13,
   "id": "cd575303-eac0-40eb-b7c0-74b88dbfff21",
   "metadata": {},
   "outputs": [
    {
     "data": {
      "application/vnd.vegalite.v4+json": {
       "$schema": "https://vega.github.io/schema/vega-lite/v4.17.0.json",
       "config": {
        "arc": {
         "fill": "#0077bb"
        },
        "area": {
         "fill": "#0077bb"
        },
        "axis": {
         "gridColor": "#dddddd",
         "labelColor": "#666666",
         "labelFlush": false,
         "labelFont": "Tenon",
         "labelFontSize": 13,
         "labelFontWeight": 400,
         "labelPadding": 5,
         "tickSize": 6,
         "title": null,
         "titleColor": "#666666",
         "titleFontWeight": 300
        },
        "axisX": {
         "domainColor": "#666666",
         "tickColor": "#666666"
        },
        "axisY": {
         "domainColor": "#f9f9f9",
         "tickColor": "#f9f9f9"
        },
        "background": "#f9f9f9",
        "bar": {
         "fill": "#0077bb"
        },
        "legend": {
         "columnPadding": 20,
         "direction": "horizontal",
         "labelAlign": "left",
         "labelBaseline": "middle",
         "labelColor": "#222222",
         "labelFont": "Tenon",
         "labelFontSize": 16,
         "labelFontWeight": 300,
         "offset": 40,
         "orient": "top",
         "rowPadding": 10,
         "symbolType": "square",
         "title": null,
         "titleFont": "Tenon",
         "titleFontSize": 16,
         "titleFontWeight": 400
        },
        "line": {
         "stroke": "#0077bb",
         "strokeWidth": 3
        },
        "padding": {
         "bottom": 80,
         "left": 20,
         "right": 20,
         "top": 20
        },
        "path": {
         "stroke": "#0077bb"
        },
        "point": {
         "stroke": "#0077bb"
        },
        "rect": {
         "fill": "#0077bb"
        },
        "shape": {
         "stroke": "#0077bb"
        },
        "symbol": {
         "fill": "#0077bb",
         "size": 30
        },
        "title": {
         "align": "left",
         "anchor": "start",
         "color": "#222222",
         "font": "Tenon",
         "fontSize": 28,
         "fontWeight": 500,
         "subtitleColor": "#222222",
         "subtitleFont": "Tenon",
         "subtitleFontSize": 20,
         "subtitleFontWeight": 300,
         "subtitleLineHeight": 24,
         "subtitlePadding": 10
        },
        "view": {
         "height": 500,
         "strokeOpacity": 0,
         "width": 320
        }
       },
       "data": {
        "name": "data-96e857a61c6b623bafe23440d582a500"
       },
       "datasets": {
        "data-96e857a61c6b623bafe23440d582a500": [
         {
          "date": "2000-01-01T00:00:00",
          "price": 39.81,
          "symbol": "MSFT"
         },
         {
          "date": "2000-02-01T00:00:00",
          "price": 36.35,
          "symbol": "MSFT"
         },
         {
          "date": "2000-03-01T00:00:00",
          "price": 43.22,
          "symbol": "MSFT"
         },
         {
          "date": "2000-04-01T00:00:00",
          "price": 28.37,
          "symbol": "MSFT"
         },
         {
          "date": "2000-05-01T00:00:00",
          "price": 25.45,
          "symbol": "MSFT"
         },
         {
          "date": "2000-06-01T00:00:00",
          "price": 32.54,
          "symbol": "MSFT"
         },
         {
          "date": "2000-07-01T00:00:00",
          "price": 28.4,
          "symbol": "MSFT"
         },
         {
          "date": "2000-08-01T00:00:00",
          "price": 28.4,
          "symbol": "MSFT"
         },
         {
          "date": "2000-09-01T00:00:00",
          "price": 24.53,
          "symbol": "MSFT"
         },
         {
          "date": "2000-10-01T00:00:00",
          "price": 28.02,
          "symbol": "MSFT"
         },
         {
          "date": "2000-11-01T00:00:00",
          "price": 23.34,
          "symbol": "MSFT"
         },
         {
          "date": "2000-12-01T00:00:00",
          "price": 17.65,
          "symbol": "MSFT"
         },
         {
          "date": "2001-01-01T00:00:00",
          "price": 24.84,
          "symbol": "MSFT"
         },
         {
          "date": "2001-02-01T00:00:00",
          "price": 24,
          "symbol": "MSFT"
         },
         {
          "date": "2001-03-01T00:00:00",
          "price": 22.25,
          "symbol": "MSFT"
         },
         {
          "date": "2001-04-01T00:00:00",
          "price": 27.56,
          "symbol": "MSFT"
         },
         {
          "date": "2001-05-01T00:00:00",
          "price": 28.14,
          "symbol": "MSFT"
         },
         {
          "date": "2001-06-01T00:00:00",
          "price": 29.7,
          "symbol": "MSFT"
         },
         {
          "date": "2001-07-01T00:00:00",
          "price": 26.93,
          "symbol": "MSFT"
         },
         {
          "date": "2001-08-01T00:00:00",
          "price": 23.21,
          "symbol": "MSFT"
         },
         {
          "date": "2001-09-01T00:00:00",
          "price": 20.82,
          "symbol": "MSFT"
         },
         {
          "date": "2001-10-01T00:00:00",
          "price": 23.65,
          "symbol": "MSFT"
         },
         {
          "date": "2001-11-01T00:00:00",
          "price": 26.12,
          "symbol": "MSFT"
         },
         {
          "date": "2001-12-01T00:00:00",
          "price": 26.95,
          "symbol": "MSFT"
         },
         {
          "date": "2002-01-01T00:00:00",
          "price": 25.92,
          "symbol": "MSFT"
         },
         {
          "date": "2002-02-01T00:00:00",
          "price": 23.73,
          "symbol": "MSFT"
         },
         {
          "date": "2002-03-01T00:00:00",
          "price": 24.53,
          "symbol": "MSFT"
         },
         {
          "date": "2002-04-01T00:00:00",
          "price": 21.26,
          "symbol": "MSFT"
         },
         {
          "date": "2002-05-01T00:00:00",
          "price": 20.71,
          "symbol": "MSFT"
         },
         {
          "date": "2002-06-01T00:00:00",
          "price": 22.25,
          "symbol": "MSFT"
         },
         {
          "date": "2002-07-01T00:00:00",
          "price": 19.52,
          "symbol": "MSFT"
         },
         {
          "date": "2002-08-01T00:00:00",
          "price": 19.97,
          "symbol": "MSFT"
         },
         {
          "date": "2002-09-01T00:00:00",
          "price": 17.79,
          "symbol": "MSFT"
         },
         {
          "date": "2002-10-01T00:00:00",
          "price": 21.75,
          "symbol": "MSFT"
         },
         {
          "date": "2002-11-01T00:00:00",
          "price": 23.46,
          "symbol": "MSFT"
         },
         {
          "date": "2002-12-01T00:00:00",
          "price": 21.03,
          "symbol": "MSFT"
         },
         {
          "date": "2003-01-01T00:00:00",
          "price": 19.31,
          "symbol": "MSFT"
         },
         {
          "date": "2003-02-01T00:00:00",
          "price": 19.34,
          "symbol": "MSFT"
         },
         {
          "date": "2003-03-01T00:00:00",
          "price": 19.76,
          "symbol": "MSFT"
         },
         {
          "date": "2003-04-01T00:00:00",
          "price": 20.87,
          "symbol": "MSFT"
         },
         {
          "date": "2003-05-01T00:00:00",
          "price": 20.09,
          "symbol": "MSFT"
         },
         {
          "date": "2003-06-01T00:00:00",
          "price": 20.93,
          "symbol": "MSFT"
         },
         {
          "date": "2003-07-01T00:00:00",
          "price": 21.56,
          "symbol": "MSFT"
         },
         {
          "date": "2003-08-01T00:00:00",
          "price": 21.65,
          "symbol": "MSFT"
         },
         {
          "date": "2003-09-01T00:00:00",
          "price": 22.69,
          "symbol": "MSFT"
         },
         {
          "date": "2003-10-01T00:00:00",
          "price": 21.45,
          "symbol": "MSFT"
         },
         {
          "date": "2003-11-01T00:00:00",
          "price": 21.1,
          "symbol": "MSFT"
         },
         {
          "date": "2003-12-01T00:00:00",
          "price": 22.46,
          "symbol": "MSFT"
         },
         {
          "date": "2004-01-01T00:00:00",
          "price": 22.69,
          "symbol": "MSFT"
         },
         {
          "date": "2004-02-01T00:00:00",
          "price": 21.77,
          "symbol": "MSFT"
         },
         {
          "date": "2004-03-01T00:00:00",
          "price": 20.46,
          "symbol": "MSFT"
         },
         {
          "date": "2004-04-01T00:00:00",
          "price": 21.45,
          "symbol": "MSFT"
         },
         {
          "date": "2004-05-01T00:00:00",
          "price": 21.53,
          "symbol": "MSFT"
         },
         {
          "date": "2004-06-01T00:00:00",
          "price": 23.44,
          "symbol": "MSFT"
         },
         {
          "date": "2004-07-01T00:00:00",
          "price": 23.38,
          "symbol": "MSFT"
         },
         {
          "date": "2004-08-01T00:00:00",
          "price": 22.47,
          "symbol": "MSFT"
         },
         {
          "date": "2004-09-01T00:00:00",
          "price": 22.76,
          "symbol": "MSFT"
         },
         {
          "date": "2004-10-01T00:00:00",
          "price": 23.02,
          "symbol": "MSFT"
         },
         {
          "date": "2004-11-01T00:00:00",
          "price": 24.6,
          "symbol": "MSFT"
         },
         {
          "date": "2004-12-01T00:00:00",
          "price": 24.52,
          "symbol": "MSFT"
         },
         {
          "date": "2005-01-01T00:00:00",
          "price": 24.11,
          "symbol": "MSFT"
         },
         {
          "date": "2005-02-01T00:00:00",
          "price": 23.15,
          "symbol": "MSFT"
         },
         {
          "date": "2005-03-01T00:00:00",
          "price": 22.24,
          "symbol": "MSFT"
         },
         {
          "date": "2005-04-01T00:00:00",
          "price": 23.28,
          "symbol": "MSFT"
         },
         {
          "date": "2005-05-01T00:00:00",
          "price": 23.82,
          "symbol": "MSFT"
         },
         {
          "date": "2005-06-01T00:00:00",
          "price": 22.93,
          "symbol": "MSFT"
         },
         {
          "date": "2005-07-01T00:00:00",
          "price": 23.64,
          "symbol": "MSFT"
         },
         {
          "date": "2005-08-01T00:00:00",
          "price": 25.35,
          "symbol": "MSFT"
         },
         {
          "date": "2005-09-01T00:00:00",
          "price": 23.83,
          "symbol": "MSFT"
         },
         {
          "date": "2005-10-01T00:00:00",
          "price": 23.8,
          "symbol": "MSFT"
         },
         {
          "date": "2005-11-01T00:00:00",
          "price": 25.71,
          "symbol": "MSFT"
         },
         {
          "date": "2005-12-01T00:00:00",
          "price": 24.29,
          "symbol": "MSFT"
         },
         {
          "date": "2006-01-01T00:00:00",
          "price": 26.14,
          "symbol": "MSFT"
         },
         {
          "date": "2006-02-01T00:00:00",
          "price": 25.04,
          "symbol": "MSFT"
         },
         {
          "date": "2006-03-01T00:00:00",
          "price": 25.36,
          "symbol": "MSFT"
         },
         {
          "date": "2006-04-01T00:00:00",
          "price": 22.5,
          "symbol": "MSFT"
         },
         {
          "date": "2006-05-01T00:00:00",
          "price": 21.19,
          "symbol": "MSFT"
         },
         {
          "date": "2006-06-01T00:00:00",
          "price": 21.8,
          "symbol": "MSFT"
         },
         {
          "date": "2006-07-01T00:00:00",
          "price": 22.51,
          "symbol": "MSFT"
         },
         {
          "date": "2006-08-01T00:00:00",
          "price": 24.13,
          "symbol": "MSFT"
         },
         {
          "date": "2006-09-01T00:00:00",
          "price": 25.68,
          "symbol": "MSFT"
         },
         {
          "date": "2006-10-01T00:00:00",
          "price": 26.96,
          "symbol": "MSFT"
         },
         {
          "date": "2006-11-01T00:00:00",
          "price": 27.66,
          "symbol": "MSFT"
         },
         {
          "date": "2006-12-01T00:00:00",
          "price": 28.13,
          "symbol": "MSFT"
         },
         {
          "date": "2007-01-01T00:00:00",
          "price": 29.07,
          "symbol": "MSFT"
         },
         {
          "date": "2007-02-01T00:00:00",
          "price": 26.63,
          "symbol": "MSFT"
         },
         {
          "date": "2007-03-01T00:00:00",
          "price": 26.35,
          "symbol": "MSFT"
         },
         {
          "date": "2007-04-01T00:00:00",
          "price": 28.3,
          "symbol": "MSFT"
         },
         {
          "date": "2007-05-01T00:00:00",
          "price": 29.11,
          "symbol": "MSFT"
         },
         {
          "date": "2007-06-01T00:00:00",
          "price": 27.95,
          "symbol": "MSFT"
         },
         {
          "date": "2007-07-01T00:00:00",
          "price": 27.5,
          "symbol": "MSFT"
         },
         {
          "date": "2007-08-01T00:00:00",
          "price": 27.34,
          "symbol": "MSFT"
         },
         {
          "date": "2007-09-01T00:00:00",
          "price": 28.04,
          "symbol": "MSFT"
         },
         {
          "date": "2007-10-01T00:00:00",
          "price": 35.03,
          "symbol": "MSFT"
         },
         {
          "date": "2007-11-01T00:00:00",
          "price": 32.09,
          "symbol": "MSFT"
         },
         {
          "date": "2007-12-01T00:00:00",
          "price": 34,
          "symbol": "MSFT"
         },
         {
          "date": "2008-01-01T00:00:00",
          "price": 31.13,
          "symbol": "MSFT"
         },
         {
          "date": "2008-02-01T00:00:00",
          "price": 26.07,
          "symbol": "MSFT"
         },
         {
          "date": "2008-03-01T00:00:00",
          "price": 27.21,
          "symbol": "MSFT"
         },
         {
          "date": "2008-04-01T00:00:00",
          "price": 27.34,
          "symbol": "MSFT"
         },
         {
          "date": "2008-05-01T00:00:00",
          "price": 27.25,
          "symbol": "MSFT"
         },
         {
          "date": "2008-06-01T00:00:00",
          "price": 26.47,
          "symbol": "MSFT"
         },
         {
          "date": "2008-07-01T00:00:00",
          "price": 24.75,
          "symbol": "MSFT"
         },
         {
          "date": "2008-08-01T00:00:00",
          "price": 26.36,
          "symbol": "MSFT"
         },
         {
          "date": "2008-09-01T00:00:00",
          "price": 25.78,
          "symbol": "MSFT"
         },
         {
          "date": "2008-10-01T00:00:00",
          "price": 21.57,
          "symbol": "MSFT"
         },
         {
          "date": "2008-11-01T00:00:00",
          "price": 19.66,
          "symbol": "MSFT"
         },
         {
          "date": "2008-12-01T00:00:00",
          "price": 18.91,
          "symbol": "MSFT"
         },
         {
          "date": "2009-01-01T00:00:00",
          "price": 16.63,
          "symbol": "MSFT"
         },
         {
          "date": "2009-02-01T00:00:00",
          "price": 15.81,
          "symbol": "MSFT"
         },
         {
          "date": "2009-03-01T00:00:00",
          "price": 17.99,
          "symbol": "MSFT"
         },
         {
          "date": "2009-04-01T00:00:00",
          "price": 19.84,
          "symbol": "MSFT"
         },
         {
          "date": "2009-05-01T00:00:00",
          "price": 20.59,
          "symbol": "MSFT"
         },
         {
          "date": "2009-06-01T00:00:00",
          "price": 23.42,
          "symbol": "MSFT"
         },
         {
          "date": "2009-07-01T00:00:00",
          "price": 23.18,
          "symbol": "MSFT"
         },
         {
          "date": "2009-08-01T00:00:00",
          "price": 24.43,
          "symbol": "MSFT"
         },
         {
          "date": "2009-09-01T00:00:00",
          "price": 25.49,
          "symbol": "MSFT"
         },
         {
          "date": "2009-10-01T00:00:00",
          "price": 27.48,
          "symbol": "MSFT"
         },
         {
          "date": "2009-11-01T00:00:00",
          "price": 29.27,
          "symbol": "MSFT"
         },
         {
          "date": "2009-12-01T00:00:00",
          "price": 30.34,
          "symbol": "MSFT"
         },
         {
          "date": "2010-01-01T00:00:00",
          "price": 28.05,
          "symbol": "MSFT"
         },
         {
          "date": "2010-02-01T00:00:00",
          "price": 28.67,
          "symbol": "MSFT"
         },
         {
          "date": "2010-03-01T00:00:00",
          "price": 28.8,
          "symbol": "MSFT"
         },
         {
          "date": "2000-01-01T00:00:00",
          "price": 64.56,
          "symbol": "AMZN"
         },
         {
          "date": "2000-02-01T00:00:00",
          "price": 68.87,
          "symbol": "AMZN"
         },
         {
          "date": "2000-03-01T00:00:00",
          "price": 67,
          "symbol": "AMZN"
         },
         {
          "date": "2000-04-01T00:00:00",
          "price": 55.19,
          "symbol": "AMZN"
         },
         {
          "date": "2000-05-01T00:00:00",
          "price": 48.31,
          "symbol": "AMZN"
         },
         {
          "date": "2000-06-01T00:00:00",
          "price": 36.31,
          "symbol": "AMZN"
         },
         {
          "date": "2000-07-01T00:00:00",
          "price": 30.12,
          "symbol": "AMZN"
         },
         {
          "date": "2000-08-01T00:00:00",
          "price": 41.5,
          "symbol": "AMZN"
         },
         {
          "date": "2000-09-01T00:00:00",
          "price": 38.44,
          "symbol": "AMZN"
         },
         {
          "date": "2000-10-01T00:00:00",
          "price": 36.62,
          "symbol": "AMZN"
         },
         {
          "date": "2000-11-01T00:00:00",
          "price": 24.69,
          "symbol": "AMZN"
         },
         {
          "date": "2000-12-01T00:00:00",
          "price": 15.56,
          "symbol": "AMZN"
         },
         {
          "date": "2001-01-01T00:00:00",
          "price": 17.31,
          "symbol": "AMZN"
         },
         {
          "date": "2001-02-01T00:00:00",
          "price": 10.19,
          "symbol": "AMZN"
         },
         {
          "date": "2001-03-01T00:00:00",
          "price": 10.23,
          "symbol": "AMZN"
         },
         {
          "date": "2001-04-01T00:00:00",
          "price": 15.78,
          "symbol": "AMZN"
         },
         {
          "date": "2001-05-01T00:00:00",
          "price": 16.69,
          "symbol": "AMZN"
         },
         {
          "date": "2001-06-01T00:00:00",
          "price": 14.15,
          "symbol": "AMZN"
         },
         {
          "date": "2001-07-01T00:00:00",
          "price": 12.49,
          "symbol": "AMZN"
         },
         {
          "date": "2001-08-01T00:00:00",
          "price": 8.94,
          "symbol": "AMZN"
         },
         {
          "date": "2001-09-01T00:00:00",
          "price": 5.97,
          "symbol": "AMZN"
         },
         {
          "date": "2001-10-01T00:00:00",
          "price": 6.98,
          "symbol": "AMZN"
         },
         {
          "date": "2001-11-01T00:00:00",
          "price": 11.32,
          "symbol": "AMZN"
         },
         {
          "date": "2001-12-01T00:00:00",
          "price": 10.82,
          "symbol": "AMZN"
         },
         {
          "date": "2002-01-01T00:00:00",
          "price": 14.19,
          "symbol": "AMZN"
         },
         {
          "date": "2002-02-01T00:00:00",
          "price": 14.1,
          "symbol": "AMZN"
         },
         {
          "date": "2002-03-01T00:00:00",
          "price": 14.3,
          "symbol": "AMZN"
         },
         {
          "date": "2002-04-01T00:00:00",
          "price": 16.69,
          "symbol": "AMZN"
         },
         {
          "date": "2002-05-01T00:00:00",
          "price": 18.23,
          "symbol": "AMZN"
         },
         {
          "date": "2002-06-01T00:00:00",
          "price": 16.25,
          "symbol": "AMZN"
         },
         {
          "date": "2002-07-01T00:00:00",
          "price": 14.45,
          "symbol": "AMZN"
         },
         {
          "date": "2002-08-01T00:00:00",
          "price": 14.94,
          "symbol": "AMZN"
         },
         {
          "date": "2002-09-01T00:00:00",
          "price": 15.93,
          "symbol": "AMZN"
         },
         {
          "date": "2002-10-01T00:00:00",
          "price": 19.36,
          "symbol": "AMZN"
         },
         {
          "date": "2002-11-01T00:00:00",
          "price": 23.35,
          "symbol": "AMZN"
         },
         {
          "date": "2002-12-01T00:00:00",
          "price": 18.89,
          "symbol": "AMZN"
         },
         {
          "date": "2003-01-01T00:00:00",
          "price": 21.85,
          "symbol": "AMZN"
         },
         {
          "date": "2003-02-01T00:00:00",
          "price": 22.01,
          "symbol": "AMZN"
         },
         {
          "date": "2003-03-01T00:00:00",
          "price": 26.03,
          "symbol": "AMZN"
         },
         {
          "date": "2003-04-01T00:00:00",
          "price": 28.69,
          "symbol": "AMZN"
         },
         {
          "date": "2003-05-01T00:00:00",
          "price": 35.89,
          "symbol": "AMZN"
         },
         {
          "date": "2003-06-01T00:00:00",
          "price": 36.32,
          "symbol": "AMZN"
         },
         {
          "date": "2003-07-01T00:00:00",
          "price": 41.64,
          "symbol": "AMZN"
         },
         {
          "date": "2003-08-01T00:00:00",
          "price": 46.32,
          "symbol": "AMZN"
         },
         {
          "date": "2003-09-01T00:00:00",
          "price": 48.43,
          "symbol": "AMZN"
         },
         {
          "date": "2003-10-01T00:00:00",
          "price": 54.43,
          "symbol": "AMZN"
         },
         {
          "date": "2003-11-01T00:00:00",
          "price": 53.97,
          "symbol": "AMZN"
         },
         {
          "date": "2003-12-01T00:00:00",
          "price": 52.62,
          "symbol": "AMZN"
         },
         {
          "date": "2004-01-01T00:00:00",
          "price": 50.4,
          "symbol": "AMZN"
         },
         {
          "date": "2004-02-01T00:00:00",
          "price": 43.01,
          "symbol": "AMZN"
         },
         {
          "date": "2004-03-01T00:00:00",
          "price": 43.28,
          "symbol": "AMZN"
         },
         {
          "date": "2004-04-01T00:00:00",
          "price": 43.6,
          "symbol": "AMZN"
         },
         {
          "date": "2004-05-01T00:00:00",
          "price": 48.5,
          "symbol": "AMZN"
         },
         {
          "date": "2004-06-01T00:00:00",
          "price": 54.4,
          "symbol": "AMZN"
         },
         {
          "date": "2004-07-01T00:00:00",
          "price": 38.92,
          "symbol": "AMZN"
         },
         {
          "date": "2004-08-01T00:00:00",
          "price": 38.14,
          "symbol": "AMZN"
         },
         {
          "date": "2004-09-01T00:00:00",
          "price": 40.86,
          "symbol": "AMZN"
         },
         {
          "date": "2004-10-01T00:00:00",
          "price": 34.13,
          "symbol": "AMZN"
         },
         {
          "date": "2004-11-01T00:00:00",
          "price": 39.68,
          "symbol": "AMZN"
         },
         {
          "date": "2004-12-01T00:00:00",
          "price": 44.29,
          "symbol": "AMZN"
         },
         {
          "date": "2005-01-01T00:00:00",
          "price": 43.22,
          "symbol": "AMZN"
         },
         {
          "date": "2005-02-01T00:00:00",
          "price": 35.18,
          "symbol": "AMZN"
         },
         {
          "date": "2005-03-01T00:00:00",
          "price": 34.27,
          "symbol": "AMZN"
         },
         {
          "date": "2005-04-01T00:00:00",
          "price": 32.36,
          "symbol": "AMZN"
         },
         {
          "date": "2005-05-01T00:00:00",
          "price": 35.51,
          "symbol": "AMZN"
         },
         {
          "date": "2005-06-01T00:00:00",
          "price": 33.09,
          "symbol": "AMZN"
         },
         {
          "date": "2005-07-01T00:00:00",
          "price": 45.15,
          "symbol": "AMZN"
         },
         {
          "date": "2005-08-01T00:00:00",
          "price": 42.7,
          "symbol": "AMZN"
         },
         {
          "date": "2005-09-01T00:00:00",
          "price": 45.3,
          "symbol": "AMZN"
         },
         {
          "date": "2005-10-01T00:00:00",
          "price": 39.86,
          "symbol": "AMZN"
         },
         {
          "date": "2005-11-01T00:00:00",
          "price": 48.46,
          "symbol": "AMZN"
         },
         {
          "date": "2005-12-01T00:00:00",
          "price": 47.15,
          "symbol": "AMZN"
         },
         {
          "date": "2006-01-01T00:00:00",
          "price": 44.82,
          "symbol": "AMZN"
         },
         {
          "date": "2006-02-01T00:00:00",
          "price": 37.44,
          "symbol": "AMZN"
         },
         {
          "date": "2006-03-01T00:00:00",
          "price": 36.53,
          "symbol": "AMZN"
         },
         {
          "date": "2006-04-01T00:00:00",
          "price": 35.21,
          "symbol": "AMZN"
         },
         {
          "date": "2006-05-01T00:00:00",
          "price": 34.61,
          "symbol": "AMZN"
         },
         {
          "date": "2006-06-01T00:00:00",
          "price": 38.68,
          "symbol": "AMZN"
         },
         {
          "date": "2006-07-01T00:00:00",
          "price": 26.89,
          "symbol": "AMZN"
         },
         {
          "date": "2006-08-01T00:00:00",
          "price": 30.83,
          "symbol": "AMZN"
         },
         {
          "date": "2006-09-01T00:00:00",
          "price": 32.12,
          "symbol": "AMZN"
         },
         {
          "date": "2006-10-01T00:00:00",
          "price": 38.09,
          "symbol": "AMZN"
         },
         {
          "date": "2006-11-01T00:00:00",
          "price": 40.34,
          "symbol": "AMZN"
         },
         {
          "date": "2006-12-01T00:00:00",
          "price": 39.46,
          "symbol": "AMZN"
         },
         {
          "date": "2007-01-01T00:00:00",
          "price": 37.67,
          "symbol": "AMZN"
         },
         {
          "date": "2007-02-01T00:00:00",
          "price": 39.14,
          "symbol": "AMZN"
         },
         {
          "date": "2007-03-01T00:00:00",
          "price": 39.79,
          "symbol": "AMZN"
         },
         {
          "date": "2007-04-01T00:00:00",
          "price": 61.33,
          "symbol": "AMZN"
         },
         {
          "date": "2007-05-01T00:00:00",
          "price": 69.14,
          "symbol": "AMZN"
         },
         {
          "date": "2007-06-01T00:00:00",
          "price": 68.41,
          "symbol": "AMZN"
         },
         {
          "date": "2007-07-01T00:00:00",
          "price": 78.54,
          "symbol": "AMZN"
         },
         {
          "date": "2007-08-01T00:00:00",
          "price": 79.91,
          "symbol": "AMZN"
         },
         {
          "date": "2007-09-01T00:00:00",
          "price": 93.15,
          "symbol": "AMZN"
         },
         {
          "date": "2007-10-01T00:00:00",
          "price": 89.15,
          "symbol": "AMZN"
         },
         {
          "date": "2007-11-01T00:00:00",
          "price": 90.56,
          "symbol": "AMZN"
         },
         {
          "date": "2007-12-01T00:00:00",
          "price": 92.64,
          "symbol": "AMZN"
         },
         {
          "date": "2008-01-01T00:00:00",
          "price": 77.7,
          "symbol": "AMZN"
         },
         {
          "date": "2008-02-01T00:00:00",
          "price": 64.47,
          "symbol": "AMZN"
         },
         {
          "date": "2008-03-01T00:00:00",
          "price": 71.3,
          "symbol": "AMZN"
         },
         {
          "date": "2008-04-01T00:00:00",
          "price": 78.63,
          "symbol": "AMZN"
         },
         {
          "date": "2008-05-01T00:00:00",
          "price": 81.62,
          "symbol": "AMZN"
         },
         {
          "date": "2008-06-01T00:00:00",
          "price": 73.33,
          "symbol": "AMZN"
         },
         {
          "date": "2008-07-01T00:00:00",
          "price": 76.34,
          "symbol": "AMZN"
         },
         {
          "date": "2008-08-01T00:00:00",
          "price": 80.81,
          "symbol": "AMZN"
         },
         {
          "date": "2008-09-01T00:00:00",
          "price": 72.76,
          "symbol": "AMZN"
         },
         {
          "date": "2008-10-01T00:00:00",
          "price": 57.24,
          "symbol": "AMZN"
         },
         {
          "date": "2008-11-01T00:00:00",
          "price": 42.7,
          "symbol": "AMZN"
         },
         {
          "date": "2008-12-01T00:00:00",
          "price": 51.28,
          "symbol": "AMZN"
         },
         {
          "date": "2009-01-01T00:00:00",
          "price": 58.82,
          "symbol": "AMZN"
         },
         {
          "date": "2009-02-01T00:00:00",
          "price": 64.79,
          "symbol": "AMZN"
         },
         {
          "date": "2009-03-01T00:00:00",
          "price": 73.44,
          "symbol": "AMZN"
         },
         {
          "date": "2009-04-01T00:00:00",
          "price": 80.52,
          "symbol": "AMZN"
         },
         {
          "date": "2009-05-01T00:00:00",
          "price": 77.99,
          "symbol": "AMZN"
         },
         {
          "date": "2009-06-01T00:00:00",
          "price": 83.66,
          "symbol": "AMZN"
         },
         {
          "date": "2009-07-01T00:00:00",
          "price": 85.76,
          "symbol": "AMZN"
         },
         {
          "date": "2009-08-01T00:00:00",
          "price": 81.19,
          "symbol": "AMZN"
         },
         {
          "date": "2009-09-01T00:00:00",
          "price": 93.36,
          "symbol": "AMZN"
         },
         {
          "date": "2009-10-01T00:00:00",
          "price": 118.81,
          "symbol": "AMZN"
         },
         {
          "date": "2009-11-01T00:00:00",
          "price": 135.91,
          "symbol": "AMZN"
         },
         {
          "date": "2009-12-01T00:00:00",
          "price": 134.52,
          "symbol": "AMZN"
         },
         {
          "date": "2010-01-01T00:00:00",
          "price": 125.41,
          "symbol": "AMZN"
         },
         {
          "date": "2010-02-01T00:00:00",
          "price": 118.4,
          "symbol": "AMZN"
         },
         {
          "date": "2010-03-01T00:00:00",
          "price": 128.82,
          "symbol": "AMZN"
         },
         {
          "date": "2000-01-01T00:00:00",
          "price": 100.52,
          "symbol": "IBM"
         },
         {
          "date": "2000-02-01T00:00:00",
          "price": 92.11,
          "symbol": "IBM"
         },
         {
          "date": "2000-03-01T00:00:00",
          "price": 106.11,
          "symbol": "IBM"
         },
         {
          "date": "2000-04-01T00:00:00",
          "price": 99.95,
          "symbol": "IBM"
         },
         {
          "date": "2000-05-01T00:00:00",
          "price": 96.31,
          "symbol": "IBM"
         },
         {
          "date": "2000-06-01T00:00:00",
          "price": 98.33,
          "symbol": "IBM"
         },
         {
          "date": "2000-07-01T00:00:00",
          "price": 100.74,
          "symbol": "IBM"
         },
         {
          "date": "2000-08-01T00:00:00",
          "price": 118.62,
          "symbol": "IBM"
         },
         {
          "date": "2000-09-01T00:00:00",
          "price": 101.19,
          "symbol": "IBM"
         },
         {
          "date": "2000-10-01T00:00:00",
          "price": 88.5,
          "symbol": "IBM"
         },
         {
          "date": "2000-11-01T00:00:00",
          "price": 84.12,
          "symbol": "IBM"
         },
         {
          "date": "2000-12-01T00:00:00",
          "price": 76.47,
          "symbol": "IBM"
         },
         {
          "date": "2001-01-01T00:00:00",
          "price": 100.76,
          "symbol": "IBM"
         },
         {
          "date": "2001-02-01T00:00:00",
          "price": 89.98,
          "symbol": "IBM"
         },
         {
          "date": "2001-03-01T00:00:00",
          "price": 86.63,
          "symbol": "IBM"
         },
         {
          "date": "2001-04-01T00:00:00",
          "price": 103.7,
          "symbol": "IBM"
         },
         {
          "date": "2001-05-01T00:00:00",
          "price": 100.82,
          "symbol": "IBM"
         },
         {
          "date": "2001-06-01T00:00:00",
          "price": 102.35,
          "symbol": "IBM"
         },
         {
          "date": "2001-07-01T00:00:00",
          "price": 94.87,
          "symbol": "IBM"
         },
         {
          "date": "2001-08-01T00:00:00",
          "price": 90.25,
          "symbol": "IBM"
         },
         {
          "date": "2001-09-01T00:00:00",
          "price": 82.82,
          "symbol": "IBM"
         },
         {
          "date": "2001-10-01T00:00:00",
          "price": 97.58,
          "symbol": "IBM"
         },
         {
          "date": "2001-11-01T00:00:00",
          "price": 104.5,
          "symbol": "IBM"
         },
         {
          "date": "2001-12-01T00:00:00",
          "price": 109.36,
          "symbol": "IBM"
         },
         {
          "date": "2002-01-01T00:00:00",
          "price": 97.54,
          "symbol": "IBM"
         },
         {
          "date": "2002-02-01T00:00:00",
          "price": 88.82,
          "symbol": "IBM"
         },
         {
          "date": "2002-03-01T00:00:00",
          "price": 94.15,
          "symbol": "IBM"
         },
         {
          "date": "2002-04-01T00:00:00",
          "price": 75.82,
          "symbol": "IBM"
         },
         {
          "date": "2002-05-01T00:00:00",
          "price": 72.97,
          "symbol": "IBM"
         },
         {
          "date": "2002-06-01T00:00:00",
          "price": 65.31,
          "symbol": "IBM"
         },
         {
          "date": "2002-07-01T00:00:00",
          "price": 63.86,
          "symbol": "IBM"
         },
         {
          "date": "2002-08-01T00:00:00",
          "price": 68.52,
          "symbol": "IBM"
         },
         {
          "date": "2002-09-01T00:00:00",
          "price": 53.01,
          "symbol": "IBM"
         },
         {
          "date": "2002-10-01T00:00:00",
          "price": 71.76,
          "symbol": "IBM"
         },
         {
          "date": "2002-11-01T00:00:00",
          "price": 79.16,
          "symbol": "IBM"
         },
         {
          "date": "2002-12-01T00:00:00",
          "price": 70.58,
          "symbol": "IBM"
         },
         {
          "date": "2003-01-01T00:00:00",
          "price": 71.22,
          "symbol": "IBM"
         },
         {
          "date": "2003-02-01T00:00:00",
          "price": 71.13,
          "symbol": "IBM"
         },
         {
          "date": "2003-03-01T00:00:00",
          "price": 71.57,
          "symbol": "IBM"
         },
         {
          "date": "2003-04-01T00:00:00",
          "price": 77.47,
          "symbol": "IBM"
         },
         {
          "date": "2003-05-01T00:00:00",
          "price": 80.48,
          "symbol": "IBM"
         },
         {
          "date": "2003-06-01T00:00:00",
          "price": 75.42,
          "symbol": "IBM"
         },
         {
          "date": "2003-07-01T00:00:00",
          "price": 74.28,
          "symbol": "IBM"
         },
         {
          "date": "2003-08-01T00:00:00",
          "price": 75.12,
          "symbol": "IBM"
         },
         {
          "date": "2003-09-01T00:00:00",
          "price": 80.91,
          "symbol": "IBM"
         },
         {
          "date": "2003-10-01T00:00:00",
          "price": 81.96,
          "symbol": "IBM"
         },
         {
          "date": "2003-11-01T00:00:00",
          "price": 83.08,
          "symbol": "IBM"
         },
         {
          "date": "2003-12-01T00:00:00",
          "price": 85.05,
          "symbol": "IBM"
         },
         {
          "date": "2004-01-01T00:00:00",
          "price": 91.06,
          "symbol": "IBM"
         },
         {
          "date": "2004-02-01T00:00:00",
          "price": 88.7,
          "symbol": "IBM"
         },
         {
          "date": "2004-03-01T00:00:00",
          "price": 84.41,
          "symbol": "IBM"
         },
         {
          "date": "2004-04-01T00:00:00",
          "price": 81.04,
          "symbol": "IBM"
         },
         {
          "date": "2004-05-01T00:00:00",
          "price": 81.59,
          "symbol": "IBM"
         },
         {
          "date": "2004-06-01T00:00:00",
          "price": 81.19,
          "symbol": "IBM"
         },
         {
          "date": "2004-07-01T00:00:00",
          "price": 80.19,
          "symbol": "IBM"
         },
         {
          "date": "2004-08-01T00:00:00",
          "price": 78.17,
          "symbol": "IBM"
         },
         {
          "date": "2004-09-01T00:00:00",
          "price": 79.13,
          "symbol": "IBM"
         },
         {
          "date": "2004-10-01T00:00:00",
          "price": 82.84,
          "symbol": "IBM"
         },
         {
          "date": "2004-11-01T00:00:00",
          "price": 87.15,
          "symbol": "IBM"
         },
         {
          "date": "2004-12-01T00:00:00",
          "price": 91.16,
          "symbol": "IBM"
         },
         {
          "date": "2005-01-01T00:00:00",
          "price": 86.39,
          "symbol": "IBM"
         },
         {
          "date": "2005-02-01T00:00:00",
          "price": 85.78,
          "symbol": "IBM"
         },
         {
          "date": "2005-03-01T00:00:00",
          "price": 84.66,
          "symbol": "IBM"
         },
         {
          "date": "2005-04-01T00:00:00",
          "price": 70.77,
          "symbol": "IBM"
         },
         {
          "date": "2005-05-01T00:00:00",
          "price": 70.18,
          "symbol": "IBM"
         },
         {
          "date": "2005-06-01T00:00:00",
          "price": 68.93,
          "symbol": "IBM"
         },
         {
          "date": "2005-07-01T00:00:00",
          "price": 77.53,
          "symbol": "IBM"
         },
         {
          "date": "2005-08-01T00:00:00",
          "price": 75.07,
          "symbol": "IBM"
         },
         {
          "date": "2005-09-01T00:00:00",
          "price": 74.7,
          "symbol": "IBM"
         },
         {
          "date": "2005-10-01T00:00:00",
          "price": 76.25,
          "symbol": "IBM"
         },
         {
          "date": "2005-11-01T00:00:00",
          "price": 82.98,
          "symbol": "IBM"
         },
         {
          "date": "2005-12-01T00:00:00",
          "price": 76.73,
          "symbol": "IBM"
         },
         {
          "date": "2006-01-01T00:00:00",
          "price": 75.89,
          "symbol": "IBM"
         },
         {
          "date": "2006-02-01T00:00:00",
          "price": 75.09,
          "symbol": "IBM"
         },
         {
          "date": "2006-03-01T00:00:00",
          "price": 77.17,
          "symbol": "IBM"
         },
         {
          "date": "2006-04-01T00:00:00",
          "price": 77.05,
          "symbol": "IBM"
         },
         {
          "date": "2006-05-01T00:00:00",
          "price": 75.04,
          "symbol": "IBM"
         },
         {
          "date": "2006-06-01T00:00:00",
          "price": 72.15,
          "symbol": "IBM"
         },
         {
          "date": "2006-07-01T00:00:00",
          "price": 72.7,
          "symbol": "IBM"
         },
         {
          "date": "2006-08-01T00:00:00",
          "price": 76.35,
          "symbol": "IBM"
         },
         {
          "date": "2006-09-01T00:00:00",
          "price": 77.26,
          "symbol": "IBM"
         },
         {
          "date": "2006-10-01T00:00:00",
          "price": 87.06,
          "symbol": "IBM"
         },
         {
          "date": "2006-11-01T00:00:00",
          "price": 86.95,
          "symbol": "IBM"
         },
         {
          "date": "2006-12-01T00:00:00",
          "price": 91.9,
          "symbol": "IBM"
         },
         {
          "date": "2007-01-01T00:00:00",
          "price": 93.79,
          "symbol": "IBM"
         },
         {
          "date": "2007-02-01T00:00:00",
          "price": 88.18,
          "symbol": "IBM"
         },
         {
          "date": "2007-03-01T00:00:00",
          "price": 89.44,
          "symbol": "IBM"
         },
         {
          "date": "2007-04-01T00:00:00",
          "price": 96.98,
          "symbol": "IBM"
         },
         {
          "date": "2007-05-01T00:00:00",
          "price": 101.54,
          "symbol": "IBM"
         },
         {
          "date": "2007-06-01T00:00:00",
          "price": 100.25,
          "symbol": "IBM"
         },
         {
          "date": "2007-07-01T00:00:00",
          "price": 105.4,
          "symbol": "IBM"
         },
         {
          "date": "2007-08-01T00:00:00",
          "price": 111.54,
          "symbol": "IBM"
         },
         {
          "date": "2007-09-01T00:00:00",
          "price": 112.6,
          "symbol": "IBM"
         },
         {
          "date": "2007-10-01T00:00:00",
          "price": 111,
          "symbol": "IBM"
         },
         {
          "date": "2007-11-01T00:00:00",
          "price": 100.9,
          "symbol": "IBM"
         },
         {
          "date": "2007-12-01T00:00:00",
          "price": 103.7,
          "symbol": "IBM"
         },
         {
          "date": "2008-01-01T00:00:00",
          "price": 102.75,
          "symbol": "IBM"
         },
         {
          "date": "2008-02-01T00:00:00",
          "price": 109.64,
          "symbol": "IBM"
         },
         {
          "date": "2008-03-01T00:00:00",
          "price": 110.87,
          "symbol": "IBM"
         },
         {
          "date": "2008-04-01T00:00:00",
          "price": 116.23,
          "symbol": "IBM"
         },
         {
          "date": "2008-05-01T00:00:00",
          "price": 125.14,
          "symbol": "IBM"
         },
         {
          "date": "2008-06-01T00:00:00",
          "price": 114.6,
          "symbol": "IBM"
         },
         {
          "date": "2008-07-01T00:00:00",
          "price": 123.74,
          "symbol": "IBM"
         },
         {
          "date": "2008-08-01T00:00:00",
          "price": 118.16,
          "symbol": "IBM"
         },
         {
          "date": "2008-09-01T00:00:00",
          "price": 113.53,
          "symbol": "IBM"
         },
         {
          "date": "2008-10-01T00:00:00",
          "price": 90.24,
          "symbol": "IBM"
         },
         {
          "date": "2008-11-01T00:00:00",
          "price": 79.65,
          "symbol": "IBM"
         },
         {
          "date": "2008-12-01T00:00:00",
          "price": 82.15,
          "symbol": "IBM"
         },
         {
          "date": "2009-01-01T00:00:00",
          "price": 89.46,
          "symbol": "IBM"
         },
         {
          "date": "2009-02-01T00:00:00",
          "price": 90.32,
          "symbol": "IBM"
         },
         {
          "date": "2009-03-01T00:00:00",
          "price": 95.09,
          "symbol": "IBM"
         },
         {
          "date": "2009-04-01T00:00:00",
          "price": 101.29,
          "symbol": "IBM"
         },
         {
          "date": "2009-05-01T00:00:00",
          "price": 104.85,
          "symbol": "IBM"
         },
         {
          "date": "2009-06-01T00:00:00",
          "price": 103.01,
          "symbol": "IBM"
         },
         {
          "date": "2009-07-01T00:00:00",
          "price": 116.34,
          "symbol": "IBM"
         },
         {
          "date": "2009-08-01T00:00:00",
          "price": 117,
          "symbol": "IBM"
         },
         {
          "date": "2009-09-01T00:00:00",
          "price": 118.55,
          "symbol": "IBM"
         },
         {
          "date": "2009-10-01T00:00:00",
          "price": 119.54,
          "symbol": "IBM"
         },
         {
          "date": "2009-11-01T00:00:00",
          "price": 125.79,
          "symbol": "IBM"
         },
         {
          "date": "2009-12-01T00:00:00",
          "price": 130.32,
          "symbol": "IBM"
         },
         {
          "date": "2010-01-01T00:00:00",
          "price": 121.85,
          "symbol": "IBM"
         },
         {
          "date": "2010-02-01T00:00:00",
          "price": 127.16,
          "symbol": "IBM"
         },
         {
          "date": "2010-03-01T00:00:00",
          "price": 125.55,
          "symbol": "IBM"
         },
         {
          "date": "2004-08-01T00:00:00",
          "price": 102.37,
          "symbol": "GOOG"
         },
         {
          "date": "2004-09-01T00:00:00",
          "price": 129.6,
          "symbol": "GOOG"
         },
         {
          "date": "2004-10-01T00:00:00",
          "price": 190.64,
          "symbol": "GOOG"
         },
         {
          "date": "2004-11-01T00:00:00",
          "price": 181.98,
          "symbol": "GOOG"
         },
         {
          "date": "2004-12-01T00:00:00",
          "price": 192.79,
          "symbol": "GOOG"
         },
         {
          "date": "2005-01-01T00:00:00",
          "price": 195.62,
          "symbol": "GOOG"
         },
         {
          "date": "2005-02-01T00:00:00",
          "price": 187.99,
          "symbol": "GOOG"
         },
         {
          "date": "2005-03-01T00:00:00",
          "price": 180.51,
          "symbol": "GOOG"
         },
         {
          "date": "2005-04-01T00:00:00",
          "price": 220,
          "symbol": "GOOG"
         },
         {
          "date": "2005-05-01T00:00:00",
          "price": 277.27,
          "symbol": "GOOG"
         },
         {
          "date": "2005-06-01T00:00:00",
          "price": 294.15,
          "symbol": "GOOG"
         },
         {
          "date": "2005-07-01T00:00:00",
          "price": 287.76,
          "symbol": "GOOG"
         },
         {
          "date": "2005-08-01T00:00:00",
          "price": 286,
          "symbol": "GOOG"
         },
         {
          "date": "2005-09-01T00:00:00",
          "price": 316.46,
          "symbol": "GOOG"
         },
         {
          "date": "2005-10-01T00:00:00",
          "price": 372.14,
          "symbol": "GOOG"
         },
         {
          "date": "2005-11-01T00:00:00",
          "price": 404.91,
          "symbol": "GOOG"
         },
         {
          "date": "2005-12-01T00:00:00",
          "price": 414.86,
          "symbol": "GOOG"
         },
         {
          "date": "2006-01-01T00:00:00",
          "price": 432.66,
          "symbol": "GOOG"
         },
         {
          "date": "2006-02-01T00:00:00",
          "price": 362.62,
          "symbol": "GOOG"
         },
         {
          "date": "2006-03-01T00:00:00",
          "price": 390,
          "symbol": "GOOG"
         },
         {
          "date": "2006-04-01T00:00:00",
          "price": 417.94,
          "symbol": "GOOG"
         },
         {
          "date": "2006-05-01T00:00:00",
          "price": 371.82,
          "symbol": "GOOG"
         },
         {
          "date": "2006-06-01T00:00:00",
          "price": 419.33,
          "symbol": "GOOG"
         },
         {
          "date": "2006-07-01T00:00:00",
          "price": 386.6,
          "symbol": "GOOG"
         },
         {
          "date": "2006-08-01T00:00:00",
          "price": 378.53,
          "symbol": "GOOG"
         },
         {
          "date": "2006-09-01T00:00:00",
          "price": 401.9,
          "symbol": "GOOG"
         },
         {
          "date": "2006-10-01T00:00:00",
          "price": 476.39,
          "symbol": "GOOG"
         },
         {
          "date": "2006-11-01T00:00:00",
          "price": 484.81,
          "symbol": "GOOG"
         },
         {
          "date": "2006-12-01T00:00:00",
          "price": 460.48,
          "symbol": "GOOG"
         },
         {
          "date": "2007-01-01T00:00:00",
          "price": 501.5,
          "symbol": "GOOG"
         },
         {
          "date": "2007-02-01T00:00:00",
          "price": 449.45,
          "symbol": "GOOG"
         },
         {
          "date": "2007-03-01T00:00:00",
          "price": 458.16,
          "symbol": "GOOG"
         },
         {
          "date": "2007-04-01T00:00:00",
          "price": 471.38,
          "symbol": "GOOG"
         },
         {
          "date": "2007-05-01T00:00:00",
          "price": 497.91,
          "symbol": "GOOG"
         },
         {
          "date": "2007-06-01T00:00:00",
          "price": 522.7,
          "symbol": "GOOG"
         },
         {
          "date": "2007-07-01T00:00:00",
          "price": 510,
          "symbol": "GOOG"
         },
         {
          "date": "2007-08-01T00:00:00",
          "price": 515.25,
          "symbol": "GOOG"
         },
         {
          "date": "2007-09-01T00:00:00",
          "price": 567.27,
          "symbol": "GOOG"
         },
         {
          "date": "2007-10-01T00:00:00",
          "price": 707,
          "symbol": "GOOG"
         },
         {
          "date": "2007-11-01T00:00:00",
          "price": 693,
          "symbol": "GOOG"
         },
         {
          "date": "2007-12-01T00:00:00",
          "price": 691.48,
          "symbol": "GOOG"
         },
         {
          "date": "2008-01-01T00:00:00",
          "price": 564.3,
          "symbol": "GOOG"
         },
         {
          "date": "2008-02-01T00:00:00",
          "price": 471.18,
          "symbol": "GOOG"
         },
         {
          "date": "2008-03-01T00:00:00",
          "price": 440.47,
          "symbol": "GOOG"
         },
         {
          "date": "2008-04-01T00:00:00",
          "price": 574.29,
          "symbol": "GOOG"
         },
         {
          "date": "2008-05-01T00:00:00",
          "price": 585.8,
          "symbol": "GOOG"
         },
         {
          "date": "2008-06-01T00:00:00",
          "price": 526.42,
          "symbol": "GOOG"
         },
         {
          "date": "2008-07-01T00:00:00",
          "price": 473.75,
          "symbol": "GOOG"
         },
         {
          "date": "2008-08-01T00:00:00",
          "price": 463.29,
          "symbol": "GOOG"
         },
         {
          "date": "2008-09-01T00:00:00",
          "price": 400.52,
          "symbol": "GOOG"
         },
         {
          "date": "2008-10-01T00:00:00",
          "price": 359.36,
          "symbol": "GOOG"
         },
         {
          "date": "2008-11-01T00:00:00",
          "price": 292.96,
          "symbol": "GOOG"
         },
         {
          "date": "2008-12-01T00:00:00",
          "price": 307.65,
          "symbol": "GOOG"
         },
         {
          "date": "2009-01-01T00:00:00",
          "price": 338.53,
          "symbol": "GOOG"
         },
         {
          "date": "2009-02-01T00:00:00",
          "price": 337.99,
          "symbol": "GOOG"
         },
         {
          "date": "2009-03-01T00:00:00",
          "price": 348.06,
          "symbol": "GOOG"
         },
         {
          "date": "2009-04-01T00:00:00",
          "price": 395.97,
          "symbol": "GOOG"
         },
         {
          "date": "2009-05-01T00:00:00",
          "price": 417.23,
          "symbol": "GOOG"
         },
         {
          "date": "2009-06-01T00:00:00",
          "price": 421.59,
          "symbol": "GOOG"
         },
         {
          "date": "2009-07-01T00:00:00",
          "price": 443.05,
          "symbol": "GOOG"
         },
         {
          "date": "2009-08-01T00:00:00",
          "price": 461.67,
          "symbol": "GOOG"
         },
         {
          "date": "2009-09-01T00:00:00",
          "price": 495.85,
          "symbol": "GOOG"
         },
         {
          "date": "2009-10-01T00:00:00",
          "price": 536.12,
          "symbol": "GOOG"
         },
         {
          "date": "2009-11-01T00:00:00",
          "price": 583,
          "symbol": "GOOG"
         },
         {
          "date": "2009-12-01T00:00:00",
          "price": 619.98,
          "symbol": "GOOG"
         },
         {
          "date": "2010-01-01T00:00:00",
          "price": 529.94,
          "symbol": "GOOG"
         },
         {
          "date": "2010-02-01T00:00:00",
          "price": 526.8,
          "symbol": "GOOG"
         },
         {
          "date": "2010-03-01T00:00:00",
          "price": 560.19,
          "symbol": "GOOG"
         },
         {
          "date": "2000-01-01T00:00:00",
          "price": 25.94,
          "symbol": "AAPL"
         },
         {
          "date": "2000-02-01T00:00:00",
          "price": 28.66,
          "symbol": "AAPL"
         },
         {
          "date": "2000-03-01T00:00:00",
          "price": 33.95,
          "symbol": "AAPL"
         },
         {
          "date": "2000-04-01T00:00:00",
          "price": 31.01,
          "symbol": "AAPL"
         },
         {
          "date": "2000-05-01T00:00:00",
          "price": 21,
          "symbol": "AAPL"
         },
         {
          "date": "2000-06-01T00:00:00",
          "price": 26.19,
          "symbol": "AAPL"
         },
         {
          "date": "2000-07-01T00:00:00",
          "price": 25.41,
          "symbol": "AAPL"
         },
         {
          "date": "2000-08-01T00:00:00",
          "price": 30.47,
          "symbol": "AAPL"
         },
         {
          "date": "2000-09-01T00:00:00",
          "price": 12.88,
          "symbol": "AAPL"
         },
         {
          "date": "2000-10-01T00:00:00",
          "price": 9.78,
          "symbol": "AAPL"
         },
         {
          "date": "2000-11-01T00:00:00",
          "price": 8.25,
          "symbol": "AAPL"
         },
         {
          "date": "2000-12-01T00:00:00",
          "price": 7.44,
          "symbol": "AAPL"
         },
         {
          "date": "2001-01-01T00:00:00",
          "price": 10.81,
          "symbol": "AAPL"
         },
         {
          "date": "2001-02-01T00:00:00",
          "price": 9.12,
          "symbol": "AAPL"
         },
         {
          "date": "2001-03-01T00:00:00",
          "price": 11.03,
          "symbol": "AAPL"
         },
         {
          "date": "2001-04-01T00:00:00",
          "price": 12.74,
          "symbol": "AAPL"
         },
         {
          "date": "2001-05-01T00:00:00",
          "price": 9.98,
          "symbol": "AAPL"
         },
         {
          "date": "2001-06-01T00:00:00",
          "price": 11.62,
          "symbol": "AAPL"
         },
         {
          "date": "2001-07-01T00:00:00",
          "price": 9.4,
          "symbol": "AAPL"
         },
         {
          "date": "2001-08-01T00:00:00",
          "price": 9.27,
          "symbol": "AAPL"
         },
         {
          "date": "2001-09-01T00:00:00",
          "price": 7.76,
          "symbol": "AAPL"
         },
         {
          "date": "2001-10-01T00:00:00",
          "price": 8.78,
          "symbol": "AAPL"
         },
         {
          "date": "2001-11-01T00:00:00",
          "price": 10.65,
          "symbol": "AAPL"
         },
         {
          "date": "2001-12-01T00:00:00",
          "price": 10.95,
          "symbol": "AAPL"
         },
         {
          "date": "2002-01-01T00:00:00",
          "price": 12.36,
          "symbol": "AAPL"
         },
         {
          "date": "2002-02-01T00:00:00",
          "price": 10.85,
          "symbol": "AAPL"
         },
         {
          "date": "2002-03-01T00:00:00",
          "price": 11.84,
          "symbol": "AAPL"
         },
         {
          "date": "2002-04-01T00:00:00",
          "price": 12.14,
          "symbol": "AAPL"
         },
         {
          "date": "2002-05-01T00:00:00",
          "price": 11.65,
          "symbol": "AAPL"
         },
         {
          "date": "2002-06-01T00:00:00",
          "price": 8.86,
          "symbol": "AAPL"
         },
         {
          "date": "2002-07-01T00:00:00",
          "price": 7.63,
          "symbol": "AAPL"
         },
         {
          "date": "2002-08-01T00:00:00",
          "price": 7.38,
          "symbol": "AAPL"
         },
         {
          "date": "2002-09-01T00:00:00",
          "price": 7.25,
          "symbol": "AAPL"
         },
         {
          "date": "2002-10-01T00:00:00",
          "price": 8.03,
          "symbol": "AAPL"
         },
         {
          "date": "2002-11-01T00:00:00",
          "price": 7.75,
          "symbol": "AAPL"
         },
         {
          "date": "2002-12-01T00:00:00",
          "price": 7.16,
          "symbol": "AAPL"
         },
         {
          "date": "2003-01-01T00:00:00",
          "price": 7.18,
          "symbol": "AAPL"
         },
         {
          "date": "2003-02-01T00:00:00",
          "price": 7.51,
          "symbol": "AAPL"
         },
         {
          "date": "2003-03-01T00:00:00",
          "price": 7.07,
          "symbol": "AAPL"
         },
         {
          "date": "2003-04-01T00:00:00",
          "price": 7.11,
          "symbol": "AAPL"
         },
         {
          "date": "2003-05-01T00:00:00",
          "price": 8.98,
          "symbol": "AAPL"
         },
         {
          "date": "2003-06-01T00:00:00",
          "price": 9.53,
          "symbol": "AAPL"
         },
         {
          "date": "2003-07-01T00:00:00",
          "price": 10.54,
          "symbol": "AAPL"
         },
         {
          "date": "2003-08-01T00:00:00",
          "price": 11.31,
          "symbol": "AAPL"
         },
         {
          "date": "2003-09-01T00:00:00",
          "price": 10.36,
          "symbol": "AAPL"
         },
         {
          "date": "2003-10-01T00:00:00",
          "price": 11.44,
          "symbol": "AAPL"
         },
         {
          "date": "2003-11-01T00:00:00",
          "price": 10.45,
          "symbol": "AAPL"
         },
         {
          "date": "2003-12-01T00:00:00",
          "price": 10.69,
          "symbol": "AAPL"
         },
         {
          "date": "2004-01-01T00:00:00",
          "price": 11.28,
          "symbol": "AAPL"
         },
         {
          "date": "2004-02-01T00:00:00",
          "price": 11.96,
          "symbol": "AAPL"
         },
         {
          "date": "2004-03-01T00:00:00",
          "price": 13.52,
          "symbol": "AAPL"
         },
         {
          "date": "2004-04-01T00:00:00",
          "price": 12.89,
          "symbol": "AAPL"
         },
         {
          "date": "2004-05-01T00:00:00",
          "price": 14.03,
          "symbol": "AAPL"
         },
         {
          "date": "2004-06-01T00:00:00",
          "price": 16.27,
          "symbol": "AAPL"
         },
         {
          "date": "2004-07-01T00:00:00",
          "price": 16.17,
          "symbol": "AAPL"
         },
         {
          "date": "2004-08-01T00:00:00",
          "price": 17.25,
          "symbol": "AAPL"
         },
         {
          "date": "2004-09-01T00:00:00",
          "price": 19.38,
          "symbol": "AAPL"
         },
         {
          "date": "2004-10-01T00:00:00",
          "price": 26.2,
          "symbol": "AAPL"
         },
         {
          "date": "2004-11-01T00:00:00",
          "price": 33.53,
          "symbol": "AAPL"
         },
         {
          "date": "2004-12-01T00:00:00",
          "price": 32.2,
          "symbol": "AAPL"
         },
         {
          "date": "2005-01-01T00:00:00",
          "price": 38.45,
          "symbol": "AAPL"
         },
         {
          "date": "2005-02-01T00:00:00",
          "price": 44.86,
          "symbol": "AAPL"
         },
         {
          "date": "2005-03-01T00:00:00",
          "price": 41.67,
          "symbol": "AAPL"
         },
         {
          "date": "2005-04-01T00:00:00",
          "price": 36.06,
          "symbol": "AAPL"
         },
         {
          "date": "2005-05-01T00:00:00",
          "price": 39.76,
          "symbol": "AAPL"
         },
         {
          "date": "2005-06-01T00:00:00",
          "price": 36.81,
          "symbol": "AAPL"
         },
         {
          "date": "2005-07-01T00:00:00",
          "price": 42.65,
          "symbol": "AAPL"
         },
         {
          "date": "2005-08-01T00:00:00",
          "price": 46.89,
          "symbol": "AAPL"
         },
         {
          "date": "2005-09-01T00:00:00",
          "price": 53.61,
          "symbol": "AAPL"
         },
         {
          "date": "2005-10-01T00:00:00",
          "price": 57.59,
          "symbol": "AAPL"
         },
         {
          "date": "2005-11-01T00:00:00",
          "price": 67.82,
          "symbol": "AAPL"
         },
         {
          "date": "2005-12-01T00:00:00",
          "price": 71.89,
          "symbol": "AAPL"
         },
         {
          "date": "2006-01-01T00:00:00",
          "price": 75.51,
          "symbol": "AAPL"
         },
         {
          "date": "2006-02-01T00:00:00",
          "price": 68.49,
          "symbol": "AAPL"
         },
         {
          "date": "2006-03-01T00:00:00",
          "price": 62.72,
          "symbol": "AAPL"
         },
         {
          "date": "2006-04-01T00:00:00",
          "price": 70.39,
          "symbol": "AAPL"
         },
         {
          "date": "2006-05-01T00:00:00",
          "price": 59.77,
          "symbol": "AAPL"
         },
         {
          "date": "2006-06-01T00:00:00",
          "price": 57.27,
          "symbol": "AAPL"
         },
         {
          "date": "2006-07-01T00:00:00",
          "price": 67.96,
          "symbol": "AAPL"
         },
         {
          "date": "2006-08-01T00:00:00",
          "price": 67.85,
          "symbol": "AAPL"
         },
         {
          "date": "2006-09-01T00:00:00",
          "price": 76.98,
          "symbol": "AAPL"
         },
         {
          "date": "2006-10-01T00:00:00",
          "price": 81.08,
          "symbol": "AAPL"
         },
         {
          "date": "2006-11-01T00:00:00",
          "price": 91.66,
          "symbol": "AAPL"
         },
         {
          "date": "2006-12-01T00:00:00",
          "price": 84.84,
          "symbol": "AAPL"
         },
         {
          "date": "2007-01-01T00:00:00",
          "price": 85.73,
          "symbol": "AAPL"
         },
         {
          "date": "2007-02-01T00:00:00",
          "price": 84.61,
          "symbol": "AAPL"
         },
         {
          "date": "2007-03-01T00:00:00",
          "price": 92.91,
          "symbol": "AAPL"
         },
         {
          "date": "2007-04-01T00:00:00",
          "price": 99.8,
          "symbol": "AAPL"
         },
         {
          "date": "2007-05-01T00:00:00",
          "price": 121.19,
          "symbol": "AAPL"
         },
         {
          "date": "2007-06-01T00:00:00",
          "price": 122.04,
          "symbol": "AAPL"
         },
         {
          "date": "2007-07-01T00:00:00",
          "price": 131.76,
          "symbol": "AAPL"
         },
         {
          "date": "2007-08-01T00:00:00",
          "price": 138.48,
          "symbol": "AAPL"
         },
         {
          "date": "2007-09-01T00:00:00",
          "price": 153.47,
          "symbol": "AAPL"
         },
         {
          "date": "2007-10-01T00:00:00",
          "price": 189.95,
          "symbol": "AAPL"
         },
         {
          "date": "2007-11-01T00:00:00",
          "price": 182.22,
          "symbol": "AAPL"
         },
         {
          "date": "2007-12-01T00:00:00",
          "price": 198.08,
          "symbol": "AAPL"
         },
         {
          "date": "2008-01-01T00:00:00",
          "price": 135.36,
          "symbol": "AAPL"
         },
         {
          "date": "2008-02-01T00:00:00",
          "price": 125.02,
          "symbol": "AAPL"
         },
         {
          "date": "2008-03-01T00:00:00",
          "price": 143.5,
          "symbol": "AAPL"
         },
         {
          "date": "2008-04-01T00:00:00",
          "price": 173.95,
          "symbol": "AAPL"
         },
         {
          "date": "2008-05-01T00:00:00",
          "price": 188.75,
          "symbol": "AAPL"
         },
         {
          "date": "2008-06-01T00:00:00",
          "price": 167.44,
          "symbol": "AAPL"
         },
         {
          "date": "2008-07-01T00:00:00",
          "price": 158.95,
          "symbol": "AAPL"
         },
         {
          "date": "2008-08-01T00:00:00",
          "price": 169.53,
          "symbol": "AAPL"
         },
         {
          "date": "2008-09-01T00:00:00",
          "price": 113.66,
          "symbol": "AAPL"
         },
         {
          "date": "2008-10-01T00:00:00",
          "price": 107.59,
          "symbol": "AAPL"
         },
         {
          "date": "2008-11-01T00:00:00",
          "price": 92.67,
          "symbol": "AAPL"
         },
         {
          "date": "2008-12-01T00:00:00",
          "price": 85.35,
          "symbol": "AAPL"
         },
         {
          "date": "2009-01-01T00:00:00",
          "price": 90.13,
          "symbol": "AAPL"
         },
         {
          "date": "2009-02-01T00:00:00",
          "price": 89.31,
          "symbol": "AAPL"
         },
         {
          "date": "2009-03-01T00:00:00",
          "price": 105.12,
          "symbol": "AAPL"
         },
         {
          "date": "2009-04-01T00:00:00",
          "price": 125.83,
          "symbol": "AAPL"
         },
         {
          "date": "2009-05-01T00:00:00",
          "price": 135.81,
          "symbol": "AAPL"
         },
         {
          "date": "2009-06-01T00:00:00",
          "price": 142.43,
          "symbol": "AAPL"
         },
         {
          "date": "2009-07-01T00:00:00",
          "price": 163.39,
          "symbol": "AAPL"
         },
         {
          "date": "2009-08-01T00:00:00",
          "price": 168.21,
          "symbol": "AAPL"
         },
         {
          "date": "2009-09-01T00:00:00",
          "price": 185.35,
          "symbol": "AAPL"
         },
         {
          "date": "2009-10-01T00:00:00",
          "price": 188.5,
          "symbol": "AAPL"
         },
         {
          "date": "2009-11-01T00:00:00",
          "price": 199.91,
          "symbol": "AAPL"
         },
         {
          "date": "2009-12-01T00:00:00",
          "price": 210.73,
          "symbol": "AAPL"
         },
         {
          "date": "2010-01-01T00:00:00",
          "price": 192.06,
          "symbol": "AAPL"
         },
         {
          "date": "2010-02-01T00:00:00",
          "price": 204.62,
          "symbol": "AAPL"
         },
         {
          "date": "2010-03-01T00:00:00",
          "price": 223.02,
          "symbol": "AAPL"
         }
        ]
       },
       "encoding": {
        "x": {
         "field": "date",
         "timeUnit": "yearmonth",
         "type": "temporal"
        },
        "y": {
         "field": "price",
         "type": "quantitative"
        }
       },
       "mark": {
        "interpolate": "step-after",
        "line": true,
        "type": "area"
       },
       "title": {
        "subtitle": [
         "Daily closing stock prices for GOOG",
         "between 2000 and 2010.",
         " "
        ],
        "text": "Google Stocks"
       },
       "transform": [
        {
         "filter": "(datum.symbol === 'GOOG')"
        }
       ]
      },
      "image/png": "[encoded data removed]",
      "text/plain": [
       "<VegaLite 4 object>\n",
       "\n",
       "If you see this message, it means the renderer has not been properly enabled\n",
       "for the frontend that you are using. For more information, see\n",
       "https://altair-viz.github.io/user_guide/troubleshooting.html\n"
      ]
     },
     "execution_count": 13,
     "metadata": {},
     "output_type": "execute_result"
    }
   ],
   "source": [
    "alt.Chart(data.stocks()).mark_area(\n",
    "        interpolate='step-after',\n",
    "        line=True\n",
    "    ).encode(\n",
    "        x=alt.X('yearmonth(date):T'),\n",
    "        y='price'\n",
    "    ).transform_filter(\n",
    "        alt.datum.symbol == 'GOOG'\n",
    "    ).properties(\n",
    "        title={\n",
    "            'text': 'Google Stocks',\n",
    "            'subtitle' : ['Daily closing stock prices for GOOG','between 2000 and 2010.',' ']\n",
    "        }\n",
    "    )"
   ]
  },
  {
   "cell_type": "markdown",
   "id": "3aee4f7e-1edb-4988-b53d-c6f3c148e246",
   "metadata": {},
   "source": [
    "## Heatmap"
   ]
  },
  {
   "cell_type": "code",
   "execution_count": 19,
   "id": "42f87543-9766-4ef2-8c05-08e2dae4699e",
   "metadata": {},
   "outputs": [
    {
     "data": {
      "application/vnd.vegalite.v4+json": {
       "$schema": "https://vega.github.io/schema/vega-lite/v4.17.0.json",
       "config": {
        "arc": {
         "fill": "#0077bb"
        },
        "area": {
         "fill": "#0077bb"
        },
        "axis": {
         "gridColor": "#dddddd",
         "labelColor": "#666666",
         "labelFlush": false,
         "labelFont": "Tenon",
         "labelFontSize": 13,
         "labelFontWeight": 400,
         "labelPadding": 5,
         "tickSize": 6,
         "title": null,
         "titleColor": "#666666",
         "titleFontWeight": 300
        },
        "axisX": {
         "domainColor": "#666666",
         "tickColor": "#666666"
        },
        "axisY": {
         "domainColor": "#666666",
         "tickColor": "#666666"
        },
        "background": "#f9f9f9",
        "bar": {
         "fill": "#0077bb"
        },
        "legend": {
         "columnPadding": 20,
         "direction": "horizontal",
         "labelAlign": "left",
         "labelBaseline": "middle",
         "labelColor": "#222222",
         "labelFont": "Tenon",
         "labelFontSize": 16,
         "labelFontWeight": 300,
         "offset": 40,
         "orient": "top",
         "rowPadding": 10,
         "symbolType": "square",
         "title": null,
         "titleFont": "Tenon",
         "titleFontSize": 16,
         "titleFontWeight": 400
        },
        "line": {
         "stroke": "#0077bb",
         "strokeWidth": 3
        },
        "padding": {
         "bottom": 80,
         "left": 20,
         "right": 20,
         "top": 20
        },
        "path": {
         "stroke": "#0077bb"
        },
        "point": {
         "stroke": "#0077bb"
        },
        "rect": {
         "fill": "#0077bb"
        },
        "shape": {
         "stroke": "#0077bb"
        },
        "symbol": {
         "fill": "#0077bb",
         "size": 30
        },
        "title": {
         "align": "left",
         "anchor": "start",
         "color": "#222222",
         "font": "Tenon",
         "fontSize": 28,
         "fontWeight": 500,
         "subtitleColor": "#222222",
         "subtitleFont": "Tenon",
         "subtitleFontSize": 20,
         "subtitleFontWeight": 300,
         "subtitleLineHeight": 24,
         "subtitlePadding": 10
        },
        "view": {
         "height": 500,
         "strokeOpacity": 0,
         "width": 320
        }
       },
       "data": {
        "name": "data-29152d9ab7dcda1a65f1895ba9b7cc51"
       },
       "datasets": {
        "data-29152d9ab7dcda1a65f1895ba9b7cc51": [
         {
          "date": "2010-01-01T00:00:00",
          "temp": 39.4
         },
         {
          "date": "2010-01-01T01:00:00",
          "temp": 39.2
         },
         {
          "date": "2010-01-01T02:00:00",
          "temp": 39
         },
         {
          "date": "2010-01-01T03:00:00",
          "temp": 38.9
         },
         {
          "date": "2010-01-01T04:00:00",
          "temp": 38.8
         },
         {
          "date": "2010-01-01T05:00:00",
          "temp": 38.7
         },
         {
          "date": "2010-01-01T06:00:00",
          "temp": 38.7
         },
         {
          "date": "2010-01-01T07:00:00",
          "temp": 38.6
         },
         {
          "date": "2010-01-01T08:00:00",
          "temp": 38.7
         },
         {
          "date": "2010-01-01T09:00:00",
          "temp": 39.2
         },
         {
          "date": "2010-01-01T10:00:00",
          "temp": 40.1
         },
         {
          "date": "2010-01-01T11:00:00",
          "temp": 41.3
         },
         {
          "date": "2010-01-01T12:00:00",
          "temp": 42.5
         },
         {
          "date": "2010-01-01T13:00:00",
          "temp": 43.2
         },
         {
          "date": "2010-01-01T14:00:00",
          "temp": 43.5
         },
         {
          "date": "2010-01-01T15:00:00",
          "temp": 43.3
         },
         {
          "date": "2010-01-01T16:00:00",
          "temp": 42.7
         },
         {
          "date": "2010-01-01T17:00:00",
          "temp": 41.7
         },
         {
          "date": "2010-01-01T18:00:00",
          "temp": 41.2
         },
         {
          "date": "2010-01-01T19:00:00",
          "temp": 40.9
         },
         {
          "date": "2010-01-01T20:00:00",
          "temp": 40.7
         },
         {
          "date": "2010-01-01T21:00:00",
          "temp": 40.4
         },
         {
          "date": "2010-01-01T22:00:00",
          "temp": 40.2
         },
         {
          "date": "2010-01-01T23:00:00",
          "temp": 39.9
         },
         {
          "date": "2010-01-02T00:00:00",
          "temp": 39.6
         },
         {
          "date": "2010-01-02T01:00:00",
          "temp": 39.4
         },
         {
          "date": "2010-01-02T02:00:00",
          "temp": 39.3
         },
         {
          "date": "2010-01-02T03:00:00",
          "temp": 39.1
         },
         {
          "date": "2010-01-02T04:00:00",
          "temp": 39
         },
         {
          "date": "2010-01-02T05:00:00",
          "temp": 38.9
         },
         {
          "date": "2010-01-02T06:00:00",
          "temp": 39
         },
         {
          "date": "2010-01-02T07:00:00",
          "temp": 38.8
         },
         {
          "date": "2010-01-02T08:00:00",
          "temp": 38.9
         },
         {
          "date": "2010-01-02T09:00:00",
          "temp": 39.5
         },
         {
          "date": "2010-01-02T10:00:00",
          "temp": 40.4
         },
         {
          "date": "2010-01-02T11:00:00",
          "temp": 41.5
         },
         {
          "date": "2010-01-02T12:00:00",
          "temp": 42.7
         },
         {
          "date": "2010-01-02T13:00:00",
          "temp": 43.4
         },
         {
          "date": "2010-01-02T14:00:00",
          "temp": 43.8
         },
         {
          "date": "2010-01-02T15:00:00",
          "temp": 43.6
         },
         {
          "date": "2010-01-02T16:00:00",
          "temp": 42.9
         },
         {
          "date": "2010-01-02T17:00:00",
          "temp": 41.9
         },
         {
          "date": "2010-01-02T18:00:00",
          "temp": 41.4
         },
         {
          "date": "2010-01-02T19:00:00",
          "temp": 41.1
         },
         {
          "date": "2010-01-02T20:00:00",
          "temp": 40.9
         },
         {
          "date": "2010-01-02T21:00:00",
          "temp": 40.6
         },
         {
          "date": "2010-01-02T22:00:00",
          "temp": 40.4
         },
         {
          "date": "2010-01-02T23:00:00",
          "temp": 40
         },
         {
          "date": "2010-01-03T00:00:00",
          "temp": 39.8
         },
         {
          "date": "2010-01-03T01:00:00",
          "temp": 39.6
         },
         {
          "date": "2010-01-03T02:00:00",
          "temp": 39.5
         },
         {
          "date": "2010-01-03T03:00:00",
          "temp": 39.3
         },
         {
          "date": "2010-01-03T04:00:00",
          "temp": 39.2
         },
         {
          "date": "2010-01-03T05:00:00",
          "temp": 39.1
         },
         {
          "date": "2010-01-03T06:00:00",
          "temp": 39.1
         },
         {
          "date": "2010-01-03T07:00:00",
          "temp": 39
         },
         {
          "date": "2010-01-03T08:00:00",
          "temp": 39.1
         },
         {
          "date": "2010-01-03T09:00:00",
          "temp": 39.7
         },
         {
          "date": "2010-01-03T10:00:00",
          "temp": 40.6
         },
         {
          "date": "2010-01-03T11:00:00",
          "temp": 41.8
         },
         {
          "date": "2010-01-03T12:00:00",
          "temp": 42.9
         },
         {
          "date": "2010-01-03T13:00:00",
          "temp": 43.7
         },
         {
          "date": "2010-01-03T14:00:00",
          "temp": 44
         },
         {
          "date": "2010-01-03T15:00:00",
          "temp": 43.8
         },
         {
          "date": "2010-01-03T16:00:00",
          "temp": 43.2
         },
         {
          "date": "2010-01-03T17:00:00",
          "temp": 42.1
         },
         {
          "date": "2010-01-03T18:00:00",
          "temp": 41.6
         },
         {
          "date": "2010-01-03T19:00:00",
          "temp": 41.3
         },
         {
          "date": "2010-01-03T20:00:00",
          "temp": 41.2
         },
         {
          "date": "2010-01-03T21:00:00",
          "temp": 40.8
         },
         {
          "date": "2010-01-03T22:00:00",
          "temp": 40.6
         },
         {
          "date": "2010-01-03T23:00:00",
          "temp": 40.3
         },
         {
          "date": "2010-01-04T00:00:00",
          "temp": 40
         },
         {
          "date": "2010-01-04T01:00:00",
          "temp": 39.8
         },
         {
          "date": "2010-01-04T02:00:00",
          "temp": 39.7
         },
         {
          "date": "2010-01-04T03:00:00",
          "temp": 39.5
         },
         {
          "date": "2010-01-04T04:00:00",
          "temp": 39.3
         },
         {
          "date": "2010-01-04T05:00:00",
          "temp": 39.2
         },
         {
          "date": "2010-01-04T06:00:00",
          "temp": 39.3
         },
         {
          "date": "2010-01-04T07:00:00",
          "temp": 39.2
         },
         {
          "date": "2010-01-04T08:00:00",
          "temp": 39.3
         },
         {
          "date": "2010-01-04T09:00:00",
          "temp": 39.8
         },
         {
          "date": "2010-01-04T10:00:00",
          "temp": 40.8
         },
         {
          "date": "2010-01-04T11:00:00",
          "temp": 41.9
         },
         {
          "date": "2010-01-04T12:00:00",
          "temp": 43
         },
         {
          "date": "2010-01-04T13:00:00",
          "temp": 43.7
         },
         {
          "date": "2010-01-04T14:00:00",
          "temp": 44.2
         },
         {
          "date": "2010-01-04T15:00:00",
          "temp": 44
         },
         {
          "date": "2010-01-04T16:00:00",
          "temp": 43.4
         },
         {
          "date": "2010-01-04T17:00:00",
          "temp": 42.3
         },
         {
          "date": "2010-01-04T18:00:00",
          "temp": 41.8
         },
         {
          "date": "2010-01-04T19:00:00",
          "temp": 41.5
         },
         {
          "date": "2010-01-04T20:00:00",
          "temp": 41.3
         },
         {
          "date": "2010-01-04T21:00:00",
          "temp": 41
         },
         {
          "date": "2010-01-04T22:00:00",
          "temp": 40.8
         },
         {
          "date": "2010-01-04T23:00:00",
          "temp": 40.5
         },
         {
          "date": "2010-01-05T00:00:00",
          "temp": 40.2
         },
         {
          "date": "2010-01-05T01:00:00",
          "temp": 40
         },
         {
          "date": "2010-01-05T02:00:00",
          "temp": 39.8
         },
         {
          "date": "2010-01-05T03:00:00",
          "temp": 39.6
         },
         {
          "date": "2010-01-05T04:00:00",
          "temp": 39.5
         },
         {
          "date": "2010-01-05T05:00:00",
          "temp": 39.3
         },
         {
          "date": "2010-01-05T06:00:00",
          "temp": 39.4
         },
         {
          "date": "2010-01-05T07:00:00",
          "temp": 39.3
         },
         {
          "date": "2010-01-05T08:00:00",
          "temp": 39.4
         },
         {
          "date": "2010-01-05T09:00:00",
          "temp": 40
         },
         {
          "date": "2010-01-05T10:00:00",
          "temp": 41
         },
         {
          "date": "2010-01-05T11:00:00",
          "temp": 42.1
         },
         {
          "date": "2010-01-05T12:00:00",
          "temp": 43.3
         },
         {
          "date": "2010-01-05T13:00:00",
          "temp": 43.9
         },
         {
          "date": "2010-01-05T14:00:00",
          "temp": 44.4
         },
         {
          "date": "2010-01-05T15:00:00",
          "temp": 44.2
         },
         {
          "date": "2010-01-05T16:00:00",
          "temp": 43.6
         },
         {
          "date": "2010-01-05T17:00:00",
          "temp": 42.6
         },
         {
          "date": "2010-01-05T18:00:00",
          "temp": 42
         },
         {
          "date": "2010-01-05T19:00:00",
          "temp": 41.8
         },
         {
          "date": "2010-01-05T20:00:00",
          "temp": 41.6
         },
         {
          "date": "2010-01-05T21:00:00",
          "temp": 41.3
         },
         {
          "date": "2010-01-05T22:00:00",
          "temp": 41.1
         },
         {
          "date": "2010-01-05T23:00:00",
          "temp": 40.8
         },
         {
          "date": "2010-01-06T00:00:00",
          "temp": 40.5
         },
         {
          "date": "2010-01-06T01:00:00",
          "temp": 40.3
         },
         {
          "date": "2010-01-06T02:00:00",
          "temp": 40.1
         },
         {
          "date": "2010-01-06T03:00:00",
          "temp": 39.9
         },
         {
          "date": "2010-01-06T04:00:00",
          "temp": 39.7
         },
         {
          "date": "2010-01-06T05:00:00",
          "temp": 39.5
         },
         {
          "date": "2010-01-06T06:00:00",
          "temp": 39.6
         },
         {
          "date": "2010-01-06T07:00:00",
          "temp": 39.5
         },
         {
          "date": "2010-01-06T08:00:00",
          "temp": 39.6
         },
         {
          "date": "2010-01-06T09:00:00",
          "temp": 40.2
         },
         {
          "date": "2010-01-06T10:00:00",
          "temp": 41.2
         },
         {
          "date": "2010-01-06T11:00:00",
          "temp": 42.3
         },
         {
          "date": "2010-01-06T12:00:00",
          "temp": 43.5
         },
         {
          "date": "2010-01-06T13:00:00",
          "temp": 44.2
         },
         {
          "date": "2010-01-06T14:00:00",
          "temp": 44.6
         },
         {
          "date": "2010-01-06T15:00:00",
          "temp": 44.4
         },
         {
          "date": "2010-01-06T16:00:00",
          "temp": 43.8
         },
         {
          "date": "2010-01-06T17:00:00",
          "temp": 42.7
         },
         {
          "date": "2010-01-06T18:00:00",
          "temp": 42.2
         },
         {
          "date": "2010-01-06T19:00:00",
          "temp": 41.9
         },
         {
          "date": "2010-01-06T20:00:00",
          "temp": 41.7
         },
         {
          "date": "2010-01-06T21:00:00",
          "temp": 41.4
         },
         {
          "date": "2010-01-06T22:00:00",
          "temp": 41.2
         },
         {
          "date": "2010-01-06T23:00:00",
          "temp": 40.9
         },
         {
          "date": "2010-01-07T00:00:00",
          "temp": 40.6
         },
         {
          "date": "2010-01-07T01:00:00",
          "temp": 40.4
         },
         {
          "date": "2010-01-07T02:00:00",
          "temp": 40.2
         },
         {
          "date": "2010-01-07T03:00:00",
          "temp": 40
         },
         {
          "date": "2010-01-07T04:00:00",
          "temp": 39.8
         },
         {
          "date": "2010-01-07T05:00:00",
          "temp": 39.6
         },
         {
          "date": "2010-01-07T06:00:00",
          "temp": 39.7
         },
         {
          "date": "2010-01-07T07:00:00",
          "temp": 39.7
         },
         {
          "date": "2010-01-07T08:00:00",
          "temp": 39.7
         },
         {
          "date": "2010-01-07T09:00:00",
          "temp": 40.3
         },
         {
          "date": "2010-01-07T10:00:00",
          "temp": 41.3
         },
         {
          "date": "2010-01-07T11:00:00",
          "temp": 42.4
         },
         {
          "date": "2010-01-07T12:00:00",
          "temp": 43.6
         },
         {
          "date": "2010-01-07T13:00:00",
          "temp": 44.3
         },
         {
          "date": "2010-01-07T14:00:00",
          "temp": 44.7
         },
         {
          "date": "2010-01-07T15:00:00",
          "temp": 44.5
         },
         {
          "date": "2010-01-07T16:00:00",
          "temp": 43.9
         },
         {
          "date": "2010-01-07T17:00:00",
          "temp": 42.8
         },
         {
          "date": "2010-01-07T18:00:00",
          "temp": 42.2
         },
         {
          "date": "2010-01-07T19:00:00",
          "temp": 41.9
         },
         {
          "date": "2010-01-07T20:00:00",
          "temp": 41.8
         },
         {
          "date": "2010-01-07T21:00:00",
          "temp": 41.4
         },
         {
          "date": "2010-01-07T22:00:00",
          "temp": 41.2
         },
         {
          "date": "2010-01-07T23:00:00",
          "temp": 40.9
         },
         {
          "date": "2010-01-08T00:00:00",
          "temp": 40.6
         },
         {
          "date": "2010-01-08T01:00:00",
          "temp": 40.4
         },
         {
          "date": "2010-01-08T02:00:00",
          "temp": 40.2
         },
         {
          "date": "2010-01-08T03:00:00",
          "temp": 40
         },
         {
          "date": "2010-01-08T04:00:00",
          "temp": 39.8
         },
         {
          "date": "2010-01-08T05:00:00",
          "temp": 39.6
         },
         {
          "date": "2010-01-08T06:00:00",
          "temp": 39.7
         },
         {
          "date": "2010-01-08T07:00:00",
          "temp": 39.6
         },
         {
          "date": "2010-01-08T08:00:00",
          "temp": 39.6
         },
         {
          "date": "2010-01-08T09:00:00",
          "temp": 40.2
         },
         {
          "date": "2010-01-08T10:00:00",
          "temp": 41.2
         },
         {
          "date": "2010-01-08T11:00:00",
          "temp": 42.5
         },
         {
          "date": "2010-01-08T12:00:00",
          "temp": 43.6
         },
         {
          "date": "2010-01-08T13:00:00",
          "temp": 44.3
         },
         {
          "date": "2010-01-08T14:00:00",
          "temp": 44.7
         },
         {
          "date": "2010-01-08T15:00:00",
          "temp": 44.6
         },
         {
          "date": "2010-01-08T16:00:00",
          "temp": 43.9
         },
         {
          "date": "2010-01-08T17:00:00",
          "temp": 42.8
         },
         {
          "date": "2010-01-08T18:00:00",
          "temp": 42.2
         },
         {
          "date": "2010-01-08T19:00:00",
          "temp": 42
         },
         {
          "date": "2010-01-08T20:00:00",
          "temp": 41.8
         },
         {
          "date": "2010-01-08T21:00:00",
          "temp": 41.4
         },
         {
          "date": "2010-01-08T22:00:00",
          "temp": 41.2
         },
         {
          "date": "2010-01-08T23:00:00",
          "temp": 40.9
         },
         {
          "date": "2010-01-09T00:00:00",
          "temp": 40.6
         },
         {
          "date": "2010-01-09T01:00:00",
          "temp": 40.3
         },
         {
          "date": "2010-01-09T02:00:00",
          "temp": 40.1
         },
         {
          "date": "2010-01-09T03:00:00",
          "temp": 39.9
         },
         {
          "date": "2010-01-09T04:00:00",
          "temp": 39.7
         },
         {
          "date": "2010-01-09T05:00:00",
          "temp": 39.5
         },
         {
          "date": "2010-01-09T06:00:00",
          "temp": 39.5
         },
         {
          "date": "2010-01-09T07:00:00",
          "temp": 39.5
         },
         {
          "date": "2010-01-09T08:00:00",
          "temp": 39.5
         },
         {
          "date": "2010-01-09T09:00:00",
          "temp": 40.1
         },
         {
          "date": "2010-01-09T10:00:00",
          "temp": 41.1
         },
         {
          "date": "2010-01-09T11:00:00",
          "temp": 42.3
         },
         {
          "date": "2010-01-09T12:00:00",
          "temp": 43.5
         },
         {
          "date": "2010-01-09T13:00:00",
          "temp": 44.2
         },
         {
          "date": "2010-01-09T14:00:00",
          "temp": 44.7
         },
         {
          "date": "2010-01-09T15:00:00",
          "temp": 44.6
         },
         {
          "date": "2010-01-09T16:00:00",
          "temp": 44
         },
         {
          "date": "2010-01-09T17:00:00",
          "temp": 42.8
         },
         {
          "date": "2010-01-09T18:00:00",
          "temp": 42.2
         },
         {
          "date": "2010-01-09T19:00:00",
          "temp": 42
         },
         {
          "date": "2010-01-09T20:00:00",
          "temp": 41.8
         },
         {
          "date": "2010-01-09T21:00:00",
          "temp": 41.4
         },
         {
          "date": "2010-01-09T22:00:00",
          "temp": 41.2
         },
         {
          "date": "2010-01-09T23:00:00",
          "temp": 40.9
         },
         {
          "date": "2010-01-10T00:00:00",
          "temp": 40.6
         },
         {
          "date": "2010-01-10T01:00:00",
          "temp": 40.3
         },
         {
          "date": "2010-01-10T02:00:00",
          "temp": 40.1
         },
         {
          "date": "2010-01-10T03:00:00",
          "temp": 39.8
         },
         {
          "date": "2010-01-10T04:00:00",
          "temp": 39.6
         },
         {
          "date": "2010-01-10T05:00:00",
          "temp": 39.4
         },
         {
          "date": "2010-01-10T06:00:00",
          "temp": 39.5
         },
         {
          "date": "2010-01-10T07:00:00",
          "temp": 39.5
         },
         {
          "date": "2010-01-10T08:00:00",
          "temp": 39.5
         },
         {
          "date": "2010-01-10T09:00:00",
          "temp": 40.1
         },
         {
          "date": "2010-01-10T10:00:00",
          "temp": 41.1
         },
         {
          "date": "2010-01-10T11:00:00",
          "temp": 42.3
         },
         {
          "date": "2010-01-10T12:00:00",
          "temp": 43.5
         },
         {
          "date": "2010-01-10T13:00:00",
          "temp": 44.2
         },
         {
          "date": "2010-01-10T14:00:00",
          "temp": 44.7
         },
         {
          "date": "2010-01-10T15:00:00",
          "temp": 44.6
         },
         {
          "date": "2010-01-10T16:00:00",
          "temp": 44
         },
         {
          "date": "2010-01-10T17:00:00",
          "temp": 42.8
         },
         {
          "date": "2010-01-10T18:00:00",
          "temp": 42.2
         },
         {
          "date": "2010-01-10T19:00:00",
          "temp": 42
         },
         {
          "date": "2010-01-10T20:00:00",
          "temp": 41.8
         },
         {
          "date": "2010-01-10T21:00:00",
          "temp": 41.5
         },
         {
          "date": "2010-01-10T22:00:00",
          "temp": 41.2
         },
         {
          "date": "2010-01-10T23:00:00",
          "temp": 41
         },
         {
          "date": "2010-01-11T00:00:00",
          "temp": 40.6
         },
         {
          "date": "2010-01-11T01:00:00",
          "temp": 40.3
         },
         {
          "date": "2010-01-11T02:00:00",
          "temp": 40.1
         },
         {
          "date": "2010-01-11T03:00:00",
          "temp": 39.9
         },
         {
          "date": "2010-01-11T04:00:00",
          "temp": 39.7
         },
         {
          "date": "2010-01-11T05:00:00",
          "temp": 39.5
         },
         {
          "date": "2010-01-11T06:00:00",
          "temp": 39.6
         },
         {
          "date": "2010-01-11T07:00:00",
          "temp": 39.5
         },
         {
          "date": "2010-01-11T08:00:00",
          "temp": 39.5
         },
         {
          "date": "2010-01-11T09:00:00",
          "temp": 40.1
         },
         {
          "date": "2010-01-11T10:00:00",
          "temp": 41.2
         },
         {
          "date": "2010-01-11T11:00:00",
          "temp": 42.4
         },
         {
          "date": "2010-01-11T12:00:00",
          "temp": 43.6
         },
         {
          "date": "2010-01-11T13:00:00",
          "temp": 44.4
         },
         {
          "date": "2010-01-11T14:00:00",
          "temp": 44.8
         },
         {
          "date": "2010-01-11T15:00:00",
          "temp": 44.8
         },
         {
          "date": "2010-01-11T16:00:00",
          "temp": 44.1
         },
         {
          "date": "2010-01-11T17:00:00",
          "temp": 42.9
         },
         {
          "date": "2010-01-11T18:00:00",
          "temp": 42.3
         },
         {
          "date": "2010-01-11T19:00:00",
          "temp": 42.1
         },
         {
          "date": "2010-01-11T20:00:00",
          "temp": 41.9
         },
         {
          "date": "2010-01-11T21:00:00",
          "temp": 41.6
         },
         {
          "date": "2010-01-11T22:00:00",
          "temp": 41.3
         },
         {
          "date": "2010-01-11T23:00:00",
          "temp": 41.1
         },
         {
          "date": "2010-01-12T00:00:00",
          "temp": 40.7
         },
         {
          "date": "2010-01-12T01:00:00",
          "temp": 40.4
         },
         {
          "date": "2010-01-12T02:00:00",
          "temp": 40.2
         },
         {
          "date": "2010-01-12T03:00:00",
          "temp": 39.9
         },
         {
          "date": "2010-01-12T04:00:00",
          "temp": 39.7
         },
         {
          "date": "2010-01-12T05:00:00",
          "temp": 39.6
         },
         {
          "date": "2010-01-12T06:00:00",
          "temp": 39.6
         },
         {
          "date": "2010-01-12T07:00:00",
          "temp": 39.6
         },
         {
          "date": "2010-01-12T08:00:00",
          "temp": 39.6
         },
         {
          "date": "2010-01-12T09:00:00",
          "temp": 40.1
         },
         {
          "date": "2010-01-12T10:00:00",
          "temp": 41.2
         },
         {
          "date": "2010-01-12T11:00:00",
          "temp": 42.5
         },
         {
          "date": "2010-01-12T12:00:00",
          "temp": 43.6
         },
         {
          "date": "2010-01-12T13:00:00",
          "temp": 44.4
         },
         {
          "date": "2010-01-12T14:00:00",
          "temp": 44.9
         },
         {
          "date": "2010-01-12T15:00:00",
          "temp": 44.9
         },
         {
          "date": "2010-01-12T16:00:00",
          "temp": 44.3
         },
         {
          "date": "2010-01-12T17:00:00",
          "temp": 43
         },
         {
          "date": "2010-01-12T18:00:00",
          "temp": 42.4
         },
         {
          "date": "2010-01-12T19:00:00",
          "temp": 42.2
         },
         {
          "date": "2010-01-12T20:00:00",
          "temp": 42
         },
         {
          "date": "2010-01-12T21:00:00",
          "temp": 41.6
         },
         {
          "date": "2010-01-12T22:00:00",
          "temp": 41.3
         },
         {
          "date": "2010-01-12T23:00:00",
          "temp": 41.1
         },
         {
          "date": "2010-01-13T00:00:00",
          "temp": 40.7
         },
         {
          "date": "2010-01-13T01:00:00",
          "temp": 40.4
         },
         {
          "date": "2010-01-13T02:00:00",
          "temp": 40.2
         },
         {
          "date": "2010-01-13T03:00:00",
          "temp": 40
         },
         {
          "date": "2010-01-13T04:00:00",
          "temp": 39.8
         },
         {
          "date": "2010-01-13T05:00:00",
          "temp": 39.6
         },
         {
          "date": "2010-01-13T06:00:00",
          "temp": 39.7
         },
         {
          "date": "2010-01-13T07:00:00",
          "temp": 39.7
         },
         {
          "date": "2010-01-13T08:00:00",
          "temp": 39.7
         },
         {
          "date": "2010-01-13T09:00:00",
          "temp": 40.3
         },
         {
          "date": "2010-01-13T10:00:00",
          "temp": 41.4
         },
         {
          "date": "2010-01-13T11:00:00",
          "temp": 42.7
         },
         {
          "date": "2010-01-13T12:00:00",
          "temp": 43.8
         },
         {
          "date": "2010-01-13T13:00:00",
          "temp": 44.6
         },
         {
          "date": "2010-01-13T14:00:00",
          "temp": 45.1
         },
         {
          "date": "2010-01-13T15:00:00",
          "temp": 45.1
         },
         {
          "date": "2010-01-13T16:00:00",
          "temp": 44.5
         },
         {
          "date": "2010-01-13T17:00:00",
          "temp": 43.3
         },
         {
          "date": "2010-01-13T18:00:00",
          "temp": 42.6
         },
         {
          "date": "2010-01-13T19:00:00",
          "temp": 42.5
         },
         {
          "date": "2010-01-13T20:00:00",
          "temp": 42.2
         },
         {
          "date": "2010-01-13T21:00:00",
          "temp": 41.8
         },
         {
          "date": "2010-01-13T22:00:00",
          "temp": 41.5
         },
         {
          "date": "2010-01-13T23:00:00",
          "temp": 41.3
         },
         {
          "date": "2010-01-14T00:00:00",
          "temp": 40.9
         },
         {
          "date": "2010-01-14T01:00:00",
          "temp": 40.6
         },
         {
          "date": "2010-01-14T02:00:00",
          "temp": 40.4
         },
         {
          "date": "2010-01-14T03:00:00",
          "temp": 40.2
         },
         {
          "date": "2010-01-14T04:00:00",
          "temp": 39.9
         },
         {
          "date": "2010-01-14T05:00:00",
          "temp": 39.8
         },
         {
          "date": "2010-01-14T06:00:00",
          "temp": 39.8
         },
         {
          "date": "2010-01-14T07:00:00",
          "temp": 39.8
         },
         {
          "date": "2010-01-14T08:00:00",
          "temp": 39.8
         },
         {
          "date": "2010-01-14T09:00:00",
          "temp": 40.4
         },
         {
          "date": "2010-01-14T10:00:00",
          "temp": 41.5
         },
         {
          "date": "2010-01-14T11:00:00",
          "temp": 42.8
         },
         {
          "date": "2010-01-14T12:00:00",
          "temp": 43.9
         },
         {
          "date": "2010-01-14T13:00:00",
          "temp": 44.8
         },
         {
          "date": "2010-01-14T14:00:00",
          "temp": 45.2
         },
         {
          "date": "2010-01-14T15:00:00",
          "temp": 45.2
         },
         {
          "date": "2010-01-14T16:00:00",
          "temp": 44.6
         },
         {
          "date": "2010-01-14T17:00:00",
          "temp": 43.4
         },
         {
          "date": "2010-01-14T18:00:00",
          "temp": 42.7
         },
         {
          "date": "2010-01-14T19:00:00",
          "temp": 42.5
         },
         {
          "date": "2010-01-14T20:00:00",
          "temp": 42.1
         },
         {
          "date": "2010-01-14T21:00:00",
          "temp": 41.8
         },
         {
          "date": "2010-01-14T22:00:00",
          "temp": 41.5
         },
         {
          "date": "2010-01-14T23:00:00",
          "temp": 41.3
         }
        ]
       },
       "encoding": {
        "color": {
         "field": "temp",
         "title": "Temperature (F)",
         "type": "quantitative"
        },
        "x": {
         "axis": {
          "format": "%I"
         },
         "field": "date",
         "timeUnit": "hoursminutes",
         "type": "ordinal"
        },
        "y": {
         "axis": {
          "format": "%Y"
         },
         "field": "date",
         "timeUnit": "monthdate",
         "type": "ordinal"
        }
       },
       "height": 180,
       "mark": "rect",
       "title": {
        "subtitle": [
         "Hourly temperatures in Seattle during",
         "the first two weeks of 2010.",
         " "
        ],
        "text": "Seattle temperatures"
       }
      },
      "image/png": "[encoded data removed]",
      "text/plain": [
       "<VegaLite 4 object>\n",
       "\n",
       "If you see this message, it means the renderer has not been properly enabled\n",
       "for the frontend that you are using. For more information, see\n",
       "https://altair-viz.github.io/user_guide/troubleshooting.html\n"
      ]
     },
     "execution_count": 19,
     "metadata": {},
     "output_type": "execute_result"
    }
   ],
   "source": [
    "temps = data.seattle_temps()\n",
    "temps = temps[temps.date < '2010-01-15'].copy()\n",
    "alt.Chart(temps).mark_rect(\n",
    ").encode(\n",
    "    alt.X('hoursminutes(date):O'),\n",
    "    alt.Y('monthdate(date):O', axis=alt.Axis(format='%Y')), # format follows d3-time-format \n",
    "    alt.Color('temp:Q', title='Temperature (F)')\n",
    ").configure_axisY( # adding some colors for clarity\n",
    "    domainColor='#666666',\n",
    "    tickColor='#666666',\n",
    ").properties(\n",
    "    height=180, # adjust height to get neat squares\n",
    "    title={\n",
    "        'text': 'Seattle temperatures',\n",
    "        'subtitle' : ['Hourly temperatures in Seattle during','the first two weeks of 2010.',' ']\n",
    "    }\n",
    ")"
   ]
  },
  {
   "cell_type": "markdown",
   "id": "27d33a45-841d-410b-9f21-863de6ba44e5",
   "metadata": {},
   "source": [
    "## Small multiple"
   ]
  },
  {
   "cell_type": "code",
   "execution_count": 15,
   "id": "85295822-cd7d-4b23-b804-8119daa33f48",
   "metadata": {},
   "outputs": [
    {
     "data": {
      "text/html": [
       "<div>\n",
       "<style scoped>\n",
       "    .dataframe tbody tr th:only-of-type {\n",
       "        vertical-align: middle;\n",
       "    }\n",
       "\n",
       "    .dataframe tbody tr th {\n",
       "        vertical-align: top;\n",
       "    }\n",
       "\n",
       "    .dataframe thead th {\n",
       "        text-align: right;\n",
       "    }\n",
       "</style>\n",
       "<table border=\"1\" class=\"dataframe\">\n",
       "  <thead>\n",
       "    <tr style=\"text-align: right;\">\n",
       "      <th></th>\n",
       "      <th>Entity</th>\n",
       "      <th>Year</th>\n",
       "      <th>Deaths</th>\n",
       "    </tr>\n",
       "  </thead>\n",
       "  <tbody>\n",
       "    <tr>\n",
       "      <th>0</th>\n",
       "      <td>Drought</td>\n",
       "      <td>2010</td>\n",
       "      <td>20000.0</td>\n",
       "    </tr>\n",
       "    <tr>\n",
       "      <th>1</th>\n",
       "      <td>Earthquake</td>\n",
       "      <td>2010</td>\n",
       "      <td>226733.0</td>\n",
       "    </tr>\n",
       "    <tr>\n",
       "      <th>2</th>\n",
       "      <td>Epidemic</td>\n",
       "      <td>2010</td>\n",
       "      <td>12143.0</td>\n",
       "    </tr>\n",
       "    <tr>\n",
       "      <th>3</th>\n",
       "      <td>Extreme temperature</td>\n",
       "      <td>2010</td>\n",
       "      <td>57188.0</td>\n",
       "    </tr>\n",
       "    <tr>\n",
       "      <th>4</th>\n",
       "      <td>Extreme weather</td>\n",
       "      <td>2010</td>\n",
       "      <td>1564.0</td>\n",
       "    </tr>\n",
       "    <tr>\n",
       "      <th>...</th>\n",
       "      <td>...</td>\n",
       "      <td>...</td>\n",
       "      <td>...</td>\n",
       "    </tr>\n",
       "    <tr>\n",
       "      <th>65</th>\n",
       "      <td>Flood</td>\n",
       "      <td>2017</td>\n",
       "      <td>648.0</td>\n",
       "    </tr>\n",
       "    <tr>\n",
       "      <th>66</th>\n",
       "      <td>Landslide</td>\n",
       "      <td>2017</td>\n",
       "      <td>405.0</td>\n",
       "    </tr>\n",
       "    <tr>\n",
       "      <th>67</th>\n",
       "      <td>Mass movement (dry)</td>\n",
       "      <td>2017</td>\n",
       "      <td>0.0</td>\n",
       "    </tr>\n",
       "    <tr>\n",
       "      <th>68</th>\n",
       "      <td>Volcanic activity</td>\n",
       "      <td>2017</td>\n",
       "      <td>0.0</td>\n",
       "    </tr>\n",
       "    <tr>\n",
       "      <th>69</th>\n",
       "      <td>Wildfire</td>\n",
       "      <td>2017</td>\n",
       "      <td>75.0</td>\n",
       "    </tr>\n",
       "  </tbody>\n",
       "</table>\n",
       "<p>70 rows × 3 columns</p>\n",
       "</div>"
      ],
      "text/plain": [
       "                 Entity  Year    Deaths\n",
       "0               Drought  2010   20000.0\n",
       "1            Earthquake  2010  226733.0\n",
       "2              Epidemic  2010   12143.0\n",
       "3   Extreme temperature  2010   57188.0\n",
       "4       Extreme weather  2010    1564.0\n",
       "..                  ...   ...       ...\n",
       "65                Flood  2017     648.0\n",
       "66            Landslide  2017     405.0\n",
       "67  Mass movement (dry)  2017       0.0\n",
       "68    Volcanic activity  2017       0.0\n",
       "69             Wildfire  2017      75.0\n",
       "\n",
       "[70 rows x 3 columns]"
      ]
     },
     "execution_count": 15,
     "metadata": {},
     "output_type": "execute_result"
    }
   ],
   "source": [
    "disasters = data.disasters()\n",
    "disasters = disasters[\n",
    "    (disasters['Year'] >= 2010) & \n",
    "    (disasters['Entity'] != 'All natural disasters')\n",
    "].reset_index(drop=True)\n",
    "\n",
    "# Pivot and melt the data so that we can generate rows for 0 deaths.\n",
    "# Makes the following chart more uniform when using `resolve_scale`.\n",
    "disasters_pivot = disasters.pivot_table(index='Entity', columns='Year', values='Deaths').reset_index()\n",
    "disasters_pivot = disasters_pivot.fillna(0)\n",
    "disasters_melt = pd.melt(disasters_pivot, id_vars='Entity', value_vars=[2010, 2011, 2012, 2012, 2014, 2015, 2016, 2017], value_name='Deaths')\n",
    "disasters_melt"
   ]
  },
  {
   "cell_type": "code",
   "execution_count": 16,
   "id": "5af342e2-09fc-4f34-b847-3794a3a6bda8",
   "metadata": {},
   "outputs": [
    {
     "data": {
      "application/vnd.vegalite.v4+json": {
       "$schema": "https://vega.github.io/schema/vega-lite/v4.17.0.json",
       "columns": 2,
       "config": {
        "arc": {
         "fill": "#0077bb"
        },
        "area": {
         "fill": "#0077bb"
        },
        "axis": {
         "gridColor": "#dddddd",
         "labelColor": "#666666",
         "labelFlush": false,
         "labelFont": "Tenon",
         "labelFontSize": 13,
         "labelFontWeight": 400,
         "labelPadding": 5,
         "tickSize": 6,
         "title": null,
         "titleColor": "#666666",
         "titleFontWeight": 300
        },
        "axisX": {
         "domainColor": "#666666",
         "tickColor": "#666666"
        },
        "axisY": {
         "domainColor": "#f9f9f9",
         "tickColor": "#f9f9f9"
        },
        "background": "#f9f9f9",
        "bar": {
         "fill": "#0077bb"
        },
        "legend": {
         "columnPadding": 20,
         "direction": "horizontal",
         "labelAlign": "left",
         "labelBaseline": "middle",
         "labelColor": "#222222",
         "labelFont": "Tenon",
         "labelFontSize": 16,
         "labelFontWeight": 300,
         "offset": 40,
         "orient": "top",
         "rowPadding": 10,
         "symbolType": "square",
         "title": null,
         "titleFont": "Tenon",
         "titleFontSize": 16,
         "titleFontWeight": 400
        },
        "line": {
         "stroke": "#0077bb",
         "strokeWidth": 3
        },
        "padding": {
         "bottom": 80,
         "left": 20,
         "right": 20,
         "top": 20
        },
        "path": {
         "stroke": "#0077bb"
        },
        "point": {
         "stroke": "#0077bb"
        },
        "rect": {
         "fill": "#0077bb"
        },
        "shape": {
         "stroke": "#0077bb"
        },
        "symbol": {
         "fill": "#0077bb",
         "size": 30
        },
        "title": {
         "align": "left",
         "anchor": "start",
         "color": "#222222",
         "font": "Tenon",
         "fontSize": 28,
         "fontWeight": 500,
         "subtitleColor": "#222222",
         "subtitleFont": "Tenon",
         "subtitleFontSize": 20,
         "subtitleFontWeight": 300,
         "subtitleLineHeight": 24,
         "subtitlePadding": 10
        },
        "view": {
         "height": 500,
         "strokeOpacity": 0,
         "width": 320
        }
       },
       "data": {
        "name": "data-528de9745bcddb2b57b0a223635cbeb4"
       },
       "datasets": {
        "data-528de9745bcddb2b57b0a223635cbeb4": [
         {
          "Deaths": 20000,
          "Entity": "Drought",
          "Year": 2010
         },
         {
          "Deaths": 226733,
          "Entity": "Earthquake",
          "Year": 2010
         },
         {
          "Deaths": 12143,
          "Entity": "Epidemic",
          "Year": 2010
         },
         {
          "Deaths": 57188,
          "Entity": "Extreme temperature",
          "Year": 2010
         },
         {
          "Deaths": 1564,
          "Entity": "Extreme weather",
          "Year": 2010
         },
         {
          "Deaths": 8356,
          "Entity": "Flood",
          "Year": 2010
         },
         {
          "Deaths": 3427,
          "Entity": "Landslide",
          "Year": 2010
         },
         {
          "Deaths": 0,
          "Entity": "Mass movement (dry)",
          "Year": 2010
         },
         {
          "Deaths": 323,
          "Entity": "Volcanic activity",
          "Year": 2010
         },
         {
          "Deaths": 166,
          "Entity": "Wildfire",
          "Year": 2010
         },
         {
          "Deaths": 0,
          "Entity": "Drought",
          "Year": 2011
         },
         {
          "Deaths": 20946,
          "Entity": "Earthquake",
          "Year": 2011
         },
         {
          "Deaths": 3174,
          "Entity": "Epidemic",
          "Year": 2011
         },
         {
          "Deaths": 435,
          "Entity": "Extreme temperature",
          "Year": 2011
         },
         {
          "Deaths": 3103,
          "Entity": "Extreme weather",
          "Year": 2011
         },
         {
          "Deaths": 6163,
          "Entity": "Flood",
          "Year": 2011
         },
         {
          "Deaths": 309,
          "Entity": "Landslide",
          "Year": 2011
         },
         {
          "Deaths": 0,
          "Entity": "Mass movement (dry)",
          "Year": 2011
         },
         {
          "Deaths": 3,
          "Entity": "Volcanic activity",
          "Year": 2011
         },
         {
          "Deaths": 10,
          "Entity": "Wildfire",
          "Year": 2011
         },
         {
          "Deaths": 0,
          "Entity": "Drought",
          "Year": 2012
         },
         {
          "Deaths": 711,
          "Entity": "Earthquake",
          "Year": 2012
         },
         {
          "Deaths": 1887,
          "Entity": "Epidemic",
          "Year": 2012
         },
         {
          "Deaths": 1834,
          "Entity": "Extreme temperature",
          "Year": 2012
         },
         {
          "Deaths": 3105,
          "Entity": "Extreme weather",
          "Year": 2012
         },
         {
          "Deaths": 3544,
          "Entity": "Flood",
          "Year": 2012
         },
         {
          "Deaths": 501,
          "Entity": "Landslide",
          "Year": 2012
         },
         {
          "Deaths": 16,
          "Entity": "Mass movement (dry)",
          "Year": 2012
         },
         {
          "Deaths": 0,
          "Entity": "Volcanic activity",
          "Year": 2012
         },
         {
          "Deaths": 21,
          "Entity": "Wildfire",
          "Year": 2012
         },
         {
          "Deaths": 0,
          "Entity": "Drought",
          "Year": 2014
         },
         {
          "Deaths": 774,
          "Entity": "Earthquake",
          "Year": 2014
         },
         {
          "Deaths": 12911,
          "Entity": "Epidemic",
          "Year": 2014
         },
         {
          "Deaths": 1168,
          "Entity": "Extreme temperature",
          "Year": 2014
         },
         {
          "Deaths": 1424,
          "Entity": "Extreme weather",
          "Year": 2014
         },
         {
          "Deaths": 3532,
          "Entity": "Flood",
          "Year": 2014
         },
         {
          "Deaths": 943,
          "Entity": "Landslide",
          "Year": 2014
         },
         {
          "Deaths": 0,
          "Entity": "Mass movement (dry)",
          "Year": 2014
         },
         {
          "Deaths": 102,
          "Entity": "Volcanic activity",
          "Year": 2014
         },
         {
          "Deaths": 16,
          "Entity": "Wildfire",
          "Year": 2014
         },
         {
          "Deaths": 35,
          "Entity": "Drought",
          "Year": 2015
         },
         {
          "Deaths": 9550,
          "Entity": "Earthquake",
          "Year": 2015
         },
         {
          "Deaths": 1032,
          "Entity": "Epidemic",
          "Year": 2015
         },
         {
          "Deaths": 7425,
          "Entity": "Extreme temperature",
          "Year": 2015
         },
         {
          "Deaths": 1270,
          "Entity": "Extreme weather",
          "Year": 2015
         },
         {
          "Deaths": 3495,
          "Entity": "Flood",
          "Year": 2015
         },
         {
          "Deaths": 1006,
          "Entity": "Landslide",
          "Year": 2015
         },
         {
          "Deaths": 13,
          "Entity": "Mass movement (dry)",
          "Year": 2015
         },
         {
          "Deaths": 0,
          "Entity": "Volcanic activity",
          "Year": 2015
         },
         {
          "Deaths": 67,
          "Entity": "Wildfire",
          "Year": 2015
         },
         {
          "Deaths": 0,
          "Entity": "Drought",
          "Year": 2016
         },
         {
          "Deaths": 1311,
          "Entity": "Earthquake",
          "Year": 2016
         },
         {
          "Deaths": 1520,
          "Entity": "Epidemic",
          "Year": 2016
         },
         {
          "Deaths": 490,
          "Entity": "Extreme temperature",
          "Year": 2016
         },
         {
          "Deaths": 1760,
          "Entity": "Extreme weather",
          "Year": 2016
         },
         {
          "Deaths": 4720,
          "Entity": "Flood",
          "Year": 2016
         },
         {
          "Deaths": 361,
          "Entity": "Landslide",
          "Year": 2016
         },
         {
          "Deaths": 0,
          "Entity": "Mass movement (dry)",
          "Year": 2016
         },
         {
          "Deaths": 0,
          "Entity": "Volcanic activity",
          "Year": 2016
         },
         {
          "Deaths": 39,
          "Entity": "Wildfire",
          "Year": 2016
         },
         {
          "Deaths": 0,
          "Entity": "Drought",
          "Year": 2017
         },
         {
          "Deaths": 49,
          "Entity": "Earthquake",
          "Year": 2017
         },
         {
          "Deaths": 386,
          "Entity": "Epidemic",
          "Year": 2017
         },
         {
          "Deaths": 130,
          "Entity": "Extreme temperature",
          "Year": 2017
         },
         {
          "Deaths": 394,
          "Entity": "Extreme weather",
          "Year": 2017
         },
         {
          "Deaths": 648,
          "Entity": "Flood",
          "Year": 2017
         },
         {
          "Deaths": 405,
          "Entity": "Landslide",
          "Year": 2017
         },
         {
          "Deaths": 0,
          "Entity": "Mass movement (dry)",
          "Year": 2017
         },
         {
          "Deaths": 0,
          "Entity": "Volcanic activity",
          "Year": 2017
         },
         {
          "Deaths": 75,
          "Entity": "Wildfire",
          "Year": 2017
         }
        ]
       },
       "facet": {
        "field": "Entity",
        "header": {
         "labelAnchor": "start",
         "labelColor": "#222222",
         "labelFont": "Tenon",
         "labelFontSize": 16,
         "labelFontWeight": 300
        },
        "title": null,
        "type": "nominal"
       },
       "resolve": {
        "scale": {
         "x": "independent"
        }
       },
       "spacing": 40,
       "spec": {
        "encoding": {
         "x": {
          "axis": {
           "labelAngle": 0
          },
          "field": "Year",
          "type": "ordinal"
         },
         "y": {
          "axis": {
           "format": "s"
          },
          "field": "Deaths",
          "type": "quantitative"
         }
        },
        "height": 100,
        "mark": "bar"
       },
       "title": {
        "subtitle": [
         "Natural disasters from 2010 to 2017.",
         " "
        ],
        "text": "Natural Disasters"
       }
      },
      "image/png": "[encoded data removed]",
      "text/plain": [
       "<VegaLite 4 object>\n",
       "\n",
       "If you see this message, it means the renderer has not been properly enabled\n",
       "for the frontend that you are using. For more information, see\n",
       "https://altair-viz.github.io/user_guide/troubleshooting.html\n"
      ]
     },
     "execution_count": 16,
     "metadata": {},
     "output_type": "execute_result"
    }
   ],
   "source": [
    "alt.Chart(disasters_melt).mark_bar().encode(\n",
    "    x=alt.X('Year:O', axis=alt.Axis(labelAngle=0)), # labelAngle is rotated because `Year` is int not actual datetime object\n",
    "    y=alt.Y('Deaths:Q', axis=alt.Axis(format='s')) # format follows d3-format: turns 100,000 to 100k.  \n",
    ").properties(\n",
    "    height=100 # height here deals with the height of each facet chart\n",
    ").facet(\n",
    "    facet=alt.Facet('Entity', \n",
    "        title=None,\n",
    "        header=alt.Header(\n",
    "            labelAnchor='start',\n",
    "            labelFont='Tenon',\n",
    "            labelFontSize=16,\n",
    "            labelFontWeight=300,\n",
    "            labelColor=altair_reveal.palette['black']\n",
    "        )\n",
    "    ),\n",
    "    columns=2, # columns=1 for mobile view\n",
    "    spacing=40,\n",
    "    title={\n",
    "        'text': 'Natural Disasters',\n",
    "        'subtitle' : ['Natural disasters from 2010 to 2017.', ' ']\n",
    "    }\n",
    ").resolve_scale(\n",
    "    x='independent'\n",
    ")"
   ]
  },
  {
   "cell_type": "code",
   "execution_count": null,
   "id": "cc37acd1-3983-423d-83c3-ec754edf8a92",
   "metadata": {},
   "outputs": [],
   "source": []
  }
 ],
 "metadata": {
  "kernelspec": {
   "display_name": "Python 3 (ipykernel)",
   "language": "python",
   "name": "python3"
  },
  "language_info": {
   "codemirror_mode": {
    "name": "ipython",
    "version": 3
   },
   "file_extension": ".py",
   "mimetype": "text/x-python",
   "name": "python",
   "nbconvert_exporter": "python",
   "pygments_lexer": "ipython3",
   "version": "3.8.6"
  }
 },
 "nbformat": 4,
 "nbformat_minor": 5
}
